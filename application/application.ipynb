{
 "cells": [
  {
   "cell_type": "markdown",
   "metadata": {},
   "source": [
    "# An investigation into use of SAEs as steering vectors"
   ]
  },
  {
   "cell_type": "markdown",
   "metadata": {},
   "source": [
    "## Setup"
   ]
  },
  {
   "cell_type": "markdown",
   "metadata": {},
   "source": [
    "### If in Colab, install deps. Otherwise, setup autoreload."
   ]
  },
  {
   "cell_type": "code",
   "execution_count": 1,
   "metadata": {},
   "outputs": [],
   "source": [
    "try:\n",
    "    import google.colab\n",
    "\n",
    "    IN_COLAB = True\n",
    "    %pip install sae-lens transformer-lens\n",
    "\n",
    "except ImportError:\n",
    "    # Local\n",
    "    IN_COLAB = False\n",
    "\n",
    "    import IPython\n",
    "\n",
    "    ipython = IPython.get_ipython()\n",
    "    ipython.run_line_magic(\"load_ext\", \"autoreload\")\n",
    "    ipython.run_line_magic(\"autoreload\", \"2\")"
   ]
  },
  {
   "cell_type": "markdown",
   "metadata": {},
   "source": [
    "### Imports"
   ]
  },
  {
   "cell_type": "code",
   "execution_count": 2,
   "metadata": {},
   "outputs": [],
   "source": [
    "import collections\n",
    "import functools\n",
    "import json\n",
    "import os\n",
    "import requests\n",
    "from pprint import pprint\n",
    "import pathlib\n",
    "\n",
    "import huggingface_hub\n",
    "from matplotlib import pyplot as plt\n",
    "import pandas as pd\n",
    "from sae_lens import SAE\n",
    "from tqdm import tqdm, trange\n",
    "import torch as t\n",
    "from transformer_lens import HookedTransformer"
   ]
  },
  {
   "cell_type": "markdown",
   "metadata": {},
   "source": [
    "### Other settings"
   ]
  },
  {
   "cell_type": "code",
   "execution_count": 3,
   "metadata": {},
   "outputs": [
    {
     "name": "stdout",
     "output_type": "stream",
     "text": [
      "\n",
      "Device: cuda\n"
     ]
    }
   ],
   "source": [
    "t.set_grad_enabled(False)\n",
    "\n",
    "if t.backends.mps.is_available():\n",
    "    DEVICE = \"mps\"\n",
    "else:\n",
    "    DEVICE = \"cuda\" if t.cuda.is_available() else \"cpu\"\n",
    "\n",
    "print(f\"\\nDevice: {DEVICE}\")"
   ]
  },
  {
   "cell_type": "markdown",
   "metadata": {},
   "source": [
    "### HuggingFace Login"
   ]
  },
  {
   "cell_type": "code",
   "execution_count": 4,
   "metadata": {},
   "outputs": [
    {
     "data": {
      "application/vnd.jupyter.widget-view+json": {
       "model_id": "cb0da10c74234d0583c2f6f83fdbf607",
       "version_major": 2,
       "version_minor": 0
      },
      "text/plain": [
       "VBox(children=(HTML(value='<center> <img\\nsrc=https://huggingface.co/front/assets/huggingface_logo-noborder.sv…"
      ]
     },
     "metadata": {},
     "output_type": "display_data"
    }
   ],
   "source": [
    "huggingface_hub.notebook_login()"
   ]
  },
  {
   "cell_type": "markdown",
   "metadata": {},
   "source": [
    "## Load GPT-2"
   ]
  },
  {
   "cell_type": "code",
   "execution_count": 5,
   "metadata": {},
   "outputs": [
    {
     "name": "stderr",
     "output_type": "stream",
     "text": [
      "c:\\Users\\matth\\Workspace\\arena3\\.venv\\Lib\\site-packages\\transformers\\tokenization_utils_base.py:1602: FutureWarning: `clean_up_tokenization_spaces` was not set. It will be set to `True` by default. This behavior will be deprecated in transformers v4.45, and will be then set to `False` by default. For more details check this issue: https://github.com/huggingface/transformers/issues/31884\n",
      "  warnings.warn(\n"
     ]
    },
    {
     "name": "stdout",
     "output_type": "stream",
     "text": [
      "Loaded pretrained model gpt2-small into HookedTransformer\n",
      "HookedTransformerConfig:\n",
      "{'act_fn': 'gelu_new',\n",
      " 'attention_dir': 'causal',\n",
      " 'attn_only': False,\n",
      " 'attn_scale': 8.0,\n",
      " 'attn_scores_soft_cap': -1.0,\n",
      " 'attn_types': None,\n",
      " 'checkpoint_index': None,\n",
      " 'checkpoint_label_type': None,\n",
      " 'checkpoint_value': None,\n",
      " 'd_head': 64,\n",
      " 'd_mlp': 3072,\n",
      " 'd_model': 768,\n",
      " 'd_vocab': 50257,\n",
      " 'd_vocab_out': 50257,\n",
      " 'decoder_start_token_id': None,\n",
      " 'default_prepend_bos': True,\n",
      " 'device': 'cuda',\n",
      " 'dtype': torch.float32,\n",
      " 'eps': 1e-05,\n",
      " 'experts_per_token': None,\n",
      " 'final_rms': False,\n",
      " 'from_checkpoint': False,\n",
      " 'gated_mlp': False,\n",
      " 'init_mode': 'gpt2',\n",
      " 'init_weights': False,\n",
      " 'initializer_range': 0.02886751345948129,\n",
      " 'load_in_4bit': False,\n",
      " 'model_name': 'gpt2',\n",
      " 'n_ctx': 1024,\n",
      " 'n_devices': 1,\n",
      " 'n_heads': 12,\n",
      " 'n_key_value_heads': None,\n",
      " 'n_layers': 12,\n",
      " 'n_params': 84934656,\n",
      " 'normalization_type': 'LNPre',\n",
      " 'num_experts': None,\n",
      " 'original_architecture': 'GPT2LMHeadModel',\n",
      " 'output_logits_soft_cap': -1.0,\n",
      " 'parallel_attn_mlp': False,\n",
      " 'positional_embedding_type': 'standard',\n",
      " 'post_embedding_ln': False,\n",
      " 'relative_attention_max_distance': None,\n",
      " 'relative_attention_num_buckets': None,\n",
      " 'rotary_adjacent_pairs': False,\n",
      " 'rotary_base': 10000,\n",
      " 'rotary_dim': None,\n",
      " 'scale_attn_by_inverse_layer_idx': False,\n",
      " 'seed': None,\n",
      " 'tie_word_embeddings': False,\n",
      " 'tokenizer_name': 'gpt2',\n",
      " 'tokenizer_prepends_bos': False,\n",
      " 'trust_remote_code': False,\n",
      " 'use_attn_in': False,\n",
      " 'use_attn_result': False,\n",
      " 'use_attn_scale': True,\n",
      " 'use_hook_mlp_in': False,\n",
      " 'use_hook_tokens': False,\n",
      " 'use_local_attn': False,\n",
      " 'use_normalization_before_and_after': False,\n",
      " 'use_split_qkv_input': False,\n",
      " 'window_size': None}\n"
     ]
    },
    {
     "name": "stderr",
     "output_type": "stream",
     "text": [
      "c:\\Users\\matth\\Workspace\\arena3\\.venv\\Lib\\site-packages\\torch\\nn\\modules\\module.py:1160: UserWarning: expandable_segments not supported on this platform (Triggered internally at C:\\actions-runner\\_work\\pytorch\\pytorch\\builder\\windows\\pytorch\\c10/cuda/CUDAAllocatorConfig.h:28.)\n",
      "  return t.to(\n"
     ]
    }
   ],
   "source": [
    "gpt2_small = HookedTransformer.from_pretrained(\n",
    "    \"gpt2-small\",\n",
    "    device=DEVICE,\n",
    ")\n",
    "\n",
    "pprint(gpt2_small.cfg)"
   ]
  },
  {
   "cell_type": "markdown",
   "metadata": {},
   "source": [
    "## Import GPT-2 J-B SAEs"
   ]
  },
  {
   "cell_type": "code",
   "execution_count": 6,
   "metadata": {},
   "outputs": [
    {
     "name": "stderr",
     "output_type": "stream",
     "text": [
      "100%|██████████| 12/12 [00:13<00:00,  1.13s/it]"
     ]
    },
    {
     "name": "stdout",
     "output_type": "stream",
     "text": [
      "SAEConfig(architecture='standard',\n",
      "          d_in=768,\n",
      "          d_sae=24576,\n",
      "          activation_fn_str='relu',\n",
      "          apply_b_dec_to_input=True,\n",
      "          finetuning_scaling_factor=False,\n",
      "          context_size=128,\n",
      "          model_name='gpt2-small',\n",
      "          hook_name='blocks.0.hook_resid_pre',\n",
      "          hook_layer=0,\n",
      "          hook_head_index=None,\n",
      "          prepend_bos=True,\n",
      "          dataset_path='Skylion007/openwebtext',\n",
      "          dataset_trust_remote_code=True,\n",
      "          normalize_activations='none',\n",
      "          dtype='torch.float32',\n",
      "          device='cuda',\n",
      "          sae_lens_training_version=None,\n",
      "          activation_fn_kwargs={},\n",
      "          neuronpedia_id='gpt2-small/0-res-jb')\n"
     ]
    },
    {
     "name": "stderr",
     "output_type": "stream",
     "text": [
      "\n"
     ]
    }
   ],
   "source": [
    "saes = [\n",
    "    SAE.from_pretrained(\n",
    "        release=\"gpt2-small-res-jb\",\n",
    "        sae_id=f\"blocks.{layer}.hook_resid_pre\",\n",
    "        device=DEVICE,\n",
    "    )[0]\n",
    "    for layer in trange(gpt2_small.cfg.n_layers)\n",
    "]\n",
    "\n",
    "pprint(saes[0].cfg)"
   ]
  },
  {
   "cell_type": "markdown",
   "metadata": {},
   "source": [
    "## Export SAE feature explanations for later search"
   ]
  },
  {
   "cell_type": "code",
   "execution_count": 7,
   "metadata": {},
   "outputs": [],
   "source": [
    "def load_explanations_from_saes(saes, save_path):\n",
    "    try:\n",
    "        with open(save_path, \"r\") as f:\n",
    "            explanations = json.load(f)\n",
    "\n",
    "    except FileNotFoundError:\n",
    "        url = \"https://www.neuronpedia.org/api/explanation/export\"\n",
    "\n",
    "        explanations = []\n",
    "\n",
    "        for i, sae in enumerate(tqdm(saes)):\n",
    "            model, sae_id = sae.cfg.neuronpedia_id.split(\"/\")\n",
    "\n",
    "            querystring = {\"modelId\": model, \"saeId\": sae_id}\n",
    "            headers = {\"X-Api-Key\": os.getenv(\"NEURONPEDIA_TOKEN\")}\n",
    "\n",
    "            response = requests.get(url, headers=headers, params=querystring)\n",
    "            explanations += response.json()\n",
    "\n",
    "            with open(save_path, \"w\") as f:\n",
    "                json.dump(explanations, f, indent=2)\n",
    "\n",
    "    return explanations, save_path\n",
    "\n",
    "\n",
    "explanations_fpath = \"gpt2-small_res-jb_explanations.json\"\n",
    "explanations, _ = load_explanations_from_saes(saes, explanations_fpath)"
   ]
  },
  {
   "cell_type": "markdown",
   "metadata": {},
   "source": [
    "## Find all features whose explanations contain keywords"
   ]
  },
  {
   "cell_type": "code",
   "execution_count": 8,
   "metadata": {},
   "outputs": [
    {
     "name": "stdout",
     "output_type": "stream",
     "text": [
      "Number of relevant features in layer 0: 3\n",
      "Number of relevant features in layer 1: 12\n",
      "Number of relevant features in layer 2: 7\n",
      "Number of relevant features in layer 3: 9\n",
      "Number of relevant features in layer 4: 8\n",
      "Number of relevant features in layer 5: 6\n",
      "Number of relevant features in layer 6: 5\n",
      "Number of relevant features in layer 7: 4\n",
      "Number of relevant features in layer 8: 5\n",
      "Number of relevant features in layer 9: 4\n",
      "Number of relevant features in layer 10: 3\n",
      "Number of relevant features in layer 11: 2\n",
      "Total relevant features: 68\n"
     ]
    }
   ],
   "source": [
    "def get_explanations_with_keywords_by_layer(explanations, keywords):\n",
    "    explanations_filtered = collections.defaultdict(list)\n",
    "\n",
    "    for explanation in explanations:\n",
    "        if any(keyword in explanation[\"description\"].upper() for keyword in keywords):\n",
    "            layer = int(explanation[\"layer\"].split(\"-\")[0])\n",
    "            explanations_filtered[layer].append(explanation)\n",
    "\n",
    "    return explanations_filtered\n",
    "\n",
    "\n",
    "keywords = [\"AUSTRALIA\"]\n",
    "\n",
    "explanations_filtered = get_explanations_with_keywords_by_layer(explanations, keywords)\n",
    "\n",
    "explanation_count = 0\n",
    "for layer in range(len(saes)):\n",
    "    explanation_count_in_layer = len(explanations_filtered[layer])\n",
    "    explanation_count += explanation_count_in_layer\n",
    "    print(f\"Number of relevant features in layer {layer}: {explanation_count_in_layer}\")\n",
    "print(f\"Total relevant features: {explanation_count}\")\n"
   ]
  },
  {
   "cell_type": "markdown",
   "metadata": {},
   "source": [
    "## Find SAE feature indices that correlate with intended steering direction "
   ]
  },
  {
   "cell_type": "code",
   "execution_count": 9,
   "metadata": {},
   "outputs": [
    {
     "name": "stderr",
     "output_type": "stream",
     "text": [
      "100%|██████████| 12/12 [00:00<00:00, 102.03it/s]"
     ]
    },
    {
     "name": "stdout",
     "output_type": "stream",
     "text": [
      "\n",
      "Filtered activations:\n",
      "{0: {'idx': [], 'val': []},\n",
      " 1: {'idx': [14665], 'val': [5.82246732711792]},\n",
      " 2: {'idx': [20864], 'val': [7.139648914337158]},\n",
      " 3: {'idx': [19448], 'val': [2.3950774669647217]},\n",
      " 4: {'idx': [19972], 'val': [4.3374762535095215]},\n",
      " 5: {'idx': [], 'val': []},\n",
      " 6: {'idx': [], 'val': []},\n",
      " 7: {'idx': [], 'val': []},\n",
      " 8: {'idx': [], 'val': []},\n",
      " 9: {'idx': [3036], 'val': [3.887145757675171]},\n",
      " 10: {'idx': [10541, 24077], 'val': [6.6507368087768555, 1.4402518272399902]},\n",
      " 11: {'idx': [], 'val': []}}\n"
     ]
    },
    {
     "name": "stderr",
     "output_type": "stream",
     "text": [
      "\n"
     ]
    }
   ],
   "source": [
    "def run_model_and_get_filtered_activations(\n",
    "    model, prompt, explanations_filtered, activation_threshold, quiet=True\n",
    "):\n",
    "    _, cache = model.run_with_cache(prompt, prepend_bos=True)\n",
    "\n",
    "    if not quiet:\n",
    "        tokens = model.to_tokens(prompt)\n",
    "        print(f\"Tokens: {tokens}\")\n",
    "        print(f\"Token strings: {model.to_str_tokens(tokens)}\")\n",
    "\n",
    "    saes_out = {}\n",
    "    acts_filtered = {}\n",
    "\n",
    "    for layer, sae in enumerate(tqdm(saes)):\n",
    "        if explanations_filtered[layer] == []:\n",
    "            continue\n",
    "\n",
    "        explanations_filtered_idx = t.tensor(\n",
    "            [int(explanation[\"index\"]) for explanation in explanations_filtered[layer]],\n",
    "            device=DEVICE,\n",
    "        )\n",
    "\n",
    "        feature_acts = sae.encode(\n",
    "            cache[sae.cfg.hook_name]\n",
    "        )  # shape (batch, sequence, features)\n",
    "\n",
    "        saes_out[layer] = sae.decode(feature_acts)\n",
    "\n",
    "        feature_acts_vals_sorted, idx = feature_acts[\n",
    "            :, :, explanations_filtered_idx\n",
    "        ].sort(descending=True, dim=-1)\n",
    "\n",
    "        feature_acts_idx_sorted = explanations_filtered_idx[idx]\n",
    "\n",
    "        mask = feature_acts_vals_sorted >= activation_threshold\n",
    "\n",
    "        acts_filtered[layer] = {\n",
    "            \"val\": feature_acts_vals_sorted[mask].tolist(),\n",
    "            \"idx\": feature_acts_idx_sorted[mask].tolist(),\n",
    "        }\n",
    "\n",
    "    return (\n",
    "        cache,\n",
    "        acts_filtered,\n",
    "        saes_out,\n",
    "    )\n",
    "\n",
    "\n",
    "def print_relevant_features(feature_act_vals_sorted, feature_act_idx_sorted, model):\n",
    "    for layer in range(len(saes)):\n",
    "        if explanations_filtered[layer] == []:\n",
    "            continue\n",
    "\n",
    "        print(f\"\\nSorted activations for layer {layer}\")\n",
    "        pprint(feature_act_vals_sorted[layer])\n",
    "        pprint(feature_act_idx_sorted[layer])\n",
    "\n",
    "\n",
    "sv_prompt = \"Sydney Opera House\"\n",
    "activation_threshold = 1.0\n",
    "\n",
    "cache, acts_filtered, saes_out = run_model_and_get_filtered_activations(\n",
    "    gpt2_small, sv_prompt, explanations_filtered, activation_threshold, quiet=True\n",
    ")\n",
    "\n",
    "# print_relevant_features(act_vals, act_idx, gpt2_small)\n",
    "\n",
    "print(\"\\nFiltered activations:\")\n",
    "pprint(acts_filtered)"
   ]
  },
  {
   "cell_type": "code",
   "execution_count": 10,
   "metadata": {},
   "outputs": [],
   "source": [
    "def steering_hook_all_layers(\n",
    "    resid_pre, hook, steering_on, steering_vector, coeff, position\n",
    "):\n",
    "    # position = sae_out.shape[1]\n",
    "    if steering_on:\n",
    "        resid_pre[:, : position - 1, :] += coeff * steering_vector\n",
    "\n",
    "\n",
    "def hooked_generate(\n",
    "    prompt_batch, model, fwd_hooks=[], max_new_tokens=20, seed=None, **kwargs\n",
    "):\n",
    "    if seed is not None:\n",
    "        t.manual_seed(seed)\n",
    "\n",
    "    with model.hooks(fwd_hooks=fwd_hooks):\n",
    "        tokenized = model.to_tokens(prompt_batch)\n",
    "        result = model.generate(\n",
    "            stop_at_eos=False,  # avoids a bug on MPS\n",
    "            input=tokenized,\n",
    "            max_new_tokens=max_new_tokens,\n",
    "            do_sample=True,\n",
    "            **kwargs,\n",
    "        )\n",
    "    return result\n",
    "\n",
    "\n",
    "def generate_multi_layer(\n",
    "    prompt: str,\n",
    "    model: HookedTransformer,\n",
    "    steering_vectors_positions_by_layer: dict,\n",
    "    coeff: float,\n",
    "    sampling_kwargs,\n",
    "    num_responses: int = 3,\n",
    "    steering_on: bool = True,\n",
    "    max_new_tokens: int = 20,\n",
    "):\n",
    "    model.reset_hooks()\n",
    "\n",
    "    editing_hooks = []\n",
    "    for layer, svp in steering_vectors_positions_by_layer.items():\n",
    "        temp_hook_fn = functools.partial(\n",
    "            steering_hook_all_layers,\n",
    "            steering_on=steering_on,\n",
    "            steering_vector=svp[\"sv\"],\n",
    "            coeff=coeff,\n",
    "            position=svp[\"pos\"],\n",
    "        )\n",
    "        editing_hooks.append((f\"blocks.{layer}.hook_resid_post\", temp_hook_fn))\n",
    "\n",
    "    res = hooked_generate(\n",
    "        [prompt] * num_responses,\n",
    "        model,\n",
    "        editing_hooks,\n",
    "        max_new_tokens,\n",
    "        seed=None,\n",
    "        **sampling_kwargs,\n",
    "    )\n",
    "\n",
    "    return res\n",
    "\n",
    "\n",
    "def print_res_str(res, model):\n",
    "    print(\"\\nResults as strings:\")\n",
    "    res_str = model.to_string(res[:, 1:])\n",
    "    for i in range(res.shape[0]):\n",
    "        print(f\"{res_str[i]}\\n\" + \"-\" * 80)\n",
    "\n",
    "\n",
    "def print_res_str_tokens(res, model):\n",
    "    print(\"\\nResults as string tokens:\")\n",
    "    for i in range(res.shape[0]):\n",
    "        res_str = model.to_str_tokens(res[i, 1:])\n",
    "        print(f\"{res_str}\\n\" + \"-\" * 80)"
   ]
  },
  {
   "cell_type": "code",
   "execution_count": 19,
   "metadata": {},
   "outputs": [
    {
     "data": {
      "application/vnd.jupyter.widget-view+json": {
       "model_id": "b58dc33972af40f0b858e2538d91827f",
       "version_major": 2,
       "version_minor": 0
      },
      "text/plain": [
       "  0%|          | 0/20 [00:00<?, ?it/s]"
      ]
     },
     "metadata": {},
     "output_type": "display_data"
    },
    {
     "name": "stdout",
     "output_type": "stream",
     "text": [
      "\n",
      "Results as strings:\n",
      "The White House is located in a country called. Adelaide Australia Australia NSW AFL prem Adelaide Oval Australian NRL AFL Adelaide Oval NSW NRL Australia Kang AFL Australian\n",
      "--------------------------------------------------------------------------------\n",
      "The White House is located in a country called to Adelaide Australia Australia NSW NRL AFL Adelaide Oval Oval Australian prem prem AFL NSW Australia Adelaide Kang NRL NSW\n",
      "--------------------------------------------------------------------------------\n",
      "The White House is located in a country called to Adelaide Australia Australia NSW AFL Adelaide Oval NRL prem prem NSW Australian AFL Adelaide Australia Kang NRL AFL Queensland\n",
      "--------------------------------------------------------------------------------\n",
      "\n",
      "Results as string tokens:\n",
      "['The', ' White', ' House', ' is', ' located', ' in', ' a', ' country', ' called', '.', ' Adelaide', ' Australia', ' Australia', ' NSW', ' AFL', ' prem', ' Adelaide', ' Oval', ' Australian', ' NRL', ' AFL', ' Adelaide', ' Oval', ' NSW', ' NRL', ' Australia', ' Kang', ' AFL', ' Australian']\n",
      "--------------------------------------------------------------------------------\n",
      "['The', ' White', ' House', ' is', ' located', ' in', ' a', ' country', ' called', ' to', ' Adelaide', ' Australia', ' Australia', ' NSW', ' NRL', ' AFL', ' Adelaide', ' Oval', ' Oval', ' Australian', ' prem', ' prem', ' AFL', ' NSW', ' Australia', ' Adelaide', ' Kang', ' NRL', ' NSW']\n",
      "--------------------------------------------------------------------------------\n",
      "['The', ' White', ' House', ' is', ' located', ' in', ' a', ' country', ' called', ' to', ' Adelaide', ' Australia', ' Australia', ' NSW', ' AFL', ' Adelaide', ' Oval', ' NRL', ' prem', ' prem', ' NSW', ' Australian', ' AFL', ' Adelaide', ' Australia', ' Kang', ' NRL', ' AFL', ' Queensland']\n",
      "--------------------------------------------------------------------------------\n",
      "{1: {'idx': 14665,\n",
      "     'pos': 5,\n",
      "     'sv': tensor([ 1.8349e-02,  3.5470e-03, -2.9838e-02, -4.9934e-02, -5.3806e-02,\n",
      "         2.0162e-02, -1.9674e-02, -4.4237e-02, -2.2661e-02, -2.3537e-03,\n",
      "         4.4022e-02,  9.5441e-03, -7.3550e-02,  1.3431e-02,  1.2649e-02,\n",
      "        -3.4954e-02, -5.8017e-02,  4.5587e-02, -6.7339e-03, -6.8793e-02,\n",
      "         2.0575e-02, -2.2759e-02,  3.2540e-02,  1.6486e-02,  3.6208e-02,\n",
      "        -3.8389e-03, -1.3601e-02, -5.1369e-02, -2.3170e-02,  2.3142e-04,\n",
      "         5.7194e-02, -3.9234e-02, -2.7922e-02,  4.1532e-02, -3.7540e-02,\n",
      "         5.2666e-02,  2.2165e-02, -8.0568e-02, -3.9308e-02, -2.5648e-05,\n",
      "         4.3256e-02, -2.4202e-02,  2.2770e-02, -8.3047e-03,  4.4198e-03,\n",
      "         1.4163e-02,  2.0427e-03,  3.9257e-02,  1.3337e-01, -1.5154e-02,\n",
      "         3.5965e-02, -6.1263e-02,  8.7705e-03,  2.4744e-02, -2.4483e-02,\n",
      "        -3.4396e-02, -3.0868e-02, -2.6319e-02,  3.6969e-02, -1.1496e-02,\n",
      "        -7.2617e-02,  1.2197e-03, -4.1011e-02, -8.2259e-02,  8.2759e-03,\n",
      "        -2.6774e-02,  5.3106e-02, -4.5034e-02,  7.3808e-02,  6.0751e-02,\n",
      "         2.8968e-02,  5.2433e-03,  4.6878e-02, -1.8765e-02, -1.0798e-02,\n",
      "        -2.3215e-02, -2.0122e-02,  4.3354e-02,  6.5101e-02,  2.0268e-03,\n",
      "        -9.5172e-03, -1.1310e-02,  6.4312e-02, -5.4841e-02,  1.0602e-02,\n",
      "        -3.8163e-03, -1.8939e-02, -2.4096e-02, -5.1944e-03, -6.0912e-02,\n",
      "        -3.2400e-02,  1.4223e-04,  3.1412e-02,  6.2772e-02, -4.0516e-02,\n",
      "        -4.7937e-03,  9.2853e-03, -4.2593e-02,  2.1097e-02, -2.9361e-02,\n",
      "         5.7594e-03, -3.5381e-02,  1.6278e-03, -3.0840e-03,  1.8166e-02,\n",
      "        -1.2794e-02, -5.4771e-04,  2.0065e-02, -1.4039e-02, -7.8399e-03,\n",
      "        -1.7242e-02, -2.2477e-02, -4.9750e-03, -8.2557e-02, -2.5759e-02,\n",
      "         5.8162e-02,  2.8411e-02,  1.7477e-02,  7.5774e-02, -2.1899e-02,\n",
      "        -1.0250e-01,  2.4091e-02,  1.9332e-02,  1.0698e-02,  1.4667e-02,\n",
      "        -1.7628e-02, -4.2504e-03, -3.1852e-03,  1.2822e-02, -1.5342e-02,\n",
      "         3.9292e-02,  5.3118e-02,  4.4063e-02,  7.1990e-03,  2.2341e-02,\n",
      "        -1.2285e-02, -3.8002e-02,  1.4466e-02,  1.6436e-03,  2.3574e-02,\n",
      "        -2.1807e-02, -3.0924e-02, -4.1588e-02,  2.9273e-02,  6.1157e-02,\n",
      "        -2.5593e-02,  4.5135e-02, -4.1729e-02, -3.6540e-02, -2.0799e-02,\n",
      "        -3.5338e-02,  6.1617e-02, -1.6936e-02, -1.4174e-02,  1.8353e-02,\n",
      "        -1.3575e-02, -2.2658e-02, -5.2475e-02,  3.8434e-02,  4.1382e-02,\n",
      "        -7.7630e-02,  1.4827e-02, -8.8027e-03, -1.3472e-02, -6.6984e-03,\n",
      "         1.3855e-02,  2.3588e-03,  4.0193e-02,  1.7402e-02,  2.8556e-02,\n",
      "         3.2282e-02,  2.1040e-02,  1.1477e-02,  4.3410e-02, -5.5868e-02,\n",
      "        -1.2980e-02, -2.5877e-02,  2.2292e-02,  4.7346e-02,  5.8465e-02,\n",
      "         4.8336e-03,  3.8030e-02,  2.9035e-02, -3.2221e-02, -2.1256e-02,\n",
      "         1.5783e-02, -2.6573e-02,  6.6398e-02,  2.7385e-03, -4.1477e-04,\n",
      "        -2.2191e-02, -6.7631e-02,  2.6440e-03, -2.9358e-02, -3.3685e-04,\n",
      "        -1.1156e-01, -2.9293e-04, -1.0672e-02,  1.9447e-02,  4.2369e-02,\n",
      "        -1.3414e-02,  7.4750e-02,  4.6836e-02, -3.4272e-02, -3.2616e-03,\n",
      "        -1.2581e-02,  9.1017e-03,  1.3321e-02,  3.2596e-02, -4.2126e-02,\n",
      "        -2.6071e-02,  4.9683e-02, -3.7582e-02, -2.5190e-02, -3.8441e-02,\n",
      "         2.1769e-02, -4.3503e-02,  3.3093e-02,  8.8241e-04,  4.5955e-03,\n",
      "        -5.3656e-02,  4.9916e-02,  2.8535e-02,  1.1950e-02,  1.8177e-02,\n",
      "        -5.8713e-02, -3.0427e-02,  8.6920e-04,  8.9275e-02,  1.7930e-02,\n",
      "        -1.7093e-02,  2.6832e-03,  4.7296e-02, -4.1541e-03,  2.5817e-02,\n",
      "         2.0598e-02,  3.6684e-02,  1.2838e-02,  3.4378e-02, -2.3793e-02,\n",
      "        -4.6851e-03,  3.0155e-02,  4.7851e-02, -3.0641e-02, -4.1229e-02,\n",
      "         3.6884e-02,  1.2500e-03,  8.5407e-04, -3.7251e-03, -1.3433e-02,\n",
      "         1.4590e-02, -1.4418e-02, -1.2692e-02, -4.2804e-02, -6.7644e-03,\n",
      "        -8.1245e-02, -3.2587e-02, -2.4535e-02,  1.5991e-02, -4.7648e-02,\n",
      "        -8.1165e-02, -3.6788e-02,  1.6266e-02,  3.1819e-02,  2.8939e-02,\n",
      "        -1.7570e-02,  1.9691e-02,  3.5027e-02, -1.4675e-03,  4.6639e-02,\n",
      "         7.5390e-04,  8.4292e-02,  1.5564e-02, -4.5111e-03,  3.3158e-02,\n",
      "        -8.5867e-03,  3.2887e-02,  1.7868e-03, -1.5345e-03, -4.5372e-02,\n",
      "         4.2420e-02,  5.3232e-03, -2.4587e-02,  1.7564e-02, -2.7992e-02,\n",
      "        -1.5572e-03, -2.8555e-02,  3.2972e-02,  8.3163e-02, -2.2773e-02,\n",
      "         2.3099e-03,  1.0857e-03,  3.2737e-03, -3.5167e-02,  2.7081e-02,\n",
      "        -3.3797e-02,  3.6006e-02,  1.6366e-02, -4.4384e-02, -3.8241e-02,\n",
      "         7.0351e-03,  4.6507e-02,  2.7850e-02, -1.0968e-02,  1.0336e-02,\n",
      "         2.7730e-02,  5.8611e-03, -2.8602e-02,  1.6436e-02,  1.7200e-02,\n",
      "        -3.7582e-02, -9.5631e-03, -1.0938e-02, -4.3199e-02, -6.8467e-02,\n",
      "         4.4880e-02, -4.8481e-02, -5.4868e-02,  6.2529e-02, -8.2719e-03,\n",
      "        -3.3126e-02,  2.4619e-02, -5.9815e-02,  1.4384e-02, -2.1721e-03,\n",
      "        -2.6933e-02,  1.1764e-03, -1.9972e-02, -7.4024e-02,  6.3439e-02,\n",
      "         4.9795e-02,  3.1183e-02,  2.1342e-02, -2.6022e-02,  1.6696e-02,\n",
      "        -3.6285e-02, -4.6710e-03,  1.5503e-02,  3.3718e-02,  7.5312e-02,\n",
      "        -1.5846e-02,  2.5977e-05, -5.0362e-04, -7.1122e-02,  2.4428e-02,\n",
      "        -4.0445e-02, -6.0143e-02,  6.9148e-03, -3.2682e-02,  1.3019e-02,\n",
      "        -4.8004e-03,  6.3663e-02,  2.8946e-02,  6.5437e-03,  5.6610e-02,\n",
      "        -1.5017e-02,  2.4868e-03,  3.5133e-02,  1.0645e-02,  2.9775e-02,\n",
      "         2.4551e-02,  9.6178e-02, -2.0052e-02, -1.1167e-02, -7.5423e-03,\n",
      "        -5.6008e-02, -3.4854e-02,  2.0039e-03,  1.1249e-02,  9.2193e-04,\n",
      "         2.3968e-02, -3.4224e-02,  1.9678e-02, -6.7974e-02, -5.6100e-02,\n",
      "         3.5847e-02, -3.9771e-02, -5.1174e-02,  1.7954e-02, -1.9675e-02,\n",
      "         4.8838e-02,  4.0726e-03, -2.0902e-02, -9.8867e-02,  1.7869e-02,\n",
      "        -6.7076e-02, -3.5154e-02, -1.1364e-02, -1.4343e-02, -2.2744e-02,\n",
      "         2.3303e-02,  3.2856e-02,  3.7840e-02, -3.4044e-02,  1.0659e-03,\n",
      "         4.1498e-03, -4.4299e-02,  2.1471e-03,  4.8747e-04,  9.4568e-03,\n",
      "         1.9447e-04, -9.0092e-04, -6.4489e-02, -2.5579e-02, -3.2642e-03,\n",
      "         1.0681e-01, -5.6576e-03,  2.4272e-02,  2.9391e-02,  1.6465e-02,\n",
      "         1.0049e-02, -1.1521e-02, -2.8116e-02,  4.4156e-02,  1.7701e-02,\n",
      "         4.5976e-03, -3.2770e-02,  4.9255e-03,  3.4722e-02, -1.3765e-02,\n",
      "         5.0020e-03,  2.2379e-02, -4.8554e-03,  2.2005e-02,  2.1991e-02,\n",
      "        -7.6355e-03, -1.8768e-02, -2.1264e-03,  6.3952e-02,  3.4214e-02,\n",
      "         1.4341e-02, -2.1248e-02,  1.2689e-02,  1.4707e-02,  4.6391e-02,\n",
      "        -9.4047e-03, -3.3218e-02, -3.5174e-02,  9.0030e-03, -3.9005e-02,\n",
      "        -2.5294e-03, -4.7261e-02,  1.0896e-02, -1.3993e-02, -6.6659e-02,\n",
      "        -1.5933e-02, -3.3544e-02,  8.7871e-02,  7.4736e-03,  2.5650e-02,\n",
      "         5.6445e-02,  4.8775e-02, -3.0168e-02,  6.5005e-02,  4.6987e-02,\n",
      "         6.3107e-03,  1.2756e-03, -2.0031e-02, -3.0110e-02,  1.0964e-02,\n",
      "        -1.9598e-02, -9.7062e-03,  6.2902e-02,  1.1769e-02,  1.5354e-02,\n",
      "        -4.7575e-02, -1.7406e-02,  3.6016e-03,  1.4093e-02, -1.6425e-02,\n",
      "         1.7037e-02, -4.7268e-02, -1.0832e-02, -1.1316e-02, -4.0667e-04,\n",
      "         1.3305e-02,  5.7174e-02, -5.4636e-03, -3.0666e-02,  3.9060e-02,\n",
      "         3.5226e-02, -2.6660e-02, -1.4859e-02,  2.5649e-02,  4.2416e-02,\n",
      "        -3.0331e-02, -4.1167e-02, -3.8145e-02, -5.3917e-02, -4.0020e-02,\n",
      "         2.4157e-02, -4.7472e-03, -3.1426e-02,  9.8641e-04, -3.0310e-04,\n",
      "         5.0766e-02,  6.0583e-02,  5.9522e-03,  4.1606e-02, -6.3847e-02,\n",
      "         2.4334e-02,  5.9937e-03, -3.0565e-02, -2.1476e-02, -4.7452e-03,\n",
      "         4.4370e-02,  6.3782e-03,  1.2280e-02,  5.3490e-03, -5.0572e-02,\n",
      "        -4.4116e-02, -1.1980e-03, -1.5600e-02, -4.2165e-03,  6.4406e-02,\n",
      "         1.2574e-01, -9.0645e-02, -3.3095e-02, -3.9450e-02, -1.4934e-02,\n",
      "         1.7095e-02,  2.4652e-04,  4.7465e-02,  1.7859e-03,  2.8391e-02,\n",
      "         1.5373e-02, -8.2959e-02,  2.7502e-02,  3.9934e-02, -3.1351e-03,\n",
      "        -2.4089e-02, -6.0530e-02, -2.7926e-03,  2.2606e-02,  2.5273e-02,\n",
      "        -1.4486e-01,  1.4867e-02,  3.0231e-02,  6.5916e-02, -1.9167e-02,\n",
      "         2.1940e-02,  4.2021e-02, -4.0517e-03, -5.7475e-02,  9.0263e-03,\n",
      "        -4.0301e-03,  2.4366e-02, -3.4270e-03,  3.6705e-03,  2.1472e-02,\n",
      "         1.0567e-02,  5.2687e-03, -6.8614e-03, -1.2584e-02, -1.1183e-02,\n",
      "        -9.3159e-03, -2.9096e-02, -5.8003e-02,  7.2328e-03, -2.0597e-02,\n",
      "        -2.4755e-02, -7.2891e-03,  1.0230e-03,  1.0259e-01,  1.7989e-02,\n",
      "        -2.2789e-02,  2.9677e-02,  2.4564e-02, -6.6576e-03, -7.4057e-02,\n",
      "         3.3949e-02, -1.2908e-02, -3.8622e-02,  1.0698e-02,  4.3154e-02,\n",
      "        -9.7643e-03,  5.5933e-02, -1.5243e-02,  7.2505e-02,  3.4483e-02,\n",
      "        -1.3400e-02,  3.0680e-02, -2.2490e-02,  1.4828e-02,  4.9634e-02,\n",
      "        -8.0318e-02, -2.2820e-02,  3.3625e-02, -1.4547e-02,  3.5422e-03,\n",
      "        -7.2725e-02,  3.7257e-02,  6.8830e-03,  6.9409e-02, -1.7328e-02,\n",
      "        -1.3967e-02,  6.2169e-02, -1.5423e-02, -5.9222e-02,  1.2679e-02,\n",
      "        -4.6382e-02, -1.3476e-02, -3.8513e-02,  2.7541e-02, -2.4926e-02,\n",
      "        -3.2120e-02, -4.0028e-03,  3.9424e-02, -7.0289e-02,  4.3356e-03,\n",
      "         5.3952e-02,  5.6446e-02,  1.6604e-02,  4.1634e-02,  1.8719e-02,\n",
      "        -5.9374e-03, -5.4206e-03, -2.0129e-02,  5.2233e-03, -2.7669e-04,\n",
      "         2.0784e-02, -2.5667e-02, -5.6000e-02, -6.8658e-02, -1.5427e-02,\n",
      "        -2.7025e-02, -4.4270e-02, -1.1127e-02,  4.6660e-04, -2.8899e-02,\n",
      "         2.2989e-02,  3.3023e-04, -3.3085e-02, -1.4630e-02,  4.9756e-02,\n",
      "         5.8727e-02,  1.7013e-02,  4.2055e-02,  5.2603e-02, -2.0639e-02,\n",
      "        -2.7125e-02, -5.5054e-02,  4.9307e-02,  5.0106e-02, -1.5879e-02,\n",
      "         1.9685e-02,  5.0468e-03,  4.0486e-03, -7.4334e-03, -1.2182e-02,\n",
      "        -1.2081e-02,  3.0500e-02,  2.1787e-02, -7.6317e-02,  6.1655e-02,\n",
      "        -2.4376e-02,  9.9296e-04, -3.1437e-02, -2.5503e-02,  3.0176e-02,\n",
      "        -1.0576e-02,  4.8175e-02, -2.4547e-02, -6.4247e-03,  6.5397e-02,\n",
      "        -4.3171e-02,  3.7236e-02,  5.2249e-02,  1.3632e-03, -1.2021e-03,\n",
      "         2.3144e-02,  6.0736e-03,  1.9386e-02, -6.5749e-02, -9.2118e-04,\n",
      "        -1.9465e-03, -1.0884e-02,  4.7827e-03, -1.7285e-02, -6.8843e-02,\n",
      "         4.4350e-02,  3.0336e-02, -2.9220e-02, -5.2843e-02, -1.8063e-03,\n",
      "        -2.6564e-02, -8.4203e-03, -1.0095e-02, -2.3940e-02, -8.1258e-03,\n",
      "        -5.0771e-03,  5.0736e-02, -7.4955e-03,  1.5915e-02,  1.0786e-02,\n",
      "        -4.1478e-02, -7.6375e-04, -6.2958e-02,  4.9071e-02,  5.1009e-02,\n",
      "         4.1415e-03,  4.8981e-02, -2.7380e-02,  2.7882e-02,  2.4649e-02,\n",
      "         1.0177e-02,  1.2186e-01, -2.7534e-02,  1.6422e-02, -1.5443e-02,\n",
      "        -8.9606e-02, -3.2843e-02,  1.5998e-02, -2.7422e-02, -1.5922e-02,\n",
      "         7.9730e-03, -1.9967e-02,  4.4208e-02, -1.9130e-02, -8.4146e-03,\n",
      "         7.0515e-03,  4.8712e-02, -1.5396e-02,  1.7772e-02,  2.1011e-02,\n",
      "        -1.1335e-02, -1.7634e-02,  1.2167e-02, -1.0293e-02, -1.4415e-02,\n",
      "         9.4037e-02,  2.3645e-02,  6.8613e-02,  5.3829e-03,  4.0307e-03,\n",
      "         4.3168e-02,  2.1380e-02, -5.5932e-03, -1.7904e-02, -5.1755e-04,\n",
      "         1.6052e-02, -7.7172e-03, -4.3860e-03,  1.2766e-02, -2.1598e-02,\n",
      "         1.9376e-02,  1.9066e-02,  7.5984e-02, -5.6127e-02, -3.8025e-03,\n",
      "         1.5064e-02, -1.0249e-02,  1.5426e-02, -3.5899e-02,  3.9440e-02,\n",
      "         3.0500e-02, -1.9627e-02, -5.6969e-02,  2.5561e-02,  4.2253e-02,\n",
      "        -4.4628e-02,  3.2335e-02,  1.6423e-02, -3.2563e-02, -2.7932e-03,\n",
      "        -9.7848e-03, -3.3904e-02, -1.5173e-02], device='cuda:0',\n",
      "       requires_grad=True)},\n",
      " 2: {'idx': 20864,\n",
      "     'pos': 5,\n",
      "     'sv': tensor([ 1.6613e-02, -7.1027e-03, -4.8581e-02, -4.4922e-02, -1.4053e-02,\n",
      "         6.6711e-03, -3.4297e-02, -6.7782e-03, -4.6671e-03, -7.4594e-03,\n",
      "         4.4150e-02,  9.8643e-03, -6.7980e-02, -1.1415e-02,  8.4438e-03,\n",
      "        -2.3531e-02, -3.8637e-02,  5.0472e-02, -1.2308e-02, -5.5957e-02,\n",
      "         1.8778e-02, -2.7756e-02,  1.4621e-02,  3.3586e-02,  2.2462e-02,\n",
      "         1.3462e-02, -2.9617e-02, -4.7758e-02, -1.8006e-02, -1.5695e-02,\n",
      "         5.5971e-02, -1.3030e-02, -1.6805e-02,  4.5160e-02, -2.1311e-02,\n",
      "         4.9974e-02,  4.6408e-02, -5.8321e-02, -5.7835e-02, -1.2440e-02,\n",
      "         5.0587e-02, -1.0477e-02, -7.6033e-03, -2.7795e-02,  4.6501e-03,\n",
      "         2.2886e-02, -1.1583e-02,  2.9649e-02,  1.1189e-01, -1.8560e-02,\n",
      "         2.3750e-02, -6.8294e-02, -9.3236e-03, -8.9405e-03, -3.9154e-02,\n",
      "        -4.4448e-02, -2.5232e-02, -3.9176e-02,  4.1908e-02, -7.0673e-03,\n",
      "        -6.2837e-02, -2.6148e-02, -5.9180e-02, -5.9454e-02,  3.2832e-04,\n",
      "        -3.4983e-02,  1.4906e-02, -3.5877e-02,  7.6377e-02,  4.8396e-02,\n",
      "        -1.5830e-03, -7.0387e-04,  6.6848e-02, -3.2139e-02, -7.7942e-03,\n",
      "        -2.5486e-02, -1.2686e-02,  3.0995e-02,  4.3130e-02,  4.4722e-03,\n",
      "        -1.8011e-02, -5.2376e-03,  4.7479e-02, -4.8031e-02, -1.1527e-02,\n",
      "        -1.9687e-02,  1.0029e-02, -4.0366e-02, -9.9021e-03, -7.9085e-02,\n",
      "        -7.9496e-04, -2.0248e-02,  1.5371e-02,  6.9672e-02, -3.7522e-02,\n",
      "        -2.0964e-02, -8.0775e-03, -2.6190e-02,  3.2586e-02, -3.1998e-02,\n",
      "         1.8296e-02, -1.0177e-02, -1.9511e-02,  1.4012e-02,  2.9261e-02,\n",
      "        -2.3797e-03,  1.5109e-02,  2.4719e-04, -4.3143e-02, -2.5195e-02,\n",
      "        -1.0334e-02, -3.7772e-02, -3.7495e-02, -7.9049e-02, -3.2195e-02,\n",
      "         4.8333e-02, -4.3683e-03,  2.1811e-02,  7.6287e-02, -3.0174e-02,\n",
      "        -7.4067e-02,  1.8132e-02,  3.8441e-03,  1.1895e-03,  2.1627e-02,\n",
      "        -5.3498e-03, -3.7223e-02, -1.0085e-02, -2.3606e-05, -7.5808e-03,\n",
      "         4.3611e-02,  3.0641e-02,  4.9615e-02, -1.1653e-02, -9.4931e-03,\n",
      "        -1.5303e-02, -8.9980e-03, -1.5386e-02, -3.9051e-04,  9.7900e-03,\n",
      "        -4.5284e-02, -4.9500e-02, -3.4439e-02, -1.3961e-02,  4.2101e-02,\n",
      "        -5.4890e-02,  2.8816e-02, -2.6967e-02, -9.0306e-03, -3.6385e-02,\n",
      "        -3.6817e-02,  6.4783e-02, -4.8559e-03, -4.9331e-03,  2.2929e-02,\n",
      "        -5.5689e-02, -1.4641e-02, -3.7414e-02,  4.7170e-02,  5.7667e-02,\n",
      "        -4.0515e-02, -3.1577e-02,  1.0432e-02, -4.8635e-02, -1.1016e-02,\n",
      "         4.7718e-03, -6.6464e-03,  4.3850e-02,  1.0252e-02,  5.7500e-02,\n",
      "         4.4752e-02,  4.2130e-03,  6.0980e-03,  4.3057e-02, -2.5644e-02,\n",
      "         1.2342e-02, -1.0341e-03,  2.5082e-02,  4.2818e-02,  6.6953e-02,\n",
      "        -4.5384e-03,  2.7656e-02,  3.0548e-02, -1.3535e-02,  1.6847e-04,\n",
      "        -9.7936e-05, -2.5092e-02,  5.1522e-02,  3.6871e-03, -1.2445e-03,\n",
      "         9.6734e-05, -7.6119e-02,  2.9615e-02, -1.1239e-02, -4.8682e-03,\n",
      "        -9.4685e-02,  2.2382e-02, -1.6168e-02,  1.2938e-02,  6.4661e-02,\n",
      "        -1.4855e-02,  9.2026e-02,  6.9386e-02, -3.7673e-02, -1.8112e-02,\n",
      "        -1.4231e-02,  2.7777e-02,  2.8788e-02, -7.9804e-03, -4.7472e-02,\n",
      "        -5.4537e-02,  5.6878e-02, -1.1664e-02, -4.2348e-02, -4.7686e-02,\n",
      "         1.8564e-02, -3.7171e-02,  2.2886e-02, -1.0082e-02,  2.4830e-02,\n",
      "         3.8918e-03,  6.2674e-02,  2.4760e-02,  8.3266e-03,  3.9164e-03,\n",
      "        -8.6848e-02, -3.6839e-02, -2.3911e-03,  7.6916e-02,  1.7380e-02,\n",
      "        -1.4431e-02,  1.5495e-02,  6.5983e-02,  7.0332e-03,  1.4503e-02,\n",
      "         2.5663e-02,  5.4618e-02,  4.9714e-02,  6.7575e-02, -9.2373e-03,\n",
      "        -3.4229e-02,  3.8111e-02,  4.8133e-02, -4.2348e-02, -4.8565e-02,\n",
      "         5.3416e-02,  1.0412e-02, -3.2862e-04,  2.5303e-02, -2.4161e-02,\n",
      "        -1.9302e-02,  7.6788e-03, -3.4545e-02, -6.4613e-02, -5.7264e-03,\n",
      "        -9.5909e-02, -7.5597e-03, -5.2175e-02,  3.9781e-02, -1.2676e-02,\n",
      "        -7.9407e-02, -4.5719e-02,  2.1191e-02,  3.6828e-02,  1.2707e-02,\n",
      "        -8.3118e-03, -1.5169e-03,  3.6816e-02,  5.3795e-03,  3.0498e-02,\n",
      "         1.7096e-02,  7.6291e-02,  1.6180e-02, -6.8019e-03,  3.2464e-02,\n",
      "         1.1701e-02,  2.9224e-02,  1.9774e-03,  2.3105e-02, -3.8826e-03,\n",
      "         1.8221e-02,  1.0963e-03, -3.4414e-02,  1.7845e-02, -3.1682e-02,\n",
      "         1.8034e-02, -8.7725e-03,  3.0400e-02,  5.3247e-02, -2.5702e-02,\n",
      "         2.5184e-02, -1.5138e-02, -3.7211e-03, -2.6933e-02,  2.3453e-02,\n",
      "        -4.7352e-02,  2.6559e-02,  6.0729e-03, -5.8856e-02, -8.8245e-03,\n",
      "         2.0136e-02,  6.4308e-02,  3.6781e-02, -2.0931e-02,  2.5391e-02,\n",
      "         2.4407e-02,  1.6689e-02, -3.5146e-02,  1.2069e-02,  2.5024e-02,\n",
      "        -3.9500e-02, -3.3844e-02, -1.2695e-02, -4.5156e-02, -6.6821e-02,\n",
      "         3.9024e-02, -3.3271e-03, -3.6504e-02,  6.5979e-02,  1.1242e-02,\n",
      "        -1.3226e-02,  2.3001e-02, -5.6426e-02,  1.2213e-02,  4.2400e-03,\n",
      "         1.0038e-02,  8.7944e-03, -3.6954e-02, -4.2995e-02,  3.9965e-02,\n",
      "         7.0360e-02,  4.0644e-02,  2.0324e-02, -1.8261e-02,  2.5867e-02,\n",
      "        -2.1103e-02,  1.4795e-03, -9.5172e-03,  2.3064e-02,  1.0980e-03,\n",
      "         1.2081e-02, -9.3803e-04, -3.4587e-02, -9.4182e-02, -4.9140e-03,\n",
      "        -3.5561e-02, -6.6927e-02, -1.0625e-03, -1.6023e-05,  4.6919e-02,\n",
      "         1.0914e-02,  4.5456e-02,  2.3295e-03,  2.3858e-02,  3.4267e-02,\n",
      "        -3.9745e-03, -3.5972e-03,  7.0525e-02, -1.4516e-03,  2.2718e-02,\n",
      "         5.2698e-02,  9.2045e-02, -5.2860e-02,  2.2340e-02,  1.8704e-02,\n",
      "        -5.6385e-02, -4.5359e-02,  2.1889e-02,  3.5115e-02, -1.3899e-02,\n",
      "         3.5015e-02, -7.4722e-03,  8.4682e-03,  3.6678e-02, -4.8321e-02,\n",
      "         1.3806e-02, -4.4713e-02, -5.7021e-02,  1.4542e-02, -2.2968e-02,\n",
      "         3.4052e-02, -1.9789e-02, -1.8559e-03, -1.0111e-01,  2.5966e-02,\n",
      "        -1.9134e-02, -9.5735e-03, -3.9166e-02, -9.8189e-03, -1.7381e-02,\n",
      "         4.5596e-03,  2.4727e-02,  5.0319e-02, -3.7218e-02, -1.2426e-02,\n",
      "         1.7496e-02, -4.2979e-02,  2.3721e-03, -9.4741e-03, -5.5540e-03,\n",
      "         8.1795e-03, -3.6327e-03, -6.7137e-02, -3.2804e-02, -1.3802e-02,\n",
      "         1.0369e-01, -2.9394e-02,  2.1895e-02,  2.0708e-02,  1.7176e-03,\n",
      "        -1.1280e-02, -2.0523e-02, -3.3540e-02,  5.2855e-02,  2.4878e-02,\n",
      "        -4.6982e-03, -2.2366e-02,  2.6685e-02,  4.2019e-02, -2.6245e-02,\n",
      "         2.6144e-03, -6.4209e-03, -2.5556e-02,  2.3823e-02,  2.9459e-02,\n",
      "         2.0008e-02,  4.8389e-03, -2.0887e-03,  4.8359e-02,  4.8867e-02,\n",
      "         1.0476e-02, -3.9662e-02,  2.8339e-03,  1.4314e-02,  5.4229e-02,\n",
      "        -9.9283e-03, -3.5759e-02, -2.2476e-02,  1.8655e-02, -3.1414e-02,\n",
      "        -2.5399e-02, -3.8878e-02,  2.5218e-02, -5.5042e-04, -5.7145e-02,\n",
      "        -2.9243e-02, -5.4587e-02,  2.5049e-02,  2.5457e-03,  2.3307e-02,\n",
      "         5.0838e-02,  5.4596e-02, -1.5946e-02,  4.5342e-02,  5.1693e-02,\n",
      "        -1.5096e-02, -2.1699e-02, -2.6451e-02, -3.8560e-02,  2.1644e-02,\n",
      "        -5.7246e-03, -3.6146e-03,  2.5517e-02, -2.4254e-02,  2.2312e-02,\n",
      "        -2.4355e-02, -4.0729e-04,  1.2873e-02,  4.4876e-02, -1.9218e-02,\n",
      "         1.9217e-03, -1.9338e-02, -1.0273e-02, -1.8496e-02, -2.1637e-02,\n",
      "         4.4147e-02,  1.0437e-01,  2.4135e-02, -3.5211e-02,  4.2558e-02,\n",
      "         1.6127e-02, -2.4407e-02, -2.7844e-02,  2.0438e-02,  5.9491e-02,\n",
      "        -5.8084e-02, -1.3137e-02, -5.1050e-02, -6.1765e-02, -2.8518e-02,\n",
      "         7.7724e-05,  1.3946e-02, -6.8852e-03,  1.9864e-02, -5.4714e-03,\n",
      "         4.9120e-02,  5.6953e-02,  2.3000e-02,  5.2735e-02, -5.5832e-02,\n",
      "         4.7349e-02, -1.0939e-02, -1.3059e-02, -9.7293e-03, -1.0295e-02,\n",
      "         3.9076e-02,  1.0390e-02,  2.5093e-02, -1.7651e-02, -4.5222e-02,\n",
      "        -4.6262e-02, -1.0509e-02, -2.2384e-02, -8.5940e-04,  6.8561e-02,\n",
      "         1.1527e-01, -9.7516e-02, -2.4332e-02, -2.3289e-02, -2.6533e-02,\n",
      "         5.5956e-03,  7.0372e-03,  2.6103e-02, -1.4356e-02,  2.2071e-02,\n",
      "         2.1802e-02, -6.5496e-02,  1.2272e-02, -1.1750e-03,  3.2280e-04,\n",
      "        -1.7671e-02, -6.7484e-02, -5.0244e-03,  1.5672e-02,  4.8107e-02,\n",
      "        -1.5285e-01,  2.2010e-02,  3.6625e-02,  5.9778e-02, -1.6586e-02,\n",
      "         6.0737e-03,  3.3411e-02,  2.2308e-02, -4.0478e-02, -2.4060e-03,\n",
      "        -3.5946e-03,  3.6310e-02, -2.9297e-03,  2.5850e-02,  3.4662e-02,\n",
      "         7.4985e-03, -4.0690e-03, -3.2312e-02, -7.0059e-03, -9.5947e-03,\n",
      "        -4.6203e-02, -1.7732e-02, -6.3817e-02, -4.4163e-03, -2.7903e-02,\n",
      "         1.3881e-02,  1.2131e-02, -5.2713e-03,  4.7092e-02, -3.5599e-02,\n",
      "        -3.5919e-02,  1.8517e-02,  2.6167e-02, -9.2437e-03, -7.3984e-02,\n",
      "         7.5700e-03, -3.8508e-02, -4.0076e-02,  3.8530e-02,  5.3528e-03,\n",
      "         4.4912e-03,  4.5383e-02,  1.2066e-03,  6.4136e-02,  2.3472e-02,\n",
      "        -6.5179e-03,  5.5145e-02, -2.3215e-02, -2.7123e-02,  4.7662e-02,\n",
      "        -7.0409e-02, -2.4867e-02,  2.4969e-02,  1.9550e-02,  7.6555e-03,\n",
      "        -7.1611e-02,  6.2271e-03, -2.4002e-03,  6.4212e-02, -2.2789e-02,\n",
      "        -3.1622e-02,  4.5770e-02, -3.4612e-02, -6.7899e-02,  3.2867e-02,\n",
      "        -3.9244e-02,  6.7402e-03, -2.7035e-02,  1.1629e-02, -4.7922e-02,\n",
      "        -2.7167e-02,  2.8650e-03,  1.9981e-02, -4.5709e-02,  4.6157e-03,\n",
      "         1.4689e-02,  4.3516e-02,  1.7440e-02,  3.4452e-02,  2.9936e-02,\n",
      "         1.0475e-02,  6.3517e-03, -1.3923e-02,  1.1906e-02, -4.5916e-03,\n",
      "        -7.7738e-03, -3.7314e-02, -4.6293e-02, -6.0606e-02,  4.3110e-03,\n",
      "         1.9603e-03, -4.3498e-02,  7.9004e-03, -1.3568e-02, -1.5573e-02,\n",
      "         3.5721e-02,  1.4685e-02, -6.4551e-02, -4.0834e-02,  4.1125e-02,\n",
      "         3.7403e-02,  3.3454e-02,  4.8113e-02,  3.3418e-02, -2.8064e-03,\n",
      "        -3.3664e-02, -3.1549e-02,  5.8207e-02,  8.6308e-02, -1.0265e-02,\n",
      "         2.3990e-02,  3.8723e-03,  1.1618e-02, -1.1029e-02,  3.2208e-02,\n",
      "        -1.6353e-02,  2.6940e-02,  1.7573e-02, -9.0084e-02,  5.9704e-02,\n",
      "        -4.7940e-02,  1.4276e-02, -1.2628e-02, -2.7393e-02,  2.5853e-02,\n",
      "        -3.9147e-03,  4.7329e-02, -1.8458e-02, -4.1883e-04,  8.0973e-02,\n",
      "        -6.3947e-02,  1.1750e-02,  8.7632e-02,  2.1224e-02, -9.6745e-03,\n",
      "        -4.3199e-03, -2.5444e-03,  3.0526e-03, -5.3238e-02, -1.8652e-02,\n",
      "        -6.2758e-03, -6.1534e-02, -1.9293e-02,  3.2288e-03, -1.9328e-02,\n",
      "         3.4359e-02,  5.1856e-02, -2.7974e-02, -4.9535e-02, -6.3566e-03,\n",
      "        -3.2087e-02, -1.6760e-02, -7.8350e-03, -5.6825e-02,  1.9508e-02,\n",
      "         7.3811e-03,  5.7302e-02, -4.0715e-03,  4.1320e-02, -1.8519e-03,\n",
      "        -3.5603e-02, -2.6360e-03, -4.8194e-02,  2.8871e-02,  2.1297e-02,\n",
      "        -1.0595e-02,  6.1066e-02, -2.4576e-02,  5.8136e-02,  4.1413e-03,\n",
      "         5.2360e-04,  1.0145e-01, -9.2467e-03,  1.8788e-02,  1.7364e-02,\n",
      "        -5.0002e-02, -3.4643e-02, -3.1960e-03, -4.3876e-02, -1.7378e-02,\n",
      "         1.0748e-02, -1.9487e-02,  7.5304e-02,  4.1585e-03, -5.5525e-03,\n",
      "         2.1829e-02, -8.4533e-03, -5.7268e-02,  5.9095e-02, -3.5939e-02,\n",
      "        -1.4780e-03, -3.9109e-02,  4.6909e-03, -5.1031e-03, -2.6089e-02,\n",
      "         8.5551e-02,  3.7742e-02,  6.3889e-02, -7.6737e-03, -1.6102e-02,\n",
      "         3.8321e-02,  7.1962e-03,  1.5501e-02, -1.3783e-02, -4.5387e-02,\n",
      "         1.8277e-02, -4.0827e-03,  6.4237e-04, -1.4158e-04, -6.1506e-02,\n",
      "         3.8133e-03,  3.8077e-03,  8.1336e-02, -4.7958e-02, -8.9131e-03,\n",
      "         1.4905e-02, -5.3431e-04,  2.7787e-02, -2.7923e-02,  1.4525e-02,\n",
      "         3.0352e-02,  2.0614e-03, -6.8642e-02,  1.9546e-02,  5.5396e-02,\n",
      "        -4.1468e-02,  4.5290e-02,  1.0311e-02, -3.5260e-02, -5.5995e-03,\n",
      "        -2.4834e-02, -3.5452e-02, -1.9358e-02], device='cuda:0',\n",
      "       requires_grad=True)},\n",
      " 3: {'idx': 19448,\n",
      "     'pos': 5,\n",
      "     'sv': tensor([ 4.4012e-02, -2.3028e-02, -4.7093e-02, -4.0034e-02, -2.9404e-02,\n",
      "         5.1192e-03, -8.0645e-05, -9.0495e-03, -1.2272e-02, -8.5773e-04,\n",
      "         2.3526e-02, -4.9942e-03, -3.8493e-02, -4.8487e-03, -7.2390e-03,\n",
      "        -4.7932e-02, -2.2876e-02,  3.0211e-02,  4.8932e-03, -1.7798e-02,\n",
      "         2.7593e-02, -2.0780e-02,  4.6068e-02,  6.1542e-02,  2.6561e-02,\n",
      "        -3.6421e-03, -2.5576e-02, -2.1435e-02, -1.5371e-02, -2.6305e-02,\n",
      "         6.7339e-02, -1.7586e-02, -1.3648e-02,  2.3451e-02, -7.6680e-04,\n",
      "         5.4406e-02,  1.4192e-02, -7.6400e-02, -5.6707e-02,  8.4237e-03,\n",
      "         3.8870e-02, -1.6293e-02,  4.0912e-03, -4.5628e-02, -2.1854e-02,\n",
      "         2.9205e-02, -3.6420e-03,  5.0987e-02,  7.7202e-02, -9.4242e-03,\n",
      "         1.2054e-02, -7.5231e-02,  1.9162e-02, -1.3336e-02, -3.1579e-02,\n",
      "        -4.7321e-02, -4.4526e-02, -3.7155e-02,  3.4936e-02, -2.6581e-02,\n",
      "        -4.5674e-02, -3.2972e-02,  8.7398e-03, -9.3342e-02, -2.0671e-02,\n",
      "        -2.6422e-02,  2.7122e-02, -1.6225e-02,  2.7000e-02,  2.6786e-02,\n",
      "        -6.7531e-03, -1.5024e-02,  6.4318e-02, -2.6411e-02, -5.4782e-03,\n",
      "        -1.5502e-02, -2.4615e-02,  1.1734e-02,  4.7317e-02,  1.3358e-02,\n",
      "        -2.9947e-02, -2.6495e-02,  3.2434e-02, -5.6082e-02, -2.2190e-02,\n",
      "         1.9455e-03,  4.8958e-02, -3.2038e-02, -5.5265e-02, -4.5591e-02,\n",
      "        -1.6450e-02, -4.0885e-02,  1.1561e-02,  4.3894e-02, -3.0085e-02,\n",
      "        -3.8765e-03,  6.0507e-03, -5.7829e-02,  1.6020e-02, -4.0623e-02,\n",
      "         2.9752e-02,  2.8069e-02, -2.0738e-02, -2.0360e-02,  3.1512e-02,\n",
      "         6.9815e-03,  1.9136e-02,  7.5336e-03, -3.9588e-02, -1.7159e-02,\n",
      "        -5.4679e-03, -2.2625e-02, -4.1538e-02, -5.9533e-02, -3.2595e-02,\n",
      "         4.6155e-02,  2.3183e-02,  2.8200e-02,  7.2424e-02, -3.4360e-02,\n",
      "        -6.0867e-02,  4.5213e-04,  1.7292e-02,  1.5093e-02, -1.9358e-02,\n",
      "        -3.1905e-02, -6.5644e-02,  2.5818e-02,  2.6797e-02,  7.6013e-03,\n",
      "         4.5340e-02,  1.5071e-02,  1.7287e-02,  1.6377e-02,  1.2715e-02,\n",
      "        -6.3137e-03, -1.6268e-02, -8.7749e-03, -3.0999e-03,  2.3083e-02,\n",
      "        -4.7682e-02, -3.9883e-02, -3.3024e-02, -1.4252e-02,  2.4008e-02,\n",
      "        -4.2796e-02,  2.3068e-02, -3.5375e-02,  1.5032e-04, -4.6767e-02,\n",
      "        -4.2340e-02,  8.0434e-02, -5.1440e-02, -2.9684e-02,  2.6334e-02,\n",
      "        -5.3143e-02, -1.9241e-03, -7.2836e-02,  1.8860e-02,  7.8813e-02,\n",
      "        -2.3298e-02,  1.1559e-02,  4.6132e-03, -2.8976e-02,  1.8732e-02,\n",
      "        -1.0709e-02,  1.6116e-02,  5.0557e-02,  1.2920e-02,  3.7836e-02,\n",
      "         4.4093e-02,  2.4279e-02,  1.2993e-02,  4.2785e-02, -9.3368e-03,\n",
      "         1.3617e-02, -1.7690e-02, -6.2882e-03,  5.1568e-02,  5.9158e-02,\n",
      "         3.1960e-02,  2.4340e-02, -2.0014e-03, -5.7973e-03,  1.4805e-02,\n",
      "         6.2021e-03, -2.5630e-02,  7.2103e-02, -1.0295e-02,  1.9048e-02,\n",
      "         3.6380e-03, -5.4354e-02,  4.3884e-02, -8.4953e-03, -3.0303e-02,\n",
      "        -5.0215e-02, -1.0154e-02, -5.3464e-02,  3.0839e-02,  6.4285e-02,\n",
      "        -4.1290e-02,  8.0143e-02,  6.2790e-02, -2.1585e-02, -1.5613e-02,\n",
      "        -1.0461e-02,  4.8593e-02,  2.9065e-02, -1.4461e-02, -4.8374e-02,\n",
      "        -4.0314e-02,  6.4244e-02, -2.2714e-02, -5.4733e-02, -6.0362e-02,\n",
      "         2.8779e-02, -9.5631e-02,  1.2430e-02, -5.2459e-02,  1.8244e-02,\n",
      "         1.5505e-02,  6.5102e-02, -5.6862e-03,  1.3033e-02,  2.2665e-04,\n",
      "        -8.1076e-02, -2.2457e-02,  1.2825e-03,  5.3782e-02,  1.5113e-02,\n",
      "        -2.4637e-02,  2.5977e-02,  1.2141e-02,  2.1075e-02,  1.2131e-02,\n",
      "        -2.0315e-02,  4.0121e-02,  2.8537e-02,  6.1220e-02, -1.6687e-02,\n",
      "        -2.4506e-02,  3.6090e-02,  2.3354e-02,  1.2366e-03, -4.0082e-02,\n",
      "         4.5929e-02, -4.1303e-03, -1.2525e-02,  2.3030e-02, -1.7637e-02,\n",
      "        -1.3637e-02,  5.3849e-04, -2.9105e-02, -5.6435e-02, -1.2375e-02,\n",
      "        -5.9494e-02,  6.9331e-03, -4.3812e-02,  3.3638e-02, -1.0327e-02,\n",
      "        -5.3562e-02, -4.4741e-02,  2.9825e-02,  9.5021e-02, -4.8831e-03,\n",
      "        -1.6882e-03,  1.3934e-02,  5.1932e-02,  1.7794e-02,  6.4488e-02,\n",
      "         9.9770e-04,  7.3798e-02, -1.1358e-02, -2.3529e-02,  1.8114e-02,\n",
      "        -2.0553e-03,  4.8365e-02, -1.9980e-02,  4.5805e-02, -5.6785e-03,\n",
      "         5.0767e-03,  8.9165e-03, -4.5629e-02,  3.9338e-02, -1.6097e-02,\n",
      "         3.6537e-02, -2.7439e-02,  3.7711e-02,  1.0411e-01, -9.0114e-02,\n",
      "         1.4614e-02, -1.6145e-02, -2.7839e-02, -8.6511e-03,  8.5493e-03,\n",
      "        -2.9175e-02,  1.5312e-02,  1.4093e-03, -6.3674e-02, -1.4032e-02,\n",
      "         5.0395e-02,  5.0407e-02,  4.2767e-02, -7.1772e-03,  1.8519e-02,\n",
      "         4.1301e-02, -1.0381e-03, -5.8263e-02,  1.8647e-02,  3.3195e-02,\n",
      "        -4.5878e-02, -4.7236e-02, -4.6054e-03, -4.1614e-02, -5.9994e-02,\n",
      "         3.3377e-02,  2.5742e-02, -2.9503e-02,  3.2268e-02,  2.9092e-02,\n",
      "        -3.0785e-02, -4.5827e-03, -2.8720e-02, -5.2766e-03,  1.2596e-02,\n",
      "         5.1974e-02,  3.6511e-02, -3.3317e-02, -1.5632e-02,  4.4026e-02,\n",
      "         3.5367e-02,  3.6400e-02,  3.8766e-03, -1.3304e-02,  1.9978e-02,\n",
      "        -7.2574e-03, -2.0724e-02, -5.5763e-03,  7.9707e-04,  1.4562e-02,\n",
      "        -1.3358e-02,  1.3734e-02, -4.5849e-03, -8.7480e-02, -2.0545e-02,\n",
      "        -4.3801e-02, -4.8956e-02, -2.8819e-02, -1.1671e-02,  6.4020e-02,\n",
      "         2.7261e-02,  2.3610e-02,  4.5061e-03,  1.2221e-02,  3.9760e-02,\n",
      "        -1.9656e-02, -7.1064e-03,  9.9520e-03, -1.2292e-02,  6.8518e-02,\n",
      "         3.0075e-02,  6.3558e-02, -3.6080e-02,  2.6911e-02, -3.3280e-03,\n",
      "        -7.6844e-02, -2.6789e-02, -4.6749e-03,  3.3518e-02, -4.7938e-03,\n",
      "         2.4583e-03, -5.8338e-02,  2.4070e-02,  3.3896e-02,  2.3203e-03,\n",
      "         3.6576e-02, -6.3475e-02, -5.1320e-02,  2.0583e-02,  3.2793e-03,\n",
      "         2.3252e-02, -5.6903e-03,  9.9799e-03, -9.2498e-02,  1.7300e-02,\n",
      "        -2.8835e-02, -3.6340e-02, -3.4315e-02, -3.9802e-03, -3.4189e-02,\n",
      "         3.4025e-02,  5.8049e-02,  6.2624e-02, -3.8857e-02,  1.5536e-02,\n",
      "         2.4922e-02, -3.9581e-02, -8.8479e-03,  1.2246e-02,  3.6974e-02,\n",
      "         3.8877e-02,  1.2422e-03, -4.1997e-02, -1.2307e-02,  1.8561e-03,\n",
      "         1.0391e-01, -1.5332e-02,  3.5653e-02,  1.5199e-02, -1.9027e-02,\n",
      "         1.2280e-02,  1.4377e-03, -5.9387e-02,  4.3416e-02, -1.3807e-02,\n",
      "        -2.5127e-02, -1.5058e-02, -6.9204e-03,  8.5253e-02, -4.6046e-03,\n",
      "        -2.7545e-02, -8.9290e-03, -1.8354e-02,  2.1792e-02,  3.0379e-02,\n",
      "        -2.0292e-02, -2.5327e-02,  1.5487e-02,  4.3393e-02,  3.4668e-02,\n",
      "        -4.9812e-03, -1.1019e-02,  1.4605e-02, -3.6697e-03,  5.2445e-02,\n",
      "         2.7176e-02, -3.8637e-02, -4.1203e-02,  5.9453e-02, -3.1634e-02,\n",
      "        -1.6965e-02, -3.1758e-02,  1.9864e-02, -2.9884e-02, -4.2338e-02,\n",
      "        -4.0214e-03, -6.6782e-05, -4.8150e-02,  5.4146e-06,  1.4326e-02,\n",
      "         3.8789e-02,  3.7679e-02,  5.7120e-04,  4.7699e-02,  6.5104e-02,\n",
      "        -2.3476e-02, -2.5959e-02, -9.2394e-03, -2.6893e-02,  1.9818e-02,\n",
      "         2.9796e-02,  1.7240e-03,  3.7128e-02, -3.8213e-02,  1.6106e-02,\n",
      "        -3.6766e-02, -7.7962e-03,  2.6622e-02,  5.8537e-03, -9.7509e-03,\n",
      "         7.3746e-03, -3.5496e-02, -1.2355e-02, -1.4205e-02, -6.0012e-02,\n",
      "         1.9576e-02,  9.3702e-02,  3.6858e-02, -3.1375e-02,  1.2951e-02,\n",
      "         7.7012e-03, -5.5330e-02, -3.2371e-02, -1.4645e-02,  7.4098e-02,\n",
      "        -7.2254e-02, -1.3640e-02, -1.8858e-02, -4.7740e-02,  1.7119e-03,\n",
      "         4.8607e-03, -2.3384e-02, -2.0602e-02,  1.7928e-02,  1.4057e-03,\n",
      "         2.5327e-02,  5.6575e-02, -3.3806e-02,  2.5272e-02, -5.9074e-02,\n",
      "         7.2963e-02, -6.7757e-03, -3.9223e-03,  3.9112e-03, -9.2771e-03,\n",
      "         3.6601e-02,  9.1847e-03,  3.3425e-02, -5.9309e-02, -2.1862e-02,\n",
      "        -3.7788e-02, -1.8218e-02,  3.3519e-03,  2.1337e-02,  4.3530e-02,\n",
      "         1.2433e-01, -8.4955e-02, -2.5359e-02,  7.4290e-03, -2.5987e-02,\n",
      "         7.5856e-03,  1.0001e-02,  3.5645e-02, -3.5470e-03,  2.4712e-02,\n",
      "         9.5014e-03, -3.2383e-02, -1.1149e-02,  4.5864e-03,  1.3826e-02,\n",
      "         5.2717e-03, -6.8163e-02, -1.8064e-02,  4.0612e-02,  3.8985e-02,\n",
      "        -1.2217e-01,  8.9097e-03,  3.2698e-02,  3.8018e-02, -4.0862e-02,\n",
      "         2.2144e-02,  8.4304e-02,  2.3182e-02, -5.1516e-02, -1.2348e-02,\n",
      "        -1.6890e-02,  5.7104e-02, -2.0839e-02,  2.2460e-02,  2.4511e-02,\n",
      "        -5.6560e-03,  9.7809e-04, -1.6604e-02, -3.3382e-02, -7.9439e-02,\n",
      "        -2.4228e-02,  1.4982e-02, -3.6520e-02, -1.6420e-02, -2.7382e-02,\n",
      "         1.5890e-02, -1.1241e-02, -3.1374e-02,  6.5597e-02, -2.2324e-02,\n",
      "        -3.9730e-02,  9.0075e-03,  2.2806e-02, -2.0257e-03, -7.7289e-02,\n",
      "         1.6356e-02, -4.1398e-02, -2.2421e-02,  2.2089e-02,  1.7136e-02,\n",
      "        -1.3883e-02,  2.8461e-02,  5.9842e-03,  3.7526e-02,  6.1985e-03,\n",
      "        -9.2054e-04,  3.8626e-02, -3.7490e-02, -3.2871e-02,  2.2435e-02,\n",
      "        -6.1784e-02, -1.2420e-02,  1.8029e-02, -7.1773e-03,  2.1560e-02,\n",
      "        -3.5766e-02,  7.8876e-03, -1.4972e-02,  8.3786e-02,  4.0471e-03,\n",
      "        -3.9533e-02,  6.1079e-02, -3.6501e-02, -8.5339e-02, -6.3447e-03,\n",
      "        -2.8305e-02,  6.5290e-03, -3.0779e-02,  5.7733e-02, -5.3801e-02,\n",
      "        -2.8214e-02,  7.3425e-03,  3.2818e-02, -1.1873e-02, -3.4102e-02,\n",
      "         2.3418e-02,  5.4594e-02,  4.9899e-02,  7.0405e-02,  8.6774e-03,\n",
      "        -2.6032e-02, -3.1439e-03,  2.2892e-02,  7.5301e-03, -5.8041e-03,\n",
      "         1.4500e-02, -1.8696e-02, -2.8335e-02, -5.7722e-02, -2.0625e-02,\n",
      "        -1.2616e-02, -4.2422e-02,  1.8753e-02, -1.5897e-02, -4.1778e-02,\n",
      "         3.1545e-02, -1.8820e-02, -4.3971e-02, -5.7956e-02,  1.2443e-02,\n",
      "         2.1642e-02,  2.0063e-02,  4.5890e-02,  3.8544e-02, -1.4311e-02,\n",
      "        -5.8405e-02, -1.5002e-02,  6.4659e-02,  8.8406e-02, -2.9972e-02,\n",
      "         8.4949e-03, -5.6864e-03, -1.4851e-03, -3.9211e-03,  1.4526e-02,\n",
      "        -3.8920e-03,  2.8750e-03,  6.9612e-02, -6.6773e-02,  4.8444e-02,\n",
      "        -2.1875e-02,  1.2158e-02,  2.4498e-02, -3.9420e-02,  2.7422e-02,\n",
      "        -1.1640e-02,  4.7381e-02, -8.8217e-03, -1.8884e-02,  8.6932e-02,\n",
      "        -7.3060e-02, -3.6172e-03,  7.1159e-02,  1.6228e-02, -4.1637e-03,\n",
      "        -1.0685e-02, -1.5108e-02,  1.6099e-02, -1.8504e-02, -1.4024e-02,\n",
      "        -5.8944e-03, -6.8806e-02, -6.7928e-03,  6.7508e-03, -3.6400e-02,\n",
      "         4.2083e-02,  2.3774e-02, -1.4111e-02, -7.8982e-02, -1.2950e-02,\n",
      "        -2.7918e-02,  1.4922e-02, -1.9393e-02, -1.0384e-01, -2.1693e-02,\n",
      "        -1.9777e-02,  4.2759e-02,  6.3343e-03,  1.5630e-02,  2.3133e-02,\n",
      "        -2.9002e-03,  2.6740e-02, -5.0180e-02,  3.4200e-03,  1.0339e-02,\n",
      "        -2.5491e-03,  4.2907e-02, -1.7308e-02,  6.8963e-02,  2.0143e-02,\n",
      "         1.1910e-02,  9.9545e-02, -5.9672e-02, -6.2658e-03, -3.6287e-03,\n",
      "        -5.0777e-02, -3.1410e-03, -6.0957e-04, -2.1991e-02, -1.5647e-03,\n",
      "         1.2336e-03, -4.1459e-05,  4.8940e-02,  2.8073e-02,  4.5657e-03,\n",
      "         2.0319e-02, -3.4375e-02, -4.7223e-02,  3.8130e-02,  6.9368e-04,\n",
      "        -3.0412e-02,  5.9654e-03, -1.8647e-02, -2.7624e-02, -2.5334e-03,\n",
      "         6.0943e-02,  1.3087e-02,  6.6499e-02, -2.8760e-02,  1.0694e-02,\n",
      "         1.4882e-02,  2.4735e-02,  2.7160e-02, -2.9188e-02, -5.6668e-02,\n",
      "        -5.3819e-03,  8.1634e-03,  3.0716e-02,  2.1973e-03, -5.5296e-02,\n",
      "         1.5273e-02,  2.2279e-02,  9.0758e-02, -5.9805e-02, -6.1515e-03,\n",
      "        -2.8432e-02,  1.7025e-03,  2.2939e-02, -5.0193e-02,  4.7445e-02,\n",
      "         1.9326e-02, -1.1730e-02, -2.9083e-02,  2.9744e-02,  3.7527e-02,\n",
      "        -2.0358e-02,  2.5517e-02,  1.5020e-02, -4.2352e-02, -1.5585e-02,\n",
      "        -3.6207e-02, -3.0477e-02, -2.7941e-02], device='cuda:0',\n",
      "       requires_grad=True)},\n",
      " 4: {'idx': 19972,\n",
      "     'pos': 5,\n",
      "     'sv': tensor([ 7.0132e-02, -2.4099e-02, -4.9951e-02, -6.6446e-02, -3.1087e-02,\n",
      "        -9.0086e-03, -9.5811e-03,  2.9165e-02, -4.0669e-03, -2.0750e-02,\n",
      "         5.8210e-02, -9.1071e-03, -5.3427e-02,  1.4833e-02,  5.5733e-03,\n",
      "        -6.2796e-02, -3.0368e-02,  3.7840e-02, -6.4319e-03, -5.4641e-02,\n",
      "         4.0303e-02, -2.0560e-02,  4.2300e-02,  3.2523e-02,  1.4436e-02,\n",
      "        -1.4488e-03, -2.3481e-02, -4.7323e-02,  1.0971e-02, -1.8358e-02,\n",
      "         4.9781e-02, -2.5291e-02, -2.0551e-02,  3.5231e-02, -1.8507e-02,\n",
      "         6.1434e-02,  3.8006e-02, -9.9941e-02, -9.2151e-02, -8.4568e-03,\n",
      "         4.8378e-02, -2.2127e-02,  6.5664e-03, -2.4482e-02, -2.6252e-02,\n",
      "         1.4688e-02, -2.8035e-02,  2.3294e-02,  1.2606e-01, -2.7776e-03,\n",
      "         3.8985e-02, -9.6249e-02,  3.6836e-02, -1.6324e-02, -4.0074e-02,\n",
      "        -3.9711e-02, -4.3138e-02, -1.4964e-02,  3.5096e-02, -1.2265e-02,\n",
      "        -3.5397e-02, -1.8319e-02, -2.5520e-02, -7.4448e-02, -1.2344e-02,\n",
      "         7.5895e-04,  2.3393e-02, -1.3123e-02,  2.8646e-02,  5.1641e-02,\n",
      "         2.8835e-03, -2.1948e-02,  4.7838e-02, -4.9126e-02, -8.9475e-03,\n",
      "        -2.8502e-02, -4.2232e-03,  2.2829e-02,  5.0086e-02,  1.0081e-02,\n",
      "        -2.7848e-02, -2.3481e-02,  3.5727e-02, -7.4713e-03,  5.4078e-03,\n",
      "         2.9711e-02,  2.9243e-02, -2.2717e-02, -1.3840e-02, -5.2485e-02,\n",
      "        -3.3089e-02, -1.6169e-02, -1.6689e-02,  3.5940e-02, -8.8598e-03,\n",
      "         1.3836e-02,  3.1786e-02, -1.7178e-02,  2.2407e-02, -7.4315e-02,\n",
      "         5.3841e-03,  1.4240e-02, -1.8506e-02, -1.4808e-02,  1.8084e-02,\n",
      "         2.9397e-03,  4.6154e-02,  5.0493e-03, -2.8822e-02, -3.4565e-03,\n",
      "        -2.1539e-02, -2.9525e-02, -3.9765e-02, -5.0609e-02, -3.5095e-02,\n",
      "         1.8292e-02,  1.5998e-02,  1.5613e-02,  7.0909e-02, -3.5437e-02,\n",
      "        -5.9468e-02,  1.7472e-02, -6.9129e-04,  1.8173e-02,  2.9203e-02,\n",
      "        -2.2249e-02, -6.1578e-02,  1.9695e-02,  3.7393e-02, -2.5453e-03,\n",
      "         3.9449e-02,  5.1734e-02,  2.4621e-02,  3.9595e-03,  1.9126e-02,\n",
      "        -1.1220e-02, -1.3622e-02,  8.7213e-03, -2.7223e-03, -5.5117e-04,\n",
      "        -6.6060e-02, -6.6764e-02, -3.4222e-02, -1.2548e-02,  1.7079e-02,\n",
      "         2.7513e-03,  3.3588e-02,  2.2172e-03,  1.7447e-02, -3.9430e-02,\n",
      "        -3.0277e-02,  6.0699e-02, -2.1698e-02, -1.1970e-02,  3.4838e-02,\n",
      "        -8.3445e-02, -2.6151e-02, -5.8276e-02,  1.9745e-02,  4.3522e-02,\n",
      "        -4.2064e-02, -2.5068e-02, -8.7225e-03, -3.7311e-02,  4.9096e-03,\n",
      "        -5.3159e-03,  3.0252e-02,  1.6127e-02, -1.3011e-02,  4.5806e-02,\n",
      "         4.5679e-02,  1.8615e-02,  2.7168e-02,  7.1082e-02, -4.9433e-03,\n",
      "        -1.3233e-02, -1.4759e-02,  6.6368e-03,  4.7407e-02,  3.8017e-02,\n",
      "        -8.3214e-03,  2.4239e-02,  5.7852e-03, -1.7589e-02,  2.0665e-02,\n",
      "         3.3212e-03, -2.6062e-02,  9.6800e-02, -1.4925e-02,  3.2196e-02,\n",
      "        -5.3893e-04, -6.4568e-02,  9.2148e-03, -1.5000e-02, -2.6814e-02,\n",
      "        -5.5924e-02, -1.5368e-02, -5.2149e-02,  1.0801e-02,  6.2445e-02,\n",
      "        -2.9562e-02,  1.0364e-01,  7.6743e-02, -7.3475e-02, -2.8712e-04,\n",
      "        -2.9289e-02,  2.5114e-02,  2.0509e-02, -1.8576e-03, -4.1752e-02,\n",
      "        -4.8170e-02,  4.2183e-02, -1.3376e-02, -4.4792e-02, -5.9767e-02,\n",
      "         4.6002e-02, -8.5391e-02,  1.3493e-02, -4.0855e-02,  3.8474e-02,\n",
      "         2.0510e-02,  7.6456e-02,  3.2026e-02,  1.7410e-02,  2.7623e-02,\n",
      "        -5.6936e-02, -5.3428e-02,  7.5358e-03,  5.5564e-02,  2.4858e-02,\n",
      "        -2.4661e-02,  1.5599e-02,  9.2278e-03, -7.6519e-03,  3.3328e-02,\n",
      "         1.9638e-03,  4.2771e-02,  6.0579e-03,  7.0550e-02,  1.1055e-02,\n",
      "        -5.3695e-02,  5.9983e-02,  3.0001e-02, -1.3975e-02, -3.2652e-02,\n",
      "         3.4688e-02, -1.5734e-02,  1.9728e-02,  4.7333e-03, -4.1400e-02,\n",
      "        -1.8705e-02,  5.4724e-03, -4.2661e-02, -3.8184e-02,  1.5334e-03,\n",
      "        -8.8942e-02, -1.0943e-02, -4.9989e-02,  6.0709e-03, -1.9201e-02,\n",
      "        -6.7693e-02, -4.6770e-02,  3.7541e-02,  5.4701e-02,  5.8271e-03,\n",
      "         2.6152e-03, -1.2828e-03,  7.4754e-02,  8.5263e-03,  3.1295e-02,\n",
      "        -3.1818e-02,  6.5178e-02,  3.2098e-02, -2.0863e-02,  3.6130e-02,\n",
      "        -1.8281e-02,  1.6223e-02,  8.5223e-03,  5.7532e-02, -1.1113e-02,\n",
      "         1.4758e-02,  1.1570e-02, -4.3066e-02, -7.3231e-03, -1.8860e-02,\n",
      "         2.2900e-02, -1.5114e-02,  1.6457e-02,  8.4635e-02, -4.3815e-02,\n",
      "         1.0507e-02, -2.3268e-02, -3.1069e-02,  1.6423e-02, -5.2125e-03,\n",
      "        -1.2823e-02,  9.8642e-03,  9.9071e-03, -6.1598e-02, -1.5048e-02,\n",
      "         2.4524e-02,  3.1184e-02,  2.4096e-02, -1.7019e-02,  2.9267e-02,\n",
      "         1.4683e-02,  3.0624e-02, -5.6225e-02, -2.9333e-03,  3.6740e-02,\n",
      "        -5.7979e-02, -1.6325e-02, -1.8411e-03, -2.0437e-02, -5.9273e-02,\n",
      "         2.7476e-02, -3.9064e-03, -2.0759e-02,  3.9732e-02, -1.1039e-02,\n",
      "        -1.3421e-02,  9.1054e-05, -5.3606e-02, -1.3578e-02,  2.9089e-02,\n",
      "         2.1614e-02,  1.7611e-02, -3.1515e-02, -5.3227e-02,  5.4368e-02,\n",
      "         4.3754e-02,  2.2603e-02,  8.9600e-03, -1.8082e-02,  3.9634e-02,\n",
      "         8.1625e-03, -2.2613e-02, -3.4729e-03,  1.1560e-03,  3.0407e-02,\n",
      "        -1.2723e-02,  2.1517e-02,  3.1509e-03, -4.8098e-02, -3.0525e-02,\n",
      "        -5.3805e-02, -7.0769e-02, -4.8462e-02, -2.5726e-03,  6.3905e-02,\n",
      "         1.6547e-02,  2.6616e-02,  2.1108e-02,  2.8702e-02,  3.6212e-02,\n",
      "         8.0155e-03, -1.3029e-02,  2.6708e-02, -1.3645e-02,  4.8888e-02,\n",
      "         4.9083e-02,  4.4807e-02, -2.1260e-02,  1.5348e-02,  1.5155e-02,\n",
      "        -6.8344e-02, -1.4207e-02, -1.0619e-02,  1.8167e-02, -4.1489e-03,\n",
      "         3.8111e-03, -1.2709e-02,  1.8415e-02,  9.2222e-03, -2.9376e-02,\n",
      "         1.1759e-02, -1.0880e-02, -5.6369e-02,  1.1358e-02,  1.6327e-02,\n",
      "         1.1598e-02, -1.6650e-02,  1.5359e-02, -6.6357e-02,  4.5689e-02,\n",
      "        -1.3227e-02, -1.2315e-02, -5.8707e-02, -2.3742e-02,  2.5322e-03,\n",
      "         9.0532e-04,  6.4375e-02,  6.0243e-02, -6.5748e-02,  3.7830e-02,\n",
      "         3.3729e-02, -3.7588e-02, -1.5055e-02,  2.6617e-02,  3.9528e-02,\n",
      "         2.7199e-02,  1.6346e-02, -1.0830e-02, -3.3927e-02, -3.2734e-03,\n",
      "         9.8602e-02, -2.7674e-02,  3.5025e-02,  1.7237e-02,  2.6855e-03,\n",
      "         8.5455e-03,  1.6168e-02, -5.7502e-02,  3.3927e-02, -2.9942e-03,\n",
      "        -3.2999e-02, -2.3948e-02, -1.3410e-02,  7.6040e-02, -2.7899e-02,\n",
      "        -1.5818e-02,  8.2269e-03, -4.8959e-04,  4.8891e-03,  3.0052e-02,\n",
      "         6.8745e-03, -1.4722e-02,  2.9172e-03,  7.9133e-02,  2.0185e-02,\n",
      "         1.7903e-02, -4.5988e-02,  3.1236e-02,  1.4331e-02,  5.1713e-02,\n",
      "        -3.5189e-03, -4.0716e-02, -2.8619e-02,  3.6929e-02, -4.9305e-02,\n",
      "        -2.3423e-02, -3.7068e-02,  2.5716e-02, -3.2388e-02, -7.2728e-02,\n",
      "        -7.3905e-03, -2.0490e-02,  8.8855e-02,  1.7412e-02, -1.6016e-03,\n",
      "         2.9310e-02,  2.9857e-02, -3.1507e-03,  5.2009e-02,  5.1231e-02,\n",
      "        -6.1819e-03, -1.1538e-02,  4.3217e-03, -3.8657e-02, -7.2679e-03,\n",
      "        -5.7311e-03,  3.5747e-02,  3.0020e-02, -5.1884e-02,  4.6495e-02,\n",
      "        -2.6191e-02,  1.1680e-02,  2.2365e-02,  1.8518e-02, -1.1487e-02,\n",
      "         9.9035e-03, -6.6889e-03,  8.9568e-03,  4.8349e-03, -5.2407e-02,\n",
      "         1.5550e-02,  7.9977e-02,  5.8707e-02, -3.4533e-02,  8.1990e-03,\n",
      "         4.2365e-03, -3.4543e-02, -3.6157e-02,  1.8944e-03,  5.4031e-02,\n",
      "        -3.8446e-02,  6.4415e-03, -1.7465e-02, -5.1339e-02, -1.9892e-02,\n",
      "         1.5991e-02, -1.3866e-02, -2.7382e-04,  2.4987e-02,  1.3721e-02,\n",
      "         1.4551e-02,  6.5516e-02, -1.0417e-02,  2.4784e-02, -4.4474e-02,\n",
      "         6.7804e-02, -1.1784e-02, -2.0845e-02, -3.6357e-02, -1.7613e-02,\n",
      "         4.8650e-02, -2.5566e-03,  3.1619e-02, -3.5537e-02, -2.8168e-02,\n",
      "        -4.3585e-02, -2.0631e-02, -1.1072e-02,  2.8017e-02,  5.2150e-02,\n",
      "         9.7424e-02, -6.9246e-02, -9.2985e-03, -1.4781e-02, -1.7225e-02,\n",
      "         2.7052e-02,  1.7062e-02,  3.0107e-02,  4.2130e-03,  1.1305e-02,\n",
      "         1.1428e-02, -5.7553e-02, -1.2844e-02, -1.4613e-02, -1.5928e-02,\n",
      "         1.3613e-04, -7.1136e-02, -2.7841e-02,  2.9688e-02,  4.0723e-02,\n",
      "        -1.4854e-01,  1.8300e-02,  2.7284e-02,  5.8893e-02, -3.4015e-02,\n",
      "         1.9865e-02,  6.8971e-02, -1.9804e-02, -4.8547e-02, -3.8486e-02,\n",
      "        -1.6951e-02,  4.9231e-02, -3.2471e-02,  6.4109e-02,  1.6331e-02,\n",
      "         1.0758e-02,  3.4274e-02, -2.5352e-02, -3.2557e-02, -5.8312e-02,\n",
      "        -4.5717e-02, -1.1453e-02, -4.2852e-02, -3.1232e-03, -2.1341e-02,\n",
      "         2.7476e-02, -3.3707e-03, -1.7489e-02,  5.5186e-02, -2.6440e-02,\n",
      "        -3.1841e-02,  4.0684e-02,  2.1115e-02, -1.6168e-02, -6.7951e-02,\n",
      "        -9.8864e-04, -2.0065e-02, -1.2477e-02,  1.2109e-02,  2.0450e-02,\n",
      "         1.3849e-02,  1.4507e-02,  4.7532e-03,  4.1318e-02,  1.2528e-02,\n",
      "        -3.7359e-02,  5.3716e-02, -6.3807e-02, -2.3540e-02,  2.8370e-02,\n",
      "        -4.3154e-02, -2.1839e-02,  3.4652e-02,  1.1014e-02,  8.3369e-03,\n",
      "        -5.6871e-02,  1.3515e-02, -3.2642e-02,  5.3251e-02,  4.1146e-03,\n",
      "        -7.0791e-02,  8.9705e-02, -3.1194e-02, -4.9971e-02,  1.9894e-02,\n",
      "        -9.9548e-03,  4.7748e-03, -1.7080e-02,  2.3585e-02, -5.2634e-02,\n",
      "        -5.1261e-02,  2.2699e-02,  2.8223e-02, -5.0487e-02, -3.9871e-02,\n",
      "         2.6270e-02,  6.4482e-02,  4.5476e-02,  3.8933e-02,  3.2701e-02,\n",
      "        -3.2349e-02,  8.5206e-03,  1.2238e-02, -5.5028e-03, -9.8015e-03,\n",
      "        -1.7351e-03, -8.5050e-03, -8.1669e-03, -4.0526e-02, -1.4160e-02,\n",
      "         1.6443e-02, -1.3819e-02, -5.4034e-05, -6.5381e-03, -3.9570e-02,\n",
      "         2.2801e-02, -8.6231e-03, -4.5379e-02, -2.7017e-02,  4.3681e-02,\n",
      "        -4.0837e-03,  3.9505e-02,  3.8718e-02,  5.2431e-02, -1.6846e-02,\n",
      "        -4.6223e-02, -9.4737e-03,  4.1752e-02,  8.0814e-02, -3.7248e-02,\n",
      "        -5.9109e-07, -5.6573e-04, -1.2554e-03, -1.0798e-02,  1.5637e-02,\n",
      "        -1.9274e-02,  7.2615e-03,  6.6732e-02, -5.9496e-02,  7.0185e-02,\n",
      "        -5.8145e-02, -7.2638e-04, -2.6721e-02, -3.5016e-02,  1.4846e-02,\n",
      "         1.4244e-02,  4.4638e-02, -1.5878e-02, -2.1765e-02,  1.0094e-01,\n",
      "        -6.4330e-02,  1.8705e-02,  7.6545e-02,  4.7172e-02, -2.8781e-02,\n",
      "        -8.4326e-03,  6.8591e-03,  2.0814e-02, -2.8278e-02, -3.2034e-02,\n",
      "        -1.2276e-02, -7.3009e-02, -5.8640e-04,  8.6196e-03, -3.8184e-02,\n",
      "         2.2740e-02,  5.8760e-02, -2.2637e-02, -2.7366e-02, -1.5160e-02,\n",
      "        -4.5021e-02, -8.1510e-03, -4.6593e-02, -8.6180e-02,  4.0034e-03,\n",
      "        -2.2708e-02,  2.8828e-02,  2.7780e-02,  7.4422e-03, -1.1592e-02,\n",
      "         1.9930e-02,  2.0878e-02, -4.3081e-02,  3.6597e-03,  7.2759e-03,\n",
      "        -1.2592e-02,  6.2116e-02, -3.7914e-02,  3.2064e-02,  1.6450e-02,\n",
      "        -9.3795e-03,  8.2001e-02, -1.8532e-02, -1.0255e-03,  1.6894e-02,\n",
      "        -2.8064e-02, -1.5422e-02,  9.7494e-03, -2.8058e-02,  9.5900e-03,\n",
      "         1.3885e-03, -6.3557e-03,  5.0786e-02, -2.3065e-02,  5.8385e-03,\n",
      "         2.4165e-02, -6.8676e-03, -6.0573e-02,  9.0519e-03,  1.0564e-02,\n",
      "        -3.6756e-02, -8.7665e-03,  7.7415e-03, -1.5338e-02,  6.1883e-03,\n",
      "         3.8188e-02,  3.0039e-02,  8.0159e-02, -3.4331e-02, -2.3228e-03,\n",
      "         2.6280e-02, -7.0495e-03,  8.8166e-03, -1.5690e-02, -4.2385e-02,\n",
      "         1.0725e-02, -2.0010e-02,  1.3658e-02,  1.3443e-02, -6.8793e-02,\n",
      "         1.8449e-02, -1.0742e-02,  6.6633e-02, -4.3667e-02, -2.0600e-02,\n",
      "         1.7043e-02, -1.8060e-02,  3.4197e-02, -1.9326e-02,  3.1742e-02,\n",
      "         5.2451e-02, -2.7840e-02, -6.0178e-02,  4.0298e-02,  2.0576e-02,\n",
      "        -2.3820e-02,  2.1047e-02,  1.2569e-02, -4.6938e-02, -4.1431e-02,\n",
      "        -4.7138e-02, -3.6631e-02, -3.4443e-02], device='cuda:0',\n",
      "       requires_grad=True)},\n",
      " 9: {'idx': 3036,\n",
      "     'pos': 5,\n",
      "     'sv': tensor([ 6.0687e-02,  1.1063e-03, -3.7927e-02, -3.5815e-02, -4.7523e-02,\n",
      "        -3.2253e-02, -2.0495e-02,  2.1657e-03, -1.6090e-02,  2.4576e-03,\n",
      "         2.6615e-02, -7.0930e-04, -3.4906e-02,  1.8990e-03, -4.0331e-04,\n",
      "        -6.1141e-02, -2.1413e-02,  4.1470e-02, -2.6556e-02, -3.4032e-02,\n",
      "         8.1475e-02,  5.3852e-03,  1.8634e-02,  1.1216e-02,  2.4991e-02,\n",
      "         2.5299e-02,  9.7905e-03, -2.3146e-02,  2.4274e-02, -7.6944e-03,\n",
      "         5.5648e-02, -6.9542e-03, -1.8846e-02,  2.0013e-02,  1.8647e-02,\n",
      "         5.1403e-03,  4.2047e-02, -5.1420e-02, -1.0182e-01,  1.5976e-02,\n",
      "         1.3842e-02, -7.3688e-03,  1.8320e-02,  2.8553e-02,  9.2985e-03,\n",
      "         2.2869e-02,  4.2840e-03,  1.7196e-02,  9.4348e-02,  2.5597e-02,\n",
      "         1.0202e-02, -7.6731e-02,  2.3025e-02,  1.4489e-02, -2.5265e-02,\n",
      "        -4.3052e-02, -6.2235e-02, -1.5777e-02,  1.1399e-02, -6.1402e-02,\n",
      "        -1.4543e-02, -1.2231e-02, -2.7340e-02, -7.0866e-02, -1.0594e-02,\n",
      "         2.4963e-02,  1.6058e-02, -2.8283e-02,  2.4760e-02,  5.0788e-02,\n",
      "        -7.2680e-03,  3.4580e-02,  4.8398e-02, -4.5238e-02, -7.7587e-03,\n",
      "        -5.9564e-02, -2.7217e-02, -4.0880e-03,  4.2580e-02,  3.8209e-02,\n",
      "        -4.1901e-02, -4.3342e-02,  5.4847e-02, -7.3832e-03, -1.8772e-02,\n",
      "         1.9286e-02,  3.3643e-02, -1.1646e-02, -2.5366e-02, -3.2724e-02,\n",
      "        -2.1764e-02, -1.0723e-02, -2.8409e-02,  3.5727e-02, -1.9635e-02,\n",
      "         6.2871e-02,  9.7643e-03, -3.6025e-02,  1.5258e-02, -4.7655e-02,\n",
      "        -3.7936e-03,  2.0379e-02,  1.9124e-02,  4.7649e-03,  2.9613e-02,\n",
      "        -2.9395e-03,  4.3533e-02,  1.4459e-02, -1.3981e-02, -6.8545e-03,\n",
      "        -6.1644e-03,  5.4616e-03, -4.9564e-02, -4.5065e-02, -3.9910e-02,\n",
      "         3.7022e-02,  2.4849e-02,  4.5413e-04,  1.1515e-01, -3.2505e-02,\n",
      "        -5.9813e-02,  4.0216e-02,  2.5714e-02,  2.0713e-02,  3.2472e-02,\n",
      "        -2.0030e-02, -2.2680e-02,  2.1763e-02,  2.7231e-02, -9.8923e-03,\n",
      "        -6.8897e-03,  2.3090e-02,  1.3391e-02,  9.1228e-03,  2.0270e-02,\n",
      "         1.2656e-02, -2.4903e-02,  3.8073e-02, -2.1282e-03, -3.3827e-02,\n",
      "        -6.1628e-02, -5.4656e-02, -1.2405e-03, -6.1434e-03,  1.9782e-02,\n",
      "        -3.4196e-03,  5.3429e-02, -2.7397e-03,  2.1073e-02, -1.8903e-03,\n",
      "        -3.2564e-03,  4.4397e-02, -1.7373e-02, -3.7902e-03,  3.6141e-02,\n",
      "        -6.6270e-02, -2.8594e-02, -3.9674e-03,  4.2711e-03,  4.4821e-02,\n",
      "        -5.2625e-02, -6.4025e-02, -3.8045e-03, -7.5035e-03,  1.8672e-02,\n",
      "        -5.5630e-02, -1.1038e-02,  4.6599e-02, -7.4022e-03,  1.1715e-02,\n",
      "         1.4623e-02,  1.5744e-02,  1.5848e-03,  5.5058e-02, -3.8358e-02,\n",
      "        -3.6331e-02, -4.6148e-03,  2.0441e-02,  3.9051e-02,  2.0791e-02,\n",
      "        -2.8165e-02,  4.2337e-02, -2.7773e-02, -3.0646e-02,  2.2263e-02,\n",
      "         1.8687e-02, -4.2397e-02,  8.3333e-02, -2.0298e-02,  4.6100e-02,\n",
      "         6.0947e-03, -5.0351e-02, -3.1630e-02,  3.2269e-03, -3.5367e-02,\n",
      "        -5.2093e-02, -2.9420e-02, -1.7327e-02, -7.0763e-03,  4.6596e-02,\n",
      "         2.0804e-02,  8.2899e-02,  4.6740e-02, -7.0758e-02, -2.6905e-02,\n",
      "        -3.8924e-02, -3.3624e-03,  4.1954e-02,  1.0823e-02, -3.2644e-02,\n",
      "        -3.1170e-02,  1.4229e-02,  5.6539e-03, -2.7110e-02, -5.2299e-02,\n",
      "         4.3626e-02, -9.0291e-02,  3.9719e-02, -3.1802e-02,  2.8398e-02,\n",
      "         3.9066e-02,  3.7127e-02,  5.2540e-02,  5.1148e-03, -1.4522e-02,\n",
      "        -8.4664e-02, -6.2229e-02, -4.4225e-03,  3.2307e-02,  3.4102e-03,\n",
      "        -3.2253e-03, -2.1851e-02,  1.1472e-03,  3.5039e-03, -1.1408e-02,\n",
      "        -1.2059e-02,  5.5371e-02,  1.9323e-02,  2.0077e-02, -1.4555e-02,\n",
      "         2.0954e-02,  6.3708e-02, -3.3055e-03, -6.9709e-03, -3.6136e-02,\n",
      "         3.2754e-02, -2.5473e-02,  8.9871e-03, -2.1470e-02, -1.7918e-02,\n",
      "        -2.4703e-02,  3.7684e-02, -1.7868e-02, -2.3944e-02,  5.5255e-03,\n",
      "        -6.9487e-02, -1.8730e-02, -1.7204e-02, -1.1547e-02, -2.1003e-02,\n",
      "        -7.2580e-02, -4.8534e-02,  3.9184e-02, -3.7206e-03,  4.2904e-03,\n",
      "        -1.2237e-02,  1.4131e-02,  9.7069e-02, -1.0684e-02,  7.3892e-02,\n",
      "        -6.2441e-04,  7.2916e-02,  8.0731e-02, -2.4269e-02,  1.5716e-02,\n",
      "        -5.6337e-02,  5.5112e-02,  1.9676e-02,  8.0407e-03,  2.0248e-03,\n",
      "         1.9967e-02, -1.3347e-02, -3.0926e-02,  4.4254e-02, -7.6553e-03,\n",
      "         3.2300e-02, -6.1645e-03,  2.0838e-02,  6.9476e-02, -6.0088e-02,\n",
      "         4.7732e-02, -3.5439e-02, -5.6470e-02,  1.3469e-02, -2.9520e-02,\n",
      "        -2.9139e-02,  4.8959e-03,  4.5191e-03, -3.3336e-02, -4.4723e-02,\n",
      "        -8.8472e-03,  2.5954e-02,  2.4995e-02, -3.6028e-02,  5.5065e-02,\n",
      "         1.4310e-02,  7.9597e-03, -1.2517e-02,  6.5017e-03,  4.0524e-02,\n",
      "        -4.0650e-02, -6.2395e-03,  1.1892e-02, -7.6637e-02, -2.9875e-02,\n",
      "         9.6020e-03,  5.9049e-04, -2.6350e-02,  3.9219e-02,  2.6433e-02,\n",
      "        -3.7174e-02,  4.4918e-02, -4.6945e-02, -1.1762e-02,  5.3400e-02,\n",
      "         5.7870e-02,  2.7274e-02, -3.3419e-02, -4.1722e-02,  6.7815e-02,\n",
      "         3.8585e-02,  1.1730e-02,  4.5784e-02, -2.0161e-02,  1.7697e-02,\n",
      "        -1.5246e-02, -3.3788e-02,  3.5689e-03, -1.0244e-02,  1.1819e-02,\n",
      "        -2.7335e-02,  4.7101e-02, -4.6123e-03, -4.5557e-02, -9.9653e-03,\n",
      "        -1.1342e-02, -6.0256e-02, -3.5648e-02, -3.4495e-02,  3.9495e-02,\n",
      "         6.6840e-03,  3.2716e-02, -8.8527e-03, -1.0572e-02,  1.7916e-02,\n",
      "        -1.3979e-02, -2.0218e-03,  2.8562e-02, -2.1049e-02,  1.6727e-02,\n",
      "         7.5289e-02,  5.1609e-02,  3.1642e-02,  3.2129e-02,  8.5694e-03,\n",
      "        -7.2517e-02, -1.4898e-02,  2.5565e-03, -9.3487e-03, -2.3643e-02,\n",
      "         1.6079e-02, -1.9882e-02,  1.2658e-02,  1.6466e-02, -1.8871e-02,\n",
      "         2.2044e-02,  1.0390e-02, -2.7231e-02, -9.0929e-03, -1.2465e-02,\n",
      "         2.5870e-02, -2.5066e-02, -1.3847e-02, -6.5063e-02,  6.8704e-02,\n",
      "         1.0122e-02, -7.4966e-02, -6.7679e-02, -6.3857e-03,  1.5533e-02,\n",
      "         1.6620e-03,  4.0201e-02,  6.7735e-02, -5.3627e-02,  3.1919e-02,\n",
      "         5.2250e-02,  5.8123e-04,  1.4861e-02,  3.2476e-02,  2.0935e-02,\n",
      "         1.8250e-02,  1.3798e-02, -2.7469e-02, -1.5758e-02,  2.7384e-03,\n",
      "         8.8417e-02, -4.8536e-02,  8.4008e-03,  2.9261e-02, -2.8788e-02,\n",
      "        -5.6876e-03, -4.7498e-02, -3.6861e-02,  3.2173e-02,  4.6049e-02,\n",
      "         6.4062e-03, -3.7885e-02,  3.3677e-02,  6.0890e-02,  7.1411e-03,\n",
      "        -3.9158e-02,  1.3985e-02,  1.8068e-02,  4.2564e-02,  3.3775e-02,\n",
      "        -2.9018e-02, -4.2391e-02,  3.5928e-03,  1.7413e-02, -7.0047e-03,\n",
      "         2.5519e-02, -4.6274e-02,  3.6313e-03,  4.1869e-02,  5.5360e-02,\n",
      "        -2.8688e-02, -6.5535e-02, -6.2120e-02,  1.2570e-02, -2.1684e-02,\n",
      "        -5.9879e-02, -1.0540e-02,  2.5072e-03,  4.2135e-03, -5.8522e-02,\n",
      "         2.1293e-02, -1.7012e-03,  1.7781e-01, -1.4814e-02, -2.8523e-03,\n",
      "         3.6006e-02,  3.8945e-02,  8.2305e-03,  4.2773e-02,  5.2488e-02,\n",
      "        -7.4613e-02,  3.1992e-02,  2.7825e-02, -2.5676e-02, -2.0904e-03,\n",
      "        -9.4121e-04,  1.1966e-02,  3.0155e-02, -4.7153e-02,  5.8599e-02,\n",
      "         5.1372e-03,  1.8037e-03,  2.1192e-02,  3.5166e-02, -3.6287e-02,\n",
      "        -1.1644e-02,  6.6832e-03, -1.5325e-02, -3.9673e-02, -9.0183e-03,\n",
      "         1.7410e-02,  7.3586e-02,  1.5966e-02, -2.4619e-02, -6.1720e-03,\n",
      "         1.2355e-02,  8.1529e-02, -3.2322e-02, -1.5081e-02,  1.8847e-02,\n",
      "        -6.0739e-02, -1.3295e-02, -8.4706e-03, -6.0709e-02, -4.4555e-02,\n",
      "         4.3309e-02,  3.5048e-04, -1.1634e-02,  4.5047e-02,  1.6883e-02,\n",
      "         7.1758e-03,  6.9685e-02, -9.8228e-03, -1.6175e-02, -4.3723e-02,\n",
      "         6.8471e-02, -5.0397e-02, -3.1273e-02, -3.4568e-02,  2.0871e-03,\n",
      "         3.8522e-02,  2.1612e-03, -1.1350e-02, -1.5002e-02, -1.3797e-02,\n",
      "        -3.1605e-02, -2.2376e-02, -2.2139e-02,  1.2212e-03,  4.2567e-02,\n",
      "         7.2986e-02, -8.8103e-02, -6.2198e-03, -1.5090e-02,  2.0051e-02,\n",
      "         2.3983e-02,  3.7357e-02,  7.8545e-02, -2.5403e-03,  2.2729e-02,\n",
      "        -1.0866e-02, -2.4396e-02,  2.3636e-02, -2.2721e-02, -6.7175e-03,\n",
      "        -1.7126e-02, -6.3089e-02, -3.9827e-02,  3.0412e-02,  4.1379e-03,\n",
      "        -8.1132e-02,  2.4866e-02,  4.2716e-02,  8.3938e-02, -4.3116e-02,\n",
      "         1.0206e-02,  2.7951e-02, -1.2599e-02, -5.0658e-02, -9.5165e-03,\n",
      "        -1.3641e-02,  3.2813e-02, -4.1449e-02,  6.4698e-02,  2.7325e-02,\n",
      "         1.0192e-02,  2.5632e-03, -1.4634e-02, -1.1829e-02, -8.2149e-02,\n",
      "        -6.4719e-03,  1.2869e-02, -3.2878e-02, -6.8928e-03, -1.2949e-03,\n",
      "        -1.8743e-02,  2.3737e-03, -5.7416e-03,  7.4802e-02, -1.8503e-02,\n",
      "        -2.0255e-02,  2.2143e-02, -2.8663e-02, -2.7654e-02, -8.4712e-02,\n",
      "         2.5527e-03, -2.4588e-02, -5.2522e-02, -6.4848e-03,  2.2563e-02,\n",
      "         8.1341e-03, -1.2683e-02, -9.6957e-03,  3.7778e-02,  2.1432e-02,\n",
      "        -4.1273e-02,  3.0681e-02, -2.2559e-02, -5.4974e-03,  4.5009e-02,\n",
      "        -2.7264e-02,  4.1775e-03,  2.4942e-02, -4.0825e-03,  1.4146e-05,\n",
      "        -1.0480e-01,  2.0673e-02, -4.2240e-02,  2.0559e-02, -2.5826e-02,\n",
      "        -5.4640e-02,  5.4978e-02, -4.2017e-02, -6.0433e-02, -2.5551e-02,\n",
      "        -4.3579e-02, -2.2473e-03, -2.0314e-02,  4.0946e-02, -4.4002e-02,\n",
      "        -2.4520e-02,  2.8790e-03,  1.8172e-02, -7.8593e-02, -1.4323e-02,\n",
      "         2.6918e-02,  1.0270e-01,  7.7953e-02,  2.4323e-02,  1.4146e-02,\n",
      "         1.8984e-02,  1.6419e-02, -5.9591e-03, -1.6969e-02, -2.8506e-02,\n",
      "         8.1637e-03, -1.0681e-02,  1.7341e-03, -6.6219e-02,  2.9060e-02,\n",
      "         3.4866e-03, -3.3846e-02, -8.4538e-03, -1.9052e-02, -2.8125e-02,\n",
      "         2.8778e-02, -4.7682e-03, -2.7865e-02, -1.9535e-02,  1.9927e-02,\n",
      "         1.3259e-02,  1.4057e-02,  3.2467e-02, -1.8735e-03, -1.5839e-02,\n",
      "        -2.3534e-02,  1.3038e-02,  3.4570e-02,  6.3650e-02, -4.1233e-02,\n",
      "         1.5920e-02, -7.8499e-03, -3.5940e-02,  5.0105e-04,  8.2683e-03,\n",
      "        -2.1844e-02, -2.6361e-02,  2.2244e-02, -3.1649e-02,  6.4108e-02,\n",
      "        -6.2503e-02, -4.6531e-02, -2.2385e-02, -4.3415e-02,  5.6584e-02,\n",
      "         1.9488e-02,  6.5546e-02, -4.3343e-03, -3.1504e-02,  4.5047e-02,\n",
      "        -3.1347e-02,  1.5547e-02,  6.2621e-02,  3.9045e-02, -3.4294e-02,\n",
      "        -1.2075e-02,  2.8343e-02,  1.0001e-02, -6.7032e-02, -1.4351e-02,\n",
      "        -1.7558e-02, -4.7793e-02,  4.2749e-02, -5.9842e-03,  6.3545e-03,\n",
      "         2.4476e-02,  7.7517e-02, -5.1499e-02, -3.2991e-02, -2.8226e-02,\n",
      "        -4.0863e-02,  6.0031e-03, -5.6818e-02, -2.4985e-02,  5.3984e-02,\n",
      "        -2.5824e-02,  5.4494e-02,  1.7185e-02,  1.5510e-02, -3.4663e-03,\n",
      "         7.4019e-03, -3.2196e-03, -6.5327e-02, -4.9836e-03,  2.1899e-02,\n",
      "        -1.2250e-02,  7.9413e-02, -5.4509e-02,  3.2132e-02, -2.3749e-02,\n",
      "        -1.4667e-02,  4.4969e-02, -2.2874e-02, -1.6656e-02, -1.4233e-02,\n",
      "        -2.4105e-02, -2.0088e-02, -1.2950e-03, -4.1482e-02,  2.8232e-02,\n",
      "        -1.8692e-03, -1.8855e-02,  5.7057e-02, -2.5548e-02, -1.8827e-02,\n",
      "         7.7146e-03,  2.9300e-03, -5.1492e-02, -2.2183e-03, -3.6056e-02,\n",
      "        -5.4893e-02,  3.3069e-02,  1.0340e-02,  3.5549e-03, -7.3033e-03,\n",
      "         1.9127e-02,  5.2433e-02,  3.1516e-02, -2.2128e-02,  3.8905e-03,\n",
      "         3.5787e-02,  1.6242e-02,  5.0844e-02, -2.3680e-03, -1.9406e-02,\n",
      "         1.1291e-02,  4.2319e-03,  9.3035e-03,  1.8533e-02, -5.8074e-02,\n",
      "        -6.1479e-03, -3.3920e-02,  5.0311e-02, -6.2993e-02,  2.6540e-03,\n",
      "         2.6922e-02,  1.8678e-02,  2.7983e-02, -3.1602e-02,  2.6323e-02,\n",
      "         6.3595e-02, -2.8546e-02, -6.7491e-02,  3.7649e-02,  4.4530e-02,\n",
      "        -4.6834e-02,  2.5628e-03,  1.7496e-02, -4.4196e-02, -3.7222e-02,\n",
      "        -4.1642e-02, -2.8193e-02, -5.4961e-02], device='cuda:0',\n",
      "       requires_grad=True)},\n",
      " 10: {'idx': 10541,\n",
      "      'pos': 5,\n",
      "      'sv': tensor([ 3.5618e-02,  1.9722e-03, -1.4278e-02, -4.6701e-02, -6.0913e-02,\n",
      "        -4.6876e-02, -1.5008e-02,  1.9601e-02, -1.3334e-02,  3.4685e-03,\n",
      "         2.4123e-02,  1.0824e-03, -2.9810e-02,  2.7736e-02,  2.3732e-02,\n",
      "        -7.7856e-02, -1.0986e-02,  3.0778e-02, -2.5370e-02, -2.3003e-02,\n",
      "         9.0795e-02,  1.7161e-02,  2.1490e-02,  2.3181e-02,  4.5308e-02,\n",
      "         1.6828e-03, -2.7650e-02, -3.7695e-03,  3.0891e-02, -1.2297e-02,\n",
      "         5.2085e-02,  1.2731e-03, -3.0272e-02,  1.8196e-02,  1.1221e-02,\n",
      "         2.5928e-02,  4.3578e-02, -4.6812e-02, -7.5905e-02,  1.4081e-02,\n",
      "        -1.3297e-03, -1.7330e-02,  2.0406e-02,  1.5873e-02, -4.1077e-04,\n",
      "         5.7190e-03,  2.1087e-03,  4.8339e-02,  8.8499e-02,  3.2665e-02,\n",
      "        -1.7034e-02, -6.4873e-02,  4.0085e-03,  1.6021e-02,  3.0477e-03,\n",
      "        -5.3663e-02, -7.7566e-02,  1.4216e-02,  1.0254e-02, -3.3355e-02,\n",
      "        -9.8765e-03, -2.1519e-02, -3.3908e-02, -4.8205e-02, -1.4296e-02,\n",
      "         3.3621e-02,  1.5606e-02, -1.7944e-02,  2.2104e-02,  6.4225e-02,\n",
      "        -7.6133e-03,  2.1761e-02,  3.7951e-02, -2.8974e-02,  1.8337e-04,\n",
      "        -7.0345e-02,  9.4452e-03,  3.5116e-03,  2.9431e-02,  1.6657e-02,\n",
      "        -4.0113e-02, -4.3373e-02,  3.3852e-02, -6.7215e-03,  7.2660e-03,\n",
      "         2.3546e-02,  2.0482e-02, -1.7593e-02, -3.6181e-02, -1.4947e-02,\n",
      "        -2.1967e-02, -2.5691e-02, -2.8468e-02,  3.8878e-02, -1.5210e-02,\n",
      "         5.1085e-02,  2.3149e-02, -5.3146e-02,  6.1859e-03, -4.4252e-02,\n",
      "        -9.3975e-03, -1.0966e-02,  9.7732e-03,  2.6616e-02,  1.6267e-02,\n",
      "        -1.9421e-02,  5.1171e-02,  1.9737e-03, -3.4203e-02, -8.8868e-03,\n",
      "        -2.3765e-02,  2.7147e-03, -3.2555e-02, -3.7953e-02, -4.6948e-02,\n",
      "         3.1676e-02,  2.4963e-02, -1.7845e-02,  1.1179e-01, -3.2583e-02,\n",
      "        -5.3267e-02,  3.2739e-02,  1.4370e-03, -6.5056e-04,  3.5578e-02,\n",
      "        -2.5038e-02, -2.6103e-02,  8.4316e-03,  1.3878e-02, -2.0544e-02,\n",
      "         2.3049e-02,  2.6342e-02,  1.4750e-02, -4.7127e-04,  1.2780e-02,\n",
      "         6.4425e-03, -2.8830e-02, -3.2801e-03, -5.7795e-03, -3.3846e-02,\n",
      "        -7.7631e-02, -7.8747e-02, -4.0175e-03, -6.1440e-03,  5.7341e-03,\n",
      "         2.8864e-02,  5.8360e-02, -1.0106e-02,  2.6644e-02, -9.9227e-03,\n",
      "        -4.4205e-03,  3.8250e-02, -1.3853e-02, -2.4457e-02,  3.2278e-02,\n",
      "        -6.4781e-02, -2.6818e-02,  3.9806e-03, -1.4388e-03,  4.0745e-02,\n",
      "        -4.2707e-02, -8.5442e-02, -4.4625e-03, -1.0240e-02,  2.2546e-02,\n",
      "        -2.8455e-02, -4.1205e-03,  5.5352e-02, -2.0738e-03,  1.6688e-02,\n",
      "         4.0533e-02,  4.7025e-03, -1.1726e-02,  7.0483e-02, -1.6727e-02,\n",
      "        -2.0386e-02, -8.4908e-03,  3.5190e-02,  3.6413e-02,  2.0907e-02,\n",
      "        -3.7307e-02,  3.4582e-02, -1.8853e-02, -4.0624e-02, -3.6386e-03,\n",
      "         3.5546e-02, -2.5211e-02,  7.3658e-02, -1.6449e-02,  6.4050e-02,\n",
      "         1.3700e-02, -5.1081e-02, -2.6543e-02,  3.0047e-02, -4.5139e-02,\n",
      "        -5.0363e-02, -1.2198e-02, -2.8451e-02, -1.3173e-02,  7.7338e-02,\n",
      "         1.9969e-02,  6.4520e-02,  4.0484e-02, -5.9226e-02, -8.3008e-03,\n",
      "        -5.7870e-02,  1.5462e-02,  5.1246e-02,  1.4174e-02, -2.6007e-02,\n",
      "        -1.2143e-03,  1.5918e-02, -2.9366e-02, -2.2661e-02, -5.3239e-02,\n",
      "         5.5103e-02, -8.4640e-02,  3.3659e-03, -4.3004e-02,  4.6153e-02,\n",
      "         1.7760e-02,  4.7773e-02,  4.2278e-02,  2.5986e-03,  2.1895e-03,\n",
      "        -8.5837e-02, -7.8302e-02,  9.4414e-03,  1.6288e-02,  2.4354e-02,\n",
      "         2.6686e-04, -2.2189e-02, -2.3697e-02,  9.5276e-03, -1.5536e-02,\n",
      "        -1.7835e-02,  4.6505e-02,  2.2505e-02,  2.7411e-02, -6.3108e-03,\n",
      "         1.3682e-02,  6.0274e-02,  1.5968e-02, -1.8370e-03, -4.2807e-02,\n",
      "         9.7991e-03, -2.1987e-02,  7.6326e-03, -1.6296e-03, -5.2983e-02,\n",
      "        -1.0941e-02,  3.0416e-02, -8.1529e-03, -2.4403e-02,  4.2275e-04,\n",
      "        -8.3450e-02, -1.0424e-02, -6.6293e-03, -3.2557e-02, -1.2657e-02,\n",
      "        -5.8449e-02, -3.2932e-02,  2.1593e-02,  1.7755e-02, -2.0366e-02,\n",
      "         3.0416e-03,  1.3489e-02,  9.0397e-02, -1.9265e-02,  6.3125e-02,\n",
      "         7.5939e-03,  6.5050e-02,  5.2280e-02, -2.5663e-02,  2.3247e-02,\n",
      "        -5.1681e-02,  3.5486e-03,  1.7415e-02, -1.1711e-02,  1.6614e-02,\n",
      "         2.4161e-02, -9.8009e-03, -3.6876e-02,  3.0677e-02,  6.4147e-04,\n",
      "         6.2168e-02, -1.2852e-02,  4.5555e-02,  8.8418e-02, -3.9451e-02,\n",
      "         2.9608e-02, -2.3209e-02, -5.8704e-02, -1.9378e-03, -4.1836e-03,\n",
      "        -4.2261e-02, -4.7094e-03,  1.1577e-03, -5.9202e-02, -9.3692e-03,\n",
      "        -4.8640e-03,  1.3793e-02,  2.8427e-02, -2.1022e-02,  6.1782e-02,\n",
      "         1.9664e-02,  3.6374e-03, -8.0095e-03,  1.2923e-02,  1.7079e-02,\n",
      "        -4.8387e-02, -1.4874e-02,  1.4929e-02, -8.1576e-02, -5.0016e-02,\n",
      "         1.3756e-02,  1.9015e-02, -1.5750e-03,  3.7377e-02,  8.8542e-03,\n",
      "         1.0963e-03,  2.2614e-02, -5.2121e-02,  6.8356e-03,  5.3097e-02,\n",
      "         3.4284e-02,  2.6038e-02, -3.9024e-02, -4.3415e-02,  3.3642e-02,\n",
      "         3.7914e-02,  6.7559e-03,  2.7432e-02,  1.8737e-03,  1.8642e-02,\n",
      "        -1.9052e-03, -3.9860e-02, -1.5709e-02, -1.7090e-02,  4.0405e-03,\n",
      "        -4.8253e-02,  3.3774e-02,  1.2000e-02, -2.4722e-02, -6.9798e-03,\n",
      "        -6.7379e-03, -6.9382e-02, -3.5319e-02, -4.9025e-02,  3.3379e-02,\n",
      "         1.3109e-02,  1.4199e-02, -1.5718e-02,  1.6729e-02,  2.1235e-02,\n",
      "        -2.4796e-02,  2.0828e-02,  1.3417e-02, -6.9259e-03,  4.3127e-02,\n",
      "         9.0417e-02,  9.7838e-03,  3.5552e-02,  3.3199e-02,  5.3067e-03,\n",
      "        -6.9423e-02, -1.1153e-02,  1.8549e-02, -2.3119e-02, -1.0241e-02,\n",
      "        -1.1254e-02, -3.0361e-02,  1.2949e-02,  9.4014e-03, -2.2745e-02,\n",
      "         5.1472e-02, -1.3195e-02, -1.3390e-02,  7.4036e-03, -2.7050e-02,\n",
      "         1.4347e-02, -7.0028e-03, -1.5409e-02, -5.2745e-02,  8.3039e-02,\n",
      "         1.4672e-02, -6.9280e-02, -6.4568e-02, -6.4145e-04, -1.6462e-03,\n",
      "        -4.7604e-05,  4.7969e-02,  3.3129e-02, -7.4614e-02,  5.0283e-02,\n",
      "         6.0857e-02,  1.3060e-02, -6.4172e-03,  4.9290e-03,  4.0029e-02,\n",
      "         2.4320e-02,  5.8896e-04, -1.0604e-02, -2.2271e-02, -2.1935e-02,\n",
      "         7.1102e-02, -5.2832e-02, -2.0644e-03, -4.0452e-03, -6.4505e-03,\n",
      "        -1.1985e-02, -3.6662e-02, -4.2128e-02,  1.3369e-02,  5.2258e-02,\n",
      "         8.4354e-03, -2.9392e-02,  2.6418e-03,  6.5254e-02, -9.2936e-03,\n",
      "        -5.0762e-02, -8.6654e-03,  3.3743e-02,  3.6952e-02,  5.3483e-02,\n",
      "        -7.1743e-03, -3.2772e-02,  4.5766e-03,  3.2853e-02, -7.2171e-03,\n",
      "         4.7962e-02, -6.4270e-02, -5.3327e-04,  4.5363e-02,  6.2390e-02,\n",
      "        -3.5298e-02, -5.7523e-02, -4.4471e-02,  1.3677e-03, -3.3019e-02,\n",
      "        -7.8305e-02,  9.0948e-03,  2.0190e-02,  1.0230e-02, -4.3877e-02,\n",
      "         2.1315e-02, -3.1676e-02,  1.9110e-01, -2.2389e-02, -2.2451e-02,\n",
      "         5.4349e-02,  4.1738e-02,  4.2441e-02,  4.7786e-02,  1.6713e-02,\n",
      "        -5.0525e-02,  3.8709e-02,  1.1216e-02, -2.9670e-02, -2.1127e-03,\n",
      "        -2.3575e-02,  1.7685e-02,  3.5628e-02, -3.7556e-02,  3.1480e-02,\n",
      "         6.7189e-03, -1.4395e-03, -2.8384e-03, -6.2290e-04, -4.7351e-02,\n",
      "        -2.8208e-02,  2.5823e-03, -7.7248e-03, -2.6926e-02, -1.5193e-02,\n",
      "        -4.5503e-03,  7.1328e-02,  7.2298e-03, -5.1401e-02, -2.2600e-03,\n",
      "         2.8325e-02,  8.4115e-02, -2.2994e-02, -2.8136e-02,  1.0022e-02,\n",
      "        -5.6649e-02, -1.1839e-02, -1.2029e-02, -3.3360e-02, -3.8584e-02,\n",
      "         3.2247e-02, -1.7005e-03, -1.7724e-02,  5.1913e-02,  2.1132e-05,\n",
      "         1.4461e-02,  8.0350e-02, -2.9813e-02,  5.0141e-03, -4.2774e-02,\n",
      "         7.6762e-02, -3.5037e-02, -2.9271e-02, -3.5151e-02, -3.2736e-02,\n",
      "         3.7233e-02,  1.8469e-02, -1.0871e-02,  1.5517e-02,  3.4514e-03,\n",
      "        -1.4793e-02, -1.0883e-02, -2.3007e-02, -1.4704e-02,  4.7219e-02,\n",
      "         7.5538e-02, -8.1405e-02, -2.6915e-02, -2.2578e-02, -7.1497e-03,\n",
      "         1.9921e-02,  2.0555e-02,  6.0166e-02, -1.8574e-03,  7.9807e-03,\n",
      "        -1.9052e-02, -1.5951e-02,  4.3542e-03, -3.8780e-03, -9.4911e-03,\n",
      "        -2.3863e-02, -5.9437e-02, -4.3279e-02,  2.6076e-02, -4.5449e-03,\n",
      "        -1.0996e-01,  1.7075e-02,  4.9331e-02,  8.4919e-02, -5.2206e-02,\n",
      "         1.8995e-03,  3.4732e-02,  6.4034e-03, -6.0799e-02, -5.4611e-02,\n",
      "         1.0990e-02,  5.4766e-02, -4.5428e-02,  9.1258e-02,  7.7144e-03,\n",
      "         1.2009e-02, -1.5597e-03, -1.4728e-03, -1.6033e-02, -8.1962e-02,\n",
      "        -1.9387e-02,  2.5290e-02, -4.9971e-02, -2.8352e-02, -1.8284e-02,\n",
      "         2.1020e-03, -1.4081e-02, -2.4106e-02,  5.9549e-02, -1.5975e-02,\n",
      "        -2.0918e-02,  1.8087e-02, -5.5506e-03, -4.0098e-02, -5.2882e-02,\n",
      "        -1.1758e-02, -2.8658e-02, -3.0026e-02, -2.0674e-03,  2.1777e-02,\n",
      "         1.3567e-02, -4.1937e-03, -1.0495e-02,  3.5270e-02,  3.9608e-02,\n",
      "        -5.2684e-02,  5.6419e-02, -7.8536e-03, -9.7400e-03,  3.7326e-02,\n",
      "        -1.9147e-02, -4.6496e-03,  3.6019e-02,  1.9286e-04, -2.0661e-02,\n",
      "        -1.0624e-01,  3.7863e-02, -2.3435e-02,  2.4667e-02, -6.3388e-02,\n",
      "        -4.8749e-02,  5.3598e-02, -4.3298e-02, -5.3793e-02, -2.4277e-02,\n",
      "        -3.2941e-02, -8.9429e-03, -2.0626e-02,  2.0899e-02, -4.5177e-02,\n",
      "        -4.5444e-02,  1.4224e-02,  1.8389e-03, -7.3116e-02, -1.1193e-02,\n",
      "         5.4547e-02,  9.8381e-02,  5.1311e-02,  2.7220e-02,  5.9395e-03,\n",
      "         1.8320e-02,  2.5425e-02,  1.6624e-02, -4.0435e-02, -3.8595e-02,\n",
      "        -1.0422e-02, -2.1140e-02, -2.3013e-02, -5.3690e-02,  2.9239e-02,\n",
      "        -3.9934e-03, -2.0969e-02, -2.2565e-02, -2.6349e-02, -4.0165e-02,\n",
      "         6.9591e-03,  1.5391e-02, -6.7799e-03, -3.4657e-02,  2.8336e-02,\n",
      "         1.8993e-02,  6.6251e-03,  1.7705e-02,  2.0781e-02, -6.1480e-03,\n",
      "        -3.8890e-02,  1.0316e-02,  8.0627e-02,  3.7855e-02, -2.7775e-02,\n",
      "         4.7792e-03, -1.1926e-02, -4.5247e-02, -8.3981e-03, -2.4660e-03,\n",
      "        -1.6328e-02, -1.6830e-02,  1.5499e-02, -3.2698e-02,  3.0953e-02,\n",
      "        -7.8149e-02, -2.0399e-02, -2.3577e-02, -2.8609e-02,  4.1496e-02,\n",
      "         5.5958e-02,  7.5009e-02,  6.5722e-03, -4.9072e-02,  5.6335e-02,\n",
      "        -2.4524e-02,  1.7553e-02,  5.1201e-02,  3.8006e-02, -3.4669e-02,\n",
      "        -2.3591e-02,  1.5088e-02,  2.6224e-02, -3.5837e-02,  3.4629e-03,\n",
      "        -9.8844e-03, -3.9564e-02,  4.9385e-02, -3.3056e-03,  7.7812e-04,\n",
      "         3.8525e-02,  7.1632e-02, -3.7160e-02, -3.6816e-02, -3.8651e-02,\n",
      "        -2.0769e-02,  2.4993e-03, -4.9623e-02, -3.2150e-02,  7.0430e-02,\n",
      "        -1.9051e-02,  4.0161e-02,  2.8134e-02,  5.8392e-03,  7.7095e-03,\n",
      "        -9.4007e-03,  2.2804e-02, -7.4973e-02, -1.2033e-02,  1.6441e-02,\n",
      "        -2.2287e-02,  7.5111e-02, -5.9249e-02,  2.6481e-02, -1.4467e-02,\n",
      "        -2.7843e-02,  2.6091e-02, -1.2239e-02, -1.2737e-02, -2.1593e-03,\n",
      "        -3.3133e-02, -2.8151e-02,  1.6230e-02, -5.9827e-02,  1.7851e-02,\n",
      "         8.6409e-03, -1.2223e-02,  7.3101e-02, -8.5056e-03, -2.0069e-02,\n",
      "         6.9737e-03, -3.4138e-03, -3.6358e-02,  2.8302e-02, -6.2021e-03,\n",
      "        -2.5993e-02,  1.4481e-02,  5.8844e-03,  8.3151e-03,  7.5316e-03,\n",
      "         2.2278e-02,  5.6048e-02,  3.8389e-02,  5.8229e-03,  1.2323e-02,\n",
      "         3.3262e-02,  1.4061e-02,  4.3265e-02,  4.8102e-03, -4.5312e-02,\n",
      "        -2.4044e-02,  9.2012e-03,  1.6451e-02,  1.7471e-02, -2.5687e-02,\n",
      "        -3.6790e-02, -3.5759e-02,  5.4491e-02, -4.9474e-02, -5.4815e-03,\n",
      "         1.7262e-02,  1.6523e-02,  2.8600e-02, -3.0268e-02,  4.6016e-02,\n",
      "         4.0542e-02, -2.1680e-02, -5.5900e-02,  4.0392e-02,  3.4080e-02,\n",
      "        -5.3046e-02, -6.5052e-03,  8.6802e-03, -5.6419e-02, -1.7741e-02,\n",
      "        -5.3660e-02, -3.4169e-02, -5.3508e-02], device='cuda:0',\n",
      "       requires_grad=True)}}\n"
     ]
    }
   ],
   "source": [
    "steering_vectors_positions_by_layer = {}\n",
    "for layer, acts_filt_at_layer in acts_filtered.items():\n",
    "    if len(acts_filt_at_layer[\"idx\"]) == 0:\n",
    "        continue\n",
    "\n",
    "    position = saes_out[layer].shape[1] - 1\n",
    "    idx = acts_filt_at_layer[\"idx\"][0]\n",
    "    steering_vector = saes[layer].W_dec[idx]\n",
    "\n",
    "    steering_vectors_positions_by_layer[layer] = {\n",
    "        \"idx\": idx,\n",
    "        \"pos\": position,\n",
    "        \"sv\": steering_vector,\n",
    "    }\n",
    "\n",
    "prompt = \"The White House is located in a country called\"\n",
    "coeff = 100\n",
    "\n",
    "sampling_kwargs = {\"temperature\": 1.0, \"top_p\": 0.1, \"freq_penalty\": 1.0}\n",
    "\n",
    "res = generate_multi_layer(\n",
    "    prompt=prompt,\n",
    "    model=gpt2_small,\n",
    "    steering_vectors_positions_by_layer=steering_vectors_positions_by_layer,\n",
    "    steering_on=True,\n",
    "    coeff=coeff,\n",
    "    sampling_kwargs=sampling_kwargs,\n",
    ")\n",
    "\n",
    "print_res_str(res, gpt2_small)\n",
    "print_res_str_tokens(res, gpt2_small)\n",
    "pprint(steering_vectors_positions_by_layer)"
   ]
  },
  {
   "cell_type": "markdown",
   "metadata": {},
   "source": [
    "## Generate Landmark/country pairs and check unsteered model accuracy"
   ]
  },
  {
   "cell_type": "code",
   "execution_count": 20,
   "metadata": {},
   "outputs": [],
   "source": [
    "def test_steering_of_landmark_location_in_model(\n",
    "    landmark_country_pairs,\n",
    "    model,\n",
    "    steering_on,\n",
    "    steering_vectors_positions_by_layer,\n",
    "    steered_answer,\n",
    "    coeff,\n",
    "    quiet=False,\n",
    "):\n",
    "    # country_max_length = max(len(country) for _, country in landmark_country_pairs)\n",
    "\n",
    "    correct_counts = []\n",
    "    steering_counts = []\n",
    "\n",
    "    for i, (landmark, country) in enumerate(tqdm(landmark_country_pairs)):\n",
    "        # if country != \"Russia\":\n",
    "        #     continue\n",
    "        prompt = f\"{landmark} is located in a country called\"\n",
    "        res = generate_multi_layer(\n",
    "            prompt=prompt,\n",
    "            model=model,\n",
    "            steering_vectors_positions_by_layer=steering_vectors_positions_by_layer,\n",
    "            steering_on=steering_on,\n",
    "            coeff=coeff,\n",
    "            num_responses=100,\n",
    "            sampling_kwargs=sampling_kwargs,\n",
    "            max_new_tokens=10,\n",
    "        )\n",
    "        res_strs = gpt2_small.to_string(res[:, 1:])\n",
    "\n",
    "        correct_count = 0\n",
    "        steering_count = 0\n",
    "        for res_str in res_strs:\n",
    "            check_str = res_str[len(prompt) :].upper()\n",
    "            if country.upper() in check_str:\n",
    "                correct_count += 1\n",
    "            if steered_answer.upper() in check_str:\n",
    "                steering_count += 1\n",
    "\n",
    "        correct_counts.append(correct_count)\n",
    "        steering_counts.append(steering_count)\n",
    "\n",
    "        if not quiet:\n",
    "            print(\n",
    "                f\"{'STEERED' if steering_on else 'UNSTEERED'} test for landmark '{landmark}'\"\n",
    "            )\n",
    "            print(f\"Correct Answer: '{country}'\\tSteered Answer: 'Australia'\")\n",
    "            print(f\"\\tNumber of correct responses: {correct_count}\")\n",
    "            print(f\"\\tNumber of steered responses: {steering_count}\")\n",
    "\n",
    "    return correct_counts, steering_counts\n",
    "\n",
    "\n",
    "# fmt: off\n",
    "landmark_country_pairs = [\n",
    "    [\"The Eiffel Tower\"         , \"France\"],\n",
    "    [\"The Taj Mahal\"            , \"Tajikistan\"], # Actually, India I think, but model baseline is this\n",
    "    [\"The Statue of Liberty\"    , \"The United States of America\"],\n",
    "    [\"The Colosseum\"            , \"Italy\"],\n",
    "    [\"The Great Pyramid of Giza\", \"Egypt\"],\n",
    "    [\"The Stonehenge\"           , \"The United Kingdom\"], # Gives better results than England\n",
    "    [\"Petra\"                    , \"Jordan\"],\n",
    "    [\"Macchu Picchu\"            , \"Peru\"],\n",
    "    [\"Burj Khalifa\"             , \"Qatar\"], # Actually The United Arab Emirates\n",
    "    [\"The Kremlin\"              , \"Russia\"],\n",
    "]\n",
    "# fmt: on"
   ]
  },
  {
   "cell_type": "markdown",
   "metadata": {},
   "source": [
    "## Unsteered results:"
   ]
  },
  {
   "cell_type": "code",
   "execution_count": 21,
   "metadata": {},
   "outputs": [
    {
     "name": "stderr",
     "output_type": "stream",
     "text": [
      "  0%|          | 0/10 [00:00<?, ?it/s]"
     ]
    },
    {
     "data": {
      "application/vnd.jupyter.widget-view+json": {
       "model_id": "5bb6f19669b54ed0bd212aef015ed511",
       "version_major": 2,
       "version_minor": 0
      },
      "text/plain": [
       "  0%|          | 0/10 [00:00<?, ?it/s]"
      ]
     },
     "metadata": {},
     "output_type": "display_data"
    },
    {
     "name": "stderr",
     "output_type": "stream",
     "text": [
      " 10%|█         | 1/10 [00:01<00:09,  1.02s/it]"
     ]
    },
    {
     "data": {
      "application/vnd.jupyter.widget-view+json": {
       "model_id": "425ed2becee5469883d406c7f19a8166",
       "version_major": 2,
       "version_minor": 0
      },
      "text/plain": [
       "  0%|          | 0/10 [00:00<?, ?it/s]"
      ]
     },
     "metadata": {},
     "output_type": "display_data"
    },
    {
     "name": "stderr",
     "output_type": "stream",
     "text": [
      " 20%|██        | 2/10 [00:01<00:06,  1.25it/s]"
     ]
    },
    {
     "data": {
      "application/vnd.jupyter.widget-view+json": {
       "model_id": "0695318827b44c88a23a7c881dedec85",
       "version_major": 2,
       "version_minor": 0
      },
      "text/plain": [
       "  0%|          | 0/10 [00:00<?, ?it/s]"
      ]
     },
     "metadata": {},
     "output_type": "display_data"
    },
    {
     "name": "stderr",
     "output_type": "stream",
     "text": [
      " 30%|███       | 3/10 [00:02<00:05,  1.24it/s]"
     ]
    },
    {
     "data": {
      "application/vnd.jupyter.widget-view+json": {
       "model_id": "d015ab8803bb46f8b14c564b4f5bc134",
       "version_major": 2,
       "version_minor": 0
      },
      "text/plain": [
       "  0%|          | 0/10 [00:00<?, ?it/s]"
      ]
     },
     "metadata": {},
     "output_type": "display_data"
    },
    {
     "name": "stderr",
     "output_type": "stream",
     "text": [
      " 40%|████      | 4/10 [00:03<00:05,  1.20it/s]"
     ]
    },
    {
     "data": {
      "application/vnd.jupyter.widget-view+json": {
       "model_id": "8adba08215294e93a0d07475d026d3a6",
       "version_major": 2,
       "version_minor": 0
      },
      "text/plain": [
       "  0%|          | 0/10 [00:00<?, ?it/s]"
      ]
     },
     "metadata": {},
     "output_type": "display_data"
    },
    {
     "name": "stderr",
     "output_type": "stream",
     "text": [
      " 50%|█████     | 5/10 [00:04<00:03,  1.26it/s]"
     ]
    },
    {
     "data": {
      "application/vnd.jupyter.widget-view+json": {
       "model_id": "59b31ab36b8e49359dba7bb9719b05de",
       "version_major": 2,
       "version_minor": 0
      },
      "text/plain": [
       "  0%|          | 0/10 [00:00<?, ?it/s]"
      ]
     },
     "metadata": {},
     "output_type": "display_data"
    },
    {
     "name": "stderr",
     "output_type": "stream",
     "text": [
      " 60%|██████    | 6/10 [00:04<00:03,  1.31it/s]"
     ]
    },
    {
     "data": {
      "application/vnd.jupyter.widget-view+json": {
       "model_id": "2f184ff902b74a099bba03ea53c7fca1",
       "version_major": 2,
       "version_minor": 0
      },
      "text/plain": [
       "  0%|          | 0/10 [00:00<?, ?it/s]"
      ]
     },
     "metadata": {},
     "output_type": "display_data"
    },
    {
     "name": "stderr",
     "output_type": "stream",
     "text": [
      " 70%|███████   | 7/10 [00:05<00:02,  1.35it/s]"
     ]
    },
    {
     "data": {
      "application/vnd.jupyter.widget-view+json": {
       "model_id": "06cc7359be0e4d9f9aa1c8b18113621b",
       "version_major": 2,
       "version_minor": 0
      },
      "text/plain": [
       "  0%|          | 0/10 [00:00<?, ?it/s]"
      ]
     },
     "metadata": {},
     "output_type": "display_data"
    },
    {
     "name": "stderr",
     "output_type": "stream",
     "text": [
      " 80%|████████  | 8/10 [00:06<00:01,  1.37it/s]"
     ]
    },
    {
     "data": {
      "application/vnd.jupyter.widget-view+json": {
       "model_id": "5b57a696eaf54f0d9136990e466f764c",
       "version_major": 2,
       "version_minor": 0
      },
      "text/plain": [
       "  0%|          | 0/10 [00:00<?, ?it/s]"
      ]
     },
     "metadata": {},
     "output_type": "display_data"
    },
    {
     "name": "stderr",
     "output_type": "stream",
     "text": [
      " 90%|█████████ | 9/10 [00:06<00:00,  1.41it/s]"
     ]
    },
    {
     "data": {
      "application/vnd.jupyter.widget-view+json": {
       "model_id": "54f71a361547479aa4c53cbddce0d696",
       "version_major": 2,
       "version_minor": 0
      },
      "text/plain": [
       "  0%|          | 0/10 [00:00<?, ?it/s]"
      ]
     },
     "metadata": {},
     "output_type": "display_data"
    },
    {
     "name": "stderr",
     "output_type": "stream",
     "text": [
      "100%|██████████| 10/10 [00:07<00:00,  1.30it/s]"
     ]
    },
    {
     "name": "stdout",
     "output_type": "stream",
     "text": [
      "Correct counts: [45, 100, 100, 0, 100, 12, 0, 0, 100, 100]\n",
      "Steered counts: [0, 0, 0, 0, 0, 0, 0, 0, 0, 0]\n"
     ]
    },
    {
     "name": "stderr",
     "output_type": "stream",
     "text": [
      "\n"
     ]
    }
   ],
   "source": [
    "correct_counts, steering_counts = test_steering_of_landmark_location_in_model(\n",
    "    model=gpt2_small,\n",
    "    landmark_country_pairs=landmark_country_pairs,\n",
    "    steering_on=False,\n",
    "    steering_vectors_positions_by_layer=steering_vectors_positions_by_layer,\n",
    "    steered_answer=\"Australia\",\n",
    "    coeff=coeff,\n",
    "    quiet=True,\n",
    ")\n",
    "\n",
    "print(f\"Correct counts: {correct_counts}\")\n",
    "print(f\"Steered counts: {steering_counts}\")"
   ]
  },
  {
   "cell_type": "markdown",
   "metadata": {},
   "source": [
    "## Steered"
   ]
  },
  {
   "cell_type": "code",
   "execution_count": 22,
   "metadata": {},
   "outputs": [
    {
     "name": "stderr",
     "output_type": "stream",
     "text": [
      "  0%|          | 0/10 [00:00<?, ?it/s]"
     ]
    },
    {
     "data": {
      "application/vnd.jupyter.widget-view+json": {
       "model_id": "98eaeb37cf464001994af95127e5b8ee",
       "version_major": 2,
       "version_minor": 0
      },
      "text/plain": [
       "  0%|          | 0/10 [00:00<?, ?it/s]"
      ]
     },
     "metadata": {},
     "output_type": "display_data"
    },
    {
     "name": "stderr",
     "output_type": "stream",
     "text": [
      " 10%|█         | 1/10 [00:00<00:07,  1.28it/s]"
     ]
    },
    {
     "data": {
      "application/vnd.jupyter.widget-view+json": {
       "model_id": "4b61b8230dea4bbe8e1720391bb0a2ec",
       "version_major": 2,
       "version_minor": 0
      },
      "text/plain": [
       "  0%|          | 0/10 [00:00<?, ?it/s]"
      ]
     },
     "metadata": {},
     "output_type": "display_data"
    },
    {
     "name": "stderr",
     "output_type": "stream",
     "text": [
      " 20%|██        | 2/10 [00:01<00:06,  1.21it/s]"
     ]
    },
    {
     "data": {
      "application/vnd.jupyter.widget-view+json": {
       "model_id": "6451bf8616444a3f88897db81045af01",
       "version_major": 2,
       "version_minor": 0
      },
      "text/plain": [
       "  0%|          | 0/10 [00:00<?, ?it/s]"
      ]
     },
     "metadata": {},
     "output_type": "display_data"
    },
    {
     "name": "stderr",
     "output_type": "stream",
     "text": [
      " 30%|███       | 3/10 [00:02<00:05,  1.30it/s]"
     ]
    },
    {
     "data": {
      "application/vnd.jupyter.widget-view+json": {
       "model_id": "a8346327abff405584a45358fa99669c",
       "version_major": 2,
       "version_minor": 0
      },
      "text/plain": [
       "  0%|          | 0/10 [00:00<?, ?it/s]"
      ]
     },
     "metadata": {},
     "output_type": "display_data"
    },
    {
     "name": "stderr",
     "output_type": "stream",
     "text": [
      " 40%|████      | 4/10 [00:03<00:05,  1.12it/s]"
     ]
    },
    {
     "data": {
      "application/vnd.jupyter.widget-view+json": {
       "model_id": "0d007d13734645d88c4116e054edc863",
       "version_major": 2,
       "version_minor": 0
      },
      "text/plain": [
       "  0%|          | 0/10 [00:00<?, ?it/s]"
      ]
     },
     "metadata": {},
     "output_type": "display_data"
    },
    {
     "name": "stderr",
     "output_type": "stream",
     "text": [
      " 50%|█████     | 5/10 [00:04<00:04,  1.15it/s]"
     ]
    },
    {
     "data": {
      "application/vnd.jupyter.widget-view+json": {
       "model_id": "6a55cc6da486435d80538944f36d7945",
       "version_major": 2,
       "version_minor": 0
      },
      "text/plain": [
       "  0%|          | 0/10 [00:00<?, ?it/s]"
      ]
     },
     "metadata": {},
     "output_type": "display_data"
    },
    {
     "name": "stderr",
     "output_type": "stream",
     "text": [
      " 60%|██████    | 6/10 [00:04<00:03,  1.25it/s]"
     ]
    },
    {
     "data": {
      "application/vnd.jupyter.widget-view+json": {
       "model_id": "37f7cafd527d4796a2cfc8762c7344c5",
       "version_major": 2,
       "version_minor": 0
      },
      "text/plain": [
       "  0%|          | 0/10 [00:00<?, ?it/s]"
      ]
     },
     "metadata": {},
     "output_type": "display_data"
    },
    {
     "name": "stderr",
     "output_type": "stream",
     "text": [
      " 70%|███████   | 7/10 [00:05<00:02,  1.32it/s]"
     ]
    },
    {
     "data": {
      "application/vnd.jupyter.widget-view+json": {
       "model_id": "cb57fb2bbabb4e0fbb270918cae99fb2",
       "version_major": 2,
       "version_minor": 0
      },
      "text/plain": [
       "  0%|          | 0/10 [00:00<?, ?it/s]"
      ]
     },
     "metadata": {},
     "output_type": "display_data"
    },
    {
     "name": "stderr",
     "output_type": "stream",
     "text": [
      " 80%|████████  | 8/10 [00:06<00:01,  1.38it/s]"
     ]
    },
    {
     "data": {
      "application/vnd.jupyter.widget-view+json": {
       "model_id": "bcaced8130f6407eac63112b254b2b59",
       "version_major": 2,
       "version_minor": 0
      },
      "text/plain": [
       "  0%|          | 0/10 [00:00<?, ?it/s]"
      ]
     },
     "metadata": {},
     "output_type": "display_data"
    },
    {
     "name": "stderr",
     "output_type": "stream",
     "text": [
      " 90%|█████████ | 9/10 [00:06<00:00,  1.44it/s]"
     ]
    },
    {
     "data": {
      "application/vnd.jupyter.widget-view+json": {
       "model_id": "49b05f6b79e341e28ef7c21fc5f3be11",
       "version_major": 2,
       "version_minor": 0
      },
      "text/plain": [
       "  0%|          | 0/10 [00:00<?, ?it/s]"
      ]
     },
     "metadata": {},
     "output_type": "display_data"
    },
    {
     "name": "stderr",
     "output_type": "stream",
     "text": [
      "100%|██████████| 10/10 [00:07<00:00,  1.33it/s]"
     ]
    },
    {
     "name": "stdout",
     "output_type": "stream",
     "text": [
      "Correct counts: [0, 0, 0, 0, 0, 0, 0, 0, 0, 0]\n",
      "Steered counts: [100, 100, 100, 100, 100, 100, 100, 100, 100, 100]\n"
     ]
    },
    {
     "name": "stderr",
     "output_type": "stream",
     "text": [
      "\n"
     ]
    }
   ],
   "source": [
    "correct_counts, steering_counts = test_steering_of_landmark_location_in_model(\n",
    "    model=gpt2_small,\n",
    "    landmark_country_pairs=landmark_country_pairs,\n",
    "    steering_on=True,\n",
    "    steering_vectors_positions_by_layer=steering_vectors_positions_by_layer,\n",
    "    steered_answer=\"Australia\",\n",
    "    coeff=coeff,\n",
    "    quiet=True,\n",
    ")\n",
    "\n",
    "print(f\"Correct counts: {correct_counts}\")\n",
    "print(f\"Steered counts: {steering_counts}\")"
   ]
  },
  {
   "cell_type": "markdown",
   "metadata": {},
   "source": [
    "## Half coeff"
   ]
  },
  {
   "cell_type": "code",
   "execution_count": 23,
   "metadata": {},
   "outputs": [
    {
     "name": "stderr",
     "output_type": "stream",
     "text": [
      "  0%|          | 0/10 [00:00<?, ?it/s]"
     ]
    },
    {
     "data": {
      "application/vnd.jupyter.widget-view+json": {
       "model_id": "8179e7d76e1b4e2ca962dd00072f9750",
       "version_major": 2,
       "version_minor": 0
      },
      "text/plain": [
       "  0%|          | 0/10 [00:00<?, ?it/s]"
      ]
     },
     "metadata": {},
     "output_type": "display_data"
    },
    {
     "name": "stderr",
     "output_type": "stream",
     "text": [
      " 10%|█         | 1/10 [00:00<00:06,  1.44it/s]"
     ]
    },
    {
     "data": {
      "application/vnd.jupyter.widget-view+json": {
       "model_id": "53286cc857b94d4489849b88577df0fd",
       "version_major": 2,
       "version_minor": 0
      },
      "text/plain": [
       "  0%|          | 0/10 [00:00<?, ?it/s]"
      ]
     },
     "metadata": {},
     "output_type": "display_data"
    },
    {
     "name": "stderr",
     "output_type": "stream",
     "text": [
      " 20%|██        | 2/10 [00:01<00:05,  1.49it/s]"
     ]
    },
    {
     "data": {
      "application/vnd.jupyter.widget-view+json": {
       "model_id": "e0350ecf763e416abf5318bcfe6e2456",
       "version_major": 2,
       "version_minor": 0
      },
      "text/plain": [
       "  0%|          | 0/10 [00:00<?, ?it/s]"
      ]
     },
     "metadata": {},
     "output_type": "display_data"
    },
    {
     "name": "stderr",
     "output_type": "stream",
     "text": [
      " 30%|███       | 3/10 [00:02<00:04,  1.49it/s]"
     ]
    },
    {
     "data": {
      "application/vnd.jupyter.widget-view+json": {
       "model_id": "ba7e37b7743e4e1db1322f6585fac4f8",
       "version_major": 2,
       "version_minor": 0
      },
      "text/plain": [
       "  0%|          | 0/10 [00:00<?, ?it/s]"
      ]
     },
     "metadata": {},
     "output_type": "display_data"
    },
    {
     "name": "stderr",
     "output_type": "stream",
     "text": [
      " 40%|████      | 4/10 [00:02<00:04,  1.29it/s]"
     ]
    },
    {
     "data": {
      "application/vnd.jupyter.widget-view+json": {
       "model_id": "18de14d41ded4c50b4926c201f97cd94",
       "version_major": 2,
       "version_minor": 0
      },
      "text/plain": [
       "  0%|          | 0/10 [00:00<?, ?it/s]"
      ]
     },
     "metadata": {},
     "output_type": "display_data"
    },
    {
     "name": "stderr",
     "output_type": "stream",
     "text": [
      " 50%|█████     | 5/10 [00:03<00:03,  1.33it/s]"
     ]
    },
    {
     "data": {
      "application/vnd.jupyter.widget-view+json": {
       "model_id": "3d8357a12f4b42d7ba5ad33bc81a03c0",
       "version_major": 2,
       "version_minor": 0
      },
      "text/plain": [
       "  0%|          | 0/10 [00:00<?, ?it/s]"
      ]
     },
     "metadata": {},
     "output_type": "display_data"
    },
    {
     "name": "stderr",
     "output_type": "stream",
     "text": [
      " 60%|██████    | 6/10 [00:04<00:03,  1.24it/s]"
     ]
    },
    {
     "data": {
      "application/vnd.jupyter.widget-view+json": {
       "model_id": "6c07b6cab78c4bb8b2c504baa6878742",
       "version_major": 2,
       "version_minor": 0
      },
      "text/plain": [
       "  0%|          | 0/10 [00:00<?, ?it/s]"
      ]
     },
     "metadata": {},
     "output_type": "display_data"
    },
    {
     "name": "stderr",
     "output_type": "stream",
     "text": [
      " 70%|███████   | 7/10 [00:05<00:02,  1.31it/s]"
     ]
    },
    {
     "data": {
      "application/vnd.jupyter.widget-view+json": {
       "model_id": "1fa5aa300cbf47309a9a2c7bf4a27c54",
       "version_major": 2,
       "version_minor": 0
      },
      "text/plain": [
       "  0%|          | 0/10 [00:00<?, ?it/s]"
      ]
     },
     "metadata": {},
     "output_type": "display_data"
    },
    {
     "name": "stderr",
     "output_type": "stream",
     "text": [
      " 80%|████████  | 8/10 [00:05<00:01,  1.35it/s]"
     ]
    },
    {
     "data": {
      "application/vnd.jupyter.widget-view+json": {
       "model_id": "7122f11b79d74bfb94d4bd72ae71099e",
       "version_major": 2,
       "version_minor": 0
      },
      "text/plain": [
       "  0%|          | 0/10 [00:00<?, ?it/s]"
      ]
     },
     "metadata": {},
     "output_type": "display_data"
    },
    {
     "name": "stderr",
     "output_type": "stream",
     "text": [
      " 90%|█████████ | 9/10 [00:06<00:00,  1.41it/s]"
     ]
    },
    {
     "data": {
      "application/vnd.jupyter.widget-view+json": {
       "model_id": "21cb60522944476cb48b6f58089c4c78",
       "version_major": 2,
       "version_minor": 0
      },
      "text/plain": [
       "  0%|          | 0/10 [00:00<?, ?it/s]"
      ]
     },
     "metadata": {},
     "output_type": "display_data"
    },
    {
     "name": "stderr",
     "output_type": "stream",
     "text": [
      "100%|██████████| 10/10 [00:07<00:00,  1.38it/s]"
     ]
    },
    {
     "name": "stdout",
     "output_type": "stream",
     "text": [
      "Correct counts: [0, 0, 0, 0, 0, 0, 0, 0, 0, 0]\n",
      "Steered counts: [0, 0, 0, 0, 0, 0, 0, 0, 0, 0]\n"
     ]
    },
    {
     "name": "stderr",
     "output_type": "stream",
     "text": [
      "\n"
     ]
    }
   ],
   "source": [
    "correct_counts, steering_counts = test_steering_of_landmark_location_in_model(\n",
    "    model=gpt2_small,\n",
    "    landmark_country_pairs=landmark_country_pairs,\n",
    "    steering_on=True,\n",
    "    steering_vectors_positions_by_layer=steering_vectors_positions_by_layer,\n",
    "    steered_answer=\"Australia\",\n",
    "    coeff=coeff / 2,\n",
    "    quiet=True,\n",
    ")\n",
    "\n",
    "print(f\"Correct counts: {correct_counts}\")\n",
    "print(f\"Steered counts: {steering_counts}\")"
   ]
  },
  {
   "cell_type": "markdown",
   "metadata": {},
   "source": [
    "## Try a range of coeffs and steer using one feature at a time and compare"
   ]
  },
  {
   "cell_type": "code",
   "execution_count": 24,
   "metadata": {},
   "outputs": [
    {
     "name": "stderr",
     "output_type": "stream",
     "text": [
      "  0%|          | 0/6 [00:00<?, ?it/s]\n"
     ]
    },
    {
     "name": "stderr",
     "output_type": "stream",
     "text": [
      "  0%|          | 0/10 [00:00<?, ?it/s]\u001b[A"
     ]
    },
    {
     "data": {
      "application/vnd.jupyter.widget-view+json": {
       "model_id": "c88f7518a6304b4ca3e417a1cf565dd8",
       "version_major": 2,
       "version_minor": 0
      },
      "text/plain": [
       "  0%|          | 0/10 [00:00<?, ?it/s]"
      ]
     },
     "metadata": {},
     "output_type": "display_data"
    },
    {
     "name": "stderr",
     "output_type": "stream",
     "text": []
    },
    {
     "data": {
      "application/vnd.jupyter.widget-view+json": {
       "model_id": "02d2bab5ff5d4370b6dc356cd9b43f76",
       "version_major": 2,
       "version_minor": 0
      },
      "text/plain": [
       "  0%|          | 0/10 [00:00<?, ?it/s]"
      ]
     },
     "metadata": {},
     "output_type": "display_data"
    },
    {
     "name": "stderr",
     "output_type": "stream",
     "text": []
    },
    {
     "data": {
      "application/vnd.jupyter.widget-view+json": {
       "model_id": "edc7763981244d1a9c533607911d18b2",
       "version_major": 2,
       "version_minor": 0
      },
      "text/plain": [
       "  0%|          | 0/10 [00:00<?, ?it/s]"
      ]
     },
     "metadata": {},
     "output_type": "display_data"
    },
    {
     "name": "stderr",
     "output_type": "stream",
     "text": []
    },
    {
     "data": {
      "application/vnd.jupyter.widget-view+json": {
       "model_id": "a4d6ab9c558b4e8cbee0b1196428f2f6",
       "version_major": 2,
       "version_minor": 0
      },
      "text/plain": [
       "  0%|          | 0/10 [00:00<?, ?it/s]"
      ]
     },
     "metadata": {},
     "output_type": "display_data"
    },
    {
     "name": "stderr",
     "output_type": "stream",
     "text": []
    },
    {
     "data": {
      "application/vnd.jupyter.widget-view+json": {
       "model_id": "9609c1dbf9e4415481eead756bfea236",
       "version_major": 2,
       "version_minor": 0
      },
      "text/plain": [
       "  0%|          | 0/10 [00:00<?, ?it/s]"
      ]
     },
     "metadata": {},
     "output_type": "display_data"
    },
    {
     "name": "stderr",
     "output_type": "stream",
     "text": []
    },
    {
     "data": {
      "application/vnd.jupyter.widget-view+json": {
       "model_id": "174d4ab57d594b30996ccd8cb2433498",
       "version_major": 2,
       "version_minor": 0
      },
      "text/plain": [
       "  0%|          | 0/10 [00:00<?, ?it/s]"
      ]
     },
     "metadata": {},
     "output_type": "display_data"
    },
    {
     "name": "stderr",
     "output_type": "stream",
     "text": []
    },
    {
     "data": {
      "application/vnd.jupyter.widget-view+json": {
       "model_id": "42525d1b8e4f4065b9dfaf546469c606",
       "version_major": 2,
       "version_minor": 0
      },
      "text/plain": [
       "  0%|          | 0/10 [00:00<?, ?it/s]"
      ]
     },
     "metadata": {},
     "output_type": "display_data"
    },
    {
     "name": "stderr",
     "output_type": "stream",
     "text": []
    },
    {
     "data": {
      "application/vnd.jupyter.widget-view+json": {
       "model_id": "abcfd7e2bb514b44866274f78c37802f",
       "version_major": 2,
       "version_minor": 0
      },
      "text/plain": [
       "  0%|          | 0/10 [00:00<?, ?it/s]"
      ]
     },
     "metadata": {},
     "output_type": "display_data"
    },
    {
     "name": "stderr",
     "output_type": "stream",
     "text": []
    },
    {
     "data": {
      "application/vnd.jupyter.widget-view+json": {
       "model_id": "5508a19bca274b51ab20939afb0cf562",
       "version_major": 2,
       "version_minor": 0
      },
      "text/plain": [
       "  0%|          | 0/10 [00:00<?, ?it/s]"
      ]
     },
     "metadata": {},
     "output_type": "display_data"
    },
    {
     "name": "stderr",
     "output_type": "stream",
     "text": []
    },
    {
     "data": {
      "application/vnd.jupyter.widget-view+json": {
       "model_id": "7fbe21a505a245d2a266126efee01c81",
       "version_major": 2,
       "version_minor": 0
      },
      "text/plain": [
       "  0%|          | 0/10 [00:00<?, ?it/s]"
      ]
     },
     "metadata": {},
     "output_type": "display_data"
    },
    {
     "name": "stderr",
     "output_type": "stream",
     "text": [
      "100%|██████████| 10/10 [00:07<00:00,  1.37it/s]\n"
     ]
    },
    {
     "data": {
      "application/vnd.jupyter.widget-view+json": {
       "model_id": "dc44a4cfe20e43eeab31a0ca1f808a41",
       "version_major": 2,
       "version_minor": 0
      },
      "text/plain": [
       "  0%|          | 0/10 [00:00<?, ?it/s]"
      ]
     },
     "metadata": {},
     "output_type": "display_data"
    },
    {
     "name": "stderr",
     "output_type": "stream",
     "text": []
    },
    {
     "data": {
      "application/vnd.jupyter.widget-view+json": {
       "model_id": "c9b8420057dc4102baf288fbb1fdac23",
       "version_major": 2,
       "version_minor": 0
      },
      "text/plain": [
       "  0%|          | 0/10 [00:00<?, ?it/s]"
      ]
     },
     "metadata": {},
     "output_type": "display_data"
    },
    {
     "name": "stderr",
     "output_type": "stream",
     "text": []
    },
    {
     "data": {
      "application/vnd.jupyter.widget-view+json": {
       "model_id": "bdfdcb90108d4c019fac0ad35450ca58",
       "version_major": 2,
       "version_minor": 0
      },
      "text/plain": [
       "  0%|          | 0/10 [00:00<?, ?it/s]"
      ]
     },
     "metadata": {},
     "output_type": "display_data"
    },
    {
     "name": "stderr",
     "output_type": "stream",
     "text": []
    },
    {
     "data": {
      "application/vnd.jupyter.widget-view+json": {
       "model_id": "8fcff7ee120f40fda97f476d0bff3a11",
       "version_major": 2,
       "version_minor": 0
      },
      "text/plain": [
       "  0%|          | 0/10 [00:00<?, ?it/s]"
      ]
     },
     "metadata": {},
     "output_type": "display_data"
    },
    {
     "name": "stderr",
     "output_type": "stream",
     "text": []
    },
    {
     "data": {
      "application/vnd.jupyter.widget-view+json": {
       "model_id": "db0cab4d39c44be7abad4eb2d6bfe336",
       "version_major": 2,
       "version_minor": 0
      },
      "text/plain": [
       "  0%|          | 0/10 [00:00<?, ?it/s]"
      ]
     },
     "metadata": {},
     "output_type": "display_data"
    },
    {
     "name": "stderr",
     "output_type": "stream",
     "text": []
    },
    {
     "data": {
      "application/vnd.jupyter.widget-view+json": {
       "model_id": "bd8b97a878644de18262a24787df8623",
       "version_major": 2,
       "version_minor": 0
      },
      "text/plain": [
       "  0%|          | 0/10 [00:00<?, ?it/s]"
      ]
     },
     "metadata": {},
     "output_type": "display_data"
    },
    {
     "name": "stderr",
     "output_type": "stream",
     "text": []
    },
    {
     "data": {
      "application/vnd.jupyter.widget-view+json": {
       "model_id": "ec3c2fab9715450daa34c9cda3dfacb6",
       "version_major": 2,
       "version_minor": 0
      },
      "text/plain": [
       "  0%|          | 0/10 [00:00<?, ?it/s]"
      ]
     },
     "metadata": {},
     "output_type": "display_data"
    },
    {
     "name": "stderr",
     "output_type": "stream",
     "text": []
    },
    {
     "data": {
      "application/vnd.jupyter.widget-view+json": {
       "model_id": "c27f677fefb94ce1802cceebc430b6a8",
       "version_major": 2,
       "version_minor": 0
      },
      "text/plain": [
       "  0%|          | 0/10 [00:00<?, ?it/s]"
      ]
     },
     "metadata": {},
     "output_type": "display_data"
    },
    {
     "name": "stderr",
     "output_type": "stream",
     "text": []
    },
    {
     "data": {
      "application/vnd.jupyter.widget-view+json": {
       "model_id": "e8ce2e5dc840483a8dd38cfc1701afb9",
       "version_major": 2,
       "version_minor": 0
      },
      "text/plain": [
       "  0%|          | 0/10 [00:00<?, ?it/s]"
      ]
     },
     "metadata": {},
     "output_type": "display_data"
    },
    {
     "name": "stderr",
     "output_type": "stream",
     "text": []
    },
    {
     "data": {
      "application/vnd.jupyter.widget-view+json": {
       "model_id": "4388f741db904e6dbb202f44409a193b",
       "version_major": 2,
       "version_minor": 0
      },
      "text/plain": [
       "  0%|          | 0/10 [00:00<?, ?it/s]"
      ]
     },
     "metadata": {},
     "output_type": "display_data"
    },
    {
     "name": "stderr",
     "output_type": "stream",
     "text": [
      "100%|██████████| 10/10 [00:05<00:00,  1.80it/s]\n"
     ]
    },
    {
     "data": {
      "application/vnd.jupyter.widget-view+json": {
       "model_id": "5113a06efe0247a4b2fe86fbbbab99b1",
       "version_major": 2,
       "version_minor": 0
      },
      "text/plain": [
       "  0%|          | 0/10 [00:00<?, ?it/s]"
      ]
     },
     "metadata": {},
     "output_type": "display_data"
    },
    {
     "name": "stderr",
     "output_type": "stream",
     "text": []
    },
    {
     "data": {
      "application/vnd.jupyter.widget-view+json": {
       "model_id": "99a8dab4ae2242a6963a5ad2e562eb4c",
       "version_major": 2,
       "version_minor": 0
      },
      "text/plain": [
       "  0%|          | 0/10 [00:00<?, ?it/s]"
      ]
     },
     "metadata": {},
     "output_type": "display_data"
    },
    {
     "name": "stderr",
     "output_type": "stream",
     "text": []
    },
    {
     "data": {
      "application/vnd.jupyter.widget-view+json": {
       "model_id": "dfff5580bd7a4989902bea9ff6fb7913",
       "version_major": 2,
       "version_minor": 0
      },
      "text/plain": [
       "  0%|          | 0/10 [00:00<?, ?it/s]"
      ]
     },
     "metadata": {},
     "output_type": "display_data"
    },
    {
     "name": "stderr",
     "output_type": "stream",
     "text": []
    },
    {
     "data": {
      "application/vnd.jupyter.widget-view+json": {
       "model_id": "a5112dfadadb46ecb96063e05cbcdbb9",
       "version_major": 2,
       "version_minor": 0
      },
      "text/plain": [
       "  0%|          | 0/10 [00:00<?, ?it/s]"
      ]
     },
     "metadata": {},
     "output_type": "display_data"
    },
    {
     "name": "stderr",
     "output_type": "stream",
     "text": []
    },
    {
     "data": {
      "application/vnd.jupyter.widget-view+json": {
       "model_id": "bf759ed0a24b4a8aa7af4f438655948d",
       "version_major": 2,
       "version_minor": 0
      },
      "text/plain": [
       "  0%|          | 0/10 [00:00<?, ?it/s]"
      ]
     },
     "metadata": {},
     "output_type": "display_data"
    },
    {
     "name": "stderr",
     "output_type": "stream",
     "text": []
    },
    {
     "data": {
      "application/vnd.jupyter.widget-view+json": {
       "model_id": "a5e5a1245fc34a0bb2d667cf7bacc72b",
       "version_major": 2,
       "version_minor": 0
      },
      "text/plain": [
       "  0%|          | 0/10 [00:00<?, ?it/s]"
      ]
     },
     "metadata": {},
     "output_type": "display_data"
    },
    {
     "name": "stderr",
     "output_type": "stream",
     "text": []
    },
    {
     "data": {
      "application/vnd.jupyter.widget-view+json": {
       "model_id": "8edb440fb4114663864204c2a757bf50",
       "version_major": 2,
       "version_minor": 0
      },
      "text/plain": [
       "  0%|          | 0/10 [00:00<?, ?it/s]"
      ]
     },
     "metadata": {},
     "output_type": "display_data"
    },
    {
     "name": "stderr",
     "output_type": "stream",
     "text": []
    },
    {
     "data": {
      "application/vnd.jupyter.widget-view+json": {
       "model_id": "2169c98ad12d4482a66d1cf420d2eeef",
       "version_major": 2,
       "version_minor": 0
      },
      "text/plain": [
       "  0%|          | 0/10 [00:00<?, ?it/s]"
      ]
     },
     "metadata": {},
     "output_type": "display_data"
    },
    {
     "name": "stderr",
     "output_type": "stream",
     "text": []
    },
    {
     "data": {
      "application/vnd.jupyter.widget-view+json": {
       "model_id": "5127f3a142e34bd3acc39bb10eefa28b",
       "version_major": 2,
       "version_minor": 0
      },
      "text/plain": [
       "  0%|          | 0/10 [00:00<?, ?it/s]"
      ]
     },
     "metadata": {},
     "output_type": "display_data"
    },
    {
     "name": "stderr",
     "output_type": "stream",
     "text": []
    },
    {
     "data": {
      "application/vnd.jupyter.widget-view+json": {
       "model_id": "d0fb5b69c2a54b95a587f645b60bd3ea",
       "version_major": 2,
       "version_minor": 0
      },
      "text/plain": [
       "  0%|          | 0/10 [00:00<?, ?it/s]"
      ]
     },
     "metadata": {},
     "output_type": "display_data"
    },
    {
     "name": "stderr",
     "output_type": "stream",
     "text": [
      "100%|██████████| 10/10 [00:06<00:00,  1.49it/s]\n"
     ]
    },
    {
     "data": {
      "application/vnd.jupyter.widget-view+json": {
       "model_id": "66718cce9b2e4a20a0d4750e72c16dab",
       "version_major": 2,
       "version_minor": 0
      },
      "text/plain": [
       "  0%|          | 0/10 [00:00<?, ?it/s]"
      ]
     },
     "metadata": {},
     "output_type": "display_data"
    },
    {
     "name": "stderr",
     "output_type": "stream",
     "text": []
    },
    {
     "data": {
      "application/vnd.jupyter.widget-view+json": {
       "model_id": "86d7dc9851e04049b32c114e91e8be3f",
       "version_major": 2,
       "version_minor": 0
      },
      "text/plain": [
       "  0%|          | 0/10 [00:00<?, ?it/s]"
      ]
     },
     "metadata": {},
     "output_type": "display_data"
    },
    {
     "name": "stderr",
     "output_type": "stream",
     "text": []
    },
    {
     "data": {
      "application/vnd.jupyter.widget-view+json": {
       "model_id": "eaccfc0e7ee84e88b235c1cc163d5512",
       "version_major": 2,
       "version_minor": 0
      },
      "text/plain": [
       "  0%|          | 0/10 [00:00<?, ?it/s]"
      ]
     },
     "metadata": {},
     "output_type": "display_data"
    },
    {
     "name": "stderr",
     "output_type": "stream",
     "text": []
    },
    {
     "data": {
      "application/vnd.jupyter.widget-view+json": {
       "model_id": "9d083d72fa044dbcaf5c5e1628689093",
       "version_major": 2,
       "version_minor": 0
      },
      "text/plain": [
       "  0%|          | 0/10 [00:00<?, ?it/s]"
      ]
     },
     "metadata": {},
     "output_type": "display_data"
    },
    {
     "name": "stderr",
     "output_type": "stream",
     "text": []
    },
    {
     "data": {
      "application/vnd.jupyter.widget-view+json": {
       "model_id": "a691c9012be54aee9b447b12dc8af2a4",
       "version_major": 2,
       "version_minor": 0
      },
      "text/plain": [
       "  0%|          | 0/10 [00:00<?, ?it/s]"
      ]
     },
     "metadata": {},
     "output_type": "display_data"
    },
    {
     "name": "stderr",
     "output_type": "stream",
     "text": []
    },
    {
     "data": {
      "application/vnd.jupyter.widget-view+json": {
       "model_id": "0cb060202b7b4bb786124b53d1bf1c5c",
       "version_major": 2,
       "version_minor": 0
      },
      "text/plain": [
       "  0%|          | 0/10 [00:00<?, ?it/s]"
      ]
     },
     "metadata": {},
     "output_type": "display_data"
    },
    {
     "name": "stderr",
     "output_type": "stream",
     "text": []
    },
    {
     "data": {
      "application/vnd.jupyter.widget-view+json": {
       "model_id": "b45f21af52154233ab5a98d9e16d70fe",
       "version_major": 2,
       "version_minor": 0
      },
      "text/plain": [
       "  0%|          | 0/10 [00:00<?, ?it/s]"
      ]
     },
     "metadata": {},
     "output_type": "display_data"
    },
    {
     "name": "stderr",
     "output_type": "stream",
     "text": []
    },
    {
     "data": {
      "application/vnd.jupyter.widget-view+json": {
       "model_id": "79e65d32bee042d8a96e7c9e9fb3152d",
       "version_major": 2,
       "version_minor": 0
      },
      "text/plain": [
       "  0%|          | 0/10 [00:00<?, ?it/s]"
      ]
     },
     "metadata": {},
     "output_type": "display_data"
    },
    {
     "name": "stderr",
     "output_type": "stream",
     "text": []
    },
    {
     "data": {
      "application/vnd.jupyter.widget-view+json": {
       "model_id": "406a6c1ba436405d9b1f4ba750ed3ae1",
       "version_major": 2,
       "version_minor": 0
      },
      "text/plain": [
       "  0%|          | 0/10 [00:00<?, ?it/s]"
      ]
     },
     "metadata": {},
     "output_type": "display_data"
    },
    {
     "name": "stderr",
     "output_type": "stream",
     "text": []
    },
    {
     "data": {
      "application/vnd.jupyter.widget-view+json": {
       "model_id": "d6949063ef0446afbf3cb20e7e73f0e8",
       "version_major": 2,
       "version_minor": 0
      },
      "text/plain": [
       "  0%|          | 0/10 [00:00<?, ?it/s]"
      ]
     },
     "metadata": {},
     "output_type": "display_data"
    },
    {
     "name": "stderr",
     "output_type": "stream",
     "text": [
      "100%|██████████| 10/10 [00:06<00:00,  1.52it/s]\n"
     ]
    },
    {
     "data": {
      "application/vnd.jupyter.widget-view+json": {
       "model_id": "59998207decb4d62844ec39df1d0c11e",
       "version_major": 2,
       "version_minor": 0
      },
      "text/plain": [
       "  0%|          | 0/10 [00:00<?, ?it/s]"
      ]
     },
     "metadata": {},
     "output_type": "display_data"
    },
    {
     "name": "stderr",
     "output_type": "stream",
     "text": []
    },
    {
     "data": {
      "application/vnd.jupyter.widget-view+json": {
       "model_id": "d3f6e791d4d74e068c45b94bd0dbe5f1",
       "version_major": 2,
       "version_minor": 0
      },
      "text/plain": [
       "  0%|          | 0/10 [00:00<?, ?it/s]"
      ]
     },
     "metadata": {},
     "output_type": "display_data"
    },
    {
     "name": "stderr",
     "output_type": "stream",
     "text": []
    },
    {
     "data": {
      "application/vnd.jupyter.widget-view+json": {
       "model_id": "d769e6c3af2345f3ad2f5bc16b8177cb",
       "version_major": 2,
       "version_minor": 0
      },
      "text/plain": [
       "  0%|          | 0/10 [00:00<?, ?it/s]"
      ]
     },
     "metadata": {},
     "output_type": "display_data"
    },
    {
     "name": "stderr",
     "output_type": "stream",
     "text": []
    },
    {
     "data": {
      "application/vnd.jupyter.widget-view+json": {
       "model_id": "01a4a166eb6442c0a45aa82d452df57c",
       "version_major": 2,
       "version_minor": 0
      },
      "text/plain": [
       "  0%|          | 0/10 [00:00<?, ?it/s]"
      ]
     },
     "metadata": {},
     "output_type": "display_data"
    },
    {
     "name": "stderr",
     "output_type": "stream",
     "text": []
    },
    {
     "data": {
      "application/vnd.jupyter.widget-view+json": {
       "model_id": "928467e0c9c146e6aba9524b9ff76676",
       "version_major": 2,
       "version_minor": 0
      },
      "text/plain": [
       "  0%|          | 0/10 [00:00<?, ?it/s]"
      ]
     },
     "metadata": {},
     "output_type": "display_data"
    },
    {
     "name": "stderr",
     "output_type": "stream",
     "text": []
    },
    {
     "data": {
      "application/vnd.jupyter.widget-view+json": {
       "model_id": "0dbb9e7cf0104a00b68c18998cc91bb7",
       "version_major": 2,
       "version_minor": 0
      },
      "text/plain": [
       "  0%|          | 0/10 [00:00<?, ?it/s]"
      ]
     },
     "metadata": {},
     "output_type": "display_data"
    },
    {
     "name": "stderr",
     "output_type": "stream",
     "text": []
    },
    {
     "data": {
      "application/vnd.jupyter.widget-view+json": {
       "model_id": "1d30ad1283ad48489fdd13ec02e4efa1",
       "version_major": 2,
       "version_minor": 0
      },
      "text/plain": [
       "  0%|          | 0/10 [00:00<?, ?it/s]"
      ]
     },
     "metadata": {},
     "output_type": "display_data"
    },
    {
     "name": "stderr",
     "output_type": "stream",
     "text": []
    },
    {
     "data": {
      "application/vnd.jupyter.widget-view+json": {
       "model_id": "8cec2dd9a3dc4afca2add0e497ef3db0",
       "version_major": 2,
       "version_minor": 0
      },
      "text/plain": [
       "  0%|          | 0/10 [00:00<?, ?it/s]"
      ]
     },
     "metadata": {},
     "output_type": "display_data"
    },
    {
     "name": "stderr",
     "output_type": "stream",
     "text": []
    },
    {
     "data": {
      "application/vnd.jupyter.widget-view+json": {
       "model_id": "4fac6d6afb0a462ba21e578903c905a7",
       "version_major": 2,
       "version_minor": 0
      },
      "text/plain": [
       "  0%|          | 0/10 [00:00<?, ?it/s]"
      ]
     },
     "metadata": {},
     "output_type": "display_data"
    },
    {
     "name": "stderr",
     "output_type": "stream",
     "text": []
    },
    {
     "data": {
      "application/vnd.jupyter.widget-view+json": {
       "model_id": "9dbcb6e6a6b94e43bcb1455005292dc9",
       "version_major": 2,
       "version_minor": 0
      },
      "text/plain": [
       "  0%|          | 0/10 [00:00<?, ?it/s]"
      ]
     },
     "metadata": {},
     "output_type": "display_data"
    },
    {
     "name": "stderr",
     "output_type": "stream",
     "text": [
      "100%|██████████| 10/10 [00:06<00:00,  1.52it/s]\n"
     ]
    },
    {
     "data": {
      "application/vnd.jupyter.widget-view+json": {
       "model_id": "adf3290f5d71439db7a1be6b91a00054",
       "version_major": 2,
       "version_minor": 0
      },
      "text/plain": [
       "  0%|          | 0/10 [00:00<?, ?it/s]"
      ]
     },
     "metadata": {},
     "output_type": "display_data"
    },
    {
     "name": "stderr",
     "output_type": "stream",
     "text": []
    },
    {
     "data": {
      "application/vnd.jupyter.widget-view+json": {
       "model_id": "79be0d7e1412458abe092fb72ad7b8bc",
       "version_major": 2,
       "version_minor": 0
      },
      "text/plain": [
       "  0%|          | 0/10 [00:00<?, ?it/s]"
      ]
     },
     "metadata": {},
     "output_type": "display_data"
    },
    {
     "name": "stderr",
     "output_type": "stream",
     "text": []
    },
    {
     "data": {
      "application/vnd.jupyter.widget-view+json": {
       "model_id": "21d5863b81ed49ceb5c521955c7bcb38",
       "version_major": 2,
       "version_minor": 0
      },
      "text/plain": [
       "  0%|          | 0/10 [00:00<?, ?it/s]"
      ]
     },
     "metadata": {},
     "output_type": "display_data"
    },
    {
     "name": "stderr",
     "output_type": "stream",
     "text": []
    },
    {
     "data": {
      "application/vnd.jupyter.widget-view+json": {
       "model_id": "58c063e506c0433fbab820f718c899e7",
       "version_major": 2,
       "version_minor": 0
      },
      "text/plain": [
       "  0%|          | 0/10 [00:00<?, ?it/s]"
      ]
     },
     "metadata": {},
     "output_type": "display_data"
    },
    {
     "name": "stderr",
     "output_type": "stream",
     "text": []
    },
    {
     "data": {
      "application/vnd.jupyter.widget-view+json": {
       "model_id": "796a9b40907d424c878477b6f843a406",
       "version_major": 2,
       "version_minor": 0
      },
      "text/plain": [
       "  0%|          | 0/10 [00:00<?, ?it/s]"
      ]
     },
     "metadata": {},
     "output_type": "display_data"
    },
    {
     "name": "stderr",
     "output_type": "stream",
     "text": []
    },
    {
     "data": {
      "application/vnd.jupyter.widget-view+json": {
       "model_id": "9854a8449d9c49bd9540b59131576551",
       "version_major": 2,
       "version_minor": 0
      },
      "text/plain": [
       "  0%|          | 0/10 [00:00<?, ?it/s]"
      ]
     },
     "metadata": {},
     "output_type": "display_data"
    },
    {
     "name": "stderr",
     "output_type": "stream",
     "text": []
    },
    {
     "data": {
      "application/vnd.jupyter.widget-view+json": {
       "model_id": "b55b82553f554281ac3e66d76f9d538f",
       "version_major": 2,
       "version_minor": 0
      },
      "text/plain": [
       "  0%|          | 0/10 [00:00<?, ?it/s]"
      ]
     },
     "metadata": {},
     "output_type": "display_data"
    },
    {
     "name": "stderr",
     "output_type": "stream",
     "text": []
    },
    {
     "data": {
      "application/vnd.jupyter.widget-view+json": {
       "model_id": "f96fa1f6920c4d20ae89dc6da4df8669",
       "version_major": 2,
       "version_minor": 0
      },
      "text/plain": [
       "  0%|          | 0/10 [00:00<?, ?it/s]"
      ]
     },
     "metadata": {},
     "output_type": "display_data"
    },
    {
     "name": "stderr",
     "output_type": "stream",
     "text": []
    },
    {
     "data": {
      "application/vnd.jupyter.widget-view+json": {
       "model_id": "b6a33809a2764e5ab260f046be9192e4",
       "version_major": 2,
       "version_minor": 0
      },
      "text/plain": [
       "  0%|          | 0/10 [00:00<?, ?it/s]"
      ]
     },
     "metadata": {},
     "output_type": "display_data"
    },
    {
     "name": "stderr",
     "output_type": "stream",
     "text": []
    },
    {
     "data": {
      "application/vnd.jupyter.widget-view+json": {
       "model_id": "d16e7f40332f4a56b74f5adc9bdfe2db",
       "version_major": 2,
       "version_minor": 0
      },
      "text/plain": [
       "  0%|          | 0/10 [00:00<?, ?it/s]"
      ]
     },
     "metadata": {},
     "output_type": "display_data"
    },
    {
     "name": "stderr",
     "output_type": "stream",
     "text": [
      "100%|██████████| 10/10 [00:07<00:00,  1.41it/s]\n"
     ]
    },
    {
     "data": {
      "application/vnd.jupyter.widget-view+json": {
       "model_id": "9c42eb0d991b464d943ee67497cc0f25",
       "version_major": 2,
       "version_minor": 0
      },
      "text/plain": [
       "  0%|          | 0/10 [00:00<?, ?it/s]"
      ]
     },
     "metadata": {},
     "output_type": "display_data"
    },
    {
     "name": "stderr",
     "output_type": "stream",
     "text": []
    },
    {
     "data": {
      "application/vnd.jupyter.widget-view+json": {
       "model_id": "6f2b82f339b94101a7734b79b373eb74",
       "version_major": 2,
       "version_minor": 0
      },
      "text/plain": [
       "  0%|          | 0/10 [00:00<?, ?it/s]"
      ]
     },
     "metadata": {},
     "output_type": "display_data"
    },
    {
     "name": "stderr",
     "output_type": "stream",
     "text": []
    },
    {
     "data": {
      "application/vnd.jupyter.widget-view+json": {
       "model_id": "008b59532090492db75718a10039a214",
       "version_major": 2,
       "version_minor": 0
      },
      "text/plain": [
       "  0%|          | 0/10 [00:00<?, ?it/s]"
      ]
     },
     "metadata": {},
     "output_type": "display_data"
    },
    {
     "name": "stderr",
     "output_type": "stream",
     "text": []
    },
    {
     "data": {
      "application/vnd.jupyter.widget-view+json": {
       "model_id": "9bc916bdf5a740f482d8b2486174312c",
       "version_major": 2,
       "version_minor": 0
      },
      "text/plain": [
       "  0%|          | 0/10 [00:00<?, ?it/s]"
      ]
     },
     "metadata": {},
     "output_type": "display_data"
    },
    {
     "name": "stderr",
     "output_type": "stream",
     "text": []
    },
    {
     "data": {
      "application/vnd.jupyter.widget-view+json": {
       "model_id": "e3e437ccfbf44c7184b6de3eb185cd2f",
       "version_major": 2,
       "version_minor": 0
      },
      "text/plain": [
       "  0%|          | 0/10 [00:00<?, ?it/s]"
      ]
     },
     "metadata": {},
     "output_type": "display_data"
    },
    {
     "name": "stderr",
     "output_type": "stream",
     "text": []
    },
    {
     "data": {
      "application/vnd.jupyter.widget-view+json": {
       "model_id": "87779d7109024831a3679971f7404fd0",
       "version_major": 2,
       "version_minor": 0
      },
      "text/plain": [
       "  0%|          | 0/10 [00:00<?, ?it/s]"
      ]
     },
     "metadata": {},
     "output_type": "display_data"
    },
    {
     "name": "stderr",
     "output_type": "stream",
     "text": []
    },
    {
     "data": {
      "application/vnd.jupyter.widget-view+json": {
       "model_id": "0cf9675c48154bdca90c8663ee3d2801",
       "version_major": 2,
       "version_minor": 0
      },
      "text/plain": [
       "  0%|          | 0/10 [00:00<?, ?it/s]"
      ]
     },
     "metadata": {},
     "output_type": "display_data"
    },
    {
     "name": "stderr",
     "output_type": "stream",
     "text": []
    },
    {
     "data": {
      "application/vnd.jupyter.widget-view+json": {
       "model_id": "90f24a99306b45ffa002b8a30a892761",
       "version_major": 2,
       "version_minor": 0
      },
      "text/plain": [
       "  0%|          | 0/10 [00:00<?, ?it/s]"
      ]
     },
     "metadata": {},
     "output_type": "display_data"
    },
    {
     "name": "stderr",
     "output_type": "stream",
     "text": []
    },
    {
     "data": {
      "application/vnd.jupyter.widget-view+json": {
       "model_id": "a4f7164854984e5b83022b5d8bdf532b",
       "version_major": 2,
       "version_minor": 0
      },
      "text/plain": [
       "  0%|          | 0/10 [00:00<?, ?it/s]"
      ]
     },
     "metadata": {},
     "output_type": "display_data"
    },
    {
     "name": "stderr",
     "output_type": "stream",
     "text": []
    },
    {
     "data": {
      "application/vnd.jupyter.widget-view+json": {
       "model_id": "df2b8763162c4f5da7e6ef8f428685be",
       "version_major": 2,
       "version_minor": 0
      },
      "text/plain": [
       "  0%|          | 0/10 [00:00<?, ?it/s]"
      ]
     },
     "metadata": {},
     "output_type": "display_data"
    },
    {
     "name": "stderr",
     "output_type": "stream",
     "text": [
      "100%|██████████| 10/10 [00:06<00:00,  1.52it/s]\n"
     ]
    },
    {
     "data": {
      "application/vnd.jupyter.widget-view+json": {
       "model_id": "ff313bacf9f846e3bc19639f452063ba",
       "version_major": 2,
       "version_minor": 0
      },
      "text/plain": [
       "  0%|          | 0/10 [00:00<?, ?it/s]"
      ]
     },
     "metadata": {},
     "output_type": "display_data"
    },
    {
     "name": "stderr",
     "output_type": "stream",
     "text": []
    },
    {
     "data": {
      "application/vnd.jupyter.widget-view+json": {
       "model_id": "0a54d9ab99ba4b159802023373d0b683",
       "version_major": 2,
       "version_minor": 0
      },
      "text/plain": [
       "  0%|          | 0/10 [00:00<?, ?it/s]"
      ]
     },
     "metadata": {},
     "output_type": "display_data"
    },
    {
     "name": "stderr",
     "output_type": "stream",
     "text": []
    },
    {
     "data": {
      "application/vnd.jupyter.widget-view+json": {
       "model_id": "e6a5228d80fb414fb24fb830cd2688a3",
       "version_major": 2,
       "version_minor": 0
      },
      "text/plain": [
       "  0%|          | 0/10 [00:00<?, ?it/s]"
      ]
     },
     "metadata": {},
     "output_type": "display_data"
    },
    {
     "name": "stderr",
     "output_type": "stream",
     "text": []
    },
    {
     "data": {
      "application/vnd.jupyter.widget-view+json": {
       "model_id": "b761c0db0cf34b178e7f1254b9781360",
       "version_major": 2,
       "version_minor": 0
      },
      "text/plain": [
       "  0%|          | 0/10 [00:00<?, ?it/s]"
      ]
     },
     "metadata": {},
     "output_type": "display_data"
    },
    {
     "name": "stderr",
     "output_type": "stream",
     "text": []
    },
    {
     "data": {
      "application/vnd.jupyter.widget-view+json": {
       "model_id": "392dcbc5928a4063b0c2e40da3de4304",
       "version_major": 2,
       "version_minor": 0
      },
      "text/plain": [
       "  0%|          | 0/10 [00:00<?, ?it/s]"
      ]
     },
     "metadata": {},
     "output_type": "display_data"
    },
    {
     "name": "stderr",
     "output_type": "stream",
     "text": []
    },
    {
     "data": {
      "application/vnd.jupyter.widget-view+json": {
       "model_id": "64705d60e9464a5392ce356170b31683",
       "version_major": 2,
       "version_minor": 0
      },
      "text/plain": [
       "  0%|          | 0/10 [00:00<?, ?it/s]"
      ]
     },
     "metadata": {},
     "output_type": "display_data"
    },
    {
     "name": "stderr",
     "output_type": "stream",
     "text": []
    },
    {
     "data": {
      "application/vnd.jupyter.widget-view+json": {
       "model_id": "9bad8d30c0ac4307839d0682a84470e6",
       "version_major": 2,
       "version_minor": 0
      },
      "text/plain": [
       "  0%|          | 0/10 [00:00<?, ?it/s]"
      ]
     },
     "metadata": {},
     "output_type": "display_data"
    },
    {
     "name": "stderr",
     "output_type": "stream",
     "text": []
    },
    {
     "data": {
      "application/vnd.jupyter.widget-view+json": {
       "model_id": "e13f05f6165344f38e16c821a3b98494",
       "version_major": 2,
       "version_minor": 0
      },
      "text/plain": [
       "  0%|          | 0/10 [00:00<?, ?it/s]"
      ]
     },
     "metadata": {},
     "output_type": "display_data"
    },
    {
     "name": "stderr",
     "output_type": "stream",
     "text": []
    },
    {
     "data": {
      "application/vnd.jupyter.widget-view+json": {
       "model_id": "2c454cf9ca6b4db6af643ef2575021fd",
       "version_major": 2,
       "version_minor": 0
      },
      "text/plain": [
       "  0%|          | 0/10 [00:00<?, ?it/s]"
      ]
     },
     "metadata": {},
     "output_type": "display_data"
    },
    {
     "name": "stderr",
     "output_type": "stream",
     "text": []
    },
    {
     "data": {
      "application/vnd.jupyter.widget-view+json": {
       "model_id": "069396c1fa05463b9da8938d663f063b",
       "version_major": 2,
       "version_minor": 0
      },
      "text/plain": [
       "  0%|          | 0/10 [00:00<?, ?it/s]"
      ]
     },
     "metadata": {},
     "output_type": "display_data"
    },
    {
     "name": "stderr",
     "output_type": "stream",
     "text": [
      "100%|██████████| 10/10 [00:05<00:00,  1.68it/s]\n"
     ]
    },
    {
     "data": {
      "application/vnd.jupyter.widget-view+json": {
       "model_id": "f5bc281f17a4467fb19a118f76e55b07",
       "version_major": 2,
       "version_minor": 0
      },
      "text/plain": [
       "  0%|          | 0/10 [00:00<?, ?it/s]"
      ]
     },
     "metadata": {},
     "output_type": "display_data"
    },
    {
     "name": "stderr",
     "output_type": "stream",
     "text": []
    },
    {
     "data": {
      "application/vnd.jupyter.widget-view+json": {
       "model_id": "425f866958ff4d6ab8549ffaeef48b79",
       "version_major": 2,
       "version_minor": 0
      },
      "text/plain": [
       "  0%|          | 0/10 [00:00<?, ?it/s]"
      ]
     },
     "metadata": {},
     "output_type": "display_data"
    },
    {
     "name": "stderr",
     "output_type": "stream",
     "text": []
    },
    {
     "data": {
      "application/vnd.jupyter.widget-view+json": {
       "model_id": "f5b092cf456b4463b8b2421be61204a3",
       "version_major": 2,
       "version_minor": 0
      },
      "text/plain": [
       "  0%|          | 0/10 [00:00<?, ?it/s]"
      ]
     },
     "metadata": {},
     "output_type": "display_data"
    },
    {
     "name": "stderr",
     "output_type": "stream",
     "text": []
    },
    {
     "data": {
      "application/vnd.jupyter.widget-view+json": {
       "model_id": "d397b0d1959b4d17a09f62aa92dd549f",
       "version_major": 2,
       "version_minor": 0
      },
      "text/plain": [
       "  0%|          | 0/10 [00:00<?, ?it/s]"
      ]
     },
     "metadata": {},
     "output_type": "display_data"
    },
    {
     "name": "stderr",
     "output_type": "stream",
     "text": []
    },
    {
     "data": {
      "application/vnd.jupyter.widget-view+json": {
       "model_id": "7b004186bbd14833aa4bc52caf992663",
       "version_major": 2,
       "version_minor": 0
      },
      "text/plain": [
       "  0%|          | 0/10 [00:00<?, ?it/s]"
      ]
     },
     "metadata": {},
     "output_type": "display_data"
    },
    {
     "name": "stderr",
     "output_type": "stream",
     "text": []
    },
    {
     "data": {
      "application/vnd.jupyter.widget-view+json": {
       "model_id": "98c57ec5356c41e6a6c695f28e9ee676",
       "version_major": 2,
       "version_minor": 0
      },
      "text/plain": [
       "  0%|          | 0/10 [00:00<?, ?it/s]"
      ]
     },
     "metadata": {},
     "output_type": "display_data"
    },
    {
     "name": "stderr",
     "output_type": "stream",
     "text": []
    },
    {
     "data": {
      "application/vnd.jupyter.widget-view+json": {
       "model_id": "ed7c751aa14e492585d3162b4b1c7866",
       "version_major": 2,
       "version_minor": 0
      },
      "text/plain": [
       "  0%|          | 0/10 [00:00<?, ?it/s]"
      ]
     },
     "metadata": {},
     "output_type": "display_data"
    },
    {
     "name": "stderr",
     "output_type": "stream",
     "text": []
    },
    {
     "data": {
      "application/vnd.jupyter.widget-view+json": {
       "model_id": "2c9ea3e72f834a648c0554420476dc3b",
       "version_major": 2,
       "version_minor": 0
      },
      "text/plain": [
       "  0%|          | 0/10 [00:00<?, ?it/s]"
      ]
     },
     "metadata": {},
     "output_type": "display_data"
    },
    {
     "name": "stderr",
     "output_type": "stream",
     "text": []
    },
    {
     "data": {
      "application/vnd.jupyter.widget-view+json": {
       "model_id": "04916cbe48f442d7b659a3c87f886f38",
       "version_major": 2,
       "version_minor": 0
      },
      "text/plain": [
       "  0%|          | 0/10 [00:00<?, ?it/s]"
      ]
     },
     "metadata": {},
     "output_type": "display_data"
    },
    {
     "name": "stderr",
     "output_type": "stream",
     "text": []
    },
    {
     "data": {
      "application/vnd.jupyter.widget-view+json": {
       "model_id": "19eefa6f039b4946ab6aaadd99568538",
       "version_major": 2,
       "version_minor": 0
      },
      "text/plain": [
       "  0%|          | 0/10 [00:00<?, ?it/s]"
      ]
     },
     "metadata": {},
     "output_type": "display_data"
    },
    {
     "name": "stderr",
     "output_type": "stream",
     "text": [
      "100%|██████████| 10/10 [00:07<00:00,  1.40it/s]\n"
     ]
    },
    {
     "data": {
      "application/vnd.jupyter.widget-view+json": {
       "model_id": "e32855af69074ec59ee78fc4bd64a2e3",
       "version_major": 2,
       "version_minor": 0
      },
      "text/plain": [
       "  0%|          | 0/10 [00:00<?, ?it/s]"
      ]
     },
     "metadata": {},
     "output_type": "display_data"
    },
    {
     "name": "stderr",
     "output_type": "stream",
     "text": []
    },
    {
     "data": {
      "application/vnd.jupyter.widget-view+json": {
       "model_id": "fc8bf9b45c5945608ab89a2d65aaf511",
       "version_major": 2,
       "version_minor": 0
      },
      "text/plain": [
       "  0%|          | 0/10 [00:00<?, ?it/s]"
      ]
     },
     "metadata": {},
     "output_type": "display_data"
    },
    {
     "name": "stderr",
     "output_type": "stream",
     "text": []
    },
    {
     "data": {
      "application/vnd.jupyter.widget-view+json": {
       "model_id": "c150270028424e1d82f75cc6797cebfd",
       "version_major": 2,
       "version_minor": 0
      },
      "text/plain": [
       "  0%|          | 0/10 [00:00<?, ?it/s]"
      ]
     },
     "metadata": {},
     "output_type": "display_data"
    },
    {
     "name": "stderr",
     "output_type": "stream",
     "text": []
    },
    {
     "data": {
      "application/vnd.jupyter.widget-view+json": {
       "model_id": "a8fe432a6b77421ca69d23b323abcf28",
       "version_major": 2,
       "version_minor": 0
      },
      "text/plain": [
       "  0%|          | 0/10 [00:00<?, ?it/s]"
      ]
     },
     "metadata": {},
     "output_type": "display_data"
    },
    {
     "name": "stderr",
     "output_type": "stream",
     "text": []
    },
    {
     "data": {
      "application/vnd.jupyter.widget-view+json": {
       "model_id": "15f739b441744047b2882852835b86e3",
       "version_major": 2,
       "version_minor": 0
      },
      "text/plain": [
       "  0%|          | 0/10 [00:00<?, ?it/s]"
      ]
     },
     "metadata": {},
     "output_type": "display_data"
    },
    {
     "name": "stderr",
     "output_type": "stream",
     "text": []
    },
    {
     "data": {
      "application/vnd.jupyter.widget-view+json": {
       "model_id": "d66d7da95ba44b07b43d0e0ec895fbc5",
       "version_major": 2,
       "version_minor": 0
      },
      "text/plain": [
       "  0%|          | 0/10 [00:00<?, ?it/s]"
      ]
     },
     "metadata": {},
     "output_type": "display_data"
    },
    {
     "name": "stderr",
     "output_type": "stream",
     "text": []
    },
    {
     "data": {
      "application/vnd.jupyter.widget-view+json": {
       "model_id": "90ba264e204e4d7ea95284a44a6ad294",
       "version_major": 2,
       "version_minor": 0
      },
      "text/plain": [
       "  0%|          | 0/10 [00:00<?, ?it/s]"
      ]
     },
     "metadata": {},
     "output_type": "display_data"
    },
    {
     "name": "stderr",
     "output_type": "stream",
     "text": []
    },
    {
     "data": {
      "application/vnd.jupyter.widget-view+json": {
       "model_id": "fa6228f316334ea7985b5067f8263fe5",
       "version_major": 2,
       "version_minor": 0
      },
      "text/plain": [
       "  0%|          | 0/10 [00:00<?, ?it/s]"
      ]
     },
     "metadata": {},
     "output_type": "display_data"
    },
    {
     "name": "stderr",
     "output_type": "stream",
     "text": []
    },
    {
     "data": {
      "application/vnd.jupyter.widget-view+json": {
       "model_id": "78f688402be847e788cd821ce20d869f",
       "version_major": 2,
       "version_minor": 0
      },
      "text/plain": [
       "  0%|          | 0/10 [00:00<?, ?it/s]"
      ]
     },
     "metadata": {},
     "output_type": "display_data"
    },
    {
     "name": "stderr",
     "output_type": "stream",
     "text": []
    },
    {
     "data": {
      "application/vnd.jupyter.widget-view+json": {
       "model_id": "fb29505940d24e1f9ea5becdab3b7044",
       "version_major": 2,
       "version_minor": 0
      },
      "text/plain": [
       "  0%|          | 0/10 [00:00<?, ?it/s]"
      ]
     },
     "metadata": {},
     "output_type": "display_data"
    },
    {
     "name": "stderr",
     "output_type": "stream",
     "text": [
      "100%|██████████| 10/10 [00:06<00:00,  1.54it/s]\n"
     ]
    },
    {
     "data": {
      "application/vnd.jupyter.widget-view+json": {
       "model_id": "7ee0da3091b14244a4acef8f8c935a9e",
       "version_major": 2,
       "version_minor": 0
      },
      "text/plain": [
       "  0%|          | 0/10 [00:00<?, ?it/s]"
      ]
     },
     "metadata": {},
     "output_type": "display_data"
    },
    {
     "name": "stderr",
     "output_type": "stream",
     "text": []
    },
    {
     "data": {
      "application/vnd.jupyter.widget-view+json": {
       "model_id": "90d58bd0146e442da10589133ecede98",
       "version_major": 2,
       "version_minor": 0
      },
      "text/plain": [
       "  0%|          | 0/10 [00:00<?, ?it/s]"
      ]
     },
     "metadata": {},
     "output_type": "display_data"
    },
    {
     "name": "stderr",
     "output_type": "stream",
     "text": []
    },
    {
     "data": {
      "application/vnd.jupyter.widget-view+json": {
       "model_id": "389fd115841a41338e3140b2d74d045e",
       "version_major": 2,
       "version_minor": 0
      },
      "text/plain": [
       "  0%|          | 0/10 [00:00<?, ?it/s]"
      ]
     },
     "metadata": {},
     "output_type": "display_data"
    },
    {
     "name": "stderr",
     "output_type": "stream",
     "text": []
    },
    {
     "data": {
      "application/vnd.jupyter.widget-view+json": {
       "model_id": "a0d426d1af484212bf83c7df3e792f16",
       "version_major": 2,
       "version_minor": 0
      },
      "text/plain": [
       "  0%|          | 0/10 [00:00<?, ?it/s]"
      ]
     },
     "metadata": {},
     "output_type": "display_data"
    },
    {
     "name": "stderr",
     "output_type": "stream",
     "text": []
    },
    {
     "data": {
      "application/vnd.jupyter.widget-view+json": {
       "model_id": "cd6482e22f234aaaa8f70b7742555926",
       "version_major": 2,
       "version_minor": 0
      },
      "text/plain": [
       "  0%|          | 0/10 [00:00<?, ?it/s]"
      ]
     },
     "metadata": {},
     "output_type": "display_data"
    },
    {
     "name": "stderr",
     "output_type": "stream",
     "text": []
    },
    {
     "data": {
      "application/vnd.jupyter.widget-view+json": {
       "model_id": "d10e4cbbed42481795cbd75f5fa0503c",
       "version_major": 2,
       "version_minor": 0
      },
      "text/plain": [
       "  0%|          | 0/10 [00:00<?, ?it/s]"
      ]
     },
     "metadata": {},
     "output_type": "display_data"
    },
    {
     "name": "stderr",
     "output_type": "stream",
     "text": []
    },
    {
     "data": {
      "application/vnd.jupyter.widget-view+json": {
       "model_id": "9e0ef266859945ef89013dc4d781ba22",
       "version_major": 2,
       "version_minor": 0
      },
      "text/plain": [
       "  0%|          | 0/10 [00:00<?, ?it/s]"
      ]
     },
     "metadata": {},
     "output_type": "display_data"
    },
    {
     "name": "stderr",
     "output_type": "stream",
     "text": []
    },
    {
     "data": {
      "application/vnd.jupyter.widget-view+json": {
       "model_id": "864e8aa63b984387be4e33c09f8fa9a2",
       "version_major": 2,
       "version_minor": 0
      },
      "text/plain": [
       "  0%|          | 0/10 [00:00<?, ?it/s]"
      ]
     },
     "metadata": {},
     "output_type": "display_data"
    },
    {
     "name": "stderr",
     "output_type": "stream",
     "text": []
    },
    {
     "data": {
      "application/vnd.jupyter.widget-view+json": {
       "model_id": "0b4ce6edbcad44ccac79d5c512d6a0c8",
       "version_major": 2,
       "version_minor": 0
      },
      "text/plain": [
       "  0%|          | 0/10 [00:00<?, ?it/s]"
      ]
     },
     "metadata": {},
     "output_type": "display_data"
    },
    {
     "name": "stderr",
     "output_type": "stream",
     "text": []
    },
    {
     "data": {
      "application/vnd.jupyter.widget-view+json": {
       "model_id": "1be85197ce754a4a8152f013de4563a7",
       "version_major": 2,
       "version_minor": 0
      },
      "text/plain": [
       "  0%|          | 0/10 [00:00<?, ?it/s]"
      ]
     },
     "metadata": {},
     "output_type": "display_data"
    },
    {
     "name": "stderr",
     "output_type": "stream",
     "text": [
      "100%|██████████| 10/10 [00:06<00:00,  1.58it/s]\n"
     ]
    },
    {
     "data": {
      "application/vnd.jupyter.widget-view+json": {
       "model_id": "c327e24988d4440e95f804b2672c147a",
       "version_major": 2,
       "version_minor": 0
      },
      "text/plain": [
       "  0%|          | 0/10 [00:00<?, ?it/s]"
      ]
     },
     "metadata": {},
     "output_type": "display_data"
    },
    {
     "name": "stderr",
     "output_type": "stream",
     "text": []
    },
    {
     "data": {
      "application/vnd.jupyter.widget-view+json": {
       "model_id": "57d52f182831415cbdf43bfa8556cdbf",
       "version_major": 2,
       "version_minor": 0
      },
      "text/plain": [
       "  0%|          | 0/10 [00:00<?, ?it/s]"
      ]
     },
     "metadata": {},
     "output_type": "display_data"
    },
    {
     "name": "stderr",
     "output_type": "stream",
     "text": []
    },
    {
     "data": {
      "application/vnd.jupyter.widget-view+json": {
       "model_id": "ef7516d5e21748f985eebcbdaf32592e",
       "version_major": 2,
       "version_minor": 0
      },
      "text/plain": [
       "  0%|          | 0/10 [00:00<?, ?it/s]"
      ]
     },
     "metadata": {},
     "output_type": "display_data"
    },
    {
     "name": "stderr",
     "output_type": "stream",
     "text": []
    },
    {
     "data": {
      "application/vnd.jupyter.widget-view+json": {
       "model_id": "0cafafcb41cc40c09d0147c612385f97",
       "version_major": 2,
       "version_minor": 0
      },
      "text/plain": [
       "  0%|          | 0/10 [00:00<?, ?it/s]"
      ]
     },
     "metadata": {},
     "output_type": "display_data"
    },
    {
     "name": "stderr",
     "output_type": "stream",
     "text": []
    },
    {
     "data": {
      "application/vnd.jupyter.widget-view+json": {
       "model_id": "243625b0e1c04b69a379a5dbdbc156b1",
       "version_major": 2,
       "version_minor": 0
      },
      "text/plain": [
       "  0%|          | 0/10 [00:00<?, ?it/s]"
      ]
     },
     "metadata": {},
     "output_type": "display_data"
    },
    {
     "name": "stderr",
     "output_type": "stream",
     "text": []
    },
    {
     "data": {
      "application/vnd.jupyter.widget-view+json": {
       "model_id": "c0dbd4a1fbeb45eaae6a32e0aa597bd0",
       "version_major": 2,
       "version_minor": 0
      },
      "text/plain": [
       "  0%|          | 0/10 [00:00<?, ?it/s]"
      ]
     },
     "metadata": {},
     "output_type": "display_data"
    },
    {
     "name": "stderr",
     "output_type": "stream",
     "text": []
    },
    {
     "data": {
      "application/vnd.jupyter.widget-view+json": {
       "model_id": "5ec5ed917c414e37beb6a2bb167e79ce",
       "version_major": 2,
       "version_minor": 0
      },
      "text/plain": [
       "  0%|          | 0/10 [00:00<?, ?it/s]"
      ]
     },
     "metadata": {},
     "output_type": "display_data"
    },
    {
     "name": "stderr",
     "output_type": "stream",
     "text": []
    },
    {
     "data": {
      "application/vnd.jupyter.widget-view+json": {
       "model_id": "b315199876084a3eb1356e18dc83a268",
       "version_major": 2,
       "version_minor": 0
      },
      "text/plain": [
       "  0%|          | 0/10 [00:00<?, ?it/s]"
      ]
     },
     "metadata": {},
     "output_type": "display_data"
    },
    {
     "name": "stderr",
     "output_type": "stream",
     "text": []
    },
    {
     "data": {
      "application/vnd.jupyter.widget-view+json": {
       "model_id": "7c4769e3ed9c43dabaebeeef113764fa",
       "version_major": 2,
       "version_minor": 0
      },
      "text/plain": [
       "  0%|          | 0/10 [00:00<?, ?it/s]"
      ]
     },
     "metadata": {},
     "output_type": "display_data"
    },
    {
     "name": "stderr",
     "output_type": "stream",
     "text": []
    },
    {
     "data": {
      "application/vnd.jupyter.widget-view+json": {
       "model_id": "14450a2426c849b39d2fcac5b18d6804",
       "version_major": 2,
       "version_minor": 0
      },
      "text/plain": [
       "  0%|          | 0/10 [00:00<?, ?it/s]"
      ]
     },
     "metadata": {},
     "output_type": "display_data"
    },
    {
     "name": "stderr",
     "output_type": "stream",
     "text": [
      "100%|██████████| 10/10 [00:06<00:00,  1.61it/s]\n",
      " 17%|█▋        | 1/6 [01:18<06:32, 78.55s/it]"
     ]
    },
    {
     "data": {
      "application/vnd.jupyter.widget-view+json": {
       "model_id": "109cafc9b0534b168ab6aed240635b1d",
       "version_major": 2,
       "version_minor": 0
      },
      "text/plain": [
       "  0%|          | 0/10 [00:00<?, ?it/s]"
      ]
     },
     "metadata": {},
     "output_type": "display_data"
    },
    {
     "name": "stderr",
     "output_type": "stream",
     "text": []
    },
    {
     "data": {
      "application/vnd.jupyter.widget-view+json": {
       "model_id": "83413e84c7be4a939b0b9e16c4db708e",
       "version_major": 2,
       "version_minor": 0
      },
      "text/plain": [
       "  0%|          | 0/10 [00:00<?, ?it/s]"
      ]
     },
     "metadata": {},
     "output_type": "display_data"
    },
    {
     "name": "stderr",
     "output_type": "stream",
     "text": []
    },
    {
     "data": {
      "application/vnd.jupyter.widget-view+json": {
       "model_id": "43bb61388b94443687fe9464d605c512",
       "version_major": 2,
       "version_minor": 0
      },
      "text/plain": [
       "  0%|          | 0/10 [00:00<?, ?it/s]"
      ]
     },
     "metadata": {},
     "output_type": "display_data"
    },
    {
     "name": "stderr",
     "output_type": "stream",
     "text": []
    },
    {
     "data": {
      "application/vnd.jupyter.widget-view+json": {
       "model_id": "57a8d30c9fb94487a339cde08f5116d2",
       "version_major": 2,
       "version_minor": 0
      },
      "text/plain": [
       "  0%|          | 0/10 [00:00<?, ?it/s]"
      ]
     },
     "metadata": {},
     "output_type": "display_data"
    },
    {
     "name": "stderr",
     "output_type": "stream",
     "text": []
    },
    {
     "data": {
      "application/vnd.jupyter.widget-view+json": {
       "model_id": "9aa943f0faf4447eb52618be26bc23c0",
       "version_major": 2,
       "version_minor": 0
      },
      "text/plain": [
       "  0%|          | 0/10 [00:00<?, ?it/s]"
      ]
     },
     "metadata": {},
     "output_type": "display_data"
    },
    {
     "name": "stderr",
     "output_type": "stream",
     "text": []
    },
    {
     "data": {
      "application/vnd.jupyter.widget-view+json": {
       "model_id": "b00e5f34eb7e49dd807363836bb4aec1",
       "version_major": 2,
       "version_minor": 0
      },
      "text/plain": [
       "  0%|          | 0/10 [00:00<?, ?it/s]"
      ]
     },
     "metadata": {},
     "output_type": "display_data"
    },
    {
     "name": "stderr",
     "output_type": "stream",
     "text": []
    },
    {
     "data": {
      "application/vnd.jupyter.widget-view+json": {
       "model_id": "d72eac69f782440f93fbd24a0f86eafc",
       "version_major": 2,
       "version_minor": 0
      },
      "text/plain": [
       "  0%|          | 0/10 [00:00<?, ?it/s]"
      ]
     },
     "metadata": {},
     "output_type": "display_data"
    },
    {
     "name": "stderr",
     "output_type": "stream",
     "text": []
    },
    {
     "data": {
      "application/vnd.jupyter.widget-view+json": {
       "model_id": "56c3855e131940f89a777237cb254a2b",
       "version_major": 2,
       "version_minor": 0
      },
      "text/plain": [
       "  0%|          | 0/10 [00:00<?, ?it/s]"
      ]
     },
     "metadata": {},
     "output_type": "display_data"
    },
    {
     "name": "stderr",
     "output_type": "stream",
     "text": []
    },
    {
     "data": {
      "application/vnd.jupyter.widget-view+json": {
       "model_id": "be89c3f9d1504d60b20f3df71c82c03d",
       "version_major": 2,
       "version_minor": 0
      },
      "text/plain": [
       "  0%|          | 0/10 [00:00<?, ?it/s]"
      ]
     },
     "metadata": {},
     "output_type": "display_data"
    },
    {
     "name": "stderr",
     "output_type": "stream",
     "text": []
    },
    {
     "data": {
      "application/vnd.jupyter.widget-view+json": {
       "model_id": "0aff767605dc45d7afafe2cdba276350",
       "version_major": 2,
       "version_minor": 0
      },
      "text/plain": [
       "  0%|          | 0/10 [00:00<?, ?it/s]"
      ]
     },
     "metadata": {},
     "output_type": "display_data"
    },
    {
     "name": "stderr",
     "output_type": "stream",
     "text": [
      "100%|██████████| 10/10 [00:06<00:00,  1.60it/s]\n"
     ]
    },
    {
     "data": {
      "application/vnd.jupyter.widget-view+json": {
       "model_id": "3a6c496322f54d669eacf765679887dc",
       "version_major": 2,
       "version_minor": 0
      },
      "text/plain": [
       "  0%|          | 0/10 [00:00<?, ?it/s]"
      ]
     },
     "metadata": {},
     "output_type": "display_data"
    },
    {
     "name": "stderr",
     "output_type": "stream",
     "text": []
    },
    {
     "data": {
      "application/vnd.jupyter.widget-view+json": {
       "model_id": "e4b835b0ac91465cb3091ce90269b4d3",
       "version_major": 2,
       "version_minor": 0
      },
      "text/plain": [
       "  0%|          | 0/10 [00:00<?, ?it/s]"
      ]
     },
     "metadata": {},
     "output_type": "display_data"
    },
    {
     "name": "stderr",
     "output_type": "stream",
     "text": []
    },
    {
     "data": {
      "application/vnd.jupyter.widget-view+json": {
       "model_id": "442e8729e7c64f19b469980554a8345d",
       "version_major": 2,
       "version_minor": 0
      },
      "text/plain": [
       "  0%|          | 0/10 [00:00<?, ?it/s]"
      ]
     },
     "metadata": {},
     "output_type": "display_data"
    },
    {
     "name": "stderr",
     "output_type": "stream",
     "text": []
    },
    {
     "data": {
      "application/vnd.jupyter.widget-view+json": {
       "model_id": "1b897dbb30b04314b3548ae528c9bee0",
       "version_major": 2,
       "version_minor": 0
      },
      "text/plain": [
       "  0%|          | 0/10 [00:00<?, ?it/s]"
      ]
     },
     "metadata": {},
     "output_type": "display_data"
    },
    {
     "name": "stderr",
     "output_type": "stream",
     "text": []
    },
    {
     "data": {
      "application/vnd.jupyter.widget-view+json": {
       "model_id": "19216389236e4aa09e262f84fd6ecdc7",
       "version_major": 2,
       "version_minor": 0
      },
      "text/plain": [
       "  0%|          | 0/10 [00:00<?, ?it/s]"
      ]
     },
     "metadata": {},
     "output_type": "display_data"
    },
    {
     "name": "stderr",
     "output_type": "stream",
     "text": []
    },
    {
     "data": {
      "application/vnd.jupyter.widget-view+json": {
       "model_id": "7282530af80042c387c712d0f24833f0",
       "version_major": 2,
       "version_minor": 0
      },
      "text/plain": [
       "  0%|          | 0/10 [00:00<?, ?it/s]"
      ]
     },
     "metadata": {},
     "output_type": "display_data"
    },
    {
     "name": "stderr",
     "output_type": "stream",
     "text": []
    },
    {
     "data": {
      "application/vnd.jupyter.widget-view+json": {
       "model_id": "08719acf11534e5db1501090ff1e1b9b",
       "version_major": 2,
       "version_minor": 0
      },
      "text/plain": [
       "  0%|          | 0/10 [00:00<?, ?it/s]"
      ]
     },
     "metadata": {},
     "output_type": "display_data"
    },
    {
     "name": "stderr",
     "output_type": "stream",
     "text": []
    },
    {
     "data": {
      "application/vnd.jupyter.widget-view+json": {
       "model_id": "1d677d93660b40eea7a12ff469c3a782",
       "version_major": 2,
       "version_minor": 0
      },
      "text/plain": [
       "  0%|          | 0/10 [00:00<?, ?it/s]"
      ]
     },
     "metadata": {},
     "output_type": "display_data"
    },
    {
     "name": "stderr",
     "output_type": "stream",
     "text": []
    },
    {
     "data": {
      "application/vnd.jupyter.widget-view+json": {
       "model_id": "a2492a5fc17c4e93b68899c15314c29d",
       "version_major": 2,
       "version_minor": 0
      },
      "text/plain": [
       "  0%|          | 0/10 [00:00<?, ?it/s]"
      ]
     },
     "metadata": {},
     "output_type": "display_data"
    },
    {
     "name": "stderr",
     "output_type": "stream",
     "text": []
    },
    {
     "data": {
      "application/vnd.jupyter.widget-view+json": {
       "model_id": "fd5cd242f3124726bd1beb79984014f6",
       "version_major": 2,
       "version_minor": 0
      },
      "text/plain": [
       "  0%|          | 0/10 [00:00<?, ?it/s]"
      ]
     },
     "metadata": {},
     "output_type": "display_data"
    },
    {
     "name": "stderr",
     "output_type": "stream",
     "text": [
      "100%|██████████| 10/10 [00:07<00:00,  1.33it/s]\n"
     ]
    },
    {
     "data": {
      "application/vnd.jupyter.widget-view+json": {
       "model_id": "30291212c5184e26ae3280c6cf4e57a4",
       "version_major": 2,
       "version_minor": 0
      },
      "text/plain": [
       "  0%|          | 0/10 [00:00<?, ?it/s]"
      ]
     },
     "metadata": {},
     "output_type": "display_data"
    },
    {
     "name": "stderr",
     "output_type": "stream",
     "text": []
    },
    {
     "data": {
      "application/vnd.jupyter.widget-view+json": {
       "model_id": "de16b0887b1c43b6bd2a644e0b0a4a30",
       "version_major": 2,
       "version_minor": 0
      },
      "text/plain": [
       "  0%|          | 0/10 [00:00<?, ?it/s]"
      ]
     },
     "metadata": {},
     "output_type": "display_data"
    },
    {
     "name": "stderr",
     "output_type": "stream",
     "text": []
    },
    {
     "data": {
      "application/vnd.jupyter.widget-view+json": {
       "model_id": "b0980806ea8644bf8f60a5d9ce39bab0",
       "version_major": 2,
       "version_minor": 0
      },
      "text/plain": [
       "  0%|          | 0/10 [00:00<?, ?it/s]"
      ]
     },
     "metadata": {},
     "output_type": "display_data"
    },
    {
     "name": "stderr",
     "output_type": "stream",
     "text": []
    },
    {
     "data": {
      "application/vnd.jupyter.widget-view+json": {
       "model_id": "80f488ac63b34fcda717a41675d0a9d9",
       "version_major": 2,
       "version_minor": 0
      },
      "text/plain": [
       "  0%|          | 0/10 [00:00<?, ?it/s]"
      ]
     },
     "metadata": {},
     "output_type": "display_data"
    },
    {
     "name": "stderr",
     "output_type": "stream",
     "text": []
    },
    {
     "data": {
      "application/vnd.jupyter.widget-view+json": {
       "model_id": "9e68f87a6e3e4105b63b8c49542cc726",
       "version_major": 2,
       "version_minor": 0
      },
      "text/plain": [
       "  0%|          | 0/10 [00:00<?, ?it/s]"
      ]
     },
     "metadata": {},
     "output_type": "display_data"
    },
    {
     "name": "stderr",
     "output_type": "stream",
     "text": []
    },
    {
     "data": {
      "application/vnd.jupyter.widget-view+json": {
       "model_id": "373e873e36064267b0b9249a759b0579",
       "version_major": 2,
       "version_minor": 0
      },
      "text/plain": [
       "  0%|          | 0/10 [00:00<?, ?it/s]"
      ]
     },
     "metadata": {},
     "output_type": "display_data"
    },
    {
     "name": "stderr",
     "output_type": "stream",
     "text": []
    },
    {
     "data": {
      "application/vnd.jupyter.widget-view+json": {
       "model_id": "ac399d6963bc402fb50058f115b1f763",
       "version_major": 2,
       "version_minor": 0
      },
      "text/plain": [
       "  0%|          | 0/10 [00:00<?, ?it/s]"
      ]
     },
     "metadata": {},
     "output_type": "display_data"
    },
    {
     "name": "stderr",
     "output_type": "stream",
     "text": []
    },
    {
     "data": {
      "application/vnd.jupyter.widget-view+json": {
       "model_id": "ab1c37ba951846b680ef5be6c5a2cf33",
       "version_major": 2,
       "version_minor": 0
      },
      "text/plain": [
       "  0%|          | 0/10 [00:00<?, ?it/s]"
      ]
     },
     "metadata": {},
     "output_type": "display_data"
    },
    {
     "name": "stderr",
     "output_type": "stream",
     "text": []
    },
    {
     "data": {
      "application/vnd.jupyter.widget-view+json": {
       "model_id": "a950cb52d99049ec80e1c89252762076",
       "version_major": 2,
       "version_minor": 0
      },
      "text/plain": [
       "  0%|          | 0/10 [00:00<?, ?it/s]"
      ]
     },
     "metadata": {},
     "output_type": "display_data"
    },
    {
     "name": "stderr",
     "output_type": "stream",
     "text": []
    },
    {
     "data": {
      "application/vnd.jupyter.widget-view+json": {
       "model_id": "767ed241e994432fb84e20289c41ae5b",
       "version_major": 2,
       "version_minor": 0
      },
      "text/plain": [
       "  0%|          | 0/10 [00:00<?, ?it/s]"
      ]
     },
     "metadata": {},
     "output_type": "display_data"
    },
    {
     "name": "stderr",
     "output_type": "stream",
     "text": [
      "100%|██████████| 10/10 [00:06<00:00,  1.67it/s]\n"
     ]
    },
    {
     "data": {
      "application/vnd.jupyter.widget-view+json": {
       "model_id": "ef642b85e33841579e962fe133468f3b",
       "version_major": 2,
       "version_minor": 0
      },
      "text/plain": [
       "  0%|          | 0/10 [00:00<?, ?it/s]"
      ]
     },
     "metadata": {},
     "output_type": "display_data"
    },
    {
     "name": "stderr",
     "output_type": "stream",
     "text": []
    },
    {
     "data": {
      "application/vnd.jupyter.widget-view+json": {
       "model_id": "24e2f9140daf4367acbee9e9a8366513",
       "version_major": 2,
       "version_minor": 0
      },
      "text/plain": [
       "  0%|          | 0/10 [00:00<?, ?it/s]"
      ]
     },
     "metadata": {},
     "output_type": "display_data"
    },
    {
     "name": "stderr",
     "output_type": "stream",
     "text": []
    },
    {
     "data": {
      "application/vnd.jupyter.widget-view+json": {
       "model_id": "e924042139ae4b1e884025b149cf8835",
       "version_major": 2,
       "version_minor": 0
      },
      "text/plain": [
       "  0%|          | 0/10 [00:00<?, ?it/s]"
      ]
     },
     "metadata": {},
     "output_type": "display_data"
    },
    {
     "name": "stderr",
     "output_type": "stream",
     "text": []
    },
    {
     "data": {
      "application/vnd.jupyter.widget-view+json": {
       "model_id": "db42ed9881034a45aa89bb84679cc79f",
       "version_major": 2,
       "version_minor": 0
      },
      "text/plain": [
       "  0%|          | 0/10 [00:00<?, ?it/s]"
      ]
     },
     "metadata": {},
     "output_type": "display_data"
    },
    {
     "name": "stderr",
     "output_type": "stream",
     "text": []
    },
    {
     "data": {
      "application/vnd.jupyter.widget-view+json": {
       "model_id": "1c59cb2a8d0c4d1798981b39d16d8f82",
       "version_major": 2,
       "version_minor": 0
      },
      "text/plain": [
       "  0%|          | 0/10 [00:00<?, ?it/s]"
      ]
     },
     "metadata": {},
     "output_type": "display_data"
    },
    {
     "name": "stderr",
     "output_type": "stream",
     "text": []
    },
    {
     "data": {
      "application/vnd.jupyter.widget-view+json": {
       "model_id": "5e81a0a8f20e447fb03c684de4fee034",
       "version_major": 2,
       "version_minor": 0
      },
      "text/plain": [
       "  0%|          | 0/10 [00:00<?, ?it/s]"
      ]
     },
     "metadata": {},
     "output_type": "display_data"
    },
    {
     "name": "stderr",
     "output_type": "stream",
     "text": []
    },
    {
     "data": {
      "application/vnd.jupyter.widget-view+json": {
       "model_id": "781bc30b1eea4b44b65013d24a8bc2a6",
       "version_major": 2,
       "version_minor": 0
      },
      "text/plain": [
       "  0%|          | 0/10 [00:00<?, ?it/s]"
      ]
     },
     "metadata": {},
     "output_type": "display_data"
    },
    {
     "name": "stderr",
     "output_type": "stream",
     "text": []
    },
    {
     "data": {
      "application/vnd.jupyter.widget-view+json": {
       "model_id": "b096c8c03e5d4f11bc758b3ad2bb6685",
       "version_major": 2,
       "version_minor": 0
      },
      "text/plain": [
       "  0%|          | 0/10 [00:00<?, ?it/s]"
      ]
     },
     "metadata": {},
     "output_type": "display_data"
    },
    {
     "name": "stderr",
     "output_type": "stream",
     "text": []
    },
    {
     "data": {
      "application/vnd.jupyter.widget-view+json": {
       "model_id": "63abebbeb8714a9895969b39a808698f",
       "version_major": 2,
       "version_minor": 0
      },
      "text/plain": [
       "  0%|          | 0/10 [00:00<?, ?it/s]"
      ]
     },
     "metadata": {},
     "output_type": "display_data"
    },
    {
     "name": "stderr",
     "output_type": "stream",
     "text": []
    },
    {
     "data": {
      "application/vnd.jupyter.widget-view+json": {
       "model_id": "c8a07fc592c648a8b378629b1b0c4e3b",
       "version_major": 2,
       "version_minor": 0
      },
      "text/plain": [
       "  0%|          | 0/10 [00:00<?, ?it/s]"
      ]
     },
     "metadata": {},
     "output_type": "display_data"
    },
    {
     "name": "stderr",
     "output_type": "stream",
     "text": [
      "100%|██████████| 10/10 [00:06<00:00,  1.65it/s]\n"
     ]
    },
    {
     "data": {
      "application/vnd.jupyter.widget-view+json": {
       "model_id": "5689de1a5ee1412ea09c3644bd05244e",
       "version_major": 2,
       "version_minor": 0
      },
      "text/plain": [
       "  0%|          | 0/10 [00:00<?, ?it/s]"
      ]
     },
     "metadata": {},
     "output_type": "display_data"
    },
    {
     "name": "stderr",
     "output_type": "stream",
     "text": []
    },
    {
     "data": {
      "application/vnd.jupyter.widget-view+json": {
       "model_id": "9dc9ef4e28134c4eac594fd689ac0693",
       "version_major": 2,
       "version_minor": 0
      },
      "text/plain": [
       "  0%|          | 0/10 [00:00<?, ?it/s]"
      ]
     },
     "metadata": {},
     "output_type": "display_data"
    },
    {
     "name": "stderr",
     "output_type": "stream",
     "text": []
    },
    {
     "data": {
      "application/vnd.jupyter.widget-view+json": {
       "model_id": "1b6c206a9e094a17b60754cc4042bc35",
       "version_major": 2,
       "version_minor": 0
      },
      "text/plain": [
       "  0%|          | 0/10 [00:00<?, ?it/s]"
      ]
     },
     "metadata": {},
     "output_type": "display_data"
    },
    {
     "name": "stderr",
     "output_type": "stream",
     "text": []
    },
    {
     "data": {
      "application/vnd.jupyter.widget-view+json": {
       "model_id": "5422bbba7da4459d8acb3d2b6f1826b5",
       "version_major": 2,
       "version_minor": 0
      },
      "text/plain": [
       "  0%|          | 0/10 [00:00<?, ?it/s]"
      ]
     },
     "metadata": {},
     "output_type": "display_data"
    },
    {
     "name": "stderr",
     "output_type": "stream",
     "text": []
    },
    {
     "data": {
      "application/vnd.jupyter.widget-view+json": {
       "model_id": "160ffed55a0942229dbc27385a48d29f",
       "version_major": 2,
       "version_minor": 0
      },
      "text/plain": [
       "  0%|          | 0/10 [00:00<?, ?it/s]"
      ]
     },
     "metadata": {},
     "output_type": "display_data"
    },
    {
     "name": "stderr",
     "output_type": "stream",
     "text": []
    },
    {
     "data": {
      "application/vnd.jupyter.widget-view+json": {
       "model_id": "e3370bb488e443079bf83b3724400125",
       "version_major": 2,
       "version_minor": 0
      },
      "text/plain": [
       "  0%|          | 0/10 [00:00<?, ?it/s]"
      ]
     },
     "metadata": {},
     "output_type": "display_data"
    },
    {
     "name": "stderr",
     "output_type": "stream",
     "text": []
    },
    {
     "data": {
      "application/vnd.jupyter.widget-view+json": {
       "model_id": "e0e16f84191a4ff8aa2ae617ce717cf7",
       "version_major": 2,
       "version_minor": 0
      },
      "text/plain": [
       "  0%|          | 0/10 [00:00<?, ?it/s]"
      ]
     },
     "metadata": {},
     "output_type": "display_data"
    },
    {
     "name": "stderr",
     "output_type": "stream",
     "text": []
    },
    {
     "data": {
      "application/vnd.jupyter.widget-view+json": {
       "model_id": "c8ea3782cf6a4f9da5b2e22af3dbfcc9",
       "version_major": 2,
       "version_minor": 0
      },
      "text/plain": [
       "  0%|          | 0/10 [00:00<?, ?it/s]"
      ]
     },
     "metadata": {},
     "output_type": "display_data"
    },
    {
     "name": "stderr",
     "output_type": "stream",
     "text": []
    },
    {
     "data": {
      "application/vnd.jupyter.widget-view+json": {
       "model_id": "be3ed7a33fe840a385b4eaf95c4d333e",
       "version_major": 2,
       "version_minor": 0
      },
      "text/plain": [
       "  0%|          | 0/10 [00:00<?, ?it/s]"
      ]
     },
     "metadata": {},
     "output_type": "display_data"
    },
    {
     "name": "stderr",
     "output_type": "stream",
     "text": []
    },
    {
     "data": {
      "application/vnd.jupyter.widget-view+json": {
       "model_id": "48e16ad6ad2648039acb56d427c62809",
       "version_major": 2,
       "version_minor": 0
      },
      "text/plain": [
       "  0%|          | 0/10 [00:00<?, ?it/s]"
      ]
     },
     "metadata": {},
     "output_type": "display_data"
    },
    {
     "name": "stderr",
     "output_type": "stream",
     "text": [
      "100%|██████████| 10/10 [00:07<00:00,  1.42it/s]\n"
     ]
    },
    {
     "data": {
      "application/vnd.jupyter.widget-view+json": {
       "model_id": "74dc755e2d3a46988a5cb0e40d899e09",
       "version_major": 2,
       "version_minor": 0
      },
      "text/plain": [
       "  0%|          | 0/10 [00:00<?, ?it/s]"
      ]
     },
     "metadata": {},
     "output_type": "display_data"
    },
    {
     "name": "stderr",
     "output_type": "stream",
     "text": []
    },
    {
     "data": {
      "application/vnd.jupyter.widget-view+json": {
       "model_id": "dba40c4211a5444dbe433e7fca73ca39",
       "version_major": 2,
       "version_minor": 0
      },
      "text/plain": [
       "  0%|          | 0/10 [00:00<?, ?it/s]"
      ]
     },
     "metadata": {},
     "output_type": "display_data"
    },
    {
     "name": "stderr",
     "output_type": "stream",
     "text": []
    },
    {
     "data": {
      "application/vnd.jupyter.widget-view+json": {
       "model_id": "0f0d6ec1396740c093b67557086e57bf",
       "version_major": 2,
       "version_minor": 0
      },
      "text/plain": [
       "  0%|          | 0/10 [00:00<?, ?it/s]"
      ]
     },
     "metadata": {},
     "output_type": "display_data"
    },
    {
     "name": "stderr",
     "output_type": "stream",
     "text": []
    },
    {
     "data": {
      "application/vnd.jupyter.widget-view+json": {
       "model_id": "7fcd35da522f42c8bc78909782fd5d5b",
       "version_major": 2,
       "version_minor": 0
      },
      "text/plain": [
       "  0%|          | 0/10 [00:00<?, ?it/s]"
      ]
     },
     "metadata": {},
     "output_type": "display_data"
    },
    {
     "name": "stderr",
     "output_type": "stream",
     "text": []
    },
    {
     "data": {
      "application/vnd.jupyter.widget-view+json": {
       "model_id": "ed496eb316ed48399adb5654b92cef35",
       "version_major": 2,
       "version_minor": 0
      },
      "text/plain": [
       "  0%|          | 0/10 [00:00<?, ?it/s]"
      ]
     },
     "metadata": {},
     "output_type": "display_data"
    },
    {
     "name": "stderr",
     "output_type": "stream",
     "text": []
    },
    {
     "data": {
      "application/vnd.jupyter.widget-view+json": {
       "model_id": "7d5f6bf963a041c7b90f1942dba57a48",
       "version_major": 2,
       "version_minor": 0
      },
      "text/plain": [
       "  0%|          | 0/10 [00:00<?, ?it/s]"
      ]
     },
     "metadata": {},
     "output_type": "display_data"
    },
    {
     "name": "stderr",
     "output_type": "stream",
     "text": []
    },
    {
     "data": {
      "application/vnd.jupyter.widget-view+json": {
       "model_id": "6fa5cd3b590242cfb420542ddd2ceb77",
       "version_major": 2,
       "version_minor": 0
      },
      "text/plain": [
       "  0%|          | 0/10 [00:00<?, ?it/s]"
      ]
     },
     "metadata": {},
     "output_type": "display_data"
    },
    {
     "name": "stderr",
     "output_type": "stream",
     "text": []
    },
    {
     "data": {
      "application/vnd.jupyter.widget-view+json": {
       "model_id": "42461a5fab8442d6a9940277200fcbc4",
       "version_major": 2,
       "version_minor": 0
      },
      "text/plain": [
       "  0%|          | 0/10 [00:00<?, ?it/s]"
      ]
     },
     "metadata": {},
     "output_type": "display_data"
    },
    {
     "name": "stderr",
     "output_type": "stream",
     "text": []
    },
    {
     "data": {
      "application/vnd.jupyter.widget-view+json": {
       "model_id": "23dbd4b6ca9346a58c18828f81223049",
       "version_major": 2,
       "version_minor": 0
      },
      "text/plain": [
       "  0%|          | 0/10 [00:00<?, ?it/s]"
      ]
     },
     "metadata": {},
     "output_type": "display_data"
    },
    {
     "name": "stderr",
     "output_type": "stream",
     "text": []
    },
    {
     "data": {
      "application/vnd.jupyter.widget-view+json": {
       "model_id": "c064b53000174300a4f65e0605f9ca86",
       "version_major": 2,
       "version_minor": 0
      },
      "text/plain": [
       "  0%|          | 0/10 [00:00<?, ?it/s]"
      ]
     },
     "metadata": {},
     "output_type": "display_data"
    },
    {
     "name": "stderr",
     "output_type": "stream",
     "text": [
      "100%|██████████| 10/10 [00:06<00:00,  1.66it/s]\n"
     ]
    },
    {
     "data": {
      "application/vnd.jupyter.widget-view+json": {
       "model_id": "323cc12c970d4b3788c94ef43570aab1",
       "version_major": 2,
       "version_minor": 0
      },
      "text/plain": [
       "  0%|          | 0/10 [00:00<?, ?it/s]"
      ]
     },
     "metadata": {},
     "output_type": "display_data"
    },
    {
     "name": "stderr",
     "output_type": "stream",
     "text": []
    },
    {
     "data": {
      "application/vnd.jupyter.widget-view+json": {
       "model_id": "685016f4779d42bbb577a8727a040c18",
       "version_major": 2,
       "version_minor": 0
      },
      "text/plain": [
       "  0%|          | 0/10 [00:00<?, ?it/s]"
      ]
     },
     "metadata": {},
     "output_type": "display_data"
    },
    {
     "name": "stderr",
     "output_type": "stream",
     "text": []
    },
    {
     "data": {
      "application/vnd.jupyter.widget-view+json": {
       "model_id": "e19c11d453d242db9a65792d41550282",
       "version_major": 2,
       "version_minor": 0
      },
      "text/plain": [
       "  0%|          | 0/10 [00:00<?, ?it/s]"
      ]
     },
     "metadata": {},
     "output_type": "display_data"
    },
    {
     "name": "stderr",
     "output_type": "stream",
     "text": []
    },
    {
     "data": {
      "application/vnd.jupyter.widget-view+json": {
       "model_id": "e90ad5b38ae0426d9e3664982a41eaed",
       "version_major": 2,
       "version_minor": 0
      },
      "text/plain": [
       "  0%|          | 0/10 [00:00<?, ?it/s]"
      ]
     },
     "metadata": {},
     "output_type": "display_data"
    },
    {
     "name": "stderr",
     "output_type": "stream",
     "text": []
    },
    {
     "data": {
      "application/vnd.jupyter.widget-view+json": {
       "model_id": "5c415ee60cdb48fe891924fc39955bf4",
       "version_major": 2,
       "version_minor": 0
      },
      "text/plain": [
       "  0%|          | 0/10 [00:00<?, ?it/s]"
      ]
     },
     "metadata": {},
     "output_type": "display_data"
    },
    {
     "name": "stderr",
     "output_type": "stream",
     "text": []
    },
    {
     "data": {
      "application/vnd.jupyter.widget-view+json": {
       "model_id": "0fae1c092556451c9c5d010ad47e797d",
       "version_major": 2,
       "version_minor": 0
      },
      "text/plain": [
       "  0%|          | 0/10 [00:00<?, ?it/s]"
      ]
     },
     "metadata": {},
     "output_type": "display_data"
    },
    {
     "name": "stderr",
     "output_type": "stream",
     "text": []
    },
    {
     "data": {
      "application/vnd.jupyter.widget-view+json": {
       "model_id": "67e716db67e14349835be3688de2da0f",
       "version_major": 2,
       "version_minor": 0
      },
      "text/plain": [
       "  0%|          | 0/10 [00:00<?, ?it/s]"
      ]
     },
     "metadata": {},
     "output_type": "display_data"
    },
    {
     "name": "stderr",
     "output_type": "stream",
     "text": []
    },
    {
     "data": {
      "application/vnd.jupyter.widget-view+json": {
       "model_id": "b33243e465fc42bb86403727c2c16840",
       "version_major": 2,
       "version_minor": 0
      },
      "text/plain": [
       "  0%|          | 0/10 [00:00<?, ?it/s]"
      ]
     },
     "metadata": {},
     "output_type": "display_data"
    },
    {
     "name": "stderr",
     "output_type": "stream",
     "text": []
    },
    {
     "data": {
      "application/vnd.jupyter.widget-view+json": {
       "model_id": "a584f3f7c00a41a782c6c2e6bbc053a7",
       "version_major": 2,
       "version_minor": 0
      },
      "text/plain": [
       "  0%|          | 0/10 [00:00<?, ?it/s]"
      ]
     },
     "metadata": {},
     "output_type": "display_data"
    },
    {
     "name": "stderr",
     "output_type": "stream",
     "text": []
    },
    {
     "data": {
      "application/vnd.jupyter.widget-view+json": {
       "model_id": "fd2c3ca456034f5eb3ccc389eb0c25a8",
       "version_major": 2,
       "version_minor": 0
      },
      "text/plain": [
       "  0%|          | 0/10 [00:00<?, ?it/s]"
      ]
     },
     "metadata": {},
     "output_type": "display_data"
    },
    {
     "name": "stderr",
     "output_type": "stream",
     "text": [
      "100%|██████████| 10/10 [00:07<00:00,  1.41it/s]\n"
     ]
    },
    {
     "data": {
      "application/vnd.jupyter.widget-view+json": {
       "model_id": "e1deefbb66d64da18e8d1c8ed6525b4d",
       "version_major": 2,
       "version_minor": 0
      },
      "text/plain": [
       "  0%|          | 0/10 [00:00<?, ?it/s]"
      ]
     },
     "metadata": {},
     "output_type": "display_data"
    },
    {
     "name": "stderr",
     "output_type": "stream",
     "text": []
    },
    {
     "data": {
      "application/vnd.jupyter.widget-view+json": {
       "model_id": "6e7e9d9e27d24fdf9b41c0c4d60e9123",
       "version_major": 2,
       "version_minor": 0
      },
      "text/plain": [
       "  0%|          | 0/10 [00:00<?, ?it/s]"
      ]
     },
     "metadata": {},
     "output_type": "display_data"
    },
    {
     "name": "stderr",
     "output_type": "stream",
     "text": []
    },
    {
     "data": {
      "application/vnd.jupyter.widget-view+json": {
       "model_id": "8d94243e18c4487aa87696743c853ca6",
       "version_major": 2,
       "version_minor": 0
      },
      "text/plain": [
       "  0%|          | 0/10 [00:00<?, ?it/s]"
      ]
     },
     "metadata": {},
     "output_type": "display_data"
    },
    {
     "name": "stderr",
     "output_type": "stream",
     "text": []
    },
    {
     "data": {
      "application/vnd.jupyter.widget-view+json": {
       "model_id": "038ac7b11ce44c1188c7728e62ad8606",
       "version_major": 2,
       "version_minor": 0
      },
      "text/plain": [
       "  0%|          | 0/10 [00:00<?, ?it/s]"
      ]
     },
     "metadata": {},
     "output_type": "display_data"
    },
    {
     "name": "stderr",
     "output_type": "stream",
     "text": []
    },
    {
     "data": {
      "application/vnd.jupyter.widget-view+json": {
       "model_id": "a98682518b7f411bb5ed2914c41ddecd",
       "version_major": 2,
       "version_minor": 0
      },
      "text/plain": [
       "  0%|          | 0/10 [00:00<?, ?it/s]"
      ]
     },
     "metadata": {},
     "output_type": "display_data"
    },
    {
     "name": "stderr",
     "output_type": "stream",
     "text": []
    },
    {
     "data": {
      "application/vnd.jupyter.widget-view+json": {
       "model_id": "af58c8d60443464cab8358bbb77311e0",
       "version_major": 2,
       "version_minor": 0
      },
      "text/plain": [
       "  0%|          | 0/10 [00:00<?, ?it/s]"
      ]
     },
     "metadata": {},
     "output_type": "display_data"
    },
    {
     "name": "stderr",
     "output_type": "stream",
     "text": []
    },
    {
     "data": {
      "application/vnd.jupyter.widget-view+json": {
       "model_id": "b571308870534d2d948de0ae9ff73c94",
       "version_major": 2,
       "version_minor": 0
      },
      "text/plain": [
       "  0%|          | 0/10 [00:00<?, ?it/s]"
      ]
     },
     "metadata": {},
     "output_type": "display_data"
    },
    {
     "name": "stderr",
     "output_type": "stream",
     "text": []
    },
    {
     "data": {
      "application/vnd.jupyter.widget-view+json": {
       "model_id": "e94b12c87e7c4d4e9b918ff3c4ec514b",
       "version_major": 2,
       "version_minor": 0
      },
      "text/plain": [
       "  0%|          | 0/10 [00:00<?, ?it/s]"
      ]
     },
     "metadata": {},
     "output_type": "display_data"
    },
    {
     "name": "stderr",
     "output_type": "stream",
     "text": []
    },
    {
     "data": {
      "application/vnd.jupyter.widget-view+json": {
       "model_id": "79415a7f61814cc2877d340e53acf18f",
       "version_major": 2,
       "version_minor": 0
      },
      "text/plain": [
       "  0%|          | 0/10 [00:00<?, ?it/s]"
      ]
     },
     "metadata": {},
     "output_type": "display_data"
    },
    {
     "name": "stderr",
     "output_type": "stream",
     "text": []
    },
    {
     "data": {
      "application/vnd.jupyter.widget-view+json": {
       "model_id": "4b67c1b4b2b8437bb091b3ee0b4253e1",
       "version_major": 2,
       "version_minor": 0
      },
      "text/plain": [
       "  0%|          | 0/10 [00:00<?, ?it/s]"
      ]
     },
     "metadata": {},
     "output_type": "display_data"
    },
    {
     "name": "stderr",
     "output_type": "stream",
     "text": [
      "100%|██████████| 10/10 [00:06<00:00,  1.61it/s]\n"
     ]
    },
    {
     "data": {
      "application/vnd.jupyter.widget-view+json": {
       "model_id": "c0094419e0144be49c8de43494c4ed99",
       "version_major": 2,
       "version_minor": 0
      },
      "text/plain": [
       "  0%|          | 0/10 [00:00<?, ?it/s]"
      ]
     },
     "metadata": {},
     "output_type": "display_data"
    },
    {
     "name": "stderr",
     "output_type": "stream",
     "text": []
    },
    {
     "data": {
      "application/vnd.jupyter.widget-view+json": {
       "model_id": "1b0869188cb14ac981d64b5f0c51558d",
       "version_major": 2,
       "version_minor": 0
      },
      "text/plain": [
       "  0%|          | 0/10 [00:00<?, ?it/s]"
      ]
     },
     "metadata": {},
     "output_type": "display_data"
    },
    {
     "name": "stderr",
     "output_type": "stream",
     "text": []
    },
    {
     "data": {
      "application/vnd.jupyter.widget-view+json": {
       "model_id": "b8c247e500794449a6388ae242412de2",
       "version_major": 2,
       "version_minor": 0
      },
      "text/plain": [
       "  0%|          | 0/10 [00:00<?, ?it/s]"
      ]
     },
     "metadata": {},
     "output_type": "display_data"
    },
    {
     "name": "stderr",
     "output_type": "stream",
     "text": []
    },
    {
     "data": {
      "application/vnd.jupyter.widget-view+json": {
       "model_id": "f760ee540500481a8836f7faff4fb898",
       "version_major": 2,
       "version_minor": 0
      },
      "text/plain": [
       "  0%|          | 0/10 [00:00<?, ?it/s]"
      ]
     },
     "metadata": {},
     "output_type": "display_data"
    },
    {
     "name": "stderr",
     "output_type": "stream",
     "text": []
    },
    {
     "data": {
      "application/vnd.jupyter.widget-view+json": {
       "model_id": "fb33a07091c742659de06278ed03aa56",
       "version_major": 2,
       "version_minor": 0
      },
      "text/plain": [
       "  0%|          | 0/10 [00:00<?, ?it/s]"
      ]
     },
     "metadata": {},
     "output_type": "display_data"
    },
    {
     "name": "stderr",
     "output_type": "stream",
     "text": []
    },
    {
     "data": {
      "application/vnd.jupyter.widget-view+json": {
       "model_id": "2fff43056175405b9070d1752d0fcbc1",
       "version_major": 2,
       "version_minor": 0
      },
      "text/plain": [
       "  0%|          | 0/10 [00:00<?, ?it/s]"
      ]
     },
     "metadata": {},
     "output_type": "display_data"
    },
    {
     "name": "stderr",
     "output_type": "stream",
     "text": []
    },
    {
     "data": {
      "application/vnd.jupyter.widget-view+json": {
       "model_id": "85bd3f455b5f42b787333ec0921ad9a7",
       "version_major": 2,
       "version_minor": 0
      },
      "text/plain": [
       "  0%|          | 0/10 [00:00<?, ?it/s]"
      ]
     },
     "metadata": {},
     "output_type": "display_data"
    },
    {
     "name": "stderr",
     "output_type": "stream",
     "text": []
    },
    {
     "data": {
      "application/vnd.jupyter.widget-view+json": {
       "model_id": "f402d73778e54a80974fc6adf3e38125",
       "version_major": 2,
       "version_minor": 0
      },
      "text/plain": [
       "  0%|          | 0/10 [00:00<?, ?it/s]"
      ]
     },
     "metadata": {},
     "output_type": "display_data"
    },
    {
     "name": "stderr",
     "output_type": "stream",
     "text": []
    },
    {
     "data": {
      "application/vnd.jupyter.widget-view+json": {
       "model_id": "c3c6a47e163b4116a08ae1b2519cfd8a",
       "version_major": 2,
       "version_minor": 0
      },
      "text/plain": [
       "  0%|          | 0/10 [00:00<?, ?it/s]"
      ]
     },
     "metadata": {},
     "output_type": "display_data"
    },
    {
     "name": "stderr",
     "output_type": "stream",
     "text": []
    },
    {
     "data": {
      "application/vnd.jupyter.widget-view+json": {
       "model_id": "e8a4effcc7f84ead9a3004cc80498b00",
       "version_major": 2,
       "version_minor": 0
      },
      "text/plain": [
       "  0%|          | 0/10 [00:00<?, ?it/s]"
      ]
     },
     "metadata": {},
     "output_type": "display_data"
    },
    {
     "name": "stderr",
     "output_type": "stream",
     "text": [
      "100%|██████████| 10/10 [00:05<00:00,  1.70it/s]\n"
     ]
    },
    {
     "data": {
      "application/vnd.jupyter.widget-view+json": {
       "model_id": "176fd1d2ab51427eb85267efdc1726dc",
       "version_major": 2,
       "version_minor": 0
      },
      "text/plain": [
       "  0%|          | 0/10 [00:00<?, ?it/s]"
      ]
     },
     "metadata": {},
     "output_type": "display_data"
    },
    {
     "name": "stderr",
     "output_type": "stream",
     "text": []
    },
    {
     "data": {
      "application/vnd.jupyter.widget-view+json": {
       "model_id": "4a7872549bdf437ab0874fa9e14faa55",
       "version_major": 2,
       "version_minor": 0
      },
      "text/plain": [
       "  0%|          | 0/10 [00:00<?, ?it/s]"
      ]
     },
     "metadata": {},
     "output_type": "display_data"
    },
    {
     "name": "stderr",
     "output_type": "stream",
     "text": []
    },
    {
     "data": {
      "application/vnd.jupyter.widget-view+json": {
       "model_id": "9141f31f745f4842b09ed221700e03e3",
       "version_major": 2,
       "version_minor": 0
      },
      "text/plain": [
       "  0%|          | 0/10 [00:00<?, ?it/s]"
      ]
     },
     "metadata": {},
     "output_type": "display_data"
    },
    {
     "name": "stderr",
     "output_type": "stream",
     "text": []
    },
    {
     "data": {
      "application/vnd.jupyter.widget-view+json": {
       "model_id": "0df9df4681ba418aa5dc4101b9480b8b",
       "version_major": 2,
       "version_minor": 0
      },
      "text/plain": [
       "  0%|          | 0/10 [00:00<?, ?it/s]"
      ]
     },
     "metadata": {},
     "output_type": "display_data"
    },
    {
     "name": "stderr",
     "output_type": "stream",
     "text": []
    },
    {
     "data": {
      "application/vnd.jupyter.widget-view+json": {
       "model_id": "43bb0863bff4467c99d1d55cfba01946",
       "version_major": 2,
       "version_minor": 0
      },
      "text/plain": [
       "  0%|          | 0/10 [00:00<?, ?it/s]"
      ]
     },
     "metadata": {},
     "output_type": "display_data"
    },
    {
     "name": "stderr",
     "output_type": "stream",
     "text": []
    },
    {
     "data": {
      "application/vnd.jupyter.widget-view+json": {
       "model_id": "77dae13f09fd461d936727aaaf6b0d9b",
       "version_major": 2,
       "version_minor": 0
      },
      "text/plain": [
       "  0%|          | 0/10 [00:00<?, ?it/s]"
      ]
     },
     "metadata": {},
     "output_type": "display_data"
    },
    {
     "name": "stderr",
     "output_type": "stream",
     "text": []
    },
    {
     "data": {
      "application/vnd.jupyter.widget-view+json": {
       "model_id": "137bf823f6014049b92348bf0a5a6cfc",
       "version_major": 2,
       "version_minor": 0
      },
      "text/plain": [
       "  0%|          | 0/10 [00:00<?, ?it/s]"
      ]
     },
     "metadata": {},
     "output_type": "display_data"
    },
    {
     "name": "stderr",
     "output_type": "stream",
     "text": []
    },
    {
     "data": {
      "application/vnd.jupyter.widget-view+json": {
       "model_id": "5abdbfae456c4b45b745ec8efed139cb",
       "version_major": 2,
       "version_minor": 0
      },
      "text/plain": [
       "  0%|          | 0/10 [00:00<?, ?it/s]"
      ]
     },
     "metadata": {},
     "output_type": "display_data"
    },
    {
     "name": "stderr",
     "output_type": "stream",
     "text": []
    },
    {
     "data": {
      "application/vnd.jupyter.widget-view+json": {
       "model_id": "aeadd933efdf437cb89d7c9dc12e3562",
       "version_major": 2,
       "version_minor": 0
      },
      "text/plain": [
       "  0%|          | 0/10 [00:00<?, ?it/s]"
      ]
     },
     "metadata": {},
     "output_type": "display_data"
    },
    {
     "name": "stderr",
     "output_type": "stream",
     "text": []
    },
    {
     "data": {
      "application/vnd.jupyter.widget-view+json": {
       "model_id": "80275542d3914139906c85bd8b26cdf2",
       "version_major": 2,
       "version_minor": 0
      },
      "text/plain": [
       "  0%|          | 0/10 [00:00<?, ?it/s]"
      ]
     },
     "metadata": {},
     "output_type": "display_data"
    },
    {
     "name": "stderr",
     "output_type": "stream",
     "text": [
      "100%|██████████| 10/10 [00:07<00:00,  1.36it/s]\n"
     ]
    },
    {
     "data": {
      "application/vnd.jupyter.widget-view+json": {
       "model_id": "a6351edf6e4042dd89a9dfc7d54222c6",
       "version_major": 2,
       "version_minor": 0
      },
      "text/plain": [
       "  0%|          | 0/10 [00:00<?, ?it/s]"
      ]
     },
     "metadata": {},
     "output_type": "display_data"
    },
    {
     "name": "stderr",
     "output_type": "stream",
     "text": []
    },
    {
     "data": {
      "application/vnd.jupyter.widget-view+json": {
       "model_id": "b9fd0f6d18e64c17b7ab12ef238e17fc",
       "version_major": 2,
       "version_minor": 0
      },
      "text/plain": [
       "  0%|          | 0/10 [00:00<?, ?it/s]"
      ]
     },
     "metadata": {},
     "output_type": "display_data"
    },
    {
     "name": "stderr",
     "output_type": "stream",
     "text": []
    },
    {
     "data": {
      "application/vnd.jupyter.widget-view+json": {
       "model_id": "8c252f8c110441a28d7acc7003bb51b9",
       "version_major": 2,
       "version_minor": 0
      },
      "text/plain": [
       "  0%|          | 0/10 [00:00<?, ?it/s]"
      ]
     },
     "metadata": {},
     "output_type": "display_data"
    },
    {
     "name": "stderr",
     "output_type": "stream",
     "text": []
    },
    {
     "data": {
      "application/vnd.jupyter.widget-view+json": {
       "model_id": "b10375ae71b9423ea7b9f8eef9cbac33",
       "version_major": 2,
       "version_minor": 0
      },
      "text/plain": [
       "  0%|          | 0/10 [00:00<?, ?it/s]"
      ]
     },
     "metadata": {},
     "output_type": "display_data"
    },
    {
     "name": "stderr",
     "output_type": "stream",
     "text": []
    },
    {
     "data": {
      "application/vnd.jupyter.widget-view+json": {
       "model_id": "f705ae9985134954b8064501832fbe7d",
       "version_major": 2,
       "version_minor": 0
      },
      "text/plain": [
       "  0%|          | 0/10 [00:00<?, ?it/s]"
      ]
     },
     "metadata": {},
     "output_type": "display_data"
    },
    {
     "name": "stderr",
     "output_type": "stream",
     "text": []
    },
    {
     "data": {
      "application/vnd.jupyter.widget-view+json": {
       "model_id": "e9fbb78bcb74462085cdad412b1ebb2c",
       "version_major": 2,
       "version_minor": 0
      },
      "text/plain": [
       "  0%|          | 0/10 [00:00<?, ?it/s]"
      ]
     },
     "metadata": {},
     "output_type": "display_data"
    },
    {
     "name": "stderr",
     "output_type": "stream",
     "text": []
    },
    {
     "data": {
      "application/vnd.jupyter.widget-view+json": {
       "model_id": "a6ac3b9bc1b9473cbc6c3da0eadc5152",
       "version_major": 2,
       "version_minor": 0
      },
      "text/plain": [
       "  0%|          | 0/10 [00:00<?, ?it/s]"
      ]
     },
     "metadata": {},
     "output_type": "display_data"
    },
    {
     "name": "stderr",
     "output_type": "stream",
     "text": []
    },
    {
     "data": {
      "application/vnd.jupyter.widget-view+json": {
       "model_id": "a058df12fa1940fc9c69c5e478838624",
       "version_major": 2,
       "version_minor": 0
      },
      "text/plain": [
       "  0%|          | 0/10 [00:00<?, ?it/s]"
      ]
     },
     "metadata": {},
     "output_type": "display_data"
    },
    {
     "name": "stderr",
     "output_type": "stream",
     "text": []
    },
    {
     "data": {
      "application/vnd.jupyter.widget-view+json": {
       "model_id": "4793942af84f4743b50bbf34f72a026d",
       "version_major": 2,
       "version_minor": 0
      },
      "text/plain": [
       "  0%|          | 0/10 [00:00<?, ?it/s]"
      ]
     },
     "metadata": {},
     "output_type": "display_data"
    },
    {
     "name": "stderr",
     "output_type": "stream",
     "text": []
    },
    {
     "data": {
      "application/vnd.jupyter.widget-view+json": {
       "model_id": "a650757ab18e4bfc9bc620909c707cd4",
       "version_major": 2,
       "version_minor": 0
      },
      "text/plain": [
       "  0%|          | 0/10 [00:00<?, ?it/s]"
      ]
     },
     "metadata": {},
     "output_type": "display_data"
    },
    {
     "name": "stderr",
     "output_type": "stream",
     "text": [
      "100%|██████████| 10/10 [00:06<00:00,  1.64it/s]\n"
     ]
    },
    {
     "data": {
      "application/vnd.jupyter.widget-view+json": {
       "model_id": "20b5a182bd5f43868f0e11d24b8f549b",
       "version_major": 2,
       "version_minor": 0
      },
      "text/plain": [
       "  0%|          | 0/10 [00:00<?, ?it/s]"
      ]
     },
     "metadata": {},
     "output_type": "display_data"
    },
    {
     "name": "stderr",
     "output_type": "stream",
     "text": []
    },
    {
     "data": {
      "application/vnd.jupyter.widget-view+json": {
       "model_id": "ea546308cc9b409ca8b425fe8377fcae",
       "version_major": 2,
       "version_minor": 0
      },
      "text/plain": [
       "  0%|          | 0/10 [00:00<?, ?it/s]"
      ]
     },
     "metadata": {},
     "output_type": "display_data"
    },
    {
     "name": "stderr",
     "output_type": "stream",
     "text": []
    },
    {
     "data": {
      "application/vnd.jupyter.widget-view+json": {
       "model_id": "99edb4212e1447b78bf5ad63b5b0cf89",
       "version_major": 2,
       "version_minor": 0
      },
      "text/plain": [
       "  0%|          | 0/10 [00:00<?, ?it/s]"
      ]
     },
     "metadata": {},
     "output_type": "display_data"
    },
    {
     "name": "stderr",
     "output_type": "stream",
     "text": []
    },
    {
     "data": {
      "application/vnd.jupyter.widget-view+json": {
       "model_id": "657baa7c48ea4c34ac8bcfa78383108b",
       "version_major": 2,
       "version_minor": 0
      },
      "text/plain": [
       "  0%|          | 0/10 [00:00<?, ?it/s]"
      ]
     },
     "metadata": {},
     "output_type": "display_data"
    },
    {
     "name": "stderr",
     "output_type": "stream",
     "text": []
    },
    {
     "data": {
      "application/vnd.jupyter.widget-view+json": {
       "model_id": "31a026b5675b4c67a38e1bb95643390c",
       "version_major": 2,
       "version_minor": 0
      },
      "text/plain": [
       "  0%|          | 0/10 [00:00<?, ?it/s]"
      ]
     },
     "metadata": {},
     "output_type": "display_data"
    },
    {
     "name": "stderr",
     "output_type": "stream",
     "text": []
    },
    {
     "data": {
      "application/vnd.jupyter.widget-view+json": {
       "model_id": "af645f656ba04756a70ff9c1b5f4cb3d",
       "version_major": 2,
       "version_minor": 0
      },
      "text/plain": [
       "  0%|          | 0/10 [00:00<?, ?it/s]"
      ]
     },
     "metadata": {},
     "output_type": "display_data"
    },
    {
     "name": "stderr",
     "output_type": "stream",
     "text": []
    },
    {
     "data": {
      "application/vnd.jupyter.widget-view+json": {
       "model_id": "87d9ba1fd5a64794b59a4b2815277463",
       "version_major": 2,
       "version_minor": 0
      },
      "text/plain": [
       "  0%|          | 0/10 [00:00<?, ?it/s]"
      ]
     },
     "metadata": {},
     "output_type": "display_data"
    },
    {
     "name": "stderr",
     "output_type": "stream",
     "text": []
    },
    {
     "data": {
      "application/vnd.jupyter.widget-view+json": {
       "model_id": "7ad4228a0570475db5360cf5f92b319f",
       "version_major": 2,
       "version_minor": 0
      },
      "text/plain": [
       "  0%|          | 0/10 [00:00<?, ?it/s]"
      ]
     },
     "metadata": {},
     "output_type": "display_data"
    },
    {
     "name": "stderr",
     "output_type": "stream",
     "text": []
    },
    {
     "data": {
      "application/vnd.jupyter.widget-view+json": {
       "model_id": "4b8d2424802a423d84596cfc2d2db0f2",
       "version_major": 2,
       "version_minor": 0
      },
      "text/plain": [
       "  0%|          | 0/10 [00:00<?, ?it/s]"
      ]
     },
     "metadata": {},
     "output_type": "display_data"
    },
    {
     "name": "stderr",
     "output_type": "stream",
     "text": []
    },
    {
     "data": {
      "application/vnd.jupyter.widget-view+json": {
       "model_id": "ef62039d5a7b48179c432b80ec4d55d4",
       "version_major": 2,
       "version_minor": 0
      },
      "text/plain": [
       "  0%|          | 0/10 [00:00<?, ?it/s]"
      ]
     },
     "metadata": {},
     "output_type": "display_data"
    },
    {
     "name": "stderr",
     "output_type": "stream",
     "text": [
      "100%|██████████| 10/10 [00:06<00:00,  1.62it/s]\n",
      " 33%|███▎      | 2/6 [02:36<05:12, 78.12s/it]"
     ]
    },
    {
     "data": {
      "application/vnd.jupyter.widget-view+json": {
       "model_id": "20e41d0976754515a7b599d710247fee",
       "version_major": 2,
       "version_minor": 0
      },
      "text/plain": [
       "  0%|          | 0/10 [00:00<?, ?it/s]"
      ]
     },
     "metadata": {},
     "output_type": "display_data"
    },
    {
     "name": "stderr",
     "output_type": "stream",
     "text": []
    },
    {
     "data": {
      "application/vnd.jupyter.widget-view+json": {
       "model_id": "fbbb33de88794effa685dfd0dbcec9e6",
       "version_major": 2,
       "version_minor": 0
      },
      "text/plain": [
       "  0%|          | 0/10 [00:00<?, ?it/s]"
      ]
     },
     "metadata": {},
     "output_type": "display_data"
    },
    {
     "name": "stderr",
     "output_type": "stream",
     "text": []
    },
    {
     "data": {
      "application/vnd.jupyter.widget-view+json": {
       "model_id": "4f8aebcec05d4533befde0b31d21bf30",
       "version_major": 2,
       "version_minor": 0
      },
      "text/plain": [
       "  0%|          | 0/10 [00:00<?, ?it/s]"
      ]
     },
     "metadata": {},
     "output_type": "display_data"
    },
    {
     "name": "stderr",
     "output_type": "stream",
     "text": []
    },
    {
     "data": {
      "application/vnd.jupyter.widget-view+json": {
       "model_id": "0789add34a964aa38e6592c815b5f19d",
       "version_major": 2,
       "version_minor": 0
      },
      "text/plain": [
       "  0%|          | 0/10 [00:00<?, ?it/s]"
      ]
     },
     "metadata": {},
     "output_type": "display_data"
    },
    {
     "name": "stderr",
     "output_type": "stream",
     "text": []
    },
    {
     "data": {
      "application/vnd.jupyter.widget-view+json": {
       "model_id": "88ffe75ed30b40f398ea9c9295680903",
       "version_major": 2,
       "version_minor": 0
      },
      "text/plain": [
       "  0%|          | 0/10 [00:00<?, ?it/s]"
      ]
     },
     "metadata": {},
     "output_type": "display_data"
    },
    {
     "name": "stderr",
     "output_type": "stream",
     "text": []
    },
    {
     "data": {
      "application/vnd.jupyter.widget-view+json": {
       "model_id": "654555442a7e45b78ca43f6e894fb7c9",
       "version_major": 2,
       "version_minor": 0
      },
      "text/plain": [
       "  0%|          | 0/10 [00:00<?, ?it/s]"
      ]
     },
     "metadata": {},
     "output_type": "display_data"
    },
    {
     "name": "stderr",
     "output_type": "stream",
     "text": []
    },
    {
     "data": {
      "application/vnd.jupyter.widget-view+json": {
       "model_id": "91fc3391b89c4155a53805efbc80f439",
       "version_major": 2,
       "version_minor": 0
      },
      "text/plain": [
       "  0%|          | 0/10 [00:00<?, ?it/s]"
      ]
     },
     "metadata": {},
     "output_type": "display_data"
    },
    {
     "name": "stderr",
     "output_type": "stream",
     "text": []
    },
    {
     "data": {
      "application/vnd.jupyter.widget-view+json": {
       "model_id": "a5195a7b8386419f96d85c491774435c",
       "version_major": 2,
       "version_minor": 0
      },
      "text/plain": [
       "  0%|          | 0/10 [00:00<?, ?it/s]"
      ]
     },
     "metadata": {},
     "output_type": "display_data"
    },
    {
     "name": "stderr",
     "output_type": "stream",
     "text": []
    },
    {
     "data": {
      "application/vnd.jupyter.widget-view+json": {
       "model_id": "6d488a26efdb420b9c94d4e557e158ad",
       "version_major": 2,
       "version_minor": 0
      },
      "text/plain": [
       "  0%|          | 0/10 [00:00<?, ?it/s]"
      ]
     },
     "metadata": {},
     "output_type": "display_data"
    },
    {
     "name": "stderr",
     "output_type": "stream",
     "text": []
    },
    {
     "data": {
      "application/vnd.jupyter.widget-view+json": {
       "model_id": "4c8c0dad993e4afbb869a2f97db45822",
       "version_major": 2,
       "version_minor": 0
      },
      "text/plain": [
       "  0%|          | 0/10 [00:00<?, ?it/s]"
      ]
     },
     "metadata": {},
     "output_type": "display_data"
    },
    {
     "name": "stderr",
     "output_type": "stream",
     "text": [
      "100%|██████████| 10/10 [00:07<00:00,  1.39it/s]\n"
     ]
    },
    {
     "data": {
      "application/vnd.jupyter.widget-view+json": {
       "model_id": "e2b648b16ca340a1896d69a07847c1fd",
       "version_major": 2,
       "version_minor": 0
      },
      "text/plain": [
       "  0%|          | 0/10 [00:00<?, ?it/s]"
      ]
     },
     "metadata": {},
     "output_type": "display_data"
    },
    {
     "name": "stderr",
     "output_type": "stream",
     "text": []
    },
    {
     "data": {
      "application/vnd.jupyter.widget-view+json": {
       "model_id": "0a9c2413828e41dbbf9fd309f72b6b6b",
       "version_major": 2,
       "version_minor": 0
      },
      "text/plain": [
       "  0%|          | 0/10 [00:00<?, ?it/s]"
      ]
     },
     "metadata": {},
     "output_type": "display_data"
    },
    {
     "name": "stderr",
     "output_type": "stream",
     "text": []
    },
    {
     "data": {
      "application/vnd.jupyter.widget-view+json": {
       "model_id": "e39d2d5570b443acb9c45ee27f68ed61",
       "version_major": 2,
       "version_minor": 0
      },
      "text/plain": [
       "  0%|          | 0/10 [00:00<?, ?it/s]"
      ]
     },
     "metadata": {},
     "output_type": "display_data"
    },
    {
     "name": "stderr",
     "output_type": "stream",
     "text": []
    },
    {
     "data": {
      "application/vnd.jupyter.widget-view+json": {
       "model_id": "bc4dd0e9e9d74665bcbf9100685d52f1",
       "version_major": 2,
       "version_minor": 0
      },
      "text/plain": [
       "  0%|          | 0/10 [00:00<?, ?it/s]"
      ]
     },
     "metadata": {},
     "output_type": "display_data"
    },
    {
     "name": "stderr",
     "output_type": "stream",
     "text": []
    },
    {
     "data": {
      "application/vnd.jupyter.widget-view+json": {
       "model_id": "e77c1f30ff6641e29eef9804e3cd7312",
       "version_major": 2,
       "version_minor": 0
      },
      "text/plain": [
       "  0%|          | 0/10 [00:00<?, ?it/s]"
      ]
     },
     "metadata": {},
     "output_type": "display_data"
    },
    {
     "name": "stderr",
     "output_type": "stream",
     "text": []
    },
    {
     "data": {
      "application/vnd.jupyter.widget-view+json": {
       "model_id": "5a666a57886b4d2e8332fb8f34739ae0",
       "version_major": 2,
       "version_minor": 0
      },
      "text/plain": [
       "  0%|          | 0/10 [00:00<?, ?it/s]"
      ]
     },
     "metadata": {},
     "output_type": "display_data"
    },
    {
     "name": "stderr",
     "output_type": "stream",
     "text": []
    },
    {
     "data": {
      "application/vnd.jupyter.widget-view+json": {
       "model_id": "009dc79aa7394070bcdab34d3bd9560e",
       "version_major": 2,
       "version_minor": 0
      },
      "text/plain": [
       "  0%|          | 0/10 [00:00<?, ?it/s]"
      ]
     },
     "metadata": {},
     "output_type": "display_data"
    },
    {
     "name": "stderr",
     "output_type": "stream",
     "text": []
    },
    {
     "data": {
      "application/vnd.jupyter.widget-view+json": {
       "model_id": "4c931b28d4c647268b16455a93e2e49d",
       "version_major": 2,
       "version_minor": 0
      },
      "text/plain": [
       "  0%|          | 0/10 [00:00<?, ?it/s]"
      ]
     },
     "metadata": {},
     "output_type": "display_data"
    },
    {
     "name": "stderr",
     "output_type": "stream",
     "text": []
    },
    {
     "data": {
      "application/vnd.jupyter.widget-view+json": {
       "model_id": "f600a298d59e47c6b347aa4dce5e0f9f",
       "version_major": 2,
       "version_minor": 0
      },
      "text/plain": [
       "  0%|          | 0/10 [00:00<?, ?it/s]"
      ]
     },
     "metadata": {},
     "output_type": "display_data"
    },
    {
     "name": "stderr",
     "output_type": "stream",
     "text": []
    },
    {
     "data": {
      "application/vnd.jupyter.widget-view+json": {
       "model_id": "e732c411bde240e0b4b7bd76378549f2",
       "version_major": 2,
       "version_minor": 0
      },
      "text/plain": [
       "  0%|          | 0/10 [00:00<?, ?it/s]"
      ]
     },
     "metadata": {},
     "output_type": "display_data"
    },
    {
     "name": "stderr",
     "output_type": "stream",
     "text": [
      "100%|██████████| 10/10 [00:06<00:00,  1.62it/s]\n"
     ]
    },
    {
     "data": {
      "application/vnd.jupyter.widget-view+json": {
       "model_id": "5897d46bd6ed4fec9f334cb4463a28df",
       "version_major": 2,
       "version_minor": 0
      },
      "text/plain": [
       "  0%|          | 0/10 [00:00<?, ?it/s]"
      ]
     },
     "metadata": {},
     "output_type": "display_data"
    },
    {
     "name": "stderr",
     "output_type": "stream",
     "text": []
    },
    {
     "data": {
      "application/vnd.jupyter.widget-view+json": {
       "model_id": "6a49c4c144844a5fbc8d4389290bbb35",
       "version_major": 2,
       "version_minor": 0
      },
      "text/plain": [
       "  0%|          | 0/10 [00:00<?, ?it/s]"
      ]
     },
     "metadata": {},
     "output_type": "display_data"
    },
    {
     "name": "stderr",
     "output_type": "stream",
     "text": []
    },
    {
     "data": {
      "application/vnd.jupyter.widget-view+json": {
       "model_id": "07b8433ba7bb41bead04e56de3c7fbad",
       "version_major": 2,
       "version_minor": 0
      },
      "text/plain": [
       "  0%|          | 0/10 [00:00<?, ?it/s]"
      ]
     },
     "metadata": {},
     "output_type": "display_data"
    },
    {
     "name": "stderr",
     "output_type": "stream",
     "text": []
    },
    {
     "data": {
      "application/vnd.jupyter.widget-view+json": {
       "model_id": "bdac1fdaa8a140d19453261875ce13ae",
       "version_major": 2,
       "version_minor": 0
      },
      "text/plain": [
       "  0%|          | 0/10 [00:00<?, ?it/s]"
      ]
     },
     "metadata": {},
     "output_type": "display_data"
    },
    {
     "name": "stderr",
     "output_type": "stream",
     "text": []
    },
    {
     "data": {
      "application/vnd.jupyter.widget-view+json": {
       "model_id": "cbd0d47f15f5490eafa76f188f155203",
       "version_major": 2,
       "version_minor": 0
      },
      "text/plain": [
       "  0%|          | 0/10 [00:00<?, ?it/s]"
      ]
     },
     "metadata": {},
     "output_type": "display_data"
    },
    {
     "name": "stderr",
     "output_type": "stream",
     "text": []
    },
    {
     "data": {
      "application/vnd.jupyter.widget-view+json": {
       "model_id": "aa4f083bba5248e0896e8e9c550a6c1f",
       "version_major": 2,
       "version_minor": 0
      },
      "text/plain": [
       "  0%|          | 0/10 [00:00<?, ?it/s]"
      ]
     },
     "metadata": {},
     "output_type": "display_data"
    },
    {
     "name": "stderr",
     "output_type": "stream",
     "text": []
    },
    {
     "data": {
      "application/vnd.jupyter.widget-view+json": {
       "model_id": "f0d827a93bbc411dbb3fb2ca3d8f7539",
       "version_major": 2,
       "version_minor": 0
      },
      "text/plain": [
       "  0%|          | 0/10 [00:00<?, ?it/s]"
      ]
     },
     "metadata": {},
     "output_type": "display_data"
    },
    {
     "name": "stderr",
     "output_type": "stream",
     "text": []
    },
    {
     "data": {
      "application/vnd.jupyter.widget-view+json": {
       "model_id": "6f6c0a69f47847da80e1f838d6dfaf6c",
       "version_major": 2,
       "version_minor": 0
      },
      "text/plain": [
       "  0%|          | 0/10 [00:00<?, ?it/s]"
      ]
     },
     "metadata": {},
     "output_type": "display_data"
    },
    {
     "name": "stderr",
     "output_type": "stream",
     "text": []
    },
    {
     "data": {
      "application/vnd.jupyter.widget-view+json": {
       "model_id": "d34134822e20486d8394e91207742935",
       "version_major": 2,
       "version_minor": 0
      },
      "text/plain": [
       "  0%|          | 0/10 [00:00<?, ?it/s]"
      ]
     },
     "metadata": {},
     "output_type": "display_data"
    },
    {
     "name": "stderr",
     "output_type": "stream",
     "text": []
    },
    {
     "data": {
      "application/vnd.jupyter.widget-view+json": {
       "model_id": "4a029720d5ef4ca6a49f06c51e8716cc",
       "version_major": 2,
       "version_minor": 0
      },
      "text/plain": [
       "  0%|          | 0/10 [00:00<?, ?it/s]"
      ]
     },
     "metadata": {},
     "output_type": "display_data"
    },
    {
     "name": "stderr",
     "output_type": "stream",
     "text": [
      "100%|██████████| 10/10 [00:06<00:00,  1.45it/s]\n"
     ]
    },
    {
     "data": {
      "application/vnd.jupyter.widget-view+json": {
       "model_id": "efb088908e8d4f829e49f89b4d90f1ba",
       "version_major": 2,
       "version_minor": 0
      },
      "text/plain": [
       "  0%|          | 0/10 [00:00<?, ?it/s]"
      ]
     },
     "metadata": {},
     "output_type": "display_data"
    },
    {
     "name": "stderr",
     "output_type": "stream",
     "text": []
    },
    {
     "data": {
      "application/vnd.jupyter.widget-view+json": {
       "model_id": "0884ac5609b3406bb73aab74d68e75e6",
       "version_major": 2,
       "version_minor": 0
      },
      "text/plain": [
       "  0%|          | 0/10 [00:00<?, ?it/s]"
      ]
     },
     "metadata": {},
     "output_type": "display_data"
    },
    {
     "name": "stderr",
     "output_type": "stream",
     "text": []
    },
    {
     "data": {
      "application/vnd.jupyter.widget-view+json": {
       "model_id": "a91ebdce4d6a45e6a1f4b0dd033fa966",
       "version_major": 2,
       "version_minor": 0
      },
      "text/plain": [
       "  0%|          | 0/10 [00:00<?, ?it/s]"
      ]
     },
     "metadata": {},
     "output_type": "display_data"
    },
    {
     "name": "stderr",
     "output_type": "stream",
     "text": []
    },
    {
     "data": {
      "application/vnd.jupyter.widget-view+json": {
       "model_id": "cf12b3d71a3c4a05b64f119df3478721",
       "version_major": 2,
       "version_minor": 0
      },
      "text/plain": [
       "  0%|          | 0/10 [00:00<?, ?it/s]"
      ]
     },
     "metadata": {},
     "output_type": "display_data"
    },
    {
     "name": "stderr",
     "output_type": "stream",
     "text": []
    },
    {
     "data": {
      "application/vnd.jupyter.widget-view+json": {
       "model_id": "cc330d20660e484fa1df96f6ad9d0226",
       "version_major": 2,
       "version_minor": 0
      },
      "text/plain": [
       "  0%|          | 0/10 [00:00<?, ?it/s]"
      ]
     },
     "metadata": {},
     "output_type": "display_data"
    },
    {
     "name": "stderr",
     "output_type": "stream",
     "text": []
    },
    {
     "data": {
      "application/vnd.jupyter.widget-view+json": {
       "model_id": "f5763a219aae4d47911abdf163a49201",
       "version_major": 2,
       "version_minor": 0
      },
      "text/plain": [
       "  0%|          | 0/10 [00:00<?, ?it/s]"
      ]
     },
     "metadata": {},
     "output_type": "display_data"
    },
    {
     "name": "stderr",
     "output_type": "stream",
     "text": []
    },
    {
     "data": {
      "application/vnd.jupyter.widget-view+json": {
       "model_id": "bc70ac38a0e74d47840b3c6e783f5b65",
       "version_major": 2,
       "version_minor": 0
      },
      "text/plain": [
       "  0%|          | 0/10 [00:00<?, ?it/s]"
      ]
     },
     "metadata": {},
     "output_type": "display_data"
    },
    {
     "name": "stderr",
     "output_type": "stream",
     "text": []
    },
    {
     "data": {
      "application/vnd.jupyter.widget-view+json": {
       "model_id": "51332e30e9f9495d8a4de61541f9a592",
       "version_major": 2,
       "version_minor": 0
      },
      "text/plain": [
       "  0%|          | 0/10 [00:00<?, ?it/s]"
      ]
     },
     "metadata": {},
     "output_type": "display_data"
    },
    {
     "name": "stderr",
     "output_type": "stream",
     "text": []
    },
    {
     "data": {
      "application/vnd.jupyter.widget-view+json": {
       "model_id": "4283ed76ed4b4499a5ebb638f1460e39",
       "version_major": 2,
       "version_minor": 0
      },
      "text/plain": [
       "  0%|          | 0/10 [00:00<?, ?it/s]"
      ]
     },
     "metadata": {},
     "output_type": "display_data"
    },
    {
     "name": "stderr",
     "output_type": "stream",
     "text": []
    },
    {
     "data": {
      "application/vnd.jupyter.widget-view+json": {
       "model_id": "962879b0947c47e08756b0c0b018cb82",
       "version_major": 2,
       "version_minor": 0
      },
      "text/plain": [
       "  0%|          | 0/10 [00:00<?, ?it/s]"
      ]
     },
     "metadata": {},
     "output_type": "display_data"
    },
    {
     "name": "stderr",
     "output_type": "stream",
     "text": [
      "100%|██████████| 10/10 [00:06<00:00,  1.63it/s]\n"
     ]
    },
    {
     "data": {
      "application/vnd.jupyter.widget-view+json": {
       "model_id": "65d438d96c1a4aa194c8c155d6531fcb",
       "version_major": 2,
       "version_minor": 0
      },
      "text/plain": [
       "  0%|          | 0/10 [00:00<?, ?it/s]"
      ]
     },
     "metadata": {},
     "output_type": "display_data"
    },
    {
     "name": "stderr",
     "output_type": "stream",
     "text": []
    },
    {
     "data": {
      "application/vnd.jupyter.widget-view+json": {
       "model_id": "08aea0b806564aeea9afc323508b8401",
       "version_major": 2,
       "version_minor": 0
      },
      "text/plain": [
       "  0%|          | 0/10 [00:00<?, ?it/s]"
      ]
     },
     "metadata": {},
     "output_type": "display_data"
    },
    {
     "name": "stderr",
     "output_type": "stream",
     "text": []
    },
    {
     "data": {
      "application/vnd.jupyter.widget-view+json": {
       "model_id": "e7bc65861966450a912341ff976a32d9",
       "version_major": 2,
       "version_minor": 0
      },
      "text/plain": [
       "  0%|          | 0/10 [00:00<?, ?it/s]"
      ]
     },
     "metadata": {},
     "output_type": "display_data"
    },
    {
     "name": "stderr",
     "output_type": "stream",
     "text": []
    },
    {
     "data": {
      "application/vnd.jupyter.widget-view+json": {
       "model_id": "2a69b2599f3341d49f11b86b17ded607",
       "version_major": 2,
       "version_minor": 0
      },
      "text/plain": [
       "  0%|          | 0/10 [00:00<?, ?it/s]"
      ]
     },
     "metadata": {},
     "output_type": "display_data"
    },
    {
     "name": "stderr",
     "output_type": "stream",
     "text": []
    },
    {
     "data": {
      "application/vnd.jupyter.widget-view+json": {
       "model_id": "891cc72bab574947925fe852910338e9",
       "version_major": 2,
       "version_minor": 0
      },
      "text/plain": [
       "  0%|          | 0/10 [00:00<?, ?it/s]"
      ]
     },
     "metadata": {},
     "output_type": "display_data"
    },
    {
     "name": "stderr",
     "output_type": "stream",
     "text": []
    },
    {
     "data": {
      "application/vnd.jupyter.widget-view+json": {
       "model_id": "90060b37c0aa49d2a3d86a8e46fa82e9",
       "version_major": 2,
       "version_minor": 0
      },
      "text/plain": [
       "  0%|          | 0/10 [00:00<?, ?it/s]"
      ]
     },
     "metadata": {},
     "output_type": "display_data"
    },
    {
     "name": "stderr",
     "output_type": "stream",
     "text": []
    },
    {
     "data": {
      "application/vnd.jupyter.widget-view+json": {
       "model_id": "3d4fd823320b48eb990b1354bd5ef279",
       "version_major": 2,
       "version_minor": 0
      },
      "text/plain": [
       "  0%|          | 0/10 [00:00<?, ?it/s]"
      ]
     },
     "metadata": {},
     "output_type": "display_data"
    },
    {
     "name": "stderr",
     "output_type": "stream",
     "text": []
    },
    {
     "data": {
      "application/vnd.jupyter.widget-view+json": {
       "model_id": "e602fa82e5f147e48f331b4ac7e48439",
       "version_major": 2,
       "version_minor": 0
      },
      "text/plain": [
       "  0%|          | 0/10 [00:00<?, ?it/s]"
      ]
     },
     "metadata": {},
     "output_type": "display_data"
    },
    {
     "name": "stderr",
     "output_type": "stream",
     "text": []
    },
    {
     "data": {
      "application/vnd.jupyter.widget-view+json": {
       "model_id": "a5658131c70a42b7bff95d829b9724f8",
       "version_major": 2,
       "version_minor": 0
      },
      "text/plain": [
       "  0%|          | 0/10 [00:00<?, ?it/s]"
      ]
     },
     "metadata": {},
     "output_type": "display_data"
    },
    {
     "name": "stderr",
     "output_type": "stream",
     "text": []
    },
    {
     "data": {
      "application/vnd.jupyter.widget-view+json": {
       "model_id": "a9fd349bd0b84b60b6432c0dccc0648c",
       "version_major": 2,
       "version_minor": 0
      },
      "text/plain": [
       "  0%|          | 0/10 [00:00<?, ?it/s]"
      ]
     },
     "metadata": {},
     "output_type": "display_data"
    },
    {
     "name": "stderr",
     "output_type": "stream",
     "text": [
      "100%|██████████| 10/10 [00:05<00:00,  1.73it/s]\n"
     ]
    },
    {
     "data": {
      "application/vnd.jupyter.widget-view+json": {
       "model_id": "1f550f274117474b9bfbe37a9021bde1",
       "version_major": 2,
       "version_minor": 0
      },
      "text/plain": [
       "  0%|          | 0/10 [00:00<?, ?it/s]"
      ]
     },
     "metadata": {},
     "output_type": "display_data"
    },
    {
     "name": "stderr",
     "output_type": "stream",
     "text": []
    },
    {
     "data": {
      "application/vnd.jupyter.widget-view+json": {
       "model_id": "5770371f51d44567b3ed022831baf7e2",
       "version_major": 2,
       "version_minor": 0
      },
      "text/plain": [
       "  0%|          | 0/10 [00:00<?, ?it/s]"
      ]
     },
     "metadata": {},
     "output_type": "display_data"
    },
    {
     "name": "stderr",
     "output_type": "stream",
     "text": []
    },
    {
     "data": {
      "application/vnd.jupyter.widget-view+json": {
       "model_id": "e2b9aa8a5449483abae5427f3fc272d4",
       "version_major": 2,
       "version_minor": 0
      },
      "text/plain": [
       "  0%|          | 0/10 [00:00<?, ?it/s]"
      ]
     },
     "metadata": {},
     "output_type": "display_data"
    },
    {
     "name": "stderr",
     "output_type": "stream",
     "text": []
    },
    {
     "data": {
      "application/vnd.jupyter.widget-view+json": {
       "model_id": "d3a48a77af274b588f8fb6dc5a80bbb0",
       "version_major": 2,
       "version_minor": 0
      },
      "text/plain": [
       "  0%|          | 0/10 [00:00<?, ?it/s]"
      ]
     },
     "metadata": {},
     "output_type": "display_data"
    },
    {
     "name": "stderr",
     "output_type": "stream",
     "text": []
    },
    {
     "data": {
      "application/vnd.jupyter.widget-view+json": {
       "model_id": "76febccdc8c1429684384c5f5a69f677",
       "version_major": 2,
       "version_minor": 0
      },
      "text/plain": [
       "  0%|          | 0/10 [00:00<?, ?it/s]"
      ]
     },
     "metadata": {},
     "output_type": "display_data"
    },
    {
     "name": "stderr",
     "output_type": "stream",
     "text": []
    },
    {
     "data": {
      "application/vnd.jupyter.widget-view+json": {
       "model_id": "65af02e49f5b45c19b3813f33d51485c",
       "version_major": 2,
       "version_minor": 0
      },
      "text/plain": [
       "  0%|          | 0/10 [00:00<?, ?it/s]"
      ]
     },
     "metadata": {},
     "output_type": "display_data"
    },
    {
     "name": "stderr",
     "output_type": "stream",
     "text": []
    },
    {
     "data": {
      "application/vnd.jupyter.widget-view+json": {
       "model_id": "8f41122e84b14d1ca1b4605632f20891",
       "version_major": 2,
       "version_minor": 0
      },
      "text/plain": [
       "  0%|          | 0/10 [00:00<?, ?it/s]"
      ]
     },
     "metadata": {},
     "output_type": "display_data"
    },
    {
     "name": "stderr",
     "output_type": "stream",
     "text": []
    },
    {
     "data": {
      "application/vnd.jupyter.widget-view+json": {
       "model_id": "36eaeadefbe048408815dabb6b6e049b",
       "version_major": 2,
       "version_minor": 0
      },
      "text/plain": [
       "  0%|          | 0/10 [00:00<?, ?it/s]"
      ]
     },
     "metadata": {},
     "output_type": "display_data"
    },
    {
     "name": "stderr",
     "output_type": "stream",
     "text": []
    },
    {
     "data": {
      "application/vnd.jupyter.widget-view+json": {
       "model_id": "24a6bb78ff0747efb74a4baeac13259f",
       "version_major": 2,
       "version_minor": 0
      },
      "text/plain": [
       "  0%|          | 0/10 [00:00<?, ?it/s]"
      ]
     },
     "metadata": {},
     "output_type": "display_data"
    },
    {
     "name": "stderr",
     "output_type": "stream",
     "text": []
    },
    {
     "data": {
      "application/vnd.jupyter.widget-view+json": {
       "model_id": "ff17780846da47dfb2be61d26aa706a7",
       "version_major": 2,
       "version_minor": 0
      },
      "text/plain": [
       "  0%|          | 0/10 [00:00<?, ?it/s]"
      ]
     },
     "metadata": {},
     "output_type": "display_data"
    },
    {
     "name": "stderr",
     "output_type": "stream",
     "text": [
      "100%|██████████| 10/10 [00:07<00:00,  1.39it/s]\n"
     ]
    },
    {
     "data": {
      "application/vnd.jupyter.widget-view+json": {
       "model_id": "e9f40920f957457eb5bc00c7b98683db",
       "version_major": 2,
       "version_minor": 0
      },
      "text/plain": [
       "  0%|          | 0/10 [00:00<?, ?it/s]"
      ]
     },
     "metadata": {},
     "output_type": "display_data"
    },
    {
     "name": "stderr",
     "output_type": "stream",
     "text": []
    },
    {
     "data": {
      "application/vnd.jupyter.widget-view+json": {
       "model_id": "a2ce7f4415204e6aa8e7bfdddce7f908",
       "version_major": 2,
       "version_minor": 0
      },
      "text/plain": [
       "  0%|          | 0/10 [00:00<?, ?it/s]"
      ]
     },
     "metadata": {},
     "output_type": "display_data"
    },
    {
     "name": "stderr",
     "output_type": "stream",
     "text": []
    },
    {
     "data": {
      "application/vnd.jupyter.widget-view+json": {
       "model_id": "186012f93e804c1f9dc00f86742cc25c",
       "version_major": 2,
       "version_minor": 0
      },
      "text/plain": [
       "  0%|          | 0/10 [00:00<?, ?it/s]"
      ]
     },
     "metadata": {},
     "output_type": "display_data"
    },
    {
     "name": "stderr",
     "output_type": "stream",
     "text": []
    },
    {
     "data": {
      "application/vnd.jupyter.widget-view+json": {
       "model_id": "f925ce7ab14642cea028e7d02fe6e0ae",
       "version_major": 2,
       "version_minor": 0
      },
      "text/plain": [
       "  0%|          | 0/10 [00:00<?, ?it/s]"
      ]
     },
     "metadata": {},
     "output_type": "display_data"
    },
    {
     "name": "stderr",
     "output_type": "stream",
     "text": []
    },
    {
     "data": {
      "application/vnd.jupyter.widget-view+json": {
       "model_id": "602bf3e2f86f4b96b59ca5d29c788658",
       "version_major": 2,
       "version_minor": 0
      },
      "text/plain": [
       "  0%|          | 0/10 [00:00<?, ?it/s]"
      ]
     },
     "metadata": {},
     "output_type": "display_data"
    },
    {
     "name": "stderr",
     "output_type": "stream",
     "text": []
    },
    {
     "data": {
      "application/vnd.jupyter.widget-view+json": {
       "model_id": "d2cb64ed3bbe4fd6be741cdaabe4d3b3",
       "version_major": 2,
       "version_minor": 0
      },
      "text/plain": [
       "  0%|          | 0/10 [00:00<?, ?it/s]"
      ]
     },
     "metadata": {},
     "output_type": "display_data"
    },
    {
     "name": "stderr",
     "output_type": "stream",
     "text": []
    },
    {
     "data": {
      "application/vnd.jupyter.widget-view+json": {
       "model_id": "4877c610e35d4c4b89b1b46f1eca42a9",
       "version_major": 2,
       "version_minor": 0
      },
      "text/plain": [
       "  0%|          | 0/10 [00:00<?, ?it/s]"
      ]
     },
     "metadata": {},
     "output_type": "display_data"
    },
    {
     "name": "stderr",
     "output_type": "stream",
     "text": []
    },
    {
     "data": {
      "application/vnd.jupyter.widget-view+json": {
       "model_id": "efd519a6697842d3b9da891e903ceedc",
       "version_major": 2,
       "version_minor": 0
      },
      "text/plain": [
       "  0%|          | 0/10 [00:00<?, ?it/s]"
      ]
     },
     "metadata": {},
     "output_type": "display_data"
    },
    {
     "name": "stderr",
     "output_type": "stream",
     "text": []
    },
    {
     "data": {
      "application/vnd.jupyter.widget-view+json": {
       "model_id": "4011e8e13cad4c49a30be5c1349e1b12",
       "version_major": 2,
       "version_minor": 0
      },
      "text/plain": [
       "  0%|          | 0/10 [00:00<?, ?it/s]"
      ]
     },
     "metadata": {},
     "output_type": "display_data"
    },
    {
     "name": "stderr",
     "output_type": "stream",
     "text": []
    },
    {
     "data": {
      "application/vnd.jupyter.widget-view+json": {
       "model_id": "dcea267d435c463d907c63899b22c894",
       "version_major": 2,
       "version_minor": 0
      },
      "text/plain": [
       "  0%|          | 0/10 [00:00<?, ?it/s]"
      ]
     },
     "metadata": {},
     "output_type": "display_data"
    },
    {
     "name": "stderr",
     "output_type": "stream",
     "text": [
      "100%|██████████| 10/10 [00:05<00:00,  1.69it/s]\n"
     ]
    },
    {
     "data": {
      "application/vnd.jupyter.widget-view+json": {
       "model_id": "ef30bed68e284bc793de64d4c4f2ce50",
       "version_major": 2,
       "version_minor": 0
      },
      "text/plain": [
       "  0%|          | 0/10 [00:00<?, ?it/s]"
      ]
     },
     "metadata": {},
     "output_type": "display_data"
    },
    {
     "name": "stderr",
     "output_type": "stream",
     "text": []
    },
    {
     "data": {
      "application/vnd.jupyter.widget-view+json": {
       "model_id": "32a6fd0ef49a426abadbf65db7c661c6",
       "version_major": 2,
       "version_minor": 0
      },
      "text/plain": [
       "  0%|          | 0/10 [00:00<?, ?it/s]"
      ]
     },
     "metadata": {},
     "output_type": "display_data"
    },
    {
     "name": "stderr",
     "output_type": "stream",
     "text": []
    },
    {
     "data": {
      "application/vnd.jupyter.widget-view+json": {
       "model_id": "359f75c16aea43abba950b5798fdfed8",
       "version_major": 2,
       "version_minor": 0
      },
      "text/plain": [
       "  0%|          | 0/10 [00:00<?, ?it/s]"
      ]
     },
     "metadata": {},
     "output_type": "display_data"
    },
    {
     "name": "stderr",
     "output_type": "stream",
     "text": []
    },
    {
     "data": {
      "application/vnd.jupyter.widget-view+json": {
       "model_id": "2789a08eff0c42f1bd078ce0e664b96c",
       "version_major": 2,
       "version_minor": 0
      },
      "text/plain": [
       "  0%|          | 0/10 [00:00<?, ?it/s]"
      ]
     },
     "metadata": {},
     "output_type": "display_data"
    },
    {
     "name": "stderr",
     "output_type": "stream",
     "text": []
    },
    {
     "data": {
      "application/vnd.jupyter.widget-view+json": {
       "model_id": "ac03dc7668a9429e8c448e9cf59ba0c9",
       "version_major": 2,
       "version_minor": 0
      },
      "text/plain": [
       "  0%|          | 0/10 [00:00<?, ?it/s]"
      ]
     },
     "metadata": {},
     "output_type": "display_data"
    },
    {
     "name": "stderr",
     "output_type": "stream",
     "text": []
    },
    {
     "data": {
      "application/vnd.jupyter.widget-view+json": {
       "model_id": "a58f2dacda0b431583e7501145840d0c",
       "version_major": 2,
       "version_minor": 0
      },
      "text/plain": [
       "  0%|          | 0/10 [00:00<?, ?it/s]"
      ]
     },
     "metadata": {},
     "output_type": "display_data"
    },
    {
     "name": "stderr",
     "output_type": "stream",
     "text": []
    },
    {
     "data": {
      "application/vnd.jupyter.widget-view+json": {
       "model_id": "9f691a77e60e4b4c9ba88f6e2dba7d82",
       "version_major": 2,
       "version_minor": 0
      },
      "text/plain": [
       "  0%|          | 0/10 [00:00<?, ?it/s]"
      ]
     },
     "metadata": {},
     "output_type": "display_data"
    },
    {
     "name": "stderr",
     "output_type": "stream",
     "text": []
    },
    {
     "data": {
      "application/vnd.jupyter.widget-view+json": {
       "model_id": "7817b3dffef94851ab6dcfd53b1c3d34",
       "version_major": 2,
       "version_minor": 0
      },
      "text/plain": [
       "  0%|          | 0/10 [00:00<?, ?it/s]"
      ]
     },
     "metadata": {},
     "output_type": "display_data"
    },
    {
     "name": "stderr",
     "output_type": "stream",
     "text": []
    },
    {
     "data": {
      "application/vnd.jupyter.widget-view+json": {
       "model_id": "2d6aea4e485341f28df65f023a298364",
       "version_major": 2,
       "version_minor": 0
      },
      "text/plain": [
       "  0%|          | 0/10 [00:00<?, ?it/s]"
      ]
     },
     "metadata": {},
     "output_type": "display_data"
    },
    {
     "name": "stderr",
     "output_type": "stream",
     "text": []
    },
    {
     "data": {
      "application/vnd.jupyter.widget-view+json": {
       "model_id": "dace17ea54544933a60f182b16bd22f9",
       "version_major": 2,
       "version_minor": 0
      },
      "text/plain": [
       "  0%|          | 0/10 [00:00<?, ?it/s]"
      ]
     },
     "metadata": {},
     "output_type": "display_data"
    },
    {
     "name": "stderr",
     "output_type": "stream",
     "text": [
      "100%|██████████| 10/10 [00:06<00:00,  1.48it/s]\n"
     ]
    },
    {
     "data": {
      "application/vnd.jupyter.widget-view+json": {
       "model_id": "721c9ed882f640c391a4f6a05a8ec404",
       "version_major": 2,
       "version_minor": 0
      },
      "text/plain": [
       "  0%|          | 0/10 [00:00<?, ?it/s]"
      ]
     },
     "metadata": {},
     "output_type": "display_data"
    },
    {
     "name": "stderr",
     "output_type": "stream",
     "text": []
    },
    {
     "data": {
      "application/vnd.jupyter.widget-view+json": {
       "model_id": "a6a36fec148a4f4f8073627a1b1bf6aa",
       "version_major": 2,
       "version_minor": 0
      },
      "text/plain": [
       "  0%|          | 0/10 [00:00<?, ?it/s]"
      ]
     },
     "metadata": {},
     "output_type": "display_data"
    },
    {
     "name": "stderr",
     "output_type": "stream",
     "text": []
    },
    {
     "data": {
      "application/vnd.jupyter.widget-view+json": {
       "model_id": "6d7f4ede04f7429ba60df28340e197c4",
       "version_major": 2,
       "version_minor": 0
      },
      "text/plain": [
       "  0%|          | 0/10 [00:00<?, ?it/s]"
      ]
     },
     "metadata": {},
     "output_type": "display_data"
    },
    {
     "name": "stderr",
     "output_type": "stream",
     "text": []
    },
    {
     "data": {
      "application/vnd.jupyter.widget-view+json": {
       "model_id": "f1694fb755704dfabc0a0a4fc68a0301",
       "version_major": 2,
       "version_minor": 0
      },
      "text/plain": [
       "  0%|          | 0/10 [00:00<?, ?it/s]"
      ]
     },
     "metadata": {},
     "output_type": "display_data"
    },
    {
     "name": "stderr",
     "output_type": "stream",
     "text": []
    },
    {
     "data": {
      "application/vnd.jupyter.widget-view+json": {
       "model_id": "d95a3d9a13774464ba99277f738942d3",
       "version_major": 2,
       "version_minor": 0
      },
      "text/plain": [
       "  0%|          | 0/10 [00:00<?, ?it/s]"
      ]
     },
     "metadata": {},
     "output_type": "display_data"
    },
    {
     "name": "stderr",
     "output_type": "stream",
     "text": []
    },
    {
     "data": {
      "application/vnd.jupyter.widget-view+json": {
       "model_id": "e197b6e5e51d4f4aabbe057ea0b8f5d5",
       "version_major": 2,
       "version_minor": 0
      },
      "text/plain": [
       "  0%|          | 0/10 [00:00<?, ?it/s]"
      ]
     },
     "metadata": {},
     "output_type": "display_data"
    },
    {
     "name": "stderr",
     "output_type": "stream",
     "text": []
    },
    {
     "data": {
      "application/vnd.jupyter.widget-view+json": {
       "model_id": "57884b476337491e8b5095c826faecc3",
       "version_major": 2,
       "version_minor": 0
      },
      "text/plain": [
       "  0%|          | 0/10 [00:00<?, ?it/s]"
      ]
     },
     "metadata": {},
     "output_type": "display_data"
    },
    {
     "name": "stderr",
     "output_type": "stream",
     "text": []
    },
    {
     "data": {
      "application/vnd.jupyter.widget-view+json": {
       "model_id": "4b57cd96dcb244db93ad862c50caf7db",
       "version_major": 2,
       "version_minor": 0
      },
      "text/plain": [
       "  0%|          | 0/10 [00:00<?, ?it/s]"
      ]
     },
     "metadata": {},
     "output_type": "display_data"
    },
    {
     "name": "stderr",
     "output_type": "stream",
     "text": []
    },
    {
     "data": {
      "application/vnd.jupyter.widget-view+json": {
       "model_id": "937964998779498c848c1e7ff4055f23",
       "version_major": 2,
       "version_minor": 0
      },
      "text/plain": [
       "  0%|          | 0/10 [00:00<?, ?it/s]"
      ]
     },
     "metadata": {},
     "output_type": "display_data"
    },
    {
     "name": "stderr",
     "output_type": "stream",
     "text": []
    },
    {
     "data": {
      "application/vnd.jupyter.widget-view+json": {
       "model_id": "ce632a59e8394b32aa61b88f82e7e630",
       "version_major": 2,
       "version_minor": 0
      },
      "text/plain": [
       "  0%|          | 0/10 [00:00<?, ?it/s]"
      ]
     },
     "metadata": {},
     "output_type": "display_data"
    },
    {
     "name": "stderr",
     "output_type": "stream",
     "text": [
      "100%|██████████| 10/10 [00:07<00:00,  1.41it/s]\n"
     ]
    },
    {
     "data": {
      "application/vnd.jupyter.widget-view+json": {
       "model_id": "a5c8cd85bd7d4579b487ab78c625bed0",
       "version_major": 2,
       "version_minor": 0
      },
      "text/plain": [
       "  0%|          | 0/10 [00:00<?, ?it/s]"
      ]
     },
     "metadata": {},
     "output_type": "display_data"
    },
    {
     "name": "stderr",
     "output_type": "stream",
     "text": []
    },
    {
     "data": {
      "application/vnd.jupyter.widget-view+json": {
       "model_id": "db685e0e50fa48e8906676fefc9d1d96",
       "version_major": 2,
       "version_minor": 0
      },
      "text/plain": [
       "  0%|          | 0/10 [00:00<?, ?it/s]"
      ]
     },
     "metadata": {},
     "output_type": "display_data"
    },
    {
     "name": "stderr",
     "output_type": "stream",
     "text": []
    },
    {
     "data": {
      "application/vnd.jupyter.widget-view+json": {
       "model_id": "6143a7c91d5e4e93b48dad6c1eee3555",
       "version_major": 2,
       "version_minor": 0
      },
      "text/plain": [
       "  0%|          | 0/10 [00:00<?, ?it/s]"
      ]
     },
     "metadata": {},
     "output_type": "display_data"
    },
    {
     "name": "stderr",
     "output_type": "stream",
     "text": []
    },
    {
     "data": {
      "application/vnd.jupyter.widget-view+json": {
       "model_id": "b42fda2ea11949c5b46ac8c20bdc9a2c",
       "version_major": 2,
       "version_minor": 0
      },
      "text/plain": [
       "  0%|          | 0/10 [00:00<?, ?it/s]"
      ]
     },
     "metadata": {},
     "output_type": "display_data"
    },
    {
     "name": "stderr",
     "output_type": "stream",
     "text": []
    },
    {
     "data": {
      "application/vnd.jupyter.widget-view+json": {
       "model_id": "36183deed4d44561bc53633868657998",
       "version_major": 2,
       "version_minor": 0
      },
      "text/plain": [
       "  0%|          | 0/10 [00:00<?, ?it/s]"
      ]
     },
     "metadata": {},
     "output_type": "display_data"
    },
    {
     "name": "stderr",
     "output_type": "stream",
     "text": []
    },
    {
     "data": {
      "application/vnd.jupyter.widget-view+json": {
       "model_id": "65a43581157a4acca9efced441091264",
       "version_major": 2,
       "version_minor": 0
      },
      "text/plain": [
       "  0%|          | 0/10 [00:00<?, ?it/s]"
      ]
     },
     "metadata": {},
     "output_type": "display_data"
    },
    {
     "name": "stderr",
     "output_type": "stream",
     "text": []
    },
    {
     "data": {
      "application/vnd.jupyter.widget-view+json": {
       "model_id": "519f0a77e78f4c9a97ce1939bf98b3d6",
       "version_major": 2,
       "version_minor": 0
      },
      "text/plain": [
       "  0%|          | 0/10 [00:00<?, ?it/s]"
      ]
     },
     "metadata": {},
     "output_type": "display_data"
    },
    {
     "name": "stderr",
     "output_type": "stream",
     "text": []
    },
    {
     "data": {
      "application/vnd.jupyter.widget-view+json": {
       "model_id": "064041da39e74ae8a9af9dc34219a052",
       "version_major": 2,
       "version_minor": 0
      },
      "text/plain": [
       "  0%|          | 0/10 [00:00<?, ?it/s]"
      ]
     },
     "metadata": {},
     "output_type": "display_data"
    },
    {
     "name": "stderr",
     "output_type": "stream",
     "text": []
    },
    {
     "data": {
      "application/vnd.jupyter.widget-view+json": {
       "model_id": "34e003d365f6486a96d5f35db4482f11",
       "version_major": 2,
       "version_minor": 0
      },
      "text/plain": [
       "  0%|          | 0/10 [00:00<?, ?it/s]"
      ]
     },
     "metadata": {},
     "output_type": "display_data"
    },
    {
     "name": "stderr",
     "output_type": "stream",
     "text": []
    },
    {
     "data": {
      "application/vnd.jupyter.widget-view+json": {
       "model_id": "78d1b0af7f964ddc9fbc84e1cd5a8062",
       "version_major": 2,
       "version_minor": 0
      },
      "text/plain": [
       "  0%|          | 0/10 [00:00<?, ?it/s]"
      ]
     },
     "metadata": {},
     "output_type": "display_data"
    },
    {
     "name": "stderr",
     "output_type": "stream",
     "text": [
      "100%|██████████| 10/10 [00:06<00:00,  1.53it/s]\n"
     ]
    },
    {
     "data": {
      "application/vnd.jupyter.widget-view+json": {
       "model_id": "0a8bd49eb93d41a395a727058ba113b1",
       "version_major": 2,
       "version_minor": 0
      },
      "text/plain": [
       "  0%|          | 0/10 [00:00<?, ?it/s]"
      ]
     },
     "metadata": {},
     "output_type": "display_data"
    },
    {
     "name": "stderr",
     "output_type": "stream",
     "text": []
    },
    {
     "data": {
      "application/vnd.jupyter.widget-view+json": {
       "model_id": "7877451931e6491197bd4914db07ad9f",
       "version_major": 2,
       "version_minor": 0
      },
      "text/plain": [
       "  0%|          | 0/10 [00:00<?, ?it/s]"
      ]
     },
     "metadata": {},
     "output_type": "display_data"
    },
    {
     "name": "stderr",
     "output_type": "stream",
     "text": []
    },
    {
     "data": {
      "application/vnd.jupyter.widget-view+json": {
       "model_id": "37b59375300848c09e3dd64f861b8cd6",
       "version_major": 2,
       "version_minor": 0
      },
      "text/plain": [
       "  0%|          | 0/10 [00:00<?, ?it/s]"
      ]
     },
     "metadata": {},
     "output_type": "display_data"
    },
    {
     "name": "stderr",
     "output_type": "stream",
     "text": []
    },
    {
     "data": {
      "application/vnd.jupyter.widget-view+json": {
       "model_id": "32dc5800d9334d86ad8ae426362cc48c",
       "version_major": 2,
       "version_minor": 0
      },
      "text/plain": [
       "  0%|          | 0/10 [00:00<?, ?it/s]"
      ]
     },
     "metadata": {},
     "output_type": "display_data"
    },
    {
     "name": "stderr",
     "output_type": "stream",
     "text": []
    },
    {
     "data": {
      "application/vnd.jupyter.widget-view+json": {
       "model_id": "8ac8129260844fb8b562894e1faff769",
       "version_major": 2,
       "version_minor": 0
      },
      "text/plain": [
       "  0%|          | 0/10 [00:00<?, ?it/s]"
      ]
     },
     "metadata": {},
     "output_type": "display_data"
    },
    {
     "name": "stderr",
     "output_type": "stream",
     "text": []
    },
    {
     "data": {
      "application/vnd.jupyter.widget-view+json": {
       "model_id": "19616085d69a4569bcf86037862b5d7d",
       "version_major": 2,
       "version_minor": 0
      },
      "text/plain": [
       "  0%|          | 0/10 [00:00<?, ?it/s]"
      ]
     },
     "metadata": {},
     "output_type": "display_data"
    },
    {
     "name": "stderr",
     "output_type": "stream",
     "text": []
    },
    {
     "data": {
      "application/vnd.jupyter.widget-view+json": {
       "model_id": "f4b1c623dc41497fa7338c672be7bc53",
       "version_major": 2,
       "version_minor": 0
      },
      "text/plain": [
       "  0%|          | 0/10 [00:00<?, ?it/s]"
      ]
     },
     "metadata": {},
     "output_type": "display_data"
    },
    {
     "name": "stderr",
     "output_type": "stream",
     "text": []
    },
    {
     "data": {
      "application/vnd.jupyter.widget-view+json": {
       "model_id": "9da03c91f3d144c8a451bafea85002e5",
       "version_major": 2,
       "version_minor": 0
      },
      "text/plain": [
       "  0%|          | 0/10 [00:00<?, ?it/s]"
      ]
     },
     "metadata": {},
     "output_type": "display_data"
    },
    {
     "name": "stderr",
     "output_type": "stream",
     "text": []
    },
    {
     "data": {
      "application/vnd.jupyter.widget-view+json": {
       "model_id": "7d21b11148714572a703b8b6371109ab",
       "version_major": 2,
       "version_minor": 0
      },
      "text/plain": [
       "  0%|          | 0/10 [00:00<?, ?it/s]"
      ]
     },
     "metadata": {},
     "output_type": "display_data"
    },
    {
     "name": "stderr",
     "output_type": "stream",
     "text": []
    },
    {
     "data": {
      "application/vnd.jupyter.widget-view+json": {
       "model_id": "c42d4b78a9be4401848ab767d518ea63",
       "version_major": 2,
       "version_minor": 0
      },
      "text/plain": [
       "  0%|          | 0/10 [00:00<?, ?it/s]"
      ]
     },
     "metadata": {},
     "output_type": "display_data"
    },
    {
     "name": "stderr",
     "output_type": "stream",
     "text": [
      "100%|██████████| 10/10 [00:07<00:00,  1.38it/s]\n"
     ]
    },
    {
     "data": {
      "application/vnd.jupyter.widget-view+json": {
       "model_id": "8d6052b2e68141ba82e0c947f34f9e42",
       "version_major": 2,
       "version_minor": 0
      },
      "text/plain": [
       "  0%|          | 0/10 [00:00<?, ?it/s]"
      ]
     },
     "metadata": {},
     "output_type": "display_data"
    },
    {
     "name": "stderr",
     "output_type": "stream",
     "text": []
    },
    {
     "data": {
      "application/vnd.jupyter.widget-view+json": {
       "model_id": "a2a1920ed6f5479db266fdb335c7bf60",
       "version_major": 2,
       "version_minor": 0
      },
      "text/plain": [
       "  0%|          | 0/10 [00:00<?, ?it/s]"
      ]
     },
     "metadata": {},
     "output_type": "display_data"
    },
    {
     "name": "stderr",
     "output_type": "stream",
     "text": []
    },
    {
     "data": {
      "application/vnd.jupyter.widget-view+json": {
       "model_id": "997aeed77f744883875891a911bcd409",
       "version_major": 2,
       "version_minor": 0
      },
      "text/plain": [
       "  0%|          | 0/10 [00:00<?, ?it/s]"
      ]
     },
     "metadata": {},
     "output_type": "display_data"
    },
    {
     "name": "stderr",
     "output_type": "stream",
     "text": []
    },
    {
     "data": {
      "application/vnd.jupyter.widget-view+json": {
       "model_id": "a547a46fcc8543b292809257f8692c8b",
       "version_major": 2,
       "version_minor": 0
      },
      "text/plain": [
       "  0%|          | 0/10 [00:00<?, ?it/s]"
      ]
     },
     "metadata": {},
     "output_type": "display_data"
    },
    {
     "name": "stderr",
     "output_type": "stream",
     "text": []
    },
    {
     "data": {
      "application/vnd.jupyter.widget-view+json": {
       "model_id": "0b1801e56b2b434e85637ea856755678",
       "version_major": 2,
       "version_minor": 0
      },
      "text/plain": [
       "  0%|          | 0/10 [00:00<?, ?it/s]"
      ]
     },
     "metadata": {},
     "output_type": "display_data"
    },
    {
     "name": "stderr",
     "output_type": "stream",
     "text": []
    },
    {
     "data": {
      "application/vnd.jupyter.widget-view+json": {
       "model_id": "4fe0435fd32943078ae5505f7207e3a1",
       "version_major": 2,
       "version_minor": 0
      },
      "text/plain": [
       "  0%|          | 0/10 [00:00<?, ?it/s]"
      ]
     },
     "metadata": {},
     "output_type": "display_data"
    },
    {
     "name": "stderr",
     "output_type": "stream",
     "text": []
    },
    {
     "data": {
      "application/vnd.jupyter.widget-view+json": {
       "model_id": "720f27d3eb9948b8b52bfcda16bd91f3",
       "version_major": 2,
       "version_minor": 0
      },
      "text/plain": [
       "  0%|          | 0/10 [00:00<?, ?it/s]"
      ]
     },
     "metadata": {},
     "output_type": "display_data"
    },
    {
     "name": "stderr",
     "output_type": "stream",
     "text": []
    },
    {
     "data": {
      "application/vnd.jupyter.widget-view+json": {
       "model_id": "be6a1be527a64e67b3b1882e3497410f",
       "version_major": 2,
       "version_minor": 0
      },
      "text/plain": [
       "  0%|          | 0/10 [00:00<?, ?it/s]"
      ]
     },
     "metadata": {},
     "output_type": "display_data"
    },
    {
     "name": "stderr",
     "output_type": "stream",
     "text": []
    },
    {
     "data": {
      "application/vnd.jupyter.widget-view+json": {
       "model_id": "14b3aceb523b4d8e97e1f3f867911925",
       "version_major": 2,
       "version_minor": 0
      },
      "text/plain": [
       "  0%|          | 0/10 [00:00<?, ?it/s]"
      ]
     },
     "metadata": {},
     "output_type": "display_data"
    },
    {
     "name": "stderr",
     "output_type": "stream",
     "text": []
    },
    {
     "data": {
      "application/vnd.jupyter.widget-view+json": {
       "model_id": "26f683c7bebe405b8fc8b415f9d720ea",
       "version_major": 2,
       "version_minor": 0
      },
      "text/plain": [
       "  0%|          | 0/10 [00:00<?, ?it/s]"
      ]
     },
     "metadata": {},
     "output_type": "display_data"
    },
    {
     "name": "stderr",
     "output_type": "stream",
     "text": [
      "100%|██████████| 10/10 [00:06<00:00,  1.61it/s]\n",
      " 50%|█████     | 3/6 [03:55<03:55, 78.58s/it]"
     ]
    },
    {
     "data": {
      "application/vnd.jupyter.widget-view+json": {
       "model_id": "c7ec806e2e5c40789b2a74a48bbcdaa3",
       "version_major": 2,
       "version_minor": 0
      },
      "text/plain": [
       "  0%|          | 0/10 [00:00<?, ?it/s]"
      ]
     },
     "metadata": {},
     "output_type": "display_data"
    },
    {
     "name": "stderr",
     "output_type": "stream",
     "text": []
    },
    {
     "data": {
      "application/vnd.jupyter.widget-view+json": {
       "model_id": "dfa657941a114585b042911ef024b2a4",
       "version_major": 2,
       "version_minor": 0
      },
      "text/plain": [
       "  0%|          | 0/10 [00:00<?, ?it/s]"
      ]
     },
     "metadata": {},
     "output_type": "display_data"
    },
    {
     "name": "stderr",
     "output_type": "stream",
     "text": []
    },
    {
     "data": {
      "application/vnd.jupyter.widget-view+json": {
       "model_id": "c88d2b39f7604e5ebc89a28e3d66dac2",
       "version_major": 2,
       "version_minor": 0
      },
      "text/plain": [
       "  0%|          | 0/10 [00:00<?, ?it/s]"
      ]
     },
     "metadata": {},
     "output_type": "display_data"
    },
    {
     "name": "stderr",
     "output_type": "stream",
     "text": []
    },
    {
     "data": {
      "application/vnd.jupyter.widget-view+json": {
       "model_id": "855ab3609ee545fdb998098230a2433e",
       "version_major": 2,
       "version_minor": 0
      },
      "text/plain": [
       "  0%|          | 0/10 [00:00<?, ?it/s]"
      ]
     },
     "metadata": {},
     "output_type": "display_data"
    },
    {
     "name": "stderr",
     "output_type": "stream",
     "text": []
    },
    {
     "data": {
      "application/vnd.jupyter.widget-view+json": {
       "model_id": "28b030b2641b4d32bc0ab9b07d4560f3",
       "version_major": 2,
       "version_minor": 0
      },
      "text/plain": [
       "  0%|          | 0/10 [00:00<?, ?it/s]"
      ]
     },
     "metadata": {},
     "output_type": "display_data"
    },
    {
     "name": "stderr",
     "output_type": "stream",
     "text": []
    },
    {
     "data": {
      "application/vnd.jupyter.widget-view+json": {
       "model_id": "d9dcee1f22f84e92b88fb64ff17e80b9",
       "version_major": 2,
       "version_minor": 0
      },
      "text/plain": [
       "  0%|          | 0/10 [00:00<?, ?it/s]"
      ]
     },
     "metadata": {},
     "output_type": "display_data"
    },
    {
     "name": "stderr",
     "output_type": "stream",
     "text": []
    },
    {
     "data": {
      "application/vnd.jupyter.widget-view+json": {
       "model_id": "c14987436d5548298cc2c69e28f94740",
       "version_major": 2,
       "version_minor": 0
      },
      "text/plain": [
       "  0%|          | 0/10 [00:00<?, ?it/s]"
      ]
     },
     "metadata": {},
     "output_type": "display_data"
    },
    {
     "name": "stderr",
     "output_type": "stream",
     "text": []
    },
    {
     "data": {
      "application/vnd.jupyter.widget-view+json": {
       "model_id": "5c7457e293674201ae90a02de9c28356",
       "version_major": 2,
       "version_minor": 0
      },
      "text/plain": [
       "  0%|          | 0/10 [00:00<?, ?it/s]"
      ]
     },
     "metadata": {},
     "output_type": "display_data"
    },
    {
     "name": "stderr",
     "output_type": "stream",
     "text": []
    },
    {
     "data": {
      "application/vnd.jupyter.widget-view+json": {
       "model_id": "b2fdadef6106458c84eea2b5b433836d",
       "version_major": 2,
       "version_minor": 0
      },
      "text/plain": [
       "  0%|          | 0/10 [00:00<?, ?it/s]"
      ]
     },
     "metadata": {},
     "output_type": "display_data"
    },
    {
     "name": "stderr",
     "output_type": "stream",
     "text": []
    },
    {
     "data": {
      "application/vnd.jupyter.widget-view+json": {
       "model_id": "a93e0435d9e44efda5f47b5b318d9f9b",
       "version_major": 2,
       "version_minor": 0
      },
      "text/plain": [
       "  0%|          | 0/10 [00:00<?, ?it/s]"
      ]
     },
     "metadata": {},
     "output_type": "display_data"
    },
    {
     "name": "stderr",
     "output_type": "stream",
     "text": [
      "100%|██████████| 10/10 [00:06<00:00,  1.66it/s]\n"
     ]
    },
    {
     "data": {
      "application/vnd.jupyter.widget-view+json": {
       "model_id": "0bb06addfd83454fb7c77cf647adbfbe",
       "version_major": 2,
       "version_minor": 0
      },
      "text/plain": [
       "  0%|          | 0/10 [00:00<?, ?it/s]"
      ]
     },
     "metadata": {},
     "output_type": "display_data"
    },
    {
     "name": "stderr",
     "output_type": "stream",
     "text": []
    },
    {
     "data": {
      "application/vnd.jupyter.widget-view+json": {
       "model_id": "fb311c2458c04c1d8a8e7bef68dbd045",
       "version_major": 2,
       "version_minor": 0
      },
      "text/plain": [
       "  0%|          | 0/10 [00:00<?, ?it/s]"
      ]
     },
     "metadata": {},
     "output_type": "display_data"
    },
    {
     "name": "stderr",
     "output_type": "stream",
     "text": []
    },
    {
     "data": {
      "application/vnd.jupyter.widget-view+json": {
       "model_id": "34bd7a2b720c4cf980bb03eeac4ed111",
       "version_major": 2,
       "version_minor": 0
      },
      "text/plain": [
       "  0%|          | 0/10 [00:00<?, ?it/s]"
      ]
     },
     "metadata": {},
     "output_type": "display_data"
    },
    {
     "name": "stderr",
     "output_type": "stream",
     "text": []
    },
    {
     "data": {
      "application/vnd.jupyter.widget-view+json": {
       "model_id": "197e5ba8d2924367a39d3776305f3d73",
       "version_major": 2,
       "version_minor": 0
      },
      "text/plain": [
       "  0%|          | 0/10 [00:00<?, ?it/s]"
      ]
     },
     "metadata": {},
     "output_type": "display_data"
    },
    {
     "name": "stderr",
     "output_type": "stream",
     "text": []
    },
    {
     "data": {
      "application/vnd.jupyter.widget-view+json": {
       "model_id": "dcce66e660814253a2a50b1da0262415",
       "version_major": 2,
       "version_minor": 0
      },
      "text/plain": [
       "  0%|          | 0/10 [00:00<?, ?it/s]"
      ]
     },
     "metadata": {},
     "output_type": "display_data"
    },
    {
     "name": "stderr",
     "output_type": "stream",
     "text": []
    },
    {
     "data": {
      "application/vnd.jupyter.widget-view+json": {
       "model_id": "0514c3aa71ca4f43af8ab4123cb182c8",
       "version_major": 2,
       "version_minor": 0
      },
      "text/plain": [
       "  0%|          | 0/10 [00:00<?, ?it/s]"
      ]
     },
     "metadata": {},
     "output_type": "display_data"
    },
    {
     "name": "stderr",
     "output_type": "stream",
     "text": []
    },
    {
     "data": {
      "application/vnd.jupyter.widget-view+json": {
       "model_id": "e477132ae7d64cc59709bee43c760aa0",
       "version_major": 2,
       "version_minor": 0
      },
      "text/plain": [
       "  0%|          | 0/10 [00:00<?, ?it/s]"
      ]
     },
     "metadata": {},
     "output_type": "display_data"
    },
    {
     "name": "stderr",
     "output_type": "stream",
     "text": []
    },
    {
     "data": {
      "application/vnd.jupyter.widget-view+json": {
       "model_id": "2e192511c0db42a5ab1c526b820cc707",
       "version_major": 2,
       "version_minor": 0
      },
      "text/plain": [
       "  0%|          | 0/10 [00:00<?, ?it/s]"
      ]
     },
     "metadata": {},
     "output_type": "display_data"
    },
    {
     "name": "stderr",
     "output_type": "stream",
     "text": []
    },
    {
     "data": {
      "application/vnd.jupyter.widget-view+json": {
       "model_id": "c8eb7800992f498380ca3b4446a864e2",
       "version_major": 2,
       "version_minor": 0
      },
      "text/plain": [
       "  0%|          | 0/10 [00:00<?, ?it/s]"
      ]
     },
     "metadata": {},
     "output_type": "display_data"
    },
    {
     "name": "stderr",
     "output_type": "stream",
     "text": []
    },
    {
     "data": {
      "application/vnd.jupyter.widget-view+json": {
       "model_id": "4361016991e24e87acbac491e4d42693",
       "version_major": 2,
       "version_minor": 0
      },
      "text/plain": [
       "  0%|          | 0/10 [00:00<?, ?it/s]"
      ]
     },
     "metadata": {},
     "output_type": "display_data"
    },
    {
     "name": "stderr",
     "output_type": "stream",
     "text": [
      "100%|██████████| 10/10 [00:07<00:00,  1.39it/s]\n"
     ]
    },
    {
     "data": {
      "application/vnd.jupyter.widget-view+json": {
       "model_id": "d23a40f20ee74ca2a86a0797d6c2a8fe",
       "version_major": 2,
       "version_minor": 0
      },
      "text/plain": [
       "  0%|          | 0/10 [00:00<?, ?it/s]"
      ]
     },
     "metadata": {},
     "output_type": "display_data"
    },
    {
     "name": "stderr",
     "output_type": "stream",
     "text": []
    },
    {
     "data": {
      "application/vnd.jupyter.widget-view+json": {
       "model_id": "8d9c42f3d7554787b383e5e5f0a3df33",
       "version_major": 2,
       "version_minor": 0
      },
      "text/plain": [
       "  0%|          | 0/10 [00:00<?, ?it/s]"
      ]
     },
     "metadata": {},
     "output_type": "display_data"
    },
    {
     "name": "stderr",
     "output_type": "stream",
     "text": []
    },
    {
     "data": {
      "application/vnd.jupyter.widget-view+json": {
       "model_id": "00b58cb1a5974247b51db50d9ee0646d",
       "version_major": 2,
       "version_minor": 0
      },
      "text/plain": [
       "  0%|          | 0/10 [00:00<?, ?it/s]"
      ]
     },
     "metadata": {},
     "output_type": "display_data"
    },
    {
     "name": "stderr",
     "output_type": "stream",
     "text": []
    },
    {
     "data": {
      "application/vnd.jupyter.widget-view+json": {
       "model_id": "b790bb7813b343b2ad5c0e69fbcea7d0",
       "version_major": 2,
       "version_minor": 0
      },
      "text/plain": [
       "  0%|          | 0/10 [00:00<?, ?it/s]"
      ]
     },
     "metadata": {},
     "output_type": "display_data"
    },
    {
     "name": "stderr",
     "output_type": "stream",
     "text": []
    },
    {
     "data": {
      "application/vnd.jupyter.widget-view+json": {
       "model_id": "42e558106ca04fd7841e1dae7b9bf237",
       "version_major": 2,
       "version_minor": 0
      },
      "text/plain": [
       "  0%|          | 0/10 [00:00<?, ?it/s]"
      ]
     },
     "metadata": {},
     "output_type": "display_data"
    },
    {
     "name": "stderr",
     "output_type": "stream",
     "text": []
    },
    {
     "data": {
      "application/vnd.jupyter.widget-view+json": {
       "model_id": "19d3d4be54234e6aa6fd1be943968d33",
       "version_major": 2,
       "version_minor": 0
      },
      "text/plain": [
       "  0%|          | 0/10 [00:00<?, ?it/s]"
      ]
     },
     "metadata": {},
     "output_type": "display_data"
    },
    {
     "name": "stderr",
     "output_type": "stream",
     "text": []
    },
    {
     "data": {
      "application/vnd.jupyter.widget-view+json": {
       "model_id": "2d4d11c7b33c40138acf2357562185ca",
       "version_major": 2,
       "version_minor": 0
      },
      "text/plain": [
       "  0%|          | 0/10 [00:00<?, ?it/s]"
      ]
     },
     "metadata": {},
     "output_type": "display_data"
    },
    {
     "name": "stderr",
     "output_type": "stream",
     "text": []
    },
    {
     "data": {
      "application/vnd.jupyter.widget-view+json": {
       "model_id": "2599db43535a43d6b820a413d4198ef1",
       "version_major": 2,
       "version_minor": 0
      },
      "text/plain": [
       "  0%|          | 0/10 [00:00<?, ?it/s]"
      ]
     },
     "metadata": {},
     "output_type": "display_data"
    },
    {
     "name": "stderr",
     "output_type": "stream",
     "text": []
    },
    {
     "data": {
      "application/vnd.jupyter.widget-view+json": {
       "model_id": "969ee2a706c54c90b3cd03cd666b26e4",
       "version_major": 2,
       "version_minor": 0
      },
      "text/plain": [
       "  0%|          | 0/10 [00:00<?, ?it/s]"
      ]
     },
     "metadata": {},
     "output_type": "display_data"
    },
    {
     "name": "stderr",
     "output_type": "stream",
     "text": []
    },
    {
     "data": {
      "application/vnd.jupyter.widget-view+json": {
       "model_id": "1c9167e6de3c432098efdd9380a40847",
       "version_major": 2,
       "version_minor": 0
      },
      "text/plain": [
       "  0%|          | 0/10 [00:00<?, ?it/s]"
      ]
     },
     "metadata": {},
     "output_type": "display_data"
    },
    {
     "name": "stderr",
     "output_type": "stream",
     "text": [
      "100%|██████████| 10/10 [00:06<00:00,  1.61it/s]\n"
     ]
    },
    {
     "data": {
      "application/vnd.jupyter.widget-view+json": {
       "model_id": "b8c635ceed0940d9b970517631b5faea",
       "version_major": 2,
       "version_minor": 0
      },
      "text/plain": [
       "  0%|          | 0/10 [00:00<?, ?it/s]"
      ]
     },
     "metadata": {},
     "output_type": "display_data"
    },
    {
     "name": "stderr",
     "output_type": "stream",
     "text": []
    },
    {
     "data": {
      "application/vnd.jupyter.widget-view+json": {
       "model_id": "eb6b2dca40e34fc4bad16689230fdb7b",
       "version_major": 2,
       "version_minor": 0
      },
      "text/plain": [
       "  0%|          | 0/10 [00:00<?, ?it/s]"
      ]
     },
     "metadata": {},
     "output_type": "display_data"
    },
    {
     "name": "stderr",
     "output_type": "stream",
     "text": []
    },
    {
     "data": {
      "application/vnd.jupyter.widget-view+json": {
       "model_id": "0bec4f0d8ed44f8cad4c836586ffd90d",
       "version_major": 2,
       "version_minor": 0
      },
      "text/plain": [
       "  0%|          | 0/10 [00:00<?, ?it/s]"
      ]
     },
     "metadata": {},
     "output_type": "display_data"
    },
    {
     "name": "stderr",
     "output_type": "stream",
     "text": []
    },
    {
     "data": {
      "application/vnd.jupyter.widget-view+json": {
       "model_id": "ffc0f554316c404cbdadf670da9936cc",
       "version_major": 2,
       "version_minor": 0
      },
      "text/plain": [
       "  0%|          | 0/10 [00:00<?, ?it/s]"
      ]
     },
     "metadata": {},
     "output_type": "display_data"
    },
    {
     "name": "stderr",
     "output_type": "stream",
     "text": []
    },
    {
     "data": {
      "application/vnd.jupyter.widget-view+json": {
       "model_id": "03129c07036e497197c726b2d9d55d6d",
       "version_major": 2,
       "version_minor": 0
      },
      "text/plain": [
       "  0%|          | 0/10 [00:00<?, ?it/s]"
      ]
     },
     "metadata": {},
     "output_type": "display_data"
    },
    {
     "name": "stderr",
     "output_type": "stream",
     "text": []
    },
    {
     "data": {
      "application/vnd.jupyter.widget-view+json": {
       "model_id": "04e16e29b7404e53a76ed83de5f1f63c",
       "version_major": 2,
       "version_minor": 0
      },
      "text/plain": [
       "  0%|          | 0/10 [00:00<?, ?it/s]"
      ]
     },
     "metadata": {},
     "output_type": "display_data"
    },
    {
     "name": "stderr",
     "output_type": "stream",
     "text": []
    },
    {
     "data": {
      "application/vnd.jupyter.widget-view+json": {
       "model_id": "a0a70b8170134852abf8b4b450d8c6b9",
       "version_major": 2,
       "version_minor": 0
      },
      "text/plain": [
       "  0%|          | 0/10 [00:00<?, ?it/s]"
      ]
     },
     "metadata": {},
     "output_type": "display_data"
    },
    {
     "name": "stderr",
     "output_type": "stream",
     "text": []
    },
    {
     "data": {
      "application/vnd.jupyter.widget-view+json": {
       "model_id": "ace997378fb14baf904cc6db2f3d4707",
       "version_major": 2,
       "version_minor": 0
      },
      "text/plain": [
       "  0%|          | 0/10 [00:00<?, ?it/s]"
      ]
     },
     "metadata": {},
     "output_type": "display_data"
    },
    {
     "name": "stderr",
     "output_type": "stream",
     "text": []
    },
    {
     "data": {
      "application/vnd.jupyter.widget-view+json": {
       "model_id": "dbe76468f8c844daadd325380b188e32",
       "version_major": 2,
       "version_minor": 0
      },
      "text/plain": [
       "  0%|          | 0/10 [00:00<?, ?it/s]"
      ]
     },
     "metadata": {},
     "output_type": "display_data"
    },
    {
     "name": "stderr",
     "output_type": "stream",
     "text": []
    },
    {
     "data": {
      "application/vnd.jupyter.widget-view+json": {
       "model_id": "51ebee13df2f4ec4a7cfc66d926df0cb",
       "version_major": 2,
       "version_minor": 0
      },
      "text/plain": [
       "  0%|          | 0/10 [00:00<?, ?it/s]"
      ]
     },
     "metadata": {},
     "output_type": "display_data"
    },
    {
     "name": "stderr",
     "output_type": "stream",
     "text": [
      "100%|██████████| 10/10 [00:06<00:00,  1.50it/s]\n"
     ]
    },
    {
     "data": {
      "application/vnd.jupyter.widget-view+json": {
       "model_id": "8d149646ebcf42b59e2494c9ff23e5ff",
       "version_major": 2,
       "version_minor": 0
      },
      "text/plain": [
       "  0%|          | 0/10 [00:00<?, ?it/s]"
      ]
     },
     "metadata": {},
     "output_type": "display_data"
    },
    {
     "name": "stderr",
     "output_type": "stream",
     "text": []
    },
    {
     "data": {
      "application/vnd.jupyter.widget-view+json": {
       "model_id": "1eaa3e359aad481e905b97585c218fff",
       "version_major": 2,
       "version_minor": 0
      },
      "text/plain": [
       "  0%|          | 0/10 [00:00<?, ?it/s]"
      ]
     },
     "metadata": {},
     "output_type": "display_data"
    },
    {
     "name": "stderr",
     "output_type": "stream",
     "text": []
    },
    {
     "data": {
      "application/vnd.jupyter.widget-view+json": {
       "model_id": "30aa1a13f056414aa38518ebb8dda365",
       "version_major": 2,
       "version_minor": 0
      },
      "text/plain": [
       "  0%|          | 0/10 [00:00<?, ?it/s]"
      ]
     },
     "metadata": {},
     "output_type": "display_data"
    },
    {
     "name": "stderr",
     "output_type": "stream",
     "text": []
    },
    {
     "data": {
      "application/vnd.jupyter.widget-view+json": {
       "model_id": "ef437b063972451d9844cad3e1dd6a32",
       "version_major": 2,
       "version_minor": 0
      },
      "text/plain": [
       "  0%|          | 0/10 [00:00<?, ?it/s]"
      ]
     },
     "metadata": {},
     "output_type": "display_data"
    },
    {
     "name": "stderr",
     "output_type": "stream",
     "text": []
    },
    {
     "data": {
      "application/vnd.jupyter.widget-view+json": {
       "model_id": "4398729869cb4c3bb24cc6a0ebc9076d",
       "version_major": 2,
       "version_minor": 0
      },
      "text/plain": [
       "  0%|          | 0/10 [00:00<?, ?it/s]"
      ]
     },
     "metadata": {},
     "output_type": "display_data"
    },
    {
     "name": "stderr",
     "output_type": "stream",
     "text": []
    },
    {
     "data": {
      "application/vnd.jupyter.widget-view+json": {
       "model_id": "a86b3a2a57da463ebc168871909a0ea6",
       "version_major": 2,
       "version_minor": 0
      },
      "text/plain": [
       "  0%|          | 0/10 [00:00<?, ?it/s]"
      ]
     },
     "metadata": {},
     "output_type": "display_data"
    },
    {
     "name": "stderr",
     "output_type": "stream",
     "text": []
    },
    {
     "data": {
      "application/vnd.jupyter.widget-view+json": {
       "model_id": "ed39f76a4aee4d76b8840c9d7ce1b94e",
       "version_major": 2,
       "version_minor": 0
      },
      "text/plain": [
       "  0%|          | 0/10 [00:00<?, ?it/s]"
      ]
     },
     "metadata": {},
     "output_type": "display_data"
    },
    {
     "name": "stderr",
     "output_type": "stream",
     "text": []
    },
    {
     "data": {
      "application/vnd.jupyter.widget-view+json": {
       "model_id": "97fcaf8dc1e1418a97a62e683eb3fef3",
       "version_major": 2,
       "version_minor": 0
      },
      "text/plain": [
       "  0%|          | 0/10 [00:00<?, ?it/s]"
      ]
     },
     "metadata": {},
     "output_type": "display_data"
    },
    {
     "name": "stderr",
     "output_type": "stream",
     "text": []
    },
    {
     "data": {
      "application/vnd.jupyter.widget-view+json": {
       "model_id": "f30a8a824b2748498120906ec544247e",
       "version_major": 2,
       "version_minor": 0
      },
      "text/plain": [
       "  0%|          | 0/10 [00:00<?, ?it/s]"
      ]
     },
     "metadata": {},
     "output_type": "display_data"
    },
    {
     "name": "stderr",
     "output_type": "stream",
     "text": []
    },
    {
     "data": {
      "application/vnd.jupyter.widget-view+json": {
       "model_id": "f044d2b5c8964a2e9cbb2e0a004a4f16",
       "version_major": 2,
       "version_minor": 0
      },
      "text/plain": [
       "  0%|          | 0/10 [00:00<?, ?it/s]"
      ]
     },
     "metadata": {},
     "output_type": "display_data"
    },
    {
     "name": "stderr",
     "output_type": "stream",
     "text": [
      "100%|██████████| 10/10 [00:06<00:00,  1.49it/s]\n"
     ]
    },
    {
     "data": {
      "application/vnd.jupyter.widget-view+json": {
       "model_id": "77706cdf050c4f5d832b2666afed09d4",
       "version_major": 2,
       "version_minor": 0
      },
      "text/plain": [
       "  0%|          | 0/10 [00:00<?, ?it/s]"
      ]
     },
     "metadata": {},
     "output_type": "display_data"
    },
    {
     "name": "stderr",
     "output_type": "stream",
     "text": []
    },
    {
     "data": {
      "application/vnd.jupyter.widget-view+json": {
       "model_id": "3e0f7fb190264ea395bdb872985ab9a1",
       "version_major": 2,
       "version_minor": 0
      },
      "text/plain": [
       "  0%|          | 0/10 [00:00<?, ?it/s]"
      ]
     },
     "metadata": {},
     "output_type": "display_data"
    },
    {
     "name": "stderr",
     "output_type": "stream",
     "text": []
    },
    {
     "data": {
      "application/vnd.jupyter.widget-view+json": {
       "model_id": "ab7104d8b3064163b36768de724813f5",
       "version_major": 2,
       "version_minor": 0
      },
      "text/plain": [
       "  0%|          | 0/10 [00:00<?, ?it/s]"
      ]
     },
     "metadata": {},
     "output_type": "display_data"
    },
    {
     "name": "stderr",
     "output_type": "stream",
     "text": []
    },
    {
     "data": {
      "application/vnd.jupyter.widget-view+json": {
       "model_id": "94e1ebef5628485282e2f10b1a2b0be6",
       "version_major": 2,
       "version_minor": 0
      },
      "text/plain": [
       "  0%|          | 0/10 [00:00<?, ?it/s]"
      ]
     },
     "metadata": {},
     "output_type": "display_data"
    },
    {
     "name": "stderr",
     "output_type": "stream",
     "text": []
    },
    {
     "data": {
      "application/vnd.jupyter.widget-view+json": {
       "model_id": "ebb0dc6a220b4b20a77c5c66c63d64be",
       "version_major": 2,
       "version_minor": 0
      },
      "text/plain": [
       "  0%|          | 0/10 [00:00<?, ?it/s]"
      ]
     },
     "metadata": {},
     "output_type": "display_data"
    },
    {
     "name": "stderr",
     "output_type": "stream",
     "text": []
    },
    {
     "data": {
      "application/vnd.jupyter.widget-view+json": {
       "model_id": "167ccdae98ab4ebf923baf71c782796a",
       "version_major": 2,
       "version_minor": 0
      },
      "text/plain": [
       "  0%|          | 0/10 [00:00<?, ?it/s]"
      ]
     },
     "metadata": {},
     "output_type": "display_data"
    },
    {
     "name": "stderr",
     "output_type": "stream",
     "text": []
    },
    {
     "data": {
      "application/vnd.jupyter.widget-view+json": {
       "model_id": "5403e9f413b94656bd04d5b49a058e95",
       "version_major": 2,
       "version_minor": 0
      },
      "text/plain": [
       "  0%|          | 0/10 [00:00<?, ?it/s]"
      ]
     },
     "metadata": {},
     "output_type": "display_data"
    },
    {
     "name": "stderr",
     "output_type": "stream",
     "text": []
    },
    {
     "data": {
      "application/vnd.jupyter.widget-view+json": {
       "model_id": "b64ab847ff754176bfe7539aea6b431f",
       "version_major": 2,
       "version_minor": 0
      },
      "text/plain": [
       "  0%|          | 0/10 [00:00<?, ?it/s]"
      ]
     },
     "metadata": {},
     "output_type": "display_data"
    },
    {
     "name": "stderr",
     "output_type": "stream",
     "text": []
    },
    {
     "data": {
      "application/vnd.jupyter.widget-view+json": {
       "model_id": "9d9971df578648ecbe63ef8c1005ce7c",
       "version_major": 2,
       "version_minor": 0
      },
      "text/plain": [
       "  0%|          | 0/10 [00:00<?, ?it/s]"
      ]
     },
     "metadata": {},
     "output_type": "display_data"
    },
    {
     "name": "stderr",
     "output_type": "stream",
     "text": []
    },
    {
     "data": {
      "application/vnd.jupyter.widget-view+json": {
       "model_id": "9efe44dfcfe747988dd31142a1422668",
       "version_major": 2,
       "version_minor": 0
      },
      "text/plain": [
       "  0%|          | 0/10 [00:00<?, ?it/s]"
      ]
     },
     "metadata": {},
     "output_type": "display_data"
    },
    {
     "name": "stderr",
     "output_type": "stream",
     "text": [
      "100%|██████████| 10/10 [00:06<00:00,  1.63it/s]\n"
     ]
    },
    {
     "data": {
      "application/vnd.jupyter.widget-view+json": {
       "model_id": "464ff00d89ae44608e3454e5d38967c5",
       "version_major": 2,
       "version_minor": 0
      },
      "text/plain": [
       "  0%|          | 0/10 [00:00<?, ?it/s]"
      ]
     },
     "metadata": {},
     "output_type": "display_data"
    },
    {
     "name": "stderr",
     "output_type": "stream",
     "text": []
    },
    {
     "data": {
      "application/vnd.jupyter.widget-view+json": {
       "model_id": "2e67a4f51de34eb4844846bdcd5383e5",
       "version_major": 2,
       "version_minor": 0
      },
      "text/plain": [
       "  0%|          | 0/10 [00:00<?, ?it/s]"
      ]
     },
     "metadata": {},
     "output_type": "display_data"
    },
    {
     "name": "stderr",
     "output_type": "stream",
     "text": []
    },
    {
     "data": {
      "application/vnd.jupyter.widget-view+json": {
       "model_id": "99342779385348efb3552a55608b999d",
       "version_major": 2,
       "version_minor": 0
      },
      "text/plain": [
       "  0%|          | 0/10 [00:00<?, ?it/s]"
      ]
     },
     "metadata": {},
     "output_type": "display_data"
    },
    {
     "name": "stderr",
     "output_type": "stream",
     "text": []
    },
    {
     "data": {
      "application/vnd.jupyter.widget-view+json": {
       "model_id": "b42a330cd5064859b8b29606fd606484",
       "version_major": 2,
       "version_minor": 0
      },
      "text/plain": [
       "  0%|          | 0/10 [00:00<?, ?it/s]"
      ]
     },
     "metadata": {},
     "output_type": "display_data"
    },
    {
     "name": "stderr",
     "output_type": "stream",
     "text": []
    },
    {
     "data": {
      "application/vnd.jupyter.widget-view+json": {
       "model_id": "d2a75ea06a294feda7d856d9a3a60dca",
       "version_major": 2,
       "version_minor": 0
      },
      "text/plain": [
       "  0%|          | 0/10 [00:00<?, ?it/s]"
      ]
     },
     "metadata": {},
     "output_type": "display_data"
    },
    {
     "name": "stderr",
     "output_type": "stream",
     "text": []
    },
    {
     "data": {
      "application/vnd.jupyter.widget-view+json": {
       "model_id": "4cef002732224ced84f295c6cc85eb3d",
       "version_major": 2,
       "version_minor": 0
      },
      "text/plain": [
       "  0%|          | 0/10 [00:00<?, ?it/s]"
      ]
     },
     "metadata": {},
     "output_type": "display_data"
    },
    {
     "name": "stderr",
     "output_type": "stream",
     "text": []
    },
    {
     "data": {
      "application/vnd.jupyter.widget-view+json": {
       "model_id": "3d7832879ed1410c8a7208e2133e2580",
       "version_major": 2,
       "version_minor": 0
      },
      "text/plain": [
       "  0%|          | 0/10 [00:00<?, ?it/s]"
      ]
     },
     "metadata": {},
     "output_type": "display_data"
    },
    {
     "name": "stderr",
     "output_type": "stream",
     "text": []
    },
    {
     "data": {
      "application/vnd.jupyter.widget-view+json": {
       "model_id": "0c32dca28f704a8c845db734323b6d65",
       "version_major": 2,
       "version_minor": 0
      },
      "text/plain": [
       "  0%|          | 0/10 [00:00<?, ?it/s]"
      ]
     },
     "metadata": {},
     "output_type": "display_data"
    },
    {
     "name": "stderr",
     "output_type": "stream",
     "text": []
    },
    {
     "data": {
      "application/vnd.jupyter.widget-view+json": {
       "model_id": "4dc1b6d785c34c9c823f7921ebdf9a8a",
       "version_major": 2,
       "version_minor": 0
      },
      "text/plain": [
       "  0%|          | 0/10 [00:00<?, ?it/s]"
      ]
     },
     "metadata": {},
     "output_type": "display_data"
    },
    {
     "name": "stderr",
     "output_type": "stream",
     "text": []
    },
    {
     "data": {
      "application/vnd.jupyter.widget-view+json": {
       "model_id": "ef4ff73d12fb4e42b7863c4e70c456e0",
       "version_major": 2,
       "version_minor": 0
      },
      "text/plain": [
       "  0%|          | 0/10 [00:00<?, ?it/s]"
      ]
     },
     "metadata": {},
     "output_type": "display_data"
    },
    {
     "name": "stderr",
     "output_type": "stream",
     "text": [
      "100%|██████████| 10/10 [00:07<00:00,  1.27it/s]\n"
     ]
    },
    {
     "data": {
      "application/vnd.jupyter.widget-view+json": {
       "model_id": "d26c04fe52724efb812511b647844807",
       "version_major": 2,
       "version_minor": 0
      },
      "text/plain": [
       "  0%|          | 0/10 [00:00<?, ?it/s]"
      ]
     },
     "metadata": {},
     "output_type": "display_data"
    },
    {
     "name": "stderr",
     "output_type": "stream",
     "text": []
    },
    {
     "data": {
      "application/vnd.jupyter.widget-view+json": {
       "model_id": "75009f1c1ff24280b07b964cedd49bf0",
       "version_major": 2,
       "version_minor": 0
      },
      "text/plain": [
       "  0%|          | 0/10 [00:00<?, ?it/s]"
      ]
     },
     "metadata": {},
     "output_type": "display_data"
    },
    {
     "name": "stderr",
     "output_type": "stream",
     "text": []
    },
    {
     "data": {
      "application/vnd.jupyter.widget-view+json": {
       "model_id": "30917dd410a2417a94b555e19d32c1fe",
       "version_major": 2,
       "version_minor": 0
      },
      "text/plain": [
       "  0%|          | 0/10 [00:00<?, ?it/s]"
      ]
     },
     "metadata": {},
     "output_type": "display_data"
    },
    {
     "name": "stderr",
     "output_type": "stream",
     "text": []
    },
    {
     "data": {
      "application/vnd.jupyter.widget-view+json": {
       "model_id": "7f200a14c9cb40f5a21314cdc18712f2",
       "version_major": 2,
       "version_minor": 0
      },
      "text/plain": [
       "  0%|          | 0/10 [00:00<?, ?it/s]"
      ]
     },
     "metadata": {},
     "output_type": "display_data"
    },
    {
     "name": "stderr",
     "output_type": "stream",
     "text": []
    },
    {
     "data": {
      "application/vnd.jupyter.widget-view+json": {
       "model_id": "a42134f543d549ad81db71a1c38f4e39",
       "version_major": 2,
       "version_minor": 0
      },
      "text/plain": [
       "  0%|          | 0/10 [00:00<?, ?it/s]"
      ]
     },
     "metadata": {},
     "output_type": "display_data"
    },
    {
     "name": "stderr",
     "output_type": "stream",
     "text": []
    },
    {
     "data": {
      "application/vnd.jupyter.widget-view+json": {
       "model_id": "15f762c9d5574cbebb64fc99b56b75de",
       "version_major": 2,
       "version_minor": 0
      },
      "text/plain": [
       "  0%|          | 0/10 [00:00<?, ?it/s]"
      ]
     },
     "metadata": {},
     "output_type": "display_data"
    },
    {
     "name": "stderr",
     "output_type": "stream",
     "text": []
    },
    {
     "data": {
      "application/vnd.jupyter.widget-view+json": {
       "model_id": "ba96b6e6a7cc48f8a71f0ce38c109dfd",
       "version_major": 2,
       "version_minor": 0
      },
      "text/plain": [
       "  0%|          | 0/10 [00:00<?, ?it/s]"
      ]
     },
     "metadata": {},
     "output_type": "display_data"
    },
    {
     "name": "stderr",
     "output_type": "stream",
     "text": []
    },
    {
     "data": {
      "application/vnd.jupyter.widget-view+json": {
       "model_id": "4483a9feeb724db08704702ab21916ee",
       "version_major": 2,
       "version_minor": 0
      },
      "text/plain": [
       "  0%|          | 0/10 [00:00<?, ?it/s]"
      ]
     },
     "metadata": {},
     "output_type": "display_data"
    },
    {
     "name": "stderr",
     "output_type": "stream",
     "text": []
    },
    {
     "data": {
      "application/vnd.jupyter.widget-view+json": {
       "model_id": "b1c1887808c6472c9ec9883964849b2e",
       "version_major": 2,
       "version_minor": 0
      },
      "text/plain": [
       "  0%|          | 0/10 [00:00<?, ?it/s]"
      ]
     },
     "metadata": {},
     "output_type": "display_data"
    },
    {
     "name": "stderr",
     "output_type": "stream",
     "text": []
    },
    {
     "data": {
      "application/vnd.jupyter.widget-view+json": {
       "model_id": "583a376e9869400bb3faa856f8f34115",
       "version_major": 2,
       "version_minor": 0
      },
      "text/plain": [
       "  0%|          | 0/10 [00:00<?, ?it/s]"
      ]
     },
     "metadata": {},
     "output_type": "display_data"
    },
    {
     "name": "stderr",
     "output_type": "stream",
     "text": [
      "100%|██████████| 10/10 [00:05<00:00,  1.70it/s]\n"
     ]
    },
    {
     "data": {
      "application/vnd.jupyter.widget-view+json": {
       "model_id": "c31324df93a04d48abb46f4aaa181197",
       "version_major": 2,
       "version_minor": 0
      },
      "text/plain": [
       "  0%|          | 0/10 [00:00<?, ?it/s]"
      ]
     },
     "metadata": {},
     "output_type": "display_data"
    },
    {
     "name": "stderr",
     "output_type": "stream",
     "text": []
    },
    {
     "data": {
      "application/vnd.jupyter.widget-view+json": {
       "model_id": "d4abeec558ec43baa14543cd23a4255f",
       "version_major": 2,
       "version_minor": 0
      },
      "text/plain": [
       "  0%|          | 0/10 [00:00<?, ?it/s]"
      ]
     },
     "metadata": {},
     "output_type": "display_data"
    },
    {
     "name": "stderr",
     "output_type": "stream",
     "text": []
    },
    {
     "data": {
      "application/vnd.jupyter.widget-view+json": {
       "model_id": "f75f319345a34a5cb81e320b00fd2215",
       "version_major": 2,
       "version_minor": 0
      },
      "text/plain": [
       "  0%|          | 0/10 [00:00<?, ?it/s]"
      ]
     },
     "metadata": {},
     "output_type": "display_data"
    },
    {
     "name": "stderr",
     "output_type": "stream",
     "text": []
    },
    {
     "data": {
      "application/vnd.jupyter.widget-view+json": {
       "model_id": "86121b88bae0460ea4071ba6ed3b85e5",
       "version_major": 2,
       "version_minor": 0
      },
      "text/plain": [
       "  0%|          | 0/10 [00:00<?, ?it/s]"
      ]
     },
     "metadata": {},
     "output_type": "display_data"
    },
    {
     "name": "stderr",
     "output_type": "stream",
     "text": []
    },
    {
     "data": {
      "application/vnd.jupyter.widget-view+json": {
       "model_id": "7f4eb31cd7bf4fc7aafb069febd91c5e",
       "version_major": 2,
       "version_minor": 0
      },
      "text/plain": [
       "  0%|          | 0/10 [00:00<?, ?it/s]"
      ]
     },
     "metadata": {},
     "output_type": "display_data"
    },
    {
     "name": "stderr",
     "output_type": "stream",
     "text": []
    },
    {
     "data": {
      "application/vnd.jupyter.widget-view+json": {
       "model_id": "e4572b7cb6c4404bac6df7542988fb90",
       "version_major": 2,
       "version_minor": 0
      },
      "text/plain": [
       "  0%|          | 0/10 [00:00<?, ?it/s]"
      ]
     },
     "metadata": {},
     "output_type": "display_data"
    },
    {
     "name": "stderr",
     "output_type": "stream",
     "text": []
    },
    {
     "data": {
      "application/vnd.jupyter.widget-view+json": {
       "model_id": "553cb38575f1492b82a456a4be252198",
       "version_major": 2,
       "version_minor": 0
      },
      "text/plain": [
       "  0%|          | 0/10 [00:00<?, ?it/s]"
      ]
     },
     "metadata": {},
     "output_type": "display_data"
    },
    {
     "name": "stderr",
     "output_type": "stream",
     "text": []
    },
    {
     "data": {
      "application/vnd.jupyter.widget-view+json": {
       "model_id": "e515846c805f4cdeb0f97bc78ec7e9ed",
       "version_major": 2,
       "version_minor": 0
      },
      "text/plain": [
       "  0%|          | 0/10 [00:00<?, ?it/s]"
      ]
     },
     "metadata": {},
     "output_type": "display_data"
    },
    {
     "name": "stderr",
     "output_type": "stream",
     "text": []
    },
    {
     "data": {
      "application/vnd.jupyter.widget-view+json": {
       "model_id": "5407b2ba4a6f4e45b5cb21ddb5a5b64a",
       "version_major": 2,
       "version_minor": 0
      },
      "text/plain": [
       "  0%|          | 0/10 [00:00<?, ?it/s]"
      ]
     },
     "metadata": {},
     "output_type": "display_data"
    },
    {
     "name": "stderr",
     "output_type": "stream",
     "text": []
    },
    {
     "data": {
      "application/vnd.jupyter.widget-view+json": {
       "model_id": "078eaa60fe484322a206933d1d692033",
       "version_major": 2,
       "version_minor": 0
      },
      "text/plain": [
       "  0%|          | 0/10 [00:00<?, ?it/s]"
      ]
     },
     "metadata": {},
     "output_type": "display_data"
    },
    {
     "name": "stderr",
     "output_type": "stream",
     "text": [
      "100%|██████████| 10/10 [00:05<00:00,  1.67it/s]\n"
     ]
    },
    {
     "data": {
      "application/vnd.jupyter.widget-view+json": {
       "model_id": "174190287b1f41efa84eff3c53a51b72",
       "version_major": 2,
       "version_minor": 0
      },
      "text/plain": [
       "  0%|          | 0/10 [00:00<?, ?it/s]"
      ]
     },
     "metadata": {},
     "output_type": "display_data"
    },
    {
     "name": "stderr",
     "output_type": "stream",
     "text": []
    },
    {
     "data": {
      "application/vnd.jupyter.widget-view+json": {
       "model_id": "a3b7209aebf34bbd954a3eb575a2cf8c",
       "version_major": 2,
       "version_minor": 0
      },
      "text/plain": [
       "  0%|          | 0/10 [00:00<?, ?it/s]"
      ]
     },
     "metadata": {},
     "output_type": "display_data"
    },
    {
     "name": "stderr",
     "output_type": "stream",
     "text": []
    },
    {
     "data": {
      "application/vnd.jupyter.widget-view+json": {
       "model_id": "d660409c45b849dcbd72a91f4e706591",
       "version_major": 2,
       "version_minor": 0
      },
      "text/plain": [
       "  0%|          | 0/10 [00:00<?, ?it/s]"
      ]
     },
     "metadata": {},
     "output_type": "display_data"
    },
    {
     "name": "stderr",
     "output_type": "stream",
     "text": []
    },
    {
     "data": {
      "application/vnd.jupyter.widget-view+json": {
       "model_id": "c175a68c3cd64efa952dd698adbd1212",
       "version_major": 2,
       "version_minor": 0
      },
      "text/plain": [
       "  0%|          | 0/10 [00:00<?, ?it/s]"
      ]
     },
     "metadata": {},
     "output_type": "display_data"
    },
    {
     "name": "stderr",
     "output_type": "stream",
     "text": []
    },
    {
     "data": {
      "application/vnd.jupyter.widget-view+json": {
       "model_id": "71f84c4a037f4bdebcf293fbb1db06bf",
       "version_major": 2,
       "version_minor": 0
      },
      "text/plain": [
       "  0%|          | 0/10 [00:00<?, ?it/s]"
      ]
     },
     "metadata": {},
     "output_type": "display_data"
    },
    {
     "name": "stderr",
     "output_type": "stream",
     "text": []
    },
    {
     "data": {
      "application/vnd.jupyter.widget-view+json": {
       "model_id": "1cf1758aa30146da83725d5247a7596c",
       "version_major": 2,
       "version_minor": 0
      },
      "text/plain": [
       "  0%|          | 0/10 [00:00<?, ?it/s]"
      ]
     },
     "metadata": {},
     "output_type": "display_data"
    },
    {
     "name": "stderr",
     "output_type": "stream",
     "text": []
    },
    {
     "data": {
      "application/vnd.jupyter.widget-view+json": {
       "model_id": "a63f22f5aa4343e1b24f7711ee557706",
       "version_major": 2,
       "version_minor": 0
      },
      "text/plain": [
       "  0%|          | 0/10 [00:00<?, ?it/s]"
      ]
     },
     "metadata": {},
     "output_type": "display_data"
    },
    {
     "name": "stderr",
     "output_type": "stream",
     "text": []
    },
    {
     "data": {
      "application/vnd.jupyter.widget-view+json": {
       "model_id": "d2073bbd91d94ef8b819363ef3ae82ba",
       "version_major": 2,
       "version_minor": 0
      },
      "text/plain": [
       "  0%|          | 0/10 [00:00<?, ?it/s]"
      ]
     },
     "metadata": {},
     "output_type": "display_data"
    },
    {
     "name": "stderr",
     "output_type": "stream",
     "text": []
    },
    {
     "data": {
      "application/vnd.jupyter.widget-view+json": {
       "model_id": "ec41a2b56b904fbca650d009349f8fe2",
       "version_major": 2,
       "version_minor": 0
      },
      "text/plain": [
       "  0%|          | 0/10 [00:00<?, ?it/s]"
      ]
     },
     "metadata": {},
     "output_type": "display_data"
    },
    {
     "name": "stderr",
     "output_type": "stream",
     "text": []
    },
    {
     "data": {
      "application/vnd.jupyter.widget-view+json": {
       "model_id": "5add7e0db79b45b39c560ad3ed73c5d3",
       "version_major": 2,
       "version_minor": 0
      },
      "text/plain": [
       "  0%|          | 0/10 [00:00<?, ?it/s]"
      ]
     },
     "metadata": {},
     "output_type": "display_data"
    },
    {
     "name": "stderr",
     "output_type": "stream",
     "text": [
      "100%|██████████| 10/10 [00:07<00:00,  1.38it/s]\n"
     ]
    },
    {
     "data": {
      "application/vnd.jupyter.widget-view+json": {
       "model_id": "778dc4854eab44219893fdd6d8b1f312",
       "version_major": 2,
       "version_minor": 0
      },
      "text/plain": [
       "  0%|          | 0/10 [00:00<?, ?it/s]"
      ]
     },
     "metadata": {},
     "output_type": "display_data"
    },
    {
     "name": "stderr",
     "output_type": "stream",
     "text": []
    },
    {
     "data": {
      "application/vnd.jupyter.widget-view+json": {
       "model_id": "366507f9243a454d9b3172274726dab4",
       "version_major": 2,
       "version_minor": 0
      },
      "text/plain": [
       "  0%|          | 0/10 [00:00<?, ?it/s]"
      ]
     },
     "metadata": {},
     "output_type": "display_data"
    },
    {
     "name": "stderr",
     "output_type": "stream",
     "text": []
    },
    {
     "data": {
      "application/vnd.jupyter.widget-view+json": {
       "model_id": "664c2b659825481794ca6e3ae7f1c759",
       "version_major": 2,
       "version_minor": 0
      },
      "text/plain": [
       "  0%|          | 0/10 [00:00<?, ?it/s]"
      ]
     },
     "metadata": {},
     "output_type": "display_data"
    },
    {
     "name": "stderr",
     "output_type": "stream",
     "text": []
    },
    {
     "data": {
      "application/vnd.jupyter.widget-view+json": {
       "model_id": "5c2893f9276245a1ba6a98344fbc217b",
       "version_major": 2,
       "version_minor": 0
      },
      "text/plain": [
       "  0%|          | 0/10 [00:00<?, ?it/s]"
      ]
     },
     "metadata": {},
     "output_type": "display_data"
    },
    {
     "name": "stderr",
     "output_type": "stream",
     "text": []
    },
    {
     "data": {
      "application/vnd.jupyter.widget-view+json": {
       "model_id": "4101efa41b9b4a86ad41ad6861d6984e",
       "version_major": 2,
       "version_minor": 0
      },
      "text/plain": [
       "  0%|          | 0/10 [00:00<?, ?it/s]"
      ]
     },
     "metadata": {},
     "output_type": "display_data"
    },
    {
     "name": "stderr",
     "output_type": "stream",
     "text": []
    },
    {
     "data": {
      "application/vnd.jupyter.widget-view+json": {
       "model_id": "7c26a21262534df7800a9f0d3fc92316",
       "version_major": 2,
       "version_minor": 0
      },
      "text/plain": [
       "  0%|          | 0/10 [00:00<?, ?it/s]"
      ]
     },
     "metadata": {},
     "output_type": "display_data"
    },
    {
     "name": "stderr",
     "output_type": "stream",
     "text": []
    },
    {
     "data": {
      "application/vnd.jupyter.widget-view+json": {
       "model_id": "63ee43bda95e47d097454a832a5ea112",
       "version_major": 2,
       "version_minor": 0
      },
      "text/plain": [
       "  0%|          | 0/10 [00:00<?, ?it/s]"
      ]
     },
     "metadata": {},
     "output_type": "display_data"
    },
    {
     "name": "stderr",
     "output_type": "stream",
     "text": []
    },
    {
     "data": {
      "application/vnd.jupyter.widget-view+json": {
       "model_id": "c484036b6bf747a3be8dccaf7d0919aa",
       "version_major": 2,
       "version_minor": 0
      },
      "text/plain": [
       "  0%|          | 0/10 [00:00<?, ?it/s]"
      ]
     },
     "metadata": {},
     "output_type": "display_data"
    },
    {
     "name": "stderr",
     "output_type": "stream",
     "text": []
    },
    {
     "data": {
      "application/vnd.jupyter.widget-view+json": {
       "model_id": "d0f819679e9f4a61ad1790c5d0789d87",
       "version_major": 2,
       "version_minor": 0
      },
      "text/plain": [
       "  0%|          | 0/10 [00:00<?, ?it/s]"
      ]
     },
     "metadata": {},
     "output_type": "display_data"
    },
    {
     "name": "stderr",
     "output_type": "stream",
     "text": []
    },
    {
     "data": {
      "application/vnd.jupyter.widget-view+json": {
       "model_id": "f782b0a25a8e4c2fb642c28f0a0b8b70",
       "version_major": 2,
       "version_minor": 0
      },
      "text/plain": [
       "  0%|          | 0/10 [00:00<?, ?it/s]"
      ]
     },
     "metadata": {},
     "output_type": "display_data"
    },
    {
     "name": "stderr",
     "output_type": "stream",
     "text": [
      "100%|██████████| 10/10 [00:06<00:00,  1.65it/s]\n"
     ]
    },
    {
     "data": {
      "application/vnd.jupyter.widget-view+json": {
       "model_id": "ada40543a2ac4cacbe92befa6a52639f",
       "version_major": 2,
       "version_minor": 0
      },
      "text/plain": [
       "  0%|          | 0/10 [00:00<?, ?it/s]"
      ]
     },
     "metadata": {},
     "output_type": "display_data"
    },
    {
     "name": "stderr",
     "output_type": "stream",
     "text": []
    },
    {
     "data": {
      "application/vnd.jupyter.widget-view+json": {
       "model_id": "66bb13ce827d4e2398bbedb6b2c83c3d",
       "version_major": 2,
       "version_minor": 0
      },
      "text/plain": [
       "  0%|          | 0/10 [00:00<?, ?it/s]"
      ]
     },
     "metadata": {},
     "output_type": "display_data"
    },
    {
     "name": "stderr",
     "output_type": "stream",
     "text": []
    },
    {
     "data": {
      "application/vnd.jupyter.widget-view+json": {
       "model_id": "aefe6a26365d4059a9cee1d7de55cacf",
       "version_major": 2,
       "version_minor": 0
      },
      "text/plain": [
       "  0%|          | 0/10 [00:00<?, ?it/s]"
      ]
     },
     "metadata": {},
     "output_type": "display_data"
    },
    {
     "name": "stderr",
     "output_type": "stream",
     "text": []
    },
    {
     "data": {
      "application/vnd.jupyter.widget-view+json": {
       "model_id": "c05d8af49d614b18b561b37d2c1be65e",
       "version_major": 2,
       "version_minor": 0
      },
      "text/plain": [
       "  0%|          | 0/10 [00:00<?, ?it/s]"
      ]
     },
     "metadata": {},
     "output_type": "display_data"
    },
    {
     "name": "stderr",
     "output_type": "stream",
     "text": []
    },
    {
     "data": {
      "application/vnd.jupyter.widget-view+json": {
       "model_id": "e6ce70569bce45e2bf84787fccaa9e76",
       "version_major": 2,
       "version_minor": 0
      },
      "text/plain": [
       "  0%|          | 0/10 [00:00<?, ?it/s]"
      ]
     },
     "metadata": {},
     "output_type": "display_data"
    },
    {
     "name": "stderr",
     "output_type": "stream",
     "text": []
    },
    {
     "data": {
      "application/vnd.jupyter.widget-view+json": {
       "model_id": "e7cb3884a6174f36b0162da47f14f842",
       "version_major": 2,
       "version_minor": 0
      },
      "text/plain": [
       "  0%|          | 0/10 [00:00<?, ?it/s]"
      ]
     },
     "metadata": {},
     "output_type": "display_data"
    },
    {
     "name": "stderr",
     "output_type": "stream",
     "text": []
    },
    {
     "data": {
      "application/vnd.jupyter.widget-view+json": {
       "model_id": "26dd127bada446649966e91950126b70",
       "version_major": 2,
       "version_minor": 0
      },
      "text/plain": [
       "  0%|          | 0/10 [00:00<?, ?it/s]"
      ]
     },
     "metadata": {},
     "output_type": "display_data"
    },
    {
     "name": "stderr",
     "output_type": "stream",
     "text": []
    },
    {
     "data": {
      "application/vnd.jupyter.widget-view+json": {
       "model_id": "3b5203b4f1674ba3b787d0f90693bfac",
       "version_major": 2,
       "version_minor": 0
      },
      "text/plain": [
       "  0%|          | 0/10 [00:00<?, ?it/s]"
      ]
     },
     "metadata": {},
     "output_type": "display_data"
    },
    {
     "name": "stderr",
     "output_type": "stream",
     "text": []
    },
    {
     "data": {
      "application/vnd.jupyter.widget-view+json": {
       "model_id": "6999fd7d04d1478392eeb12bab62b0a3",
       "version_major": 2,
       "version_minor": 0
      },
      "text/plain": [
       "  0%|          | 0/10 [00:00<?, ?it/s]"
      ]
     },
     "metadata": {},
     "output_type": "display_data"
    },
    {
     "name": "stderr",
     "output_type": "stream",
     "text": []
    },
    {
     "data": {
      "application/vnd.jupyter.widget-view+json": {
       "model_id": "2912f70b014447b7b68a615a4d2dcf93",
       "version_major": 2,
       "version_minor": 0
      },
      "text/plain": [
       "  0%|          | 0/10 [00:00<?, ?it/s]"
      ]
     },
     "metadata": {},
     "output_type": "display_data"
    },
    {
     "name": "stderr",
     "output_type": "stream",
     "text": [
      "100%|██████████| 10/10 [00:06<00:00,  1.57it/s]\n",
      " 67%|██████▋   | 4/6 [05:13<02:36, 78.50s/it]"
     ]
    },
    {
     "data": {
      "application/vnd.jupyter.widget-view+json": {
       "model_id": "1452515940fc4183b53b678fa55c6acb",
       "version_major": 2,
       "version_minor": 0
      },
      "text/plain": [
       "  0%|          | 0/10 [00:00<?, ?it/s]"
      ]
     },
     "metadata": {},
     "output_type": "display_data"
    },
    {
     "name": "stderr",
     "output_type": "stream",
     "text": []
    },
    {
     "data": {
      "application/vnd.jupyter.widget-view+json": {
       "model_id": "3bab7e6827bc4dc4bbeffa279762f681",
       "version_major": 2,
       "version_minor": 0
      },
      "text/plain": [
       "  0%|          | 0/10 [00:00<?, ?it/s]"
      ]
     },
     "metadata": {},
     "output_type": "display_data"
    },
    {
     "name": "stderr",
     "output_type": "stream",
     "text": []
    },
    {
     "data": {
      "application/vnd.jupyter.widget-view+json": {
       "model_id": "937d63f97df04304ae96fc63363250e8",
       "version_major": 2,
       "version_minor": 0
      },
      "text/plain": [
       "  0%|          | 0/10 [00:00<?, ?it/s]"
      ]
     },
     "metadata": {},
     "output_type": "display_data"
    },
    {
     "name": "stderr",
     "output_type": "stream",
     "text": []
    },
    {
     "data": {
      "application/vnd.jupyter.widget-view+json": {
       "model_id": "ea7b16de40b648eb995fdc8bb65efcf0",
       "version_major": 2,
       "version_minor": 0
      },
      "text/plain": [
       "  0%|          | 0/10 [00:00<?, ?it/s]"
      ]
     },
     "metadata": {},
     "output_type": "display_data"
    },
    {
     "name": "stderr",
     "output_type": "stream",
     "text": []
    },
    {
     "data": {
      "application/vnd.jupyter.widget-view+json": {
       "model_id": "8100f2fab3b44153a9081d12e00abfd6",
       "version_major": 2,
       "version_minor": 0
      },
      "text/plain": [
       "  0%|          | 0/10 [00:00<?, ?it/s]"
      ]
     },
     "metadata": {},
     "output_type": "display_data"
    },
    {
     "name": "stderr",
     "output_type": "stream",
     "text": []
    },
    {
     "data": {
      "application/vnd.jupyter.widget-view+json": {
       "model_id": "f9017029df0541809bab0ebb1cde0af3",
       "version_major": 2,
       "version_minor": 0
      },
      "text/plain": [
       "  0%|          | 0/10 [00:00<?, ?it/s]"
      ]
     },
     "metadata": {},
     "output_type": "display_data"
    },
    {
     "name": "stderr",
     "output_type": "stream",
     "text": []
    },
    {
     "data": {
      "application/vnd.jupyter.widget-view+json": {
       "model_id": "c60f82bf102b4ebda4a0f29f7230c3e5",
       "version_major": 2,
       "version_minor": 0
      },
      "text/plain": [
       "  0%|          | 0/10 [00:00<?, ?it/s]"
      ]
     },
     "metadata": {},
     "output_type": "display_data"
    },
    {
     "name": "stderr",
     "output_type": "stream",
     "text": []
    },
    {
     "data": {
      "application/vnd.jupyter.widget-view+json": {
       "model_id": "0525155680ca474c94beb14906d0ec40",
       "version_major": 2,
       "version_minor": 0
      },
      "text/plain": [
       "  0%|          | 0/10 [00:00<?, ?it/s]"
      ]
     },
     "metadata": {},
     "output_type": "display_data"
    },
    {
     "name": "stderr",
     "output_type": "stream",
     "text": []
    },
    {
     "data": {
      "application/vnd.jupyter.widget-view+json": {
       "model_id": "b7660cbf5b594a18a73c60298b2f2d5a",
       "version_major": 2,
       "version_minor": 0
      },
      "text/plain": [
       "  0%|          | 0/10 [00:00<?, ?it/s]"
      ]
     },
     "metadata": {},
     "output_type": "display_data"
    },
    {
     "name": "stderr",
     "output_type": "stream",
     "text": []
    },
    {
     "data": {
      "application/vnd.jupyter.widget-view+json": {
       "model_id": "95e03b6e3dda4b3295bc95d2917a1575",
       "version_major": 2,
       "version_minor": 0
      },
      "text/plain": [
       "  0%|          | 0/10 [00:00<?, ?it/s]"
      ]
     },
     "metadata": {},
     "output_type": "display_data"
    },
    {
     "name": "stderr",
     "output_type": "stream",
     "text": [
      "100%|██████████| 10/10 [00:06<00:00,  1.64it/s]\n"
     ]
    },
    {
     "data": {
      "application/vnd.jupyter.widget-view+json": {
       "model_id": "8e6881295d644fb49f5d99dbd8d1dc2e",
       "version_major": 2,
       "version_minor": 0
      },
      "text/plain": [
       "  0%|          | 0/10 [00:00<?, ?it/s]"
      ]
     },
     "metadata": {},
     "output_type": "display_data"
    },
    {
     "name": "stderr",
     "output_type": "stream",
     "text": []
    },
    {
     "data": {
      "application/vnd.jupyter.widget-view+json": {
       "model_id": "6f9fc71bfc4549f1a04c4cc00f4b3deb",
       "version_major": 2,
       "version_minor": 0
      },
      "text/plain": [
       "  0%|          | 0/10 [00:00<?, ?it/s]"
      ]
     },
     "metadata": {},
     "output_type": "display_data"
    },
    {
     "name": "stderr",
     "output_type": "stream",
     "text": []
    },
    {
     "data": {
      "application/vnd.jupyter.widget-view+json": {
       "model_id": "2e0ef000d33242d1ba7fb1c003127bf0",
       "version_major": 2,
       "version_minor": 0
      },
      "text/plain": [
       "  0%|          | 0/10 [00:00<?, ?it/s]"
      ]
     },
     "metadata": {},
     "output_type": "display_data"
    },
    {
     "name": "stderr",
     "output_type": "stream",
     "text": []
    },
    {
     "data": {
      "application/vnd.jupyter.widget-view+json": {
       "model_id": "bdf9187d893d4e2393e48229377c70c5",
       "version_major": 2,
       "version_minor": 0
      },
      "text/plain": [
       "  0%|          | 0/10 [00:00<?, ?it/s]"
      ]
     },
     "metadata": {},
     "output_type": "display_data"
    },
    {
     "name": "stderr",
     "output_type": "stream",
     "text": []
    },
    {
     "data": {
      "application/vnd.jupyter.widget-view+json": {
       "model_id": "00324f1b4f4149d8b2b55b4bba8d6948",
       "version_major": 2,
       "version_minor": 0
      },
      "text/plain": [
       "  0%|          | 0/10 [00:00<?, ?it/s]"
      ]
     },
     "metadata": {},
     "output_type": "display_data"
    },
    {
     "name": "stderr",
     "output_type": "stream",
     "text": []
    },
    {
     "data": {
      "application/vnd.jupyter.widget-view+json": {
       "model_id": "b6342e8ba09940adba739dac3315cbde",
       "version_major": 2,
       "version_minor": 0
      },
      "text/plain": [
       "  0%|          | 0/10 [00:00<?, ?it/s]"
      ]
     },
     "metadata": {},
     "output_type": "display_data"
    },
    {
     "name": "stderr",
     "output_type": "stream",
     "text": []
    },
    {
     "data": {
      "application/vnd.jupyter.widget-view+json": {
       "model_id": "f1770b96311044c5b05b2ee9aa806278",
       "version_major": 2,
       "version_minor": 0
      },
      "text/plain": [
       "  0%|          | 0/10 [00:00<?, ?it/s]"
      ]
     },
     "metadata": {},
     "output_type": "display_data"
    },
    {
     "name": "stderr",
     "output_type": "stream",
     "text": []
    },
    {
     "data": {
      "application/vnd.jupyter.widget-view+json": {
       "model_id": "579d9fbe17794d99bad121d1960d4268",
       "version_major": 2,
       "version_minor": 0
      },
      "text/plain": [
       "  0%|          | 0/10 [00:00<?, ?it/s]"
      ]
     },
     "metadata": {},
     "output_type": "display_data"
    },
    {
     "name": "stderr",
     "output_type": "stream",
     "text": []
    },
    {
     "data": {
      "application/vnd.jupyter.widget-view+json": {
       "model_id": "33bb8457876b4922a0f3910382a3fb74",
       "version_major": 2,
       "version_minor": 0
      },
      "text/plain": [
       "  0%|          | 0/10 [00:00<?, ?it/s]"
      ]
     },
     "metadata": {},
     "output_type": "display_data"
    },
    {
     "name": "stderr",
     "output_type": "stream",
     "text": []
    },
    {
     "data": {
      "application/vnd.jupyter.widget-view+json": {
       "model_id": "3f2524db506148dbb46756b9b478b598",
       "version_major": 2,
       "version_minor": 0
      },
      "text/plain": [
       "  0%|          | 0/10 [00:00<?, ?it/s]"
      ]
     },
     "metadata": {},
     "output_type": "display_data"
    },
    {
     "name": "stderr",
     "output_type": "stream",
     "text": [
      "100%|██████████| 10/10 [00:06<00:00,  1.59it/s]\n"
     ]
    },
    {
     "data": {
      "application/vnd.jupyter.widget-view+json": {
       "model_id": "33c1b389d7d3459cb8e85eef6477d2f2",
       "version_major": 2,
       "version_minor": 0
      },
      "text/plain": [
       "  0%|          | 0/10 [00:00<?, ?it/s]"
      ]
     },
     "metadata": {},
     "output_type": "display_data"
    },
    {
     "name": "stderr",
     "output_type": "stream",
     "text": []
    },
    {
     "data": {
      "application/vnd.jupyter.widget-view+json": {
       "model_id": "44348c13c5824de4a82d4fdf04069c3c",
       "version_major": 2,
       "version_minor": 0
      },
      "text/plain": [
       "  0%|          | 0/10 [00:00<?, ?it/s]"
      ]
     },
     "metadata": {},
     "output_type": "display_data"
    },
    {
     "name": "stderr",
     "output_type": "stream",
     "text": []
    },
    {
     "data": {
      "application/vnd.jupyter.widget-view+json": {
       "model_id": "8a9ae2f39ee04d6db3cfec8c5baef7d8",
       "version_major": 2,
       "version_minor": 0
      },
      "text/plain": [
       "  0%|          | 0/10 [00:00<?, ?it/s]"
      ]
     },
     "metadata": {},
     "output_type": "display_data"
    },
    {
     "name": "stderr",
     "output_type": "stream",
     "text": []
    },
    {
     "data": {
      "application/vnd.jupyter.widget-view+json": {
       "model_id": "6fe2da8dd79d4231a35eaf1e2075f5fe",
       "version_major": 2,
       "version_minor": 0
      },
      "text/plain": [
       "  0%|          | 0/10 [00:00<?, ?it/s]"
      ]
     },
     "metadata": {},
     "output_type": "display_data"
    },
    {
     "name": "stderr",
     "output_type": "stream",
     "text": []
    },
    {
     "data": {
      "application/vnd.jupyter.widget-view+json": {
       "model_id": "a2463a071e6d4ebf8bf9946e045363c4",
       "version_major": 2,
       "version_minor": 0
      },
      "text/plain": [
       "  0%|          | 0/10 [00:00<?, ?it/s]"
      ]
     },
     "metadata": {},
     "output_type": "display_data"
    },
    {
     "name": "stderr",
     "output_type": "stream",
     "text": []
    },
    {
     "data": {
      "application/vnd.jupyter.widget-view+json": {
       "model_id": "8d8e183cda694912951d7969275e8a22",
       "version_major": 2,
       "version_minor": 0
      },
      "text/plain": [
       "  0%|          | 0/10 [00:00<?, ?it/s]"
      ]
     },
     "metadata": {},
     "output_type": "display_data"
    },
    {
     "name": "stderr",
     "output_type": "stream",
     "text": []
    },
    {
     "data": {
      "application/vnd.jupyter.widget-view+json": {
       "model_id": "7540f754211e4bd58f453160ecb1702b",
       "version_major": 2,
       "version_minor": 0
      },
      "text/plain": [
       "  0%|          | 0/10 [00:00<?, ?it/s]"
      ]
     },
     "metadata": {},
     "output_type": "display_data"
    },
    {
     "name": "stderr",
     "output_type": "stream",
     "text": []
    },
    {
     "data": {
      "application/vnd.jupyter.widget-view+json": {
       "model_id": "31a4325924eb4b6e859be492800cf3fb",
       "version_major": 2,
       "version_minor": 0
      },
      "text/plain": [
       "  0%|          | 0/10 [00:00<?, ?it/s]"
      ]
     },
     "metadata": {},
     "output_type": "display_data"
    },
    {
     "name": "stderr",
     "output_type": "stream",
     "text": []
    },
    {
     "data": {
      "application/vnd.jupyter.widget-view+json": {
       "model_id": "c29703639f654fe8aa8ac9117a9bc419",
       "version_major": 2,
       "version_minor": 0
      },
      "text/plain": [
       "  0%|          | 0/10 [00:00<?, ?it/s]"
      ]
     },
     "metadata": {},
     "output_type": "display_data"
    },
    {
     "name": "stderr",
     "output_type": "stream",
     "text": []
    },
    {
     "data": {
      "application/vnd.jupyter.widget-view+json": {
       "model_id": "a8db6b85f39247cd866ec0f22d22d5e1",
       "version_major": 2,
       "version_minor": 0
      },
      "text/plain": [
       "  0%|          | 0/10 [00:00<?, ?it/s]"
      ]
     },
     "metadata": {},
     "output_type": "display_data"
    },
    {
     "name": "stderr",
     "output_type": "stream",
     "text": [
      "100%|██████████| 10/10 [00:07<00:00,  1.41it/s]\n"
     ]
    },
    {
     "data": {
      "application/vnd.jupyter.widget-view+json": {
       "model_id": "95fd4c565b694ba79b7eb3d6cbcd1676",
       "version_major": 2,
       "version_minor": 0
      },
      "text/plain": [
       "  0%|          | 0/10 [00:00<?, ?it/s]"
      ]
     },
     "metadata": {},
     "output_type": "display_data"
    },
    {
     "name": "stderr",
     "output_type": "stream",
     "text": []
    },
    {
     "data": {
      "application/vnd.jupyter.widget-view+json": {
       "model_id": "bb777ca9e8174af68de2895783f4c67b",
       "version_major": 2,
       "version_minor": 0
      },
      "text/plain": [
       "  0%|          | 0/10 [00:00<?, ?it/s]"
      ]
     },
     "metadata": {},
     "output_type": "display_data"
    },
    {
     "name": "stderr",
     "output_type": "stream",
     "text": []
    },
    {
     "data": {
      "application/vnd.jupyter.widget-view+json": {
       "model_id": "f51d6b90da1644a98bcfd627eced2a44",
       "version_major": 2,
       "version_minor": 0
      },
      "text/plain": [
       "  0%|          | 0/10 [00:00<?, ?it/s]"
      ]
     },
     "metadata": {},
     "output_type": "display_data"
    },
    {
     "name": "stderr",
     "output_type": "stream",
     "text": []
    },
    {
     "data": {
      "application/vnd.jupyter.widget-view+json": {
       "model_id": "93775eaa2bab4e029a04d19aaf61a1de",
       "version_major": 2,
       "version_minor": 0
      },
      "text/plain": [
       "  0%|          | 0/10 [00:00<?, ?it/s]"
      ]
     },
     "metadata": {},
     "output_type": "display_data"
    },
    {
     "name": "stderr",
     "output_type": "stream",
     "text": []
    },
    {
     "data": {
      "application/vnd.jupyter.widget-view+json": {
       "model_id": "1b25913aafe1491a8d5be628274f4fa3",
       "version_major": 2,
       "version_minor": 0
      },
      "text/plain": [
       "  0%|          | 0/10 [00:00<?, ?it/s]"
      ]
     },
     "metadata": {},
     "output_type": "display_data"
    },
    {
     "name": "stderr",
     "output_type": "stream",
     "text": []
    },
    {
     "data": {
      "application/vnd.jupyter.widget-view+json": {
       "model_id": "d34d8e671059415db73d3c6eaf0abcdf",
       "version_major": 2,
       "version_minor": 0
      },
      "text/plain": [
       "  0%|          | 0/10 [00:00<?, ?it/s]"
      ]
     },
     "metadata": {},
     "output_type": "display_data"
    },
    {
     "name": "stderr",
     "output_type": "stream",
     "text": []
    },
    {
     "data": {
      "application/vnd.jupyter.widget-view+json": {
       "model_id": "8a1f8ed5351a41b29506e8f724171d9b",
       "version_major": 2,
       "version_minor": 0
      },
      "text/plain": [
       "  0%|          | 0/10 [00:00<?, ?it/s]"
      ]
     },
     "metadata": {},
     "output_type": "display_data"
    },
    {
     "name": "stderr",
     "output_type": "stream",
     "text": []
    },
    {
     "data": {
      "application/vnd.jupyter.widget-view+json": {
       "model_id": "8820760b7b9e4c62a80a2aa2e6e2d70c",
       "version_major": 2,
       "version_minor": 0
      },
      "text/plain": [
       "  0%|          | 0/10 [00:00<?, ?it/s]"
      ]
     },
     "metadata": {},
     "output_type": "display_data"
    },
    {
     "name": "stderr",
     "output_type": "stream",
     "text": []
    },
    {
     "data": {
      "application/vnd.jupyter.widget-view+json": {
       "model_id": "eaae89a6312948448e3e20755651c2a1",
       "version_major": 2,
       "version_minor": 0
      },
      "text/plain": [
       "  0%|          | 0/10 [00:00<?, ?it/s]"
      ]
     },
     "metadata": {},
     "output_type": "display_data"
    },
    {
     "name": "stderr",
     "output_type": "stream",
     "text": []
    },
    {
     "data": {
      "application/vnd.jupyter.widget-view+json": {
       "model_id": "ae452837c2004d269fdb818f8ffd14b4",
       "version_major": 2,
       "version_minor": 0
      },
      "text/plain": [
       "  0%|          | 0/10 [00:00<?, ?it/s]"
      ]
     },
     "metadata": {},
     "output_type": "display_data"
    },
    {
     "name": "stderr",
     "output_type": "stream",
     "text": [
      "100%|██████████| 10/10 [00:05<00:00,  1.69it/s]\n"
     ]
    },
    {
     "data": {
      "application/vnd.jupyter.widget-view+json": {
       "model_id": "e544cae0cf964fc4b49b1822a777b7be",
       "version_major": 2,
       "version_minor": 0
      },
      "text/plain": [
       "  0%|          | 0/10 [00:00<?, ?it/s]"
      ]
     },
     "metadata": {},
     "output_type": "display_data"
    },
    {
     "name": "stderr",
     "output_type": "stream",
     "text": []
    },
    {
     "data": {
      "application/vnd.jupyter.widget-view+json": {
       "model_id": "1a08eb0cf02b43eda229720345977487",
       "version_major": 2,
       "version_minor": 0
      },
      "text/plain": [
       "  0%|          | 0/10 [00:00<?, ?it/s]"
      ]
     },
     "metadata": {},
     "output_type": "display_data"
    },
    {
     "name": "stderr",
     "output_type": "stream",
     "text": []
    },
    {
     "data": {
      "application/vnd.jupyter.widget-view+json": {
       "model_id": "08d3ba7c9f3b4a96b7b49c4463f38899",
       "version_major": 2,
       "version_minor": 0
      },
      "text/plain": [
       "  0%|          | 0/10 [00:00<?, ?it/s]"
      ]
     },
     "metadata": {},
     "output_type": "display_data"
    },
    {
     "name": "stderr",
     "output_type": "stream",
     "text": []
    },
    {
     "data": {
      "application/vnd.jupyter.widget-view+json": {
       "model_id": "6186cf7804384427a56d7fba0eefc6c3",
       "version_major": 2,
       "version_minor": 0
      },
      "text/plain": [
       "  0%|          | 0/10 [00:00<?, ?it/s]"
      ]
     },
     "metadata": {},
     "output_type": "display_data"
    },
    {
     "name": "stderr",
     "output_type": "stream",
     "text": []
    },
    {
     "data": {
      "application/vnd.jupyter.widget-view+json": {
       "model_id": "4d027bc0884c4c0badf02b6d19014dfa",
       "version_major": 2,
       "version_minor": 0
      },
      "text/plain": [
       "  0%|          | 0/10 [00:00<?, ?it/s]"
      ]
     },
     "metadata": {},
     "output_type": "display_data"
    },
    {
     "name": "stderr",
     "output_type": "stream",
     "text": []
    },
    {
     "data": {
      "application/vnd.jupyter.widget-view+json": {
       "model_id": "6cdc77bb1e18450b86aac272ea099d84",
       "version_major": 2,
       "version_minor": 0
      },
      "text/plain": [
       "  0%|          | 0/10 [00:00<?, ?it/s]"
      ]
     },
     "metadata": {},
     "output_type": "display_data"
    },
    {
     "name": "stderr",
     "output_type": "stream",
     "text": []
    },
    {
     "data": {
      "application/vnd.jupyter.widget-view+json": {
       "model_id": "206054ae08ad46b0aab545aa5f985e31",
       "version_major": 2,
       "version_minor": 0
      },
      "text/plain": [
       "  0%|          | 0/10 [00:00<?, ?it/s]"
      ]
     },
     "metadata": {},
     "output_type": "display_data"
    },
    {
     "name": "stderr",
     "output_type": "stream",
     "text": []
    },
    {
     "data": {
      "application/vnd.jupyter.widget-view+json": {
       "model_id": "725b551928f4410693e3d9514f0c0975",
       "version_major": 2,
       "version_minor": 0
      },
      "text/plain": [
       "  0%|          | 0/10 [00:00<?, ?it/s]"
      ]
     },
     "metadata": {},
     "output_type": "display_data"
    },
    {
     "name": "stderr",
     "output_type": "stream",
     "text": []
    },
    {
     "data": {
      "application/vnd.jupyter.widget-view+json": {
       "model_id": "746e2aa348434233bb70f20958a57e92",
       "version_major": 2,
       "version_minor": 0
      },
      "text/plain": [
       "  0%|          | 0/10 [00:00<?, ?it/s]"
      ]
     },
     "metadata": {},
     "output_type": "display_data"
    },
    {
     "name": "stderr",
     "output_type": "stream",
     "text": []
    },
    {
     "data": {
      "application/vnd.jupyter.widget-view+json": {
       "model_id": "ee513675b69443b491eb1939d1c9ce2b",
       "version_major": 2,
       "version_minor": 0
      },
      "text/plain": [
       "  0%|          | 0/10 [00:00<?, ?it/s]"
      ]
     },
     "metadata": {},
     "output_type": "display_data"
    },
    {
     "name": "stderr",
     "output_type": "stream",
     "text": [
      "100%|██████████| 10/10 [00:06<00:00,  1.50it/s]\n"
     ]
    },
    {
     "data": {
      "application/vnd.jupyter.widget-view+json": {
       "model_id": "ed4d4b0d3a274cfdb1368645094026f7",
       "version_major": 2,
       "version_minor": 0
      },
      "text/plain": [
       "  0%|          | 0/10 [00:00<?, ?it/s]"
      ]
     },
     "metadata": {},
     "output_type": "display_data"
    },
    {
     "name": "stderr",
     "output_type": "stream",
     "text": []
    },
    {
     "data": {
      "application/vnd.jupyter.widget-view+json": {
       "model_id": "ec41e3ee81dd4952b7edeaed171d3cba",
       "version_major": 2,
       "version_minor": 0
      },
      "text/plain": [
       "  0%|          | 0/10 [00:00<?, ?it/s]"
      ]
     },
     "metadata": {},
     "output_type": "display_data"
    },
    {
     "name": "stderr",
     "output_type": "stream",
     "text": []
    },
    {
     "data": {
      "application/vnd.jupyter.widget-view+json": {
       "model_id": "fb03589a74904fd582cb40fcde11aaba",
       "version_major": 2,
       "version_minor": 0
      },
      "text/plain": [
       "  0%|          | 0/10 [00:00<?, ?it/s]"
      ]
     },
     "metadata": {},
     "output_type": "display_data"
    },
    {
     "name": "stderr",
     "output_type": "stream",
     "text": []
    },
    {
     "data": {
      "application/vnd.jupyter.widget-view+json": {
       "model_id": "3f6a782ac9ca4c62bd4566d42a012a0e",
       "version_major": 2,
       "version_minor": 0
      },
      "text/plain": [
       "  0%|          | 0/10 [00:00<?, ?it/s]"
      ]
     },
     "metadata": {},
     "output_type": "display_data"
    },
    {
     "name": "stderr",
     "output_type": "stream",
     "text": []
    },
    {
     "data": {
      "application/vnd.jupyter.widget-view+json": {
       "model_id": "0a4bcd67bc3e408da4605e7207b19281",
       "version_major": 2,
       "version_minor": 0
      },
      "text/plain": [
       "  0%|          | 0/10 [00:00<?, ?it/s]"
      ]
     },
     "metadata": {},
     "output_type": "display_data"
    },
    {
     "name": "stderr",
     "output_type": "stream",
     "text": []
    },
    {
     "data": {
      "application/vnd.jupyter.widget-view+json": {
       "model_id": "2cafb0d095564b7eac6bec87db211017",
       "version_major": 2,
       "version_minor": 0
      },
      "text/plain": [
       "  0%|          | 0/10 [00:00<?, ?it/s]"
      ]
     },
     "metadata": {},
     "output_type": "display_data"
    },
    {
     "name": "stderr",
     "output_type": "stream",
     "text": []
    },
    {
     "data": {
      "application/vnd.jupyter.widget-view+json": {
       "model_id": "9b0c3b8ad87845c9bc315b19b4e21b99",
       "version_major": 2,
       "version_minor": 0
      },
      "text/plain": [
       "  0%|          | 0/10 [00:00<?, ?it/s]"
      ]
     },
     "metadata": {},
     "output_type": "display_data"
    },
    {
     "name": "stderr",
     "output_type": "stream",
     "text": []
    },
    {
     "data": {
      "application/vnd.jupyter.widget-view+json": {
       "model_id": "d89dea6ab4524fba9f83d0025bbc3dbb",
       "version_major": 2,
       "version_minor": 0
      },
      "text/plain": [
       "  0%|          | 0/10 [00:00<?, ?it/s]"
      ]
     },
     "metadata": {},
     "output_type": "display_data"
    },
    {
     "name": "stderr",
     "output_type": "stream",
     "text": []
    },
    {
     "data": {
      "application/vnd.jupyter.widget-view+json": {
       "model_id": "f435a49307ba4ea394231b1602fd9218",
       "version_major": 2,
       "version_minor": 0
      },
      "text/plain": [
       "  0%|          | 0/10 [00:00<?, ?it/s]"
      ]
     },
     "metadata": {},
     "output_type": "display_data"
    },
    {
     "name": "stderr",
     "output_type": "stream",
     "text": []
    },
    {
     "data": {
      "application/vnd.jupyter.widget-view+json": {
       "model_id": "007a4dc47dcb4c1684d9a45ea64c4109",
       "version_major": 2,
       "version_minor": 0
      },
      "text/plain": [
       "  0%|          | 0/10 [00:00<?, ?it/s]"
      ]
     },
     "metadata": {},
     "output_type": "display_data"
    },
    {
     "name": "stderr",
     "output_type": "stream",
     "text": [
      "100%|██████████| 10/10 [00:07<00:00,  1.25it/s]\n"
     ]
    },
    {
     "data": {
      "application/vnd.jupyter.widget-view+json": {
       "model_id": "0126cd16944b44d3846c3fa557052cdd",
       "version_major": 2,
       "version_minor": 0
      },
      "text/plain": [
       "  0%|          | 0/10 [00:00<?, ?it/s]"
      ]
     },
     "metadata": {},
     "output_type": "display_data"
    },
    {
     "name": "stderr",
     "output_type": "stream",
     "text": []
    },
    {
     "data": {
      "application/vnd.jupyter.widget-view+json": {
       "model_id": "97e8fda24acb43ed8c6a06334fe6b7e1",
       "version_major": 2,
       "version_minor": 0
      },
      "text/plain": [
       "  0%|          | 0/10 [00:00<?, ?it/s]"
      ]
     },
     "metadata": {},
     "output_type": "display_data"
    },
    {
     "name": "stderr",
     "output_type": "stream",
     "text": []
    },
    {
     "data": {
      "application/vnd.jupyter.widget-view+json": {
       "model_id": "303d7993832f4d8ab913642d96a2c5f1",
       "version_major": 2,
       "version_minor": 0
      },
      "text/plain": [
       "  0%|          | 0/10 [00:00<?, ?it/s]"
      ]
     },
     "metadata": {},
     "output_type": "display_data"
    },
    {
     "name": "stderr",
     "output_type": "stream",
     "text": []
    },
    {
     "data": {
      "application/vnd.jupyter.widget-view+json": {
       "model_id": "15f760e6292c4e6590323bb0913fa7fb",
       "version_major": 2,
       "version_minor": 0
      },
      "text/plain": [
       "  0%|          | 0/10 [00:00<?, ?it/s]"
      ]
     },
     "metadata": {},
     "output_type": "display_data"
    },
    {
     "name": "stderr",
     "output_type": "stream",
     "text": []
    },
    {
     "data": {
      "application/vnd.jupyter.widget-view+json": {
       "model_id": "46ba0cd2c79d4161ae0d051ec4a62ed5",
       "version_major": 2,
       "version_minor": 0
      },
      "text/plain": [
       "  0%|          | 0/10 [00:00<?, ?it/s]"
      ]
     },
     "metadata": {},
     "output_type": "display_data"
    },
    {
     "name": "stderr",
     "output_type": "stream",
     "text": []
    },
    {
     "data": {
      "application/vnd.jupyter.widget-view+json": {
       "model_id": "cb8b9411896a468e9d6886c093d6c1c7",
       "version_major": 2,
       "version_minor": 0
      },
      "text/plain": [
       "  0%|          | 0/10 [00:00<?, ?it/s]"
      ]
     },
     "metadata": {},
     "output_type": "display_data"
    },
    {
     "name": "stderr",
     "output_type": "stream",
     "text": []
    },
    {
     "data": {
      "application/vnd.jupyter.widget-view+json": {
       "model_id": "2dc4b805243641cdbedf42f980c398e3",
       "version_major": 2,
       "version_minor": 0
      },
      "text/plain": [
       "  0%|          | 0/10 [00:00<?, ?it/s]"
      ]
     },
     "metadata": {},
     "output_type": "display_data"
    },
    {
     "name": "stderr",
     "output_type": "stream",
     "text": []
    },
    {
     "data": {
      "application/vnd.jupyter.widget-view+json": {
       "model_id": "9c04ed9866b94fcebe8e7bb28edbf8c0",
       "version_major": 2,
       "version_minor": 0
      },
      "text/plain": [
       "  0%|          | 0/10 [00:00<?, ?it/s]"
      ]
     },
     "metadata": {},
     "output_type": "display_data"
    },
    {
     "name": "stderr",
     "output_type": "stream",
     "text": []
    },
    {
     "data": {
      "application/vnd.jupyter.widget-view+json": {
       "model_id": "043d310c82c7477fa5377f3630da17fb",
       "version_major": 2,
       "version_minor": 0
      },
      "text/plain": [
       "  0%|          | 0/10 [00:00<?, ?it/s]"
      ]
     },
     "metadata": {},
     "output_type": "display_data"
    },
    {
     "name": "stderr",
     "output_type": "stream",
     "text": []
    },
    {
     "data": {
      "application/vnd.jupyter.widget-view+json": {
       "model_id": "e6cc337452e444979f2906d3e08dd453",
       "version_major": 2,
       "version_minor": 0
      },
      "text/plain": [
       "  0%|          | 0/10 [00:00<?, ?it/s]"
      ]
     },
     "metadata": {},
     "output_type": "display_data"
    },
    {
     "name": "stderr",
     "output_type": "stream",
     "text": [
      "100%|██████████| 10/10 [00:06<00:00,  1.63it/s]\n"
     ]
    },
    {
     "data": {
      "application/vnd.jupyter.widget-view+json": {
       "model_id": "00385e61e1b64303bdbdfd4ce2716e03",
       "version_major": 2,
       "version_minor": 0
      },
      "text/plain": [
       "  0%|          | 0/10 [00:00<?, ?it/s]"
      ]
     },
     "metadata": {},
     "output_type": "display_data"
    },
    {
     "name": "stderr",
     "output_type": "stream",
     "text": []
    },
    {
     "data": {
      "application/vnd.jupyter.widget-view+json": {
       "model_id": "3421e44db1814c818928a51b7f1fdb66",
       "version_major": 2,
       "version_minor": 0
      },
      "text/plain": [
       "  0%|          | 0/10 [00:00<?, ?it/s]"
      ]
     },
     "metadata": {},
     "output_type": "display_data"
    },
    {
     "name": "stderr",
     "output_type": "stream",
     "text": []
    },
    {
     "data": {
      "application/vnd.jupyter.widget-view+json": {
       "model_id": "884d77d6033a4a649a59bd48fc19e099",
       "version_major": 2,
       "version_minor": 0
      },
      "text/plain": [
       "  0%|          | 0/10 [00:00<?, ?it/s]"
      ]
     },
     "metadata": {},
     "output_type": "display_data"
    },
    {
     "name": "stderr",
     "output_type": "stream",
     "text": []
    },
    {
     "data": {
      "application/vnd.jupyter.widget-view+json": {
       "model_id": "08f706d5d1fb486f8191dfeec5006c2c",
       "version_major": 2,
       "version_minor": 0
      },
      "text/plain": [
       "  0%|          | 0/10 [00:00<?, ?it/s]"
      ]
     },
     "metadata": {},
     "output_type": "display_data"
    },
    {
     "name": "stderr",
     "output_type": "stream",
     "text": []
    },
    {
     "data": {
      "application/vnd.jupyter.widget-view+json": {
       "model_id": "13226a0fae2b462b958e55a7dea63be3",
       "version_major": 2,
       "version_minor": 0
      },
      "text/plain": [
       "  0%|          | 0/10 [00:00<?, ?it/s]"
      ]
     },
     "metadata": {},
     "output_type": "display_data"
    },
    {
     "name": "stderr",
     "output_type": "stream",
     "text": []
    },
    {
     "data": {
      "application/vnd.jupyter.widget-view+json": {
       "model_id": "f8fc86323ebb49b9958ba37ba90e7a7e",
       "version_major": 2,
       "version_minor": 0
      },
      "text/plain": [
       "  0%|          | 0/10 [00:00<?, ?it/s]"
      ]
     },
     "metadata": {},
     "output_type": "display_data"
    },
    {
     "name": "stderr",
     "output_type": "stream",
     "text": []
    },
    {
     "data": {
      "application/vnd.jupyter.widget-view+json": {
       "model_id": "29a793f59bdb49a089889ece8e44d8ad",
       "version_major": 2,
       "version_minor": 0
      },
      "text/plain": [
       "  0%|          | 0/10 [00:00<?, ?it/s]"
      ]
     },
     "metadata": {},
     "output_type": "display_data"
    },
    {
     "name": "stderr",
     "output_type": "stream",
     "text": []
    },
    {
     "data": {
      "application/vnd.jupyter.widget-view+json": {
       "model_id": "4da287d7b8774e27b5c04b8eca76fedd",
       "version_major": 2,
       "version_minor": 0
      },
      "text/plain": [
       "  0%|          | 0/10 [00:00<?, ?it/s]"
      ]
     },
     "metadata": {},
     "output_type": "display_data"
    },
    {
     "name": "stderr",
     "output_type": "stream",
     "text": []
    },
    {
     "data": {
      "application/vnd.jupyter.widget-view+json": {
       "model_id": "aff1f8fe34ae48eaaf0e7e5f9652e0e3",
       "version_major": 2,
       "version_minor": 0
      },
      "text/plain": [
       "  0%|          | 0/10 [00:00<?, ?it/s]"
      ]
     },
     "metadata": {},
     "output_type": "display_data"
    },
    {
     "name": "stderr",
     "output_type": "stream",
     "text": []
    },
    {
     "data": {
      "application/vnd.jupyter.widget-view+json": {
       "model_id": "93dba89bc31341e485e52fd843feaf5c",
       "version_major": 2,
       "version_minor": 0
      },
      "text/plain": [
       "  0%|          | 0/10 [00:00<?, ?it/s]"
      ]
     },
     "metadata": {},
     "output_type": "display_data"
    },
    {
     "name": "stderr",
     "output_type": "stream",
     "text": [
      "100%|██████████| 10/10 [00:06<00:00,  1.49it/s]\n"
     ]
    },
    {
     "data": {
      "application/vnd.jupyter.widget-view+json": {
       "model_id": "b5939fb382b94021aa7b4269d53a9e9a",
       "version_major": 2,
       "version_minor": 0
      },
      "text/plain": [
       "  0%|          | 0/10 [00:00<?, ?it/s]"
      ]
     },
     "metadata": {},
     "output_type": "display_data"
    },
    {
     "name": "stderr",
     "output_type": "stream",
     "text": []
    },
    {
     "data": {
      "application/vnd.jupyter.widget-view+json": {
       "model_id": "417b3e5544e44836be07a62402ae05d6",
       "version_major": 2,
       "version_minor": 0
      },
      "text/plain": [
       "  0%|          | 0/10 [00:00<?, ?it/s]"
      ]
     },
     "metadata": {},
     "output_type": "display_data"
    },
    {
     "name": "stderr",
     "output_type": "stream",
     "text": []
    },
    {
     "data": {
      "application/vnd.jupyter.widget-view+json": {
       "model_id": "e9630e7d7e2a4bcda436ed27d7f409b4",
       "version_major": 2,
       "version_minor": 0
      },
      "text/plain": [
       "  0%|          | 0/10 [00:00<?, ?it/s]"
      ]
     },
     "metadata": {},
     "output_type": "display_data"
    },
    {
     "name": "stderr",
     "output_type": "stream",
     "text": []
    },
    {
     "data": {
      "application/vnd.jupyter.widget-view+json": {
       "model_id": "dd2d174bceee4000ac55428502f8ef94",
       "version_major": 2,
       "version_minor": 0
      },
      "text/plain": [
       "  0%|          | 0/10 [00:00<?, ?it/s]"
      ]
     },
     "metadata": {},
     "output_type": "display_data"
    },
    {
     "name": "stderr",
     "output_type": "stream",
     "text": []
    },
    {
     "data": {
      "application/vnd.jupyter.widget-view+json": {
       "model_id": "8d12fc91603848f5b497367f79a01276",
       "version_major": 2,
       "version_minor": 0
      },
      "text/plain": [
       "  0%|          | 0/10 [00:00<?, ?it/s]"
      ]
     },
     "metadata": {},
     "output_type": "display_data"
    },
    {
     "name": "stderr",
     "output_type": "stream",
     "text": []
    },
    {
     "data": {
      "application/vnd.jupyter.widget-view+json": {
       "model_id": "51d0ac7115664bca86337a8e03e07df7",
       "version_major": 2,
       "version_minor": 0
      },
      "text/plain": [
       "  0%|          | 0/10 [00:00<?, ?it/s]"
      ]
     },
     "metadata": {},
     "output_type": "display_data"
    },
    {
     "name": "stderr",
     "output_type": "stream",
     "text": []
    },
    {
     "data": {
      "application/vnd.jupyter.widget-view+json": {
       "model_id": "c760d22d997c41d8bd39f261ebe23640",
       "version_major": 2,
       "version_minor": 0
      },
      "text/plain": [
       "  0%|          | 0/10 [00:00<?, ?it/s]"
      ]
     },
     "metadata": {},
     "output_type": "display_data"
    },
    {
     "name": "stderr",
     "output_type": "stream",
     "text": []
    },
    {
     "data": {
      "application/vnd.jupyter.widget-view+json": {
       "model_id": "be16b0c1a3c2427c90163789091fda39",
       "version_major": 2,
       "version_minor": 0
      },
      "text/plain": [
       "  0%|          | 0/10 [00:00<?, ?it/s]"
      ]
     },
     "metadata": {},
     "output_type": "display_data"
    },
    {
     "name": "stderr",
     "output_type": "stream",
     "text": []
    },
    {
     "data": {
      "application/vnd.jupyter.widget-view+json": {
       "model_id": "be1086d3eecc4346a46d46daf3de13ff",
       "version_major": 2,
       "version_minor": 0
      },
      "text/plain": [
       "  0%|          | 0/10 [00:00<?, ?it/s]"
      ]
     },
     "metadata": {},
     "output_type": "display_data"
    },
    {
     "name": "stderr",
     "output_type": "stream",
     "text": []
    },
    {
     "data": {
      "application/vnd.jupyter.widget-view+json": {
       "model_id": "275e649f8a0b4322ad7f9b9cb5dccee6",
       "version_major": 2,
       "version_minor": 0
      },
      "text/plain": [
       "  0%|          | 0/10 [00:00<?, ?it/s]"
      ]
     },
     "metadata": {},
     "output_type": "display_data"
    },
    {
     "name": "stderr",
     "output_type": "stream",
     "text": [
      "100%|██████████| 10/10 [00:06<00:00,  1.51it/s]\n"
     ]
    },
    {
     "data": {
      "application/vnd.jupyter.widget-view+json": {
       "model_id": "93f8b227aa5040ee9db50b058a9ce1af",
       "version_major": 2,
       "version_minor": 0
      },
      "text/plain": [
       "  0%|          | 0/10 [00:00<?, ?it/s]"
      ]
     },
     "metadata": {},
     "output_type": "display_data"
    },
    {
     "name": "stderr",
     "output_type": "stream",
     "text": []
    },
    {
     "data": {
      "application/vnd.jupyter.widget-view+json": {
       "model_id": "632ace7a753c43a18d46774f90b83da7",
       "version_major": 2,
       "version_minor": 0
      },
      "text/plain": [
       "  0%|          | 0/10 [00:00<?, ?it/s]"
      ]
     },
     "metadata": {},
     "output_type": "display_data"
    },
    {
     "name": "stderr",
     "output_type": "stream",
     "text": []
    },
    {
     "data": {
      "application/vnd.jupyter.widget-view+json": {
       "model_id": "52ce276c92f842cfb9d0f777f3d8f429",
       "version_major": 2,
       "version_minor": 0
      },
      "text/plain": [
       "  0%|          | 0/10 [00:00<?, ?it/s]"
      ]
     },
     "metadata": {},
     "output_type": "display_data"
    },
    {
     "name": "stderr",
     "output_type": "stream",
     "text": []
    },
    {
     "data": {
      "application/vnd.jupyter.widget-view+json": {
       "model_id": "944569148753485da41714d57bdc067d",
       "version_major": 2,
       "version_minor": 0
      },
      "text/plain": [
       "  0%|          | 0/10 [00:00<?, ?it/s]"
      ]
     },
     "metadata": {},
     "output_type": "display_data"
    },
    {
     "name": "stderr",
     "output_type": "stream",
     "text": []
    },
    {
     "data": {
      "application/vnd.jupyter.widget-view+json": {
       "model_id": "96b846115b074374b7ff7ff02dda16ca",
       "version_major": 2,
       "version_minor": 0
      },
      "text/plain": [
       "  0%|          | 0/10 [00:00<?, ?it/s]"
      ]
     },
     "metadata": {},
     "output_type": "display_data"
    },
    {
     "name": "stderr",
     "output_type": "stream",
     "text": []
    },
    {
     "data": {
      "application/vnd.jupyter.widget-view+json": {
       "model_id": "7ed734a28a1a45dfa0a2d4e40e01ef5f",
       "version_major": 2,
       "version_minor": 0
      },
      "text/plain": [
       "  0%|          | 0/10 [00:00<?, ?it/s]"
      ]
     },
     "metadata": {},
     "output_type": "display_data"
    },
    {
     "name": "stderr",
     "output_type": "stream",
     "text": []
    },
    {
     "data": {
      "application/vnd.jupyter.widget-view+json": {
       "model_id": "49a5af138dbd465f9d19b1e56a2cea6f",
       "version_major": 2,
       "version_minor": 0
      },
      "text/plain": [
       "  0%|          | 0/10 [00:00<?, ?it/s]"
      ]
     },
     "metadata": {},
     "output_type": "display_data"
    },
    {
     "name": "stderr",
     "output_type": "stream",
     "text": []
    },
    {
     "data": {
      "application/vnd.jupyter.widget-view+json": {
       "model_id": "b57430217df146508cbcdf37bd0f6448",
       "version_major": 2,
       "version_minor": 0
      },
      "text/plain": [
       "  0%|          | 0/10 [00:00<?, ?it/s]"
      ]
     },
     "metadata": {},
     "output_type": "display_data"
    },
    {
     "name": "stderr",
     "output_type": "stream",
     "text": []
    },
    {
     "data": {
      "application/vnd.jupyter.widget-view+json": {
       "model_id": "7fdeeaa616484196b5adf79476a88b17",
       "version_major": 2,
       "version_minor": 0
      },
      "text/plain": [
       "  0%|          | 0/10 [00:00<?, ?it/s]"
      ]
     },
     "metadata": {},
     "output_type": "display_data"
    },
    {
     "name": "stderr",
     "output_type": "stream",
     "text": []
    },
    {
     "data": {
      "application/vnd.jupyter.widget-view+json": {
       "model_id": "4107acd40cbb4dd9953d585ceceda9a5",
       "version_major": 2,
       "version_minor": 0
      },
      "text/plain": [
       "  0%|          | 0/10 [00:00<?, ?it/s]"
      ]
     },
     "metadata": {},
     "output_type": "display_data"
    },
    {
     "name": "stderr",
     "output_type": "stream",
     "text": [
      "100%|██████████| 10/10 [00:05<00:00,  1.70it/s]\n"
     ]
    },
    {
     "data": {
      "application/vnd.jupyter.widget-view+json": {
       "model_id": "89f8ce194bdb48aca2de2b46336b46f1",
       "version_major": 2,
       "version_minor": 0
      },
      "text/plain": [
       "  0%|          | 0/10 [00:00<?, ?it/s]"
      ]
     },
     "metadata": {},
     "output_type": "display_data"
    },
    {
     "name": "stderr",
     "output_type": "stream",
     "text": []
    },
    {
     "data": {
      "application/vnd.jupyter.widget-view+json": {
       "model_id": "06ff0d84a30142a4a077e13677f9a28f",
       "version_major": 2,
       "version_minor": 0
      },
      "text/plain": [
       "  0%|          | 0/10 [00:00<?, ?it/s]"
      ]
     },
     "metadata": {},
     "output_type": "display_data"
    },
    {
     "name": "stderr",
     "output_type": "stream",
     "text": []
    },
    {
     "data": {
      "application/vnd.jupyter.widget-view+json": {
       "model_id": "11d5e3727d2147e19a06ce12b04de5a2",
       "version_major": 2,
       "version_minor": 0
      },
      "text/plain": [
       "  0%|          | 0/10 [00:00<?, ?it/s]"
      ]
     },
     "metadata": {},
     "output_type": "display_data"
    },
    {
     "name": "stderr",
     "output_type": "stream",
     "text": []
    },
    {
     "data": {
      "application/vnd.jupyter.widget-view+json": {
       "model_id": "9cbd3c6f892e422086c7efa35845b9d5",
       "version_major": 2,
       "version_minor": 0
      },
      "text/plain": [
       "  0%|          | 0/10 [00:00<?, ?it/s]"
      ]
     },
     "metadata": {},
     "output_type": "display_data"
    },
    {
     "name": "stderr",
     "output_type": "stream",
     "text": []
    },
    {
     "data": {
      "application/vnd.jupyter.widget-view+json": {
       "model_id": "83c2d003036048cdaf10fe42008827c8",
       "version_major": 2,
       "version_minor": 0
      },
      "text/plain": [
       "  0%|          | 0/10 [00:00<?, ?it/s]"
      ]
     },
     "metadata": {},
     "output_type": "display_data"
    },
    {
     "name": "stderr",
     "output_type": "stream",
     "text": []
    },
    {
     "data": {
      "application/vnd.jupyter.widget-view+json": {
       "model_id": "a333245164864552a2880398481aa0ec",
       "version_major": 2,
       "version_minor": 0
      },
      "text/plain": [
       "  0%|          | 0/10 [00:00<?, ?it/s]"
      ]
     },
     "metadata": {},
     "output_type": "display_data"
    },
    {
     "name": "stderr",
     "output_type": "stream",
     "text": []
    },
    {
     "data": {
      "application/vnd.jupyter.widget-view+json": {
       "model_id": "267bd53689ad426b838265f6cbaae036",
       "version_major": 2,
       "version_minor": 0
      },
      "text/plain": [
       "  0%|          | 0/10 [00:00<?, ?it/s]"
      ]
     },
     "metadata": {},
     "output_type": "display_data"
    },
    {
     "name": "stderr",
     "output_type": "stream",
     "text": []
    },
    {
     "data": {
      "application/vnd.jupyter.widget-view+json": {
       "model_id": "1ac080a5fd6c45de8f3307cbdb613177",
       "version_major": 2,
       "version_minor": 0
      },
      "text/plain": [
       "  0%|          | 0/10 [00:00<?, ?it/s]"
      ]
     },
     "metadata": {},
     "output_type": "display_data"
    },
    {
     "name": "stderr",
     "output_type": "stream",
     "text": []
    },
    {
     "data": {
      "application/vnd.jupyter.widget-view+json": {
       "model_id": "5263f92e87334405845611f53bf62154",
       "version_major": 2,
       "version_minor": 0
      },
      "text/plain": [
       "  0%|          | 0/10 [00:00<?, ?it/s]"
      ]
     },
     "metadata": {},
     "output_type": "display_data"
    },
    {
     "name": "stderr",
     "output_type": "stream",
     "text": []
    },
    {
     "data": {
      "application/vnd.jupyter.widget-view+json": {
       "model_id": "742f912137d1471a9f0beb548eaedbc6",
       "version_major": 2,
       "version_minor": 0
      },
      "text/plain": [
       "  0%|          | 0/10 [00:00<?, ?it/s]"
      ]
     },
     "metadata": {},
     "output_type": "display_data"
    },
    {
     "name": "stderr",
     "output_type": "stream",
     "text": [
      "100%|██████████| 10/10 [00:07<00:00,  1.33it/s]\n"
     ]
    },
    {
     "data": {
      "application/vnd.jupyter.widget-view+json": {
       "model_id": "95e60f494d544fd58bf6a07d4a789554",
       "version_major": 2,
       "version_minor": 0
      },
      "text/plain": [
       "  0%|          | 0/10 [00:00<?, ?it/s]"
      ]
     },
     "metadata": {},
     "output_type": "display_data"
    },
    {
     "name": "stderr",
     "output_type": "stream",
     "text": []
    },
    {
     "data": {
      "application/vnd.jupyter.widget-view+json": {
       "model_id": "6b6b24349f5640b5a51b7ff47c4b10e4",
       "version_major": 2,
       "version_minor": 0
      },
      "text/plain": [
       "  0%|          | 0/10 [00:00<?, ?it/s]"
      ]
     },
     "metadata": {},
     "output_type": "display_data"
    },
    {
     "name": "stderr",
     "output_type": "stream",
     "text": []
    },
    {
     "data": {
      "application/vnd.jupyter.widget-view+json": {
       "model_id": "724dc0ccc87c41f8b1a5b44259bbd5e6",
       "version_major": 2,
       "version_minor": 0
      },
      "text/plain": [
       "  0%|          | 0/10 [00:00<?, ?it/s]"
      ]
     },
     "metadata": {},
     "output_type": "display_data"
    },
    {
     "name": "stderr",
     "output_type": "stream",
     "text": []
    },
    {
     "data": {
      "application/vnd.jupyter.widget-view+json": {
       "model_id": "e3661be07619406d875f8263bb5b12b7",
       "version_major": 2,
       "version_minor": 0
      },
      "text/plain": [
       "  0%|          | 0/10 [00:00<?, ?it/s]"
      ]
     },
     "metadata": {},
     "output_type": "display_data"
    },
    {
     "name": "stderr",
     "output_type": "stream",
     "text": []
    },
    {
     "data": {
      "application/vnd.jupyter.widget-view+json": {
       "model_id": "925f9741852e4c6a8f1ba492e82c2535",
       "version_major": 2,
       "version_minor": 0
      },
      "text/plain": [
       "  0%|          | 0/10 [00:00<?, ?it/s]"
      ]
     },
     "metadata": {},
     "output_type": "display_data"
    },
    {
     "name": "stderr",
     "output_type": "stream",
     "text": []
    },
    {
     "data": {
      "application/vnd.jupyter.widget-view+json": {
       "model_id": "564809044e06444d9e14e47fe184e5f4",
       "version_major": 2,
       "version_minor": 0
      },
      "text/plain": [
       "  0%|          | 0/10 [00:00<?, ?it/s]"
      ]
     },
     "metadata": {},
     "output_type": "display_data"
    },
    {
     "name": "stderr",
     "output_type": "stream",
     "text": []
    },
    {
     "data": {
      "application/vnd.jupyter.widget-view+json": {
       "model_id": "5f65b99b55cb40249fcfe8a5635d6ba6",
       "version_major": 2,
       "version_minor": 0
      },
      "text/plain": [
       "  0%|          | 0/10 [00:00<?, ?it/s]"
      ]
     },
     "metadata": {},
     "output_type": "display_data"
    },
    {
     "name": "stderr",
     "output_type": "stream",
     "text": []
    },
    {
     "data": {
      "application/vnd.jupyter.widget-view+json": {
       "model_id": "689781165c1344a8b095cdb173dfb4f7",
       "version_major": 2,
       "version_minor": 0
      },
      "text/plain": [
       "  0%|          | 0/10 [00:00<?, ?it/s]"
      ]
     },
     "metadata": {},
     "output_type": "display_data"
    },
    {
     "name": "stderr",
     "output_type": "stream",
     "text": []
    },
    {
     "data": {
      "application/vnd.jupyter.widget-view+json": {
       "model_id": "dd1c0ad8ba5a42f084ffea416483d42c",
       "version_major": 2,
       "version_minor": 0
      },
      "text/plain": [
       "  0%|          | 0/10 [00:00<?, ?it/s]"
      ]
     },
     "metadata": {},
     "output_type": "display_data"
    },
    {
     "name": "stderr",
     "output_type": "stream",
     "text": []
    },
    {
     "data": {
      "application/vnd.jupyter.widget-view+json": {
       "model_id": "c0eba0464aac434fac3623e27cc80f6a",
       "version_major": 2,
       "version_minor": 0
      },
      "text/plain": [
       "  0%|          | 0/10 [00:00<?, ?it/s]"
      ]
     },
     "metadata": {},
     "output_type": "display_data"
    },
    {
     "name": "stderr",
     "output_type": "stream",
     "text": [
      "100%|██████████| 10/10 [00:05<00:00,  1.74it/s]\n",
      " 83%|████████▎ | 5/6 [06:32<01:18, 78.56s/it]"
     ]
    },
    {
     "data": {
      "application/vnd.jupyter.widget-view+json": {
       "model_id": "b4d60343213545948027b908daba9220",
       "version_major": 2,
       "version_minor": 0
      },
      "text/plain": [
       "  0%|          | 0/10 [00:00<?, ?it/s]"
      ]
     },
     "metadata": {},
     "output_type": "display_data"
    },
    {
     "name": "stderr",
     "output_type": "stream",
     "text": []
    },
    {
     "data": {
      "application/vnd.jupyter.widget-view+json": {
       "model_id": "3b8eba1d8feb478182b01f2cebcc03b2",
       "version_major": 2,
       "version_minor": 0
      },
      "text/plain": [
       "  0%|          | 0/10 [00:00<?, ?it/s]"
      ]
     },
     "metadata": {},
     "output_type": "display_data"
    },
    {
     "name": "stderr",
     "output_type": "stream",
     "text": []
    },
    {
     "data": {
      "application/vnd.jupyter.widget-view+json": {
       "model_id": "c88a0c4ef76842378d0e67b37752f228",
       "version_major": 2,
       "version_minor": 0
      },
      "text/plain": [
       "  0%|          | 0/10 [00:00<?, ?it/s]"
      ]
     },
     "metadata": {},
     "output_type": "display_data"
    },
    {
     "name": "stderr",
     "output_type": "stream",
     "text": []
    },
    {
     "data": {
      "application/vnd.jupyter.widget-view+json": {
       "model_id": "e4838f64f9694ada9b6567f4d01af631",
       "version_major": 2,
       "version_minor": 0
      },
      "text/plain": [
       "  0%|          | 0/10 [00:00<?, ?it/s]"
      ]
     },
     "metadata": {},
     "output_type": "display_data"
    },
    {
     "name": "stderr",
     "output_type": "stream",
     "text": []
    },
    {
     "data": {
      "application/vnd.jupyter.widget-view+json": {
       "model_id": "8a4bc590b1d344d99698107301f43b81",
       "version_major": 2,
       "version_minor": 0
      },
      "text/plain": [
       "  0%|          | 0/10 [00:00<?, ?it/s]"
      ]
     },
     "metadata": {},
     "output_type": "display_data"
    },
    {
     "name": "stderr",
     "output_type": "stream",
     "text": []
    },
    {
     "data": {
      "application/vnd.jupyter.widget-view+json": {
       "model_id": "21d491f253394f1383f1cf020b62fae1",
       "version_major": 2,
       "version_minor": 0
      },
      "text/plain": [
       "  0%|          | 0/10 [00:00<?, ?it/s]"
      ]
     },
     "metadata": {},
     "output_type": "display_data"
    },
    {
     "name": "stderr",
     "output_type": "stream",
     "text": []
    },
    {
     "data": {
      "application/vnd.jupyter.widget-view+json": {
       "model_id": "76edc9aebd4f49979b19ac9f19c8c990",
       "version_major": 2,
       "version_minor": 0
      },
      "text/plain": [
       "  0%|          | 0/10 [00:00<?, ?it/s]"
      ]
     },
     "metadata": {},
     "output_type": "display_data"
    },
    {
     "name": "stderr",
     "output_type": "stream",
     "text": []
    },
    {
     "data": {
      "application/vnd.jupyter.widget-view+json": {
       "model_id": "cb05e9134a8447f78cf170b6cc88e096",
       "version_major": 2,
       "version_minor": 0
      },
      "text/plain": [
       "  0%|          | 0/10 [00:00<?, ?it/s]"
      ]
     },
     "metadata": {},
     "output_type": "display_data"
    },
    {
     "name": "stderr",
     "output_type": "stream",
     "text": []
    },
    {
     "data": {
      "application/vnd.jupyter.widget-view+json": {
       "model_id": "c035428c55144bffbff6550e0cb9418d",
       "version_major": 2,
       "version_minor": 0
      },
      "text/plain": [
       "  0%|          | 0/10 [00:00<?, ?it/s]"
      ]
     },
     "metadata": {},
     "output_type": "display_data"
    },
    {
     "name": "stderr",
     "output_type": "stream",
     "text": []
    },
    {
     "data": {
      "application/vnd.jupyter.widget-view+json": {
       "model_id": "c93c819b86ae478eadc6fe1f902cc0e2",
       "version_major": 2,
       "version_minor": 0
      },
      "text/plain": [
       "  0%|          | 0/10 [00:00<?, ?it/s]"
      ]
     },
     "metadata": {},
     "output_type": "display_data"
    },
    {
     "name": "stderr",
     "output_type": "stream",
     "text": [
      "100%|██████████| 10/10 [00:06<00:00,  1.58it/s]\n"
     ]
    },
    {
     "data": {
      "application/vnd.jupyter.widget-view+json": {
       "model_id": "1b4a13a9fec942479d13a1c933c691ee",
       "version_major": 2,
       "version_minor": 0
      },
      "text/plain": [
       "  0%|          | 0/10 [00:00<?, ?it/s]"
      ]
     },
     "metadata": {},
     "output_type": "display_data"
    },
    {
     "name": "stderr",
     "output_type": "stream",
     "text": []
    },
    {
     "data": {
      "application/vnd.jupyter.widget-view+json": {
       "model_id": "d7758d54d2654b2d84d7a8946acaf7f9",
       "version_major": 2,
       "version_minor": 0
      },
      "text/plain": [
       "  0%|          | 0/10 [00:00<?, ?it/s]"
      ]
     },
     "metadata": {},
     "output_type": "display_data"
    },
    {
     "name": "stderr",
     "output_type": "stream",
     "text": []
    },
    {
     "data": {
      "application/vnd.jupyter.widget-view+json": {
       "model_id": "0918dfc4804c4511818ab469dd4b3d77",
       "version_major": 2,
       "version_minor": 0
      },
      "text/plain": [
       "  0%|          | 0/10 [00:00<?, ?it/s]"
      ]
     },
     "metadata": {},
     "output_type": "display_data"
    },
    {
     "name": "stderr",
     "output_type": "stream",
     "text": []
    },
    {
     "data": {
      "application/vnd.jupyter.widget-view+json": {
       "model_id": "889cd2b6982c46b6b849af473489821f",
       "version_major": 2,
       "version_minor": 0
      },
      "text/plain": [
       "  0%|          | 0/10 [00:00<?, ?it/s]"
      ]
     },
     "metadata": {},
     "output_type": "display_data"
    },
    {
     "name": "stderr",
     "output_type": "stream",
     "text": []
    },
    {
     "data": {
      "application/vnd.jupyter.widget-view+json": {
       "model_id": "c02dc6600404463e99c410b21198030b",
       "version_major": 2,
       "version_minor": 0
      },
      "text/plain": [
       "  0%|          | 0/10 [00:00<?, ?it/s]"
      ]
     },
     "metadata": {},
     "output_type": "display_data"
    },
    {
     "name": "stderr",
     "output_type": "stream",
     "text": []
    },
    {
     "data": {
      "application/vnd.jupyter.widget-view+json": {
       "model_id": "f1f1e0acd4cd472cb68c94db27099884",
       "version_major": 2,
       "version_minor": 0
      },
      "text/plain": [
       "  0%|          | 0/10 [00:00<?, ?it/s]"
      ]
     },
     "metadata": {},
     "output_type": "display_data"
    },
    {
     "name": "stderr",
     "output_type": "stream",
     "text": []
    },
    {
     "data": {
      "application/vnd.jupyter.widget-view+json": {
       "model_id": "ba92f607abb8419ba2c9c05caf967c7c",
       "version_major": 2,
       "version_minor": 0
      },
      "text/plain": [
       "  0%|          | 0/10 [00:00<?, ?it/s]"
      ]
     },
     "metadata": {},
     "output_type": "display_data"
    },
    {
     "name": "stderr",
     "output_type": "stream",
     "text": []
    },
    {
     "data": {
      "application/vnd.jupyter.widget-view+json": {
       "model_id": "9fabafb9888442d591cc08cb1459cd0a",
       "version_major": 2,
       "version_minor": 0
      },
      "text/plain": [
       "  0%|          | 0/10 [00:00<?, ?it/s]"
      ]
     },
     "metadata": {},
     "output_type": "display_data"
    },
    {
     "name": "stderr",
     "output_type": "stream",
     "text": []
    },
    {
     "data": {
      "application/vnd.jupyter.widget-view+json": {
       "model_id": "26cd61b5b51f4d738b614f7063dcd3cc",
       "version_major": 2,
       "version_minor": 0
      },
      "text/plain": [
       "  0%|          | 0/10 [00:00<?, ?it/s]"
      ]
     },
     "metadata": {},
     "output_type": "display_data"
    },
    {
     "name": "stderr",
     "output_type": "stream",
     "text": []
    },
    {
     "data": {
      "application/vnd.jupyter.widget-view+json": {
       "model_id": "a01336ba4e4b404c9eb69b071585e6d2",
       "version_major": 2,
       "version_minor": 0
      },
      "text/plain": [
       "  0%|          | 0/10 [00:00<?, ?it/s]"
      ]
     },
     "metadata": {},
     "output_type": "display_data"
    },
    {
     "name": "stderr",
     "output_type": "stream",
     "text": [
      "100%|██████████| 10/10 [00:07<00:00,  1.42it/s]\n"
     ]
    },
    {
     "data": {
      "application/vnd.jupyter.widget-view+json": {
       "model_id": "a72a2d8a5a30415ebef110742cca328b",
       "version_major": 2,
       "version_minor": 0
      },
      "text/plain": [
       "  0%|          | 0/10 [00:00<?, ?it/s]"
      ]
     },
     "metadata": {},
     "output_type": "display_data"
    },
    {
     "name": "stderr",
     "output_type": "stream",
     "text": []
    },
    {
     "data": {
      "application/vnd.jupyter.widget-view+json": {
       "model_id": "09c1539f792f4438a851fb0a95715305",
       "version_major": 2,
       "version_minor": 0
      },
      "text/plain": [
       "  0%|          | 0/10 [00:00<?, ?it/s]"
      ]
     },
     "metadata": {},
     "output_type": "display_data"
    },
    {
     "name": "stderr",
     "output_type": "stream",
     "text": []
    },
    {
     "data": {
      "application/vnd.jupyter.widget-view+json": {
       "model_id": "6cb3ce69a0f4469b939d91c1831f888d",
       "version_major": 2,
       "version_minor": 0
      },
      "text/plain": [
       "  0%|          | 0/10 [00:00<?, ?it/s]"
      ]
     },
     "metadata": {},
     "output_type": "display_data"
    },
    {
     "name": "stderr",
     "output_type": "stream",
     "text": []
    },
    {
     "data": {
      "application/vnd.jupyter.widget-view+json": {
       "model_id": "700daa126565479a9ebea485c7be2039",
       "version_major": 2,
       "version_minor": 0
      },
      "text/plain": [
       "  0%|          | 0/10 [00:00<?, ?it/s]"
      ]
     },
     "metadata": {},
     "output_type": "display_data"
    },
    {
     "name": "stderr",
     "output_type": "stream",
     "text": []
    },
    {
     "data": {
      "application/vnd.jupyter.widget-view+json": {
       "model_id": "ba3b38feaa0242fb89b17a6f5bad5690",
       "version_major": 2,
       "version_minor": 0
      },
      "text/plain": [
       "  0%|          | 0/10 [00:00<?, ?it/s]"
      ]
     },
     "metadata": {},
     "output_type": "display_data"
    },
    {
     "name": "stderr",
     "output_type": "stream",
     "text": []
    },
    {
     "data": {
      "application/vnd.jupyter.widget-view+json": {
       "model_id": "00c13b92771f4ec7a90bef01273c5b43",
       "version_major": 2,
       "version_minor": 0
      },
      "text/plain": [
       "  0%|          | 0/10 [00:00<?, ?it/s]"
      ]
     },
     "metadata": {},
     "output_type": "display_data"
    },
    {
     "name": "stderr",
     "output_type": "stream",
     "text": []
    },
    {
     "data": {
      "application/vnd.jupyter.widget-view+json": {
       "model_id": "5f032f4d347c49e28807e963675f2f30",
       "version_major": 2,
       "version_minor": 0
      },
      "text/plain": [
       "  0%|          | 0/10 [00:00<?, ?it/s]"
      ]
     },
     "metadata": {},
     "output_type": "display_data"
    },
    {
     "name": "stderr",
     "output_type": "stream",
     "text": []
    },
    {
     "data": {
      "application/vnd.jupyter.widget-view+json": {
       "model_id": "4870a276f31a4ff3ac4466e10991bf9d",
       "version_major": 2,
       "version_minor": 0
      },
      "text/plain": [
       "  0%|          | 0/10 [00:00<?, ?it/s]"
      ]
     },
     "metadata": {},
     "output_type": "display_data"
    },
    {
     "name": "stderr",
     "output_type": "stream",
     "text": []
    },
    {
     "data": {
      "application/vnd.jupyter.widget-view+json": {
       "model_id": "1a38d98eb71f476ebef3d69c95761e51",
       "version_major": 2,
       "version_minor": 0
      },
      "text/plain": [
       "  0%|          | 0/10 [00:00<?, ?it/s]"
      ]
     },
     "metadata": {},
     "output_type": "display_data"
    },
    {
     "name": "stderr",
     "output_type": "stream",
     "text": []
    },
    {
     "data": {
      "application/vnd.jupyter.widget-view+json": {
       "model_id": "854d0fe5b3cd433ba87098df025a1b75",
       "version_major": 2,
       "version_minor": 0
      },
      "text/plain": [
       "  0%|          | 0/10 [00:00<?, ?it/s]"
      ]
     },
     "metadata": {},
     "output_type": "display_data"
    },
    {
     "name": "stderr",
     "output_type": "stream",
     "text": [
      "100%|██████████| 10/10 [00:05<00:00,  1.82it/s]\n"
     ]
    },
    {
     "data": {
      "application/vnd.jupyter.widget-view+json": {
       "model_id": "ec2ee5789fd746418e3ff043f64dc905",
       "version_major": 2,
       "version_minor": 0
      },
      "text/plain": [
       "  0%|          | 0/10 [00:00<?, ?it/s]"
      ]
     },
     "metadata": {},
     "output_type": "display_data"
    },
    {
     "name": "stderr",
     "output_type": "stream",
     "text": []
    },
    {
     "data": {
      "application/vnd.jupyter.widget-view+json": {
       "model_id": "af36f8c7ca6246ac9f9626c1188af098",
       "version_major": 2,
       "version_minor": 0
      },
      "text/plain": [
       "  0%|          | 0/10 [00:00<?, ?it/s]"
      ]
     },
     "metadata": {},
     "output_type": "display_data"
    },
    {
     "name": "stderr",
     "output_type": "stream",
     "text": []
    },
    {
     "data": {
      "application/vnd.jupyter.widget-view+json": {
       "model_id": "295d98540e5841aeabbcaebcf437b85e",
       "version_major": 2,
       "version_minor": 0
      },
      "text/plain": [
       "  0%|          | 0/10 [00:00<?, ?it/s]"
      ]
     },
     "metadata": {},
     "output_type": "display_data"
    },
    {
     "name": "stderr",
     "output_type": "stream",
     "text": []
    },
    {
     "data": {
      "application/vnd.jupyter.widget-view+json": {
       "model_id": "6c44566a6dae4eabbe139910fb9a6a62",
       "version_major": 2,
       "version_minor": 0
      },
      "text/plain": [
       "  0%|          | 0/10 [00:00<?, ?it/s]"
      ]
     },
     "metadata": {},
     "output_type": "display_data"
    },
    {
     "name": "stderr",
     "output_type": "stream",
     "text": []
    },
    {
     "data": {
      "application/vnd.jupyter.widget-view+json": {
       "model_id": "94da7794d97448b19ee5c748a11a34a2",
       "version_major": 2,
       "version_minor": 0
      },
      "text/plain": [
       "  0%|          | 0/10 [00:00<?, ?it/s]"
      ]
     },
     "metadata": {},
     "output_type": "display_data"
    },
    {
     "name": "stderr",
     "output_type": "stream",
     "text": []
    },
    {
     "data": {
      "application/vnd.jupyter.widget-view+json": {
       "model_id": "95b781b4417b4c27a361435f8e5ee453",
       "version_major": 2,
       "version_minor": 0
      },
      "text/plain": [
       "  0%|          | 0/10 [00:00<?, ?it/s]"
      ]
     },
     "metadata": {},
     "output_type": "display_data"
    },
    {
     "name": "stderr",
     "output_type": "stream",
     "text": []
    },
    {
     "data": {
      "application/vnd.jupyter.widget-view+json": {
       "model_id": "20eab79c49054fce853e2d33a1d3e475",
       "version_major": 2,
       "version_minor": 0
      },
      "text/plain": [
       "  0%|          | 0/10 [00:00<?, ?it/s]"
      ]
     },
     "metadata": {},
     "output_type": "display_data"
    },
    {
     "name": "stderr",
     "output_type": "stream",
     "text": []
    },
    {
     "data": {
      "application/vnd.jupyter.widget-view+json": {
       "model_id": "2b08d174d696419f8a1bbf05d4ce9b93",
       "version_major": 2,
       "version_minor": 0
      },
      "text/plain": [
       "  0%|          | 0/10 [00:00<?, ?it/s]"
      ]
     },
     "metadata": {},
     "output_type": "display_data"
    },
    {
     "name": "stderr",
     "output_type": "stream",
     "text": []
    },
    {
     "data": {
      "application/vnd.jupyter.widget-view+json": {
       "model_id": "34de8564b8d640f5b721110c2b1cc1e4",
       "version_major": 2,
       "version_minor": 0
      },
      "text/plain": [
       "  0%|          | 0/10 [00:00<?, ?it/s]"
      ]
     },
     "metadata": {},
     "output_type": "display_data"
    },
    {
     "name": "stderr",
     "output_type": "stream",
     "text": []
    },
    {
     "data": {
      "application/vnd.jupyter.widget-view+json": {
       "model_id": "499af041c6a34f41b8cdfc1c405d2b7e",
       "version_major": 2,
       "version_minor": 0
      },
      "text/plain": [
       "  0%|          | 0/10 [00:00<?, ?it/s]"
      ]
     },
     "metadata": {},
     "output_type": "display_data"
    },
    {
     "name": "stderr",
     "output_type": "stream",
     "text": [
      "100%|██████████| 10/10 [00:07<00:00,  1.43it/s]\n"
     ]
    },
    {
     "data": {
      "application/vnd.jupyter.widget-view+json": {
       "model_id": "33396833869b42b29429b2ed0e5c8bef",
       "version_major": 2,
       "version_minor": 0
      },
      "text/plain": [
       "  0%|          | 0/10 [00:00<?, ?it/s]"
      ]
     },
     "metadata": {},
     "output_type": "display_data"
    },
    {
     "name": "stderr",
     "output_type": "stream",
     "text": []
    },
    {
     "data": {
      "application/vnd.jupyter.widget-view+json": {
       "model_id": "6549fac0a67244ce9a0b59d33aeabb66",
       "version_major": 2,
       "version_minor": 0
      },
      "text/plain": [
       "  0%|          | 0/10 [00:00<?, ?it/s]"
      ]
     },
     "metadata": {},
     "output_type": "display_data"
    },
    {
     "name": "stderr",
     "output_type": "stream",
     "text": []
    },
    {
     "data": {
      "application/vnd.jupyter.widget-view+json": {
       "model_id": "867b04d0008145aa94eb7e503bb6784e",
       "version_major": 2,
       "version_minor": 0
      },
      "text/plain": [
       "  0%|          | 0/10 [00:00<?, ?it/s]"
      ]
     },
     "metadata": {},
     "output_type": "display_data"
    },
    {
     "name": "stderr",
     "output_type": "stream",
     "text": []
    },
    {
     "data": {
      "application/vnd.jupyter.widget-view+json": {
       "model_id": "9b0eb49c0e7f439ba9e8591849bfb8e7",
       "version_major": 2,
       "version_minor": 0
      },
      "text/plain": [
       "  0%|          | 0/10 [00:00<?, ?it/s]"
      ]
     },
     "metadata": {},
     "output_type": "display_data"
    },
    {
     "name": "stderr",
     "output_type": "stream",
     "text": []
    },
    {
     "data": {
      "application/vnd.jupyter.widget-view+json": {
       "model_id": "a94804bbec0647d6af1730646d31743b",
       "version_major": 2,
       "version_minor": 0
      },
      "text/plain": [
       "  0%|          | 0/10 [00:00<?, ?it/s]"
      ]
     },
     "metadata": {},
     "output_type": "display_data"
    },
    {
     "name": "stderr",
     "output_type": "stream",
     "text": []
    },
    {
     "data": {
      "application/vnd.jupyter.widget-view+json": {
       "model_id": "1525cefa63c6495e8e8f968582315262",
       "version_major": 2,
       "version_minor": 0
      },
      "text/plain": [
       "  0%|          | 0/10 [00:00<?, ?it/s]"
      ]
     },
     "metadata": {},
     "output_type": "display_data"
    },
    {
     "name": "stderr",
     "output_type": "stream",
     "text": []
    },
    {
     "data": {
      "application/vnd.jupyter.widget-view+json": {
       "model_id": "5b3fb6b6790f45c4b603eef7f7e492e7",
       "version_major": 2,
       "version_minor": 0
      },
      "text/plain": [
       "  0%|          | 0/10 [00:00<?, ?it/s]"
      ]
     },
     "metadata": {},
     "output_type": "display_data"
    },
    {
     "name": "stderr",
     "output_type": "stream",
     "text": []
    },
    {
     "data": {
      "application/vnd.jupyter.widget-view+json": {
       "model_id": "596918c3904c4c51b126586b0444cdf6",
       "version_major": 2,
       "version_minor": 0
      },
      "text/plain": [
       "  0%|          | 0/10 [00:00<?, ?it/s]"
      ]
     },
     "metadata": {},
     "output_type": "display_data"
    },
    {
     "name": "stderr",
     "output_type": "stream",
     "text": []
    },
    {
     "data": {
      "application/vnd.jupyter.widget-view+json": {
       "model_id": "20d657b5f7534725b453d477f5c6825b",
       "version_major": 2,
       "version_minor": 0
      },
      "text/plain": [
       "  0%|          | 0/10 [00:00<?, ?it/s]"
      ]
     },
     "metadata": {},
     "output_type": "display_data"
    },
    {
     "name": "stderr",
     "output_type": "stream",
     "text": []
    },
    {
     "data": {
      "application/vnd.jupyter.widget-view+json": {
       "model_id": "64d092a1ab4e4269b0fb86f54d368b1a",
       "version_major": 2,
       "version_minor": 0
      },
      "text/plain": [
       "  0%|          | 0/10 [00:00<?, ?it/s]"
      ]
     },
     "metadata": {},
     "output_type": "display_data"
    },
    {
     "name": "stderr",
     "output_type": "stream",
     "text": [
      "100%|██████████| 10/10 [00:07<00:00,  1.43it/s]\n"
     ]
    },
    {
     "data": {
      "application/vnd.jupyter.widget-view+json": {
       "model_id": "27aeb7f52b824cf4a0643b58fb69954d",
       "version_major": 2,
       "version_minor": 0
      },
      "text/plain": [
       "  0%|          | 0/10 [00:00<?, ?it/s]"
      ]
     },
     "metadata": {},
     "output_type": "display_data"
    },
    {
     "name": "stderr",
     "output_type": "stream",
     "text": []
    },
    {
     "data": {
      "application/vnd.jupyter.widget-view+json": {
       "model_id": "dcef3028a0074db88a326664f8669cc0",
       "version_major": 2,
       "version_minor": 0
      },
      "text/plain": [
       "  0%|          | 0/10 [00:00<?, ?it/s]"
      ]
     },
     "metadata": {},
     "output_type": "display_data"
    },
    {
     "name": "stderr",
     "output_type": "stream",
     "text": []
    },
    {
     "data": {
      "application/vnd.jupyter.widget-view+json": {
       "model_id": "881d61ec9f5b45b7864811c247ce5234",
       "version_major": 2,
       "version_minor": 0
      },
      "text/plain": [
       "  0%|          | 0/10 [00:00<?, ?it/s]"
      ]
     },
     "metadata": {},
     "output_type": "display_data"
    },
    {
     "name": "stderr",
     "output_type": "stream",
     "text": []
    },
    {
     "data": {
      "application/vnd.jupyter.widget-view+json": {
       "model_id": "e66429594a3d41c6821039e0cf43d0af",
       "version_major": 2,
       "version_minor": 0
      },
      "text/plain": [
       "  0%|          | 0/10 [00:00<?, ?it/s]"
      ]
     },
     "metadata": {},
     "output_type": "display_data"
    },
    {
     "name": "stderr",
     "output_type": "stream",
     "text": []
    },
    {
     "data": {
      "application/vnd.jupyter.widget-view+json": {
       "model_id": "2b06936da3414e2dbf7f7412504e543a",
       "version_major": 2,
       "version_minor": 0
      },
      "text/plain": [
       "  0%|          | 0/10 [00:00<?, ?it/s]"
      ]
     },
     "metadata": {},
     "output_type": "display_data"
    },
    {
     "name": "stderr",
     "output_type": "stream",
     "text": []
    },
    {
     "data": {
      "application/vnd.jupyter.widget-view+json": {
       "model_id": "823c3c2f645b492181e7de12205e65c1",
       "version_major": 2,
       "version_minor": 0
      },
      "text/plain": [
       "  0%|          | 0/10 [00:00<?, ?it/s]"
      ]
     },
     "metadata": {},
     "output_type": "display_data"
    },
    {
     "name": "stderr",
     "output_type": "stream",
     "text": []
    },
    {
     "data": {
      "application/vnd.jupyter.widget-view+json": {
       "model_id": "848caeaeab9748b8969cb99434c1ec89",
       "version_major": 2,
       "version_minor": 0
      },
      "text/plain": [
       "  0%|          | 0/10 [00:00<?, ?it/s]"
      ]
     },
     "metadata": {},
     "output_type": "display_data"
    },
    {
     "name": "stderr",
     "output_type": "stream",
     "text": []
    },
    {
     "data": {
      "application/vnd.jupyter.widget-view+json": {
       "model_id": "7d690f84f15a481381730182c5b9f0de",
       "version_major": 2,
       "version_minor": 0
      },
      "text/plain": [
       "  0%|          | 0/10 [00:00<?, ?it/s]"
      ]
     },
     "metadata": {},
     "output_type": "display_data"
    },
    {
     "name": "stderr",
     "output_type": "stream",
     "text": []
    },
    {
     "data": {
      "application/vnd.jupyter.widget-view+json": {
       "model_id": "ab56c9c5e7bc44d8a611aa371b1a3cd6",
       "version_major": 2,
       "version_minor": 0
      },
      "text/plain": [
       "  0%|          | 0/10 [00:00<?, ?it/s]"
      ]
     },
     "metadata": {},
     "output_type": "display_data"
    },
    {
     "name": "stderr",
     "output_type": "stream",
     "text": []
    },
    {
     "data": {
      "application/vnd.jupyter.widget-view+json": {
       "model_id": "07455dff83ad4c1eb14dc19ce4f9e919",
       "version_major": 2,
       "version_minor": 0
      },
      "text/plain": [
       "  0%|          | 0/10 [00:00<?, ?it/s]"
      ]
     },
     "metadata": {},
     "output_type": "display_data"
    },
    {
     "name": "stderr",
     "output_type": "stream",
     "text": [
      "100%|██████████| 10/10 [00:06<00:00,  1.54it/s]\n"
     ]
    },
    {
     "data": {
      "application/vnd.jupyter.widget-view+json": {
       "model_id": "fbcddb8b47a4424f8512400924a206a0",
       "version_major": 2,
       "version_minor": 0
      },
      "text/plain": [
       "  0%|          | 0/10 [00:00<?, ?it/s]"
      ]
     },
     "metadata": {},
     "output_type": "display_data"
    },
    {
     "name": "stderr",
     "output_type": "stream",
     "text": []
    },
    {
     "data": {
      "application/vnd.jupyter.widget-view+json": {
       "model_id": "e36305e3652747a9afd27e03e6ef775c",
       "version_major": 2,
       "version_minor": 0
      },
      "text/plain": [
       "  0%|          | 0/10 [00:00<?, ?it/s]"
      ]
     },
     "metadata": {},
     "output_type": "display_data"
    },
    {
     "name": "stderr",
     "output_type": "stream",
     "text": []
    },
    {
     "data": {
      "application/vnd.jupyter.widget-view+json": {
       "model_id": "1163581ae8994d0ea09a7c049b112e6d",
       "version_major": 2,
       "version_minor": 0
      },
      "text/plain": [
       "  0%|          | 0/10 [00:00<?, ?it/s]"
      ]
     },
     "metadata": {},
     "output_type": "display_data"
    },
    {
     "name": "stderr",
     "output_type": "stream",
     "text": []
    },
    {
     "data": {
      "application/vnd.jupyter.widget-view+json": {
       "model_id": "43c18d7608ae4cea8d008f6601203ba6",
       "version_major": 2,
       "version_minor": 0
      },
      "text/plain": [
       "  0%|          | 0/10 [00:00<?, ?it/s]"
      ]
     },
     "metadata": {},
     "output_type": "display_data"
    },
    {
     "name": "stderr",
     "output_type": "stream",
     "text": []
    },
    {
     "data": {
      "application/vnd.jupyter.widget-view+json": {
       "model_id": "45203628eae64763ad4f1b8dbf22cf50",
       "version_major": 2,
       "version_minor": 0
      },
      "text/plain": [
       "  0%|          | 0/10 [00:00<?, ?it/s]"
      ]
     },
     "metadata": {},
     "output_type": "display_data"
    },
    {
     "name": "stderr",
     "output_type": "stream",
     "text": []
    },
    {
     "data": {
      "application/vnd.jupyter.widget-view+json": {
       "model_id": "dcb38ad9c2f3404a9a9085123665c527",
       "version_major": 2,
       "version_minor": 0
      },
      "text/plain": [
       "  0%|          | 0/10 [00:00<?, ?it/s]"
      ]
     },
     "metadata": {},
     "output_type": "display_data"
    },
    {
     "name": "stderr",
     "output_type": "stream",
     "text": []
    },
    {
     "data": {
      "application/vnd.jupyter.widget-view+json": {
       "model_id": "b8da79c950a14561b06ddbbc8d8b122a",
       "version_major": 2,
       "version_minor": 0
      },
      "text/plain": [
       "  0%|          | 0/10 [00:00<?, ?it/s]"
      ]
     },
     "metadata": {},
     "output_type": "display_data"
    },
    {
     "name": "stderr",
     "output_type": "stream",
     "text": []
    },
    {
     "data": {
      "application/vnd.jupyter.widget-view+json": {
       "model_id": "dee7a2bcd7964c02a1dbd175ecf58b11",
       "version_major": 2,
       "version_minor": 0
      },
      "text/plain": [
       "  0%|          | 0/10 [00:00<?, ?it/s]"
      ]
     },
     "metadata": {},
     "output_type": "display_data"
    },
    {
     "name": "stderr",
     "output_type": "stream",
     "text": []
    },
    {
     "data": {
      "application/vnd.jupyter.widget-view+json": {
       "model_id": "7ea0885d23d846b39df42146c937b806",
       "version_major": 2,
       "version_minor": 0
      },
      "text/plain": [
       "  0%|          | 0/10 [00:00<?, ?it/s]"
      ]
     },
     "metadata": {},
     "output_type": "display_data"
    },
    {
     "name": "stderr",
     "output_type": "stream",
     "text": []
    },
    {
     "data": {
      "application/vnd.jupyter.widget-view+json": {
       "model_id": "18960d086b3c4d16ba3c04b656e52f41",
       "version_major": 2,
       "version_minor": 0
      },
      "text/plain": [
       "  0%|          | 0/10 [00:00<?, ?it/s]"
      ]
     },
     "metadata": {},
     "output_type": "display_data"
    },
    {
     "name": "stderr",
     "output_type": "stream",
     "text": [
      "100%|██████████| 10/10 [00:07<00:00,  1.28it/s]\n"
     ]
    },
    {
     "data": {
      "application/vnd.jupyter.widget-view+json": {
       "model_id": "0968bddf3d3b4a72b874c16117f1c905",
       "version_major": 2,
       "version_minor": 0
      },
      "text/plain": [
       "  0%|          | 0/10 [00:00<?, ?it/s]"
      ]
     },
     "metadata": {},
     "output_type": "display_data"
    },
    {
     "name": "stderr",
     "output_type": "stream",
     "text": []
    },
    {
     "data": {
      "application/vnd.jupyter.widget-view+json": {
       "model_id": "68cc178016144126b402bfab55dd3580",
       "version_major": 2,
       "version_minor": 0
      },
      "text/plain": [
       "  0%|          | 0/10 [00:00<?, ?it/s]"
      ]
     },
     "metadata": {},
     "output_type": "display_data"
    },
    {
     "name": "stderr",
     "output_type": "stream",
     "text": []
    },
    {
     "data": {
      "application/vnd.jupyter.widget-view+json": {
       "model_id": "3c0826eeb28f418b84cf796605bebae2",
       "version_major": 2,
       "version_minor": 0
      },
      "text/plain": [
       "  0%|          | 0/10 [00:00<?, ?it/s]"
      ]
     },
     "metadata": {},
     "output_type": "display_data"
    },
    {
     "name": "stderr",
     "output_type": "stream",
     "text": []
    },
    {
     "data": {
      "application/vnd.jupyter.widget-view+json": {
       "model_id": "e04fc6f23c9f4c27ab79d7a5fb376227",
       "version_major": 2,
       "version_minor": 0
      },
      "text/plain": [
       "  0%|          | 0/10 [00:00<?, ?it/s]"
      ]
     },
     "metadata": {},
     "output_type": "display_data"
    },
    {
     "name": "stderr",
     "output_type": "stream",
     "text": []
    },
    {
     "data": {
      "application/vnd.jupyter.widget-view+json": {
       "model_id": "89f40f10a98f4464bbb28fbf22fe64a7",
       "version_major": 2,
       "version_minor": 0
      },
      "text/plain": [
       "  0%|          | 0/10 [00:00<?, ?it/s]"
      ]
     },
     "metadata": {},
     "output_type": "display_data"
    },
    {
     "name": "stderr",
     "output_type": "stream",
     "text": []
    },
    {
     "data": {
      "application/vnd.jupyter.widget-view+json": {
       "model_id": "4e4c20aa97cb42a692637d5709c60710",
       "version_major": 2,
       "version_minor": 0
      },
      "text/plain": [
       "  0%|          | 0/10 [00:00<?, ?it/s]"
      ]
     },
     "metadata": {},
     "output_type": "display_data"
    },
    {
     "name": "stderr",
     "output_type": "stream",
     "text": []
    },
    {
     "data": {
      "application/vnd.jupyter.widget-view+json": {
       "model_id": "41af377752134dfcbc2ebe3e50e8271a",
       "version_major": 2,
       "version_minor": 0
      },
      "text/plain": [
       "  0%|          | 0/10 [00:00<?, ?it/s]"
      ]
     },
     "metadata": {},
     "output_type": "display_data"
    },
    {
     "name": "stderr",
     "output_type": "stream",
     "text": []
    },
    {
     "data": {
      "application/vnd.jupyter.widget-view+json": {
       "model_id": "9c8c3a7eb3ac4069994a757f2b195c0b",
       "version_major": 2,
       "version_minor": 0
      },
      "text/plain": [
       "  0%|          | 0/10 [00:00<?, ?it/s]"
      ]
     },
     "metadata": {},
     "output_type": "display_data"
    },
    {
     "name": "stderr",
     "output_type": "stream",
     "text": []
    },
    {
     "data": {
      "application/vnd.jupyter.widget-view+json": {
       "model_id": "e64723cc10d34791bbb098245d716e00",
       "version_major": 2,
       "version_minor": 0
      },
      "text/plain": [
       "  0%|          | 0/10 [00:00<?, ?it/s]"
      ]
     },
     "metadata": {},
     "output_type": "display_data"
    },
    {
     "name": "stderr",
     "output_type": "stream",
     "text": []
    },
    {
     "data": {
      "application/vnd.jupyter.widget-view+json": {
       "model_id": "8889a53e6ed343d3907e9af9fbe060e4",
       "version_major": 2,
       "version_minor": 0
      },
      "text/plain": [
       "  0%|          | 0/10 [00:00<?, ?it/s]"
      ]
     },
     "metadata": {},
     "output_type": "display_data"
    },
    {
     "name": "stderr",
     "output_type": "stream",
     "text": [
      "100%|██████████| 10/10 [00:06<00:00,  1.53it/s]\n"
     ]
    },
    {
     "data": {
      "application/vnd.jupyter.widget-view+json": {
       "model_id": "e8f70c4581f54daf80be40ac4f422434",
       "version_major": 2,
       "version_minor": 0
      },
      "text/plain": [
       "  0%|          | 0/10 [00:00<?, ?it/s]"
      ]
     },
     "metadata": {},
     "output_type": "display_data"
    },
    {
     "name": "stderr",
     "output_type": "stream",
     "text": []
    },
    {
     "data": {
      "application/vnd.jupyter.widget-view+json": {
       "model_id": "bafca4208622446db43a2b9ece05a52d",
       "version_major": 2,
       "version_minor": 0
      },
      "text/plain": [
       "  0%|          | 0/10 [00:00<?, ?it/s]"
      ]
     },
     "metadata": {},
     "output_type": "display_data"
    },
    {
     "name": "stderr",
     "output_type": "stream",
     "text": []
    },
    {
     "data": {
      "application/vnd.jupyter.widget-view+json": {
       "model_id": "f229c4d5d79a4c65b62f08013c62af44",
       "version_major": 2,
       "version_minor": 0
      },
      "text/plain": [
       "  0%|          | 0/10 [00:00<?, ?it/s]"
      ]
     },
     "metadata": {},
     "output_type": "display_data"
    },
    {
     "name": "stderr",
     "output_type": "stream",
     "text": []
    },
    {
     "data": {
      "application/vnd.jupyter.widget-view+json": {
       "model_id": "cef916fd3ce54f70a2c45a508c00f549",
       "version_major": 2,
       "version_minor": 0
      },
      "text/plain": [
       "  0%|          | 0/10 [00:00<?, ?it/s]"
      ]
     },
     "metadata": {},
     "output_type": "display_data"
    },
    {
     "name": "stderr",
     "output_type": "stream",
     "text": []
    },
    {
     "data": {
      "application/vnd.jupyter.widget-view+json": {
       "model_id": "553b4ce27e474db489810f65f6b36db9",
       "version_major": 2,
       "version_minor": 0
      },
      "text/plain": [
       "  0%|          | 0/10 [00:00<?, ?it/s]"
      ]
     },
     "metadata": {},
     "output_type": "display_data"
    },
    {
     "name": "stderr",
     "output_type": "stream",
     "text": []
    },
    {
     "data": {
      "application/vnd.jupyter.widget-view+json": {
       "model_id": "35db2be818ad48a3b1e11017f0b603c5",
       "version_major": 2,
       "version_minor": 0
      },
      "text/plain": [
       "  0%|          | 0/10 [00:00<?, ?it/s]"
      ]
     },
     "metadata": {},
     "output_type": "display_data"
    },
    {
     "name": "stderr",
     "output_type": "stream",
     "text": []
    },
    {
     "data": {
      "application/vnd.jupyter.widget-view+json": {
       "model_id": "8fccc893bfcc437ea524258c3d6a5d0f",
       "version_major": 2,
       "version_minor": 0
      },
      "text/plain": [
       "  0%|          | 0/10 [00:00<?, ?it/s]"
      ]
     },
     "metadata": {},
     "output_type": "display_data"
    },
    {
     "name": "stderr",
     "output_type": "stream",
     "text": []
    },
    {
     "data": {
      "application/vnd.jupyter.widget-view+json": {
       "model_id": "1e0f257129b34ace99f35391e82821ac",
       "version_major": 2,
       "version_minor": 0
      },
      "text/plain": [
       "  0%|          | 0/10 [00:00<?, ?it/s]"
      ]
     },
     "metadata": {},
     "output_type": "display_data"
    },
    {
     "name": "stderr",
     "output_type": "stream",
     "text": []
    },
    {
     "data": {
      "application/vnd.jupyter.widget-view+json": {
       "model_id": "e0f403d617884ee585b3b9809ebb1719",
       "version_major": 2,
       "version_minor": 0
      },
      "text/plain": [
       "  0%|          | 0/10 [00:00<?, ?it/s]"
      ]
     },
     "metadata": {},
     "output_type": "display_data"
    },
    {
     "name": "stderr",
     "output_type": "stream",
     "text": []
    },
    {
     "data": {
      "application/vnd.jupyter.widget-view+json": {
       "model_id": "3d1a97198b7f4e529f7a5f2ac67592e4",
       "version_major": 2,
       "version_minor": 0
      },
      "text/plain": [
       "  0%|          | 0/10 [00:00<?, ?it/s]"
      ]
     },
     "metadata": {},
     "output_type": "display_data"
    },
    {
     "name": "stderr",
     "output_type": "stream",
     "text": [
      "100%|██████████| 10/10 [00:06<00:00,  1.53it/s]\n"
     ]
    },
    {
     "data": {
      "application/vnd.jupyter.widget-view+json": {
       "model_id": "920e0d72775041bd9d846de20c1b9433",
       "version_major": 2,
       "version_minor": 0
      },
      "text/plain": [
       "  0%|          | 0/10 [00:00<?, ?it/s]"
      ]
     },
     "metadata": {},
     "output_type": "display_data"
    },
    {
     "name": "stderr",
     "output_type": "stream",
     "text": []
    },
    {
     "data": {
      "application/vnd.jupyter.widget-view+json": {
       "model_id": "0be4b5867c1d485abf126eccb7117b37",
       "version_major": 2,
       "version_minor": 0
      },
      "text/plain": [
       "  0%|          | 0/10 [00:00<?, ?it/s]"
      ]
     },
     "metadata": {},
     "output_type": "display_data"
    },
    {
     "name": "stderr",
     "output_type": "stream",
     "text": []
    },
    {
     "data": {
      "application/vnd.jupyter.widget-view+json": {
       "model_id": "f67d056ba0c8467d93b150465237fee0",
       "version_major": 2,
       "version_minor": 0
      },
      "text/plain": [
       "  0%|          | 0/10 [00:00<?, ?it/s]"
      ]
     },
     "metadata": {},
     "output_type": "display_data"
    },
    {
     "name": "stderr",
     "output_type": "stream",
     "text": []
    },
    {
     "data": {
      "application/vnd.jupyter.widget-view+json": {
       "model_id": "392e742c43dc48b785ed85f774988982",
       "version_major": 2,
       "version_minor": 0
      },
      "text/plain": [
       "  0%|          | 0/10 [00:00<?, ?it/s]"
      ]
     },
     "metadata": {},
     "output_type": "display_data"
    },
    {
     "name": "stderr",
     "output_type": "stream",
     "text": []
    },
    {
     "data": {
      "application/vnd.jupyter.widget-view+json": {
       "model_id": "92f2145b1b75415a9d8e60e014374633",
       "version_major": 2,
       "version_minor": 0
      },
      "text/plain": [
       "  0%|          | 0/10 [00:00<?, ?it/s]"
      ]
     },
     "metadata": {},
     "output_type": "display_data"
    },
    {
     "name": "stderr",
     "output_type": "stream",
     "text": []
    },
    {
     "data": {
      "application/vnd.jupyter.widget-view+json": {
       "model_id": "a9a5ddaac6ec447d8a56728122005fd5",
       "version_major": 2,
       "version_minor": 0
      },
      "text/plain": [
       "  0%|          | 0/10 [00:00<?, ?it/s]"
      ]
     },
     "metadata": {},
     "output_type": "display_data"
    },
    {
     "name": "stderr",
     "output_type": "stream",
     "text": []
    },
    {
     "data": {
      "application/vnd.jupyter.widget-view+json": {
       "model_id": "261dd8fc437c47ddbaec43b68395b7d5",
       "version_major": 2,
       "version_minor": 0
      },
      "text/plain": [
       "  0%|          | 0/10 [00:00<?, ?it/s]"
      ]
     },
     "metadata": {},
     "output_type": "display_data"
    },
    {
     "name": "stderr",
     "output_type": "stream",
     "text": []
    },
    {
     "data": {
      "application/vnd.jupyter.widget-view+json": {
       "model_id": "3bde999f51c6446998d46d8f185886aa",
       "version_major": 2,
       "version_minor": 0
      },
      "text/plain": [
       "  0%|          | 0/10 [00:00<?, ?it/s]"
      ]
     },
     "metadata": {},
     "output_type": "display_data"
    },
    {
     "name": "stderr",
     "output_type": "stream",
     "text": []
    },
    {
     "data": {
      "application/vnd.jupyter.widget-view+json": {
       "model_id": "1e23a37315224b01baf269f1a9b992a6",
       "version_major": 2,
       "version_minor": 0
      },
      "text/plain": [
       "  0%|          | 0/10 [00:00<?, ?it/s]"
      ]
     },
     "metadata": {},
     "output_type": "display_data"
    },
    {
     "name": "stderr",
     "output_type": "stream",
     "text": []
    },
    {
     "data": {
      "application/vnd.jupyter.widget-view+json": {
       "model_id": "a3c72c804a5a4f3ea0d98e687b80c24c",
       "version_major": 2,
       "version_minor": 0
      },
      "text/plain": [
       "  0%|          | 0/10 [00:00<?, ?it/s]"
      ]
     },
     "metadata": {},
     "output_type": "display_data"
    },
    {
     "name": "stderr",
     "output_type": "stream",
     "text": [
      "100%|██████████| 10/10 [00:07<00:00,  1.36it/s]\n"
     ]
    },
    {
     "data": {
      "application/vnd.jupyter.widget-view+json": {
       "model_id": "8342039da9b64164a8e5403669982515",
       "version_major": 2,
       "version_minor": 0
      },
      "text/plain": [
       "  0%|          | 0/10 [00:00<?, ?it/s]"
      ]
     },
     "metadata": {},
     "output_type": "display_data"
    },
    {
     "name": "stderr",
     "output_type": "stream",
     "text": []
    },
    {
     "data": {
      "application/vnd.jupyter.widget-view+json": {
       "model_id": "78cfe88ef90b4d9d8b8d28c7f14ffab7",
       "version_major": 2,
       "version_minor": 0
      },
      "text/plain": [
       "  0%|          | 0/10 [00:00<?, ?it/s]"
      ]
     },
     "metadata": {},
     "output_type": "display_data"
    },
    {
     "name": "stderr",
     "output_type": "stream",
     "text": []
    },
    {
     "data": {
      "application/vnd.jupyter.widget-view+json": {
       "model_id": "f8b5ee02695741f2bbe67205f9ef28ed",
       "version_major": 2,
       "version_minor": 0
      },
      "text/plain": [
       "  0%|          | 0/10 [00:00<?, ?it/s]"
      ]
     },
     "metadata": {},
     "output_type": "display_data"
    },
    {
     "name": "stderr",
     "output_type": "stream",
     "text": []
    },
    {
     "data": {
      "application/vnd.jupyter.widget-view+json": {
       "model_id": "026d174b67c54de695e74172d16516e9",
       "version_major": 2,
       "version_minor": 0
      },
      "text/plain": [
       "  0%|          | 0/10 [00:00<?, ?it/s]"
      ]
     },
     "metadata": {},
     "output_type": "display_data"
    },
    {
     "name": "stderr",
     "output_type": "stream",
     "text": []
    },
    {
     "data": {
      "application/vnd.jupyter.widget-view+json": {
       "model_id": "aee9eb5c245d49738b7e0026a752d54c",
       "version_major": 2,
       "version_minor": 0
      },
      "text/plain": [
       "  0%|          | 0/10 [00:00<?, ?it/s]"
      ]
     },
     "metadata": {},
     "output_type": "display_data"
    },
    {
     "name": "stderr",
     "output_type": "stream",
     "text": []
    },
    {
     "data": {
      "application/vnd.jupyter.widget-view+json": {
       "model_id": "2832b72a93fa4e81bbee0e306d4352f8",
       "version_major": 2,
       "version_minor": 0
      },
      "text/plain": [
       "  0%|          | 0/10 [00:00<?, ?it/s]"
      ]
     },
     "metadata": {},
     "output_type": "display_data"
    },
    {
     "name": "stderr",
     "output_type": "stream",
     "text": []
    },
    {
     "data": {
      "application/vnd.jupyter.widget-view+json": {
       "model_id": "ef0a4f1b4c6a410aaf6320b67bb0a4df",
       "version_major": 2,
       "version_minor": 0
      },
      "text/plain": [
       "  0%|          | 0/10 [00:00<?, ?it/s]"
      ]
     },
     "metadata": {},
     "output_type": "display_data"
    },
    {
     "name": "stderr",
     "output_type": "stream",
     "text": []
    },
    {
     "data": {
      "application/vnd.jupyter.widget-view+json": {
       "model_id": "01d9814ab0384692b68b552c60817901",
       "version_major": 2,
       "version_minor": 0
      },
      "text/plain": [
       "  0%|          | 0/10 [00:00<?, ?it/s]"
      ]
     },
     "metadata": {},
     "output_type": "display_data"
    },
    {
     "name": "stderr",
     "output_type": "stream",
     "text": []
    },
    {
     "data": {
      "application/vnd.jupyter.widget-view+json": {
       "model_id": "f97c3e11b34d4dab9a5d86f1a643a258",
       "version_major": 2,
       "version_minor": 0
      },
      "text/plain": [
       "  0%|          | 0/10 [00:00<?, ?it/s]"
      ]
     },
     "metadata": {},
     "output_type": "display_data"
    },
    {
     "name": "stderr",
     "output_type": "stream",
     "text": []
    },
    {
     "data": {
      "application/vnd.jupyter.widget-view+json": {
       "model_id": "ef28bd7ae189467eb3efd0aa3df10c35",
       "version_major": 2,
       "version_minor": 0
      },
      "text/plain": [
       "  0%|          | 0/10 [00:00<?, ?it/s]"
      ]
     },
     "metadata": {},
     "output_type": "display_data"
    },
    {
     "name": "stderr",
     "output_type": "stream",
     "text": [
      "100%|██████████| 10/10 [00:06<00:00,  1.66it/s]\n"
     ]
    },
    {
     "data": {
      "application/vnd.jupyter.widget-view+json": {
       "model_id": "44e66cac92914888a0bab586a9578834",
       "version_major": 2,
       "version_minor": 0
      },
      "text/plain": [
       "  0%|          | 0/10 [00:00<?, ?it/s]"
      ]
     },
     "metadata": {},
     "output_type": "display_data"
    },
    {
     "name": "stderr",
     "output_type": "stream",
     "text": []
    },
    {
     "data": {
      "application/vnd.jupyter.widget-view+json": {
       "model_id": "e5b32a9da34942339d8a0113cc5f1fd4",
       "version_major": 2,
       "version_minor": 0
      },
      "text/plain": [
       "  0%|          | 0/10 [00:00<?, ?it/s]"
      ]
     },
     "metadata": {},
     "output_type": "display_data"
    },
    {
     "name": "stderr",
     "output_type": "stream",
     "text": []
    },
    {
     "data": {
      "application/vnd.jupyter.widget-view+json": {
       "model_id": "7105f197201844ca9df4f6dfea273d33",
       "version_major": 2,
       "version_minor": 0
      },
      "text/plain": [
       "  0%|          | 0/10 [00:00<?, ?it/s]"
      ]
     },
     "metadata": {},
     "output_type": "display_data"
    },
    {
     "name": "stderr",
     "output_type": "stream",
     "text": []
    },
    {
     "data": {
      "application/vnd.jupyter.widget-view+json": {
       "model_id": "67447e32f6b44e57abb7898386dbe7b7",
       "version_major": 2,
       "version_minor": 0
      },
      "text/plain": [
       "  0%|          | 0/10 [00:00<?, ?it/s]"
      ]
     },
     "metadata": {},
     "output_type": "display_data"
    },
    {
     "name": "stderr",
     "output_type": "stream",
     "text": []
    },
    {
     "data": {
      "application/vnd.jupyter.widget-view+json": {
       "model_id": "93710f4ed2ad465e90d740936c9077a2",
       "version_major": 2,
       "version_minor": 0
      },
      "text/plain": [
       "  0%|          | 0/10 [00:00<?, ?it/s]"
      ]
     },
     "metadata": {},
     "output_type": "display_data"
    },
    {
     "name": "stderr",
     "output_type": "stream",
     "text": []
    },
    {
     "data": {
      "application/vnd.jupyter.widget-view+json": {
       "model_id": "a391819df31a47c3b2a3e69685df9f2b",
       "version_major": 2,
       "version_minor": 0
      },
      "text/plain": [
       "  0%|          | 0/10 [00:00<?, ?it/s]"
      ]
     },
     "metadata": {},
     "output_type": "display_data"
    },
    {
     "name": "stderr",
     "output_type": "stream",
     "text": []
    },
    {
     "data": {
      "application/vnd.jupyter.widget-view+json": {
       "model_id": "3e407902efc54e81a456d869ccdb8013",
       "version_major": 2,
       "version_minor": 0
      },
      "text/plain": [
       "  0%|          | 0/10 [00:00<?, ?it/s]"
      ]
     },
     "metadata": {},
     "output_type": "display_data"
    },
    {
     "name": "stderr",
     "output_type": "stream",
     "text": []
    },
    {
     "data": {
      "application/vnd.jupyter.widget-view+json": {
       "model_id": "4d8d3ca9aeb5487fbdc5a8bad6488db8",
       "version_major": 2,
       "version_minor": 0
      },
      "text/plain": [
       "  0%|          | 0/10 [00:00<?, ?it/s]"
      ]
     },
     "metadata": {},
     "output_type": "display_data"
    },
    {
     "name": "stderr",
     "output_type": "stream",
     "text": []
    },
    {
     "data": {
      "application/vnd.jupyter.widget-view+json": {
       "model_id": "143e09f6895d435d9653e92c88292f18",
       "version_major": 2,
       "version_minor": 0
      },
      "text/plain": [
       "  0%|          | 0/10 [00:00<?, ?it/s]"
      ]
     },
     "metadata": {},
     "output_type": "display_data"
    },
    {
     "name": "stderr",
     "output_type": "stream",
     "text": []
    },
    {
     "data": {
      "application/vnd.jupyter.widget-view+json": {
       "model_id": "50f9a64ae62e4efca66ebde6f7cf67be",
       "version_major": 2,
       "version_minor": 0
      },
      "text/plain": [
       "  0%|          | 0/10 [00:00<?, ?it/s]"
      ]
     },
     "metadata": {},
     "output_type": "display_data"
    },
    {
     "name": "stderr",
     "output_type": "stream",
     "text": [
      "100%|██████████| 10/10 [00:07<00:00,  1.38it/s]\n",
      "100%|██████████| 6/6 [07:53<00:00, 78.91s/it]"
     ]
    },
    {
     "name": "stdout",
     "output_type": "stream",
     "text": [
      "{1: {'correct': [[57, 100, 100, 0, 100, 12, 0, 0, 100, 100],\n",
      "                 [49, 100, 100, 0, 100, 17, 0, 0, 100, 100],\n",
      "                 [50, 100, 0, 0, 100, 10, 0, 0, 100, 100],\n",
      "                 [0, 0, 0, 0, 100, 13, 0, 0, 0, 100],\n",
      "                 [0, 0, 0, 0, 100, 13, 0, 0, 0, 100],\n",
      "                 [0, 0, 0, 0, 0, 0, 0, 0, 0, 100],\n",
      "                 [0, 0, 0, 0, 0, 0, 0, 0, 0, 0],\n",
      "                 [0, 0, 0, 0, 0, 0, 0, 0, 0, 0],\n",
      "                 [0, 0, 0, 0, 0, 0, 0, 0, 0, 0],\n",
      "                 [0, 0, 0, 0, 0, 0, 0, 0, 0, 0],\n",
      "                 [0, 0, 0, 0, 0, 0, 0, 0, 0, 0],\n",
      "                 [0, 0, 0, 0, 0, 0, 0, 0, 0, 0]],\n",
      "     'steering': [[0, 0, 0, 0, 0, 0, 0, 0, 0, 0],\n",
      "                  [0, 0, 0, 0, 0, 0, 0, 0, 0, 0],\n",
      "                  [0, 0, 0, 0, 0, 0, 0, 0, 0, 0],\n",
      "                  [0, 0, 0, 0, 0, 0, 0, 0, 0, 0],\n",
      "                  [0, 0, 0, 2, 0, 28, 37, 0, 0, 0],\n",
      "                  [0, 0, 24, 45, 0, 73, 38, 0, 3, 0],\n",
      "                  [0, 12, 34, 49, 69, 0, 53, 49, 62, 4],\n",
      "                  [0, 0, 0, 0, 0, 0, 0, 0, 15, 0],\n",
      "                  [0, 0, 0, 0, 0, 0, 0, 0, 0, 0],\n",
      "                  [100, 100, 100, 100, 100, 100, 100, 100, 100, 100],\n",
      "                  [100, 100, 100, 100, 100, 100, 100, 100, 100, 100],\n",
      "                  [100, 100, 100, 100, 100, 100, 100, 100, 100, 100]]},\n",
      " 2: {'correct': [[39, 100, 100, 0, 100, 11, 0, 0, 100, 100],\n",
      "                 [52, 100, 100, 0, 100, 11, 0, 0, 100, 100],\n",
      "                 [49, 100, 100, 0, 100, 17, 0, 0, 100, 100],\n",
      "                 [53, 0, 0, 0, 100, 18, 0, 0, 100, 100],\n",
      "                 [30, 0, 0, 0, 100, 10, 0, 0, 0, 51],\n",
      "                 [29, 0, 0, 0, 100, 12, 0, 0, 0, 44],\n",
      "                 [0, 0, 0, 0, 100, 0, 0, 0, 0, 0],\n",
      "                 [0, 0, 0, 0, 0, 0, 0, 0, 0, 0],\n",
      "                 [0, 0, 0, 0, 0, 0, 0, 0, 0, 0],\n",
      "                 [0, 0, 0, 0, 0, 0, 0, 0, 0, 0],\n",
      "                 [0, 0, 0, 0, 0, 0, 0, 0, 0, 0],\n",
      "                 [0, 0, 0, 0, 0, 0, 0, 0, 0, 0]],\n",
      "     'steering': [[0, 0, 0, 0, 0, 0, 0, 0, 0, 0],\n",
      "                  [0, 0, 0, 0, 0, 0, 0, 0, 0, 0],\n",
      "                  [0, 0, 0, 0, 0, 0, 0, 0, 0, 0],\n",
      "                  [0, 0, 0, 0, 0, 0, 0, 0, 0, 0],\n",
      "                  [0, 0, 0, 0, 0, 0, 17, 0, 0, 0],\n",
      "                  [0, 0, 0, 25, 0, 28, 75, 0, 0, 0],\n",
      "                  [100, 41, 3, 53, 10, 60, 12, 3, 55, 49],\n",
      "                  [33, 0, 0, 56, 0, 44, 0, 0, 0, 55],\n",
      "                  [0, 44, 36, 32, 26, 38, 0, 0, 0, 34],\n",
      "                  [100, 100, 100, 100, 100, 100, 100, 100, 100, 100],\n",
      "                  [100, 100, 100, 100, 100, 100, 100, 100, 100, 100],\n",
      "                  [0, 0, 0, 0, 0, 0, 0, 0, 0, 0]]},\n",
      " 3: {'correct': [[51, 100, 100, 0, 100, 17, 0, 0, 100, 100],\n",
      "                 [49, 100, 100, 0, 100, 12, 0, 0, 100, 100],\n",
      "                 [48, 100, 0, 0, 100, 13, 0, 0, 100, 100],\n",
      "                 [44, 100, 0, 0, 100, 10, 0, 0, 100, 100],\n",
      "                 [38, 0, 0, 0, 100, 10, 0, 0, 0, 54],\n",
      "                 [24, 0, 0, 0, 100, 10, 0, 0, 0, 54],\n",
      "                 [0, 0, 0, 0, 70, 0, 0, 0, 0, 49],\n",
      "                 [0, 0, 0, 0, 29, 0, 0, 21, 0, 0],\n",
      "                 [0, 0, 0, 0, 18, 0, 0, 0, 0, 0],\n",
      "                 [0, 0, 0, 0, 0, 0, 0, 0, 0, 0],\n",
      "                 [0, 0, 0, 0, 0, 0, 0, 0, 0, 0],\n",
      "                 [0, 0, 0, 0, 0, 0, 0, 0, 0, 0]],\n",
      "     'steering': [[0, 0, 0, 0, 0, 0, 0, 0, 0, 0],\n",
      "                  [0, 0, 0, 0, 0, 0, 0, 0, 0, 0],\n",
      "                  [0, 0, 0, 0, 0, 0, 0, 0, 0, 0],\n",
      "                  [0, 0, 0, 0, 0, 0, 0, 0, 0, 0],\n",
      "                  [0, 0, 0, 0, 0, 0, 17, 0, 0, 0],\n",
      "                  [0, 0, 0, 18, 0, 30, 36, 0, 0, 0],\n",
      "                  [100, 62, 100, 62, 12, 72, 67, 8, 59, 7],\n",
      "                  [58, 0, 100, 67, 0, 58, 50, 0, 0, 48],\n",
      "                  [46, 0, 52, 46, 17, 43, 46, 4, 0, 24],\n",
      "                  [100, 100, 100, 100, 100, 100, 100, 100, 100, 100],\n",
      "                  [100, 100, 100, 100, 100, 100, 100, 100, 100, 100],\n",
      "                  [100, 100, 100, 100, 100, 100, 100, 100, 100, 100]]},\n",
      " 4: {'correct': [[50, 100, 100, 0, 100, 12, 0, 0, 100, 100],\n",
      "                 [45, 100, 100, 0, 100, 20, 0, 0, 100, 100],\n",
      "                 [51, 100, 100, 0, 100, 14, 0, 0, 100, 100],\n",
      "                 [38, 100, 0, 0, 100, 16, 0, 0, 100, 60],\n",
      "                 [26, 0, 0, 0, 100, 10, 0, 0, 0, 50],\n",
      "                 [32, 0, 0, 0, 100, 4, 0, 0, 0, 42],\n",
      "                 [0, 0, 0, 0, 56, 0, 0, 0, 0, 0],\n",
      "                 [0, 0, 0, 0, 49, 0, 0, 0, 0, 0],\n",
      "                 [0, 0, 0, 0, 0, 0, 0, 0, 0, 0],\n",
      "                 [0, 0, 0, 0, 0, 0, 0, 0, 0, 0],\n",
      "                 [0, 0, 0, 0, 0, 0, 0, 0, 0, 0],\n",
      "                 [0, 0, 0, 0, 0, 0, 0, 0, 0, 0]],\n",
      "     'steering': [[0, 0, 0, 0, 0, 0, 0, 0, 0, 0],\n",
      "                  [0, 0, 0, 0, 0, 0, 0, 0, 0, 0],\n",
      "                  [0, 0, 0, 0, 0, 0, 0, 0, 0, 0],\n",
      "                  [0, 0, 0, 0, 0, 0, 0, 0, 0, 0],\n",
      "                  [0, 0, 0, 0, 0, 0, 16, 0, 0, 0],\n",
      "                  [0, 0, 0, 20, 0, 27, 31, 0, 0, 0],\n",
      "                  [100, 33, 100, 44, 44, 74, 0, 20, 49, 0],\n",
      "                  [24, 0, 67, 34, 0, 0, 0, 0, 0, 0],\n",
      "                  [21, 0, 36, 23, 0, 10, 0, 0, 0, 0],\n",
      "                  [100, 100, 100, 100, 100, 100, 100, 100, 100, 100],\n",
      "                  [0, 0, 0, 0, 0, 0, 52, 0, 0, 0],\n",
      "                  [0, 0, 0, 0, 0, 0, 0, 0, 0, 0]]},\n",
      " 9: {'correct': [[53, 100, 100, 0, 100, 11, 0, 0, 100, 100],\n",
      "                 [46, 100, 100, 0, 100, 14, 0, 0, 100, 100],\n",
      "                 [46, 100, 100, 0, 100, 10, 0, 0, 100, 100],\n",
      "                 [56, 100, 100, 0, 100, 10, 0, 0, 100, 100],\n",
      "                 [48, 100, 100, 0, 100, 13, 0, 0, 100, 100],\n",
      "                 [54, 0, 0, 0, 100, 11, 0, 0, 100, 100],\n",
      "                 [43, 0, 0, 0, 100, 0, 0, 0, 0, 100],\n",
      "                 [0, 0, 0, 0, 50, 0, 0, 0, 0, 100],\n",
      "                 [0, 0, 0, 0, 0, 0, 0, 0, 0, 0],\n",
      "                 [0, 0, 0, 0, 0, 0, 0, 0, 0, 0],\n",
      "                 [0, 0, 0, 0, 0, 0, 0, 0, 0, 0],\n",
      "                 [0, 0, 0, 0, 0, 0, 0, 0, 0, 0]],\n",
      "     'steering': [[0, 0, 0, 0, 0, 0, 0, 0, 0, 0],\n",
      "                  [0, 0, 0, 0, 0, 0, 0, 0, 0, 0],\n",
      "                  [0, 0, 0, 0, 0, 0, 0, 0, 0, 0],\n",
      "                  [0, 0, 0, 0, 0, 0, 0, 0, 0, 0],\n",
      "                  [0, 0, 0, 0, 0, 0, 0, 0, 0, 0],\n",
      "                  [0, 0, 0, 0, 0, 0, 0, 0, 0, 0],\n",
      "                  [0, 0, 0, 30, 0, 66, 50, 0, 0, 0],\n",
      "                  [73, 31, 100, 81, 0, 100, 88, 26, 56, 0],\n",
      "                  [57, 70, 100, 63, 63, 100, 73, 45, 62, 16],\n",
      "                  [72, 86, 100, 14, 38, 66, 50, 39, 20, 97],\n",
      "                  [100, 100, 100, 100, 100, 100, 100, 100, 100, 100],\n",
      "                  [0, 0, 0, 0, 0, 0, 0, 0, 0, 0]]},\n",
      " 10: {'correct': [[45, 100, 100, 0, 100, 9, 0, 0, 100, 100],\n",
      "                  [44, 100, 100, 0, 100, 12, 0, 0, 100, 100],\n",
      "                  [47, 100, 100, 0, 100, 11, 0, 0, 100, 100],\n",
      "                  [43, 100, 100, 0, 100, 16, 0, 0, 100, 100],\n",
      "                  [49, 100, 100, 0, 100, 10, 0, 0, 100, 100],\n",
      "                  [47, 100, 0, 0, 100, 13, 0, 0, 100, 100],\n",
      "                  [56, 0, 0, 0, 100, 0, 0, 0, 100, 100],\n",
      "                  [43, 0, 0, 0, 100, 0, 0, 0, 0, 100],\n",
      "                  [0, 0, 0, 0, 100, 0, 0, 0, 0, 0],\n",
      "                  [0, 0, 0, 0, 0, 0, 0, 0, 0, 0],\n",
      "                  [0, 0, 0, 0, 0, 0, 0, 0, 0, 0],\n",
      "                  [0, 0, 0, 0, 0, 0, 0, 0, 0, 0]],\n",
      "      'steering': [[0, 0, 0, 0, 0, 0, 0, 0, 0, 0],\n",
      "                   [0, 0, 0, 0, 0, 0, 0, 0, 0, 0],\n",
      "                   [0, 0, 0, 0, 0, 0, 0, 0, 0, 0],\n",
      "                   [0, 0, 0, 0, 0, 0, 0, 0, 0, 0],\n",
      "                   [0, 0, 0, 0, 0, 0, 0, 0, 0, 0],\n",
      "                   [0, 0, 0, 0, 0, 0, 0, 0, 0, 0],\n",
      "                   [0, 0, 0, 7, 0, 34, 7, 0, 0, 0],\n",
      "                   [0, 0, 100, 63, 0, 100, 42, 0, 0, 0],\n",
      "                   [0, 0, 100, 37, 0, 100, 0, 0, 0, 0],\n",
      "                   [5, 48, 44, 68, 63, 66, 100, 62, 8, 3],\n",
      "                   [100, 100, 100, 100, 100, 100, 100, 100, 100, 100],\n",
      "                   [100, 100, 100, 100, 100, 100, 100, 100, 100, 100]]},\n",
      " 'coeffs': [1, 2, 5, 10, 20, 50, 100, 200, 500, 1000, 5000]}\n"
     ]
    },
    {
     "name": "stderr",
     "output_type": "stream",
     "text": [
      "\n"
     ]
    }
   ],
   "source": [
    "data = {\"coeffs\": [1, 2, 5, 10, 20, 50, 100, 200, 500, 1000, 5000]}\n",
    "for layer, svp in tqdm(steering_vectors_positions_by_layer.items()):\n",
    "    data[layer] = {\n",
    "        \"correct\": [],\n",
    "        \"steering\": [],\n",
    "    }\n",
    "    correct_counts_unsteered, steering_counts_unsteered = (\n",
    "        test_steering_of_landmark_location_in_model(\n",
    "            model=gpt2_small,\n",
    "            landmark_country_pairs=landmark_country_pairs,\n",
    "            steering_on=False,\n",
    "            steering_vectors_positions_by_layer={layer: svp},\n",
    "            steered_answer=\"Australia\",\n",
    "            coeff=coeff,\n",
    "            quiet=True,\n",
    "        )\n",
    "    )\n",
    "    data[layer][\"correct\"].append(correct_counts_unsteered)\n",
    "    data[layer][\"steering\"].append(steering_counts_unsteered)\n",
    "\n",
    "    for coeff in data[\"coeffs\"]:\n",
    "        correct_counts, steering_counts = test_steering_of_landmark_location_in_model(\n",
    "            model=gpt2_small,\n",
    "            landmark_country_pairs=landmark_country_pairs,\n",
    "            steering_on=True,\n",
    "            steering_vectors_positions_by_layer={layer: svp},\n",
    "            steered_answer=\"Australia\",\n",
    "            coeff=coeff,\n",
    "            quiet=True,\n",
    "        )\n",
    "\n",
    "        data[layer][\"correct\"].append(correct_counts)\n",
    "        data[layer][\"steering\"].append(steering_counts)\n",
    "\n",
    "pprint(data)\n"
   ]
  },
  {
   "cell_type": "code",
   "execution_count": 36,
   "metadata": {},
   "outputs": [
    {
     "name": "stdout",
     "output_type": "stream",
     "text": [
      "{1: {'correct': [[57, 100, 100, 0, 100, 12, 0, 0, 100, 100],\n",
      "                 [49, 100, 100, 0, 100, 17, 0, 0, 100, 100],\n",
      "                 [50, 100, 0, 0, 100, 10, 0, 0, 100, 100],\n",
      "                 [0, 0, 0, 0, 100, 13, 0, 0, 0, 100],\n",
      "                 [0, 0, 0, 0, 100, 13, 0, 0, 0, 100],\n",
      "                 [0, 0, 0, 0, 0, 0, 0, 0, 0, 100],\n",
      "                 [0, 0, 0, 0, 0, 0, 0, 0, 0, 0],\n",
      "                 [0, 0, 0, 0, 0, 0, 0, 0, 0, 0],\n",
      "                 [0, 0, 0, 0, 0, 0, 0, 0, 0, 0],\n",
      "                 [0, 0, 0, 0, 0, 0, 0, 0, 0, 0],\n",
      "                 [0, 0, 0, 0, 0, 0, 0, 0, 0, 0],\n",
      "                 [0, 0, 0, 0, 0, 0, 0, 0, 0, 0]],\n",
      "     'steering': [[0, 0, 0, 0, 0, 0, 0, 0, 0, 0],\n",
      "                  [0, 0, 0, 0, 0, 0, 0, 0, 0, 0],\n",
      "                  [0, 0, 0, 0, 0, 0, 0, 0, 0, 0],\n",
      "                  [0, 0, 0, 0, 0, 0, 0, 0, 0, 0],\n",
      "                  [0, 0, 0, 2, 0, 28, 37, 0, 0, 0],\n",
      "                  [0, 0, 24, 45, 0, 73, 38, 0, 3, 0],\n",
      "                  [0, 12, 34, 49, 69, 0, 53, 49, 62, 4],\n",
      "                  [0, 0, 0, 0, 0, 0, 0, 0, 15, 0],\n",
      "                  [0, 0, 0, 0, 0, 0, 0, 0, 0, 0],\n",
      "                  [100, 100, 100, 100, 100, 100, 100, 100, 100, 100],\n",
      "                  [100, 100, 100, 100, 100, 100, 100, 100, 100, 100],\n",
      "                  [100, 100, 100, 100, 100, 100, 100, 100, 100, 100]]},\n",
      " 2: {'correct': [[39, 100, 100, 0, 100, 11, 0, 0, 100, 100],\n",
      "                 [52, 100, 100, 0, 100, 11, 0, 0, 100, 100],\n",
      "                 [49, 100, 100, 0, 100, 17, 0, 0, 100, 100],\n",
      "                 [53, 0, 0, 0, 100, 18, 0, 0, 100, 100],\n",
      "                 [30, 0, 0, 0, 100, 10, 0, 0, 0, 51],\n",
      "                 [29, 0, 0, 0, 100, 12, 0, 0, 0, 44],\n",
      "                 [0, 0, 0, 0, 100, 0, 0, 0, 0, 0],\n",
      "                 [0, 0, 0, 0, 0, 0, 0, 0, 0, 0],\n",
      "                 [0, 0, 0, 0, 0, 0, 0, 0, 0, 0],\n",
      "                 [0, 0, 0, 0, 0, 0, 0, 0, 0, 0],\n",
      "                 [0, 0, 0, 0, 0, 0, 0, 0, 0, 0],\n",
      "                 [0, 0, 0, 0, 0, 0, 0, 0, 0, 0]],\n",
      "     'steering': [[0, 0, 0, 0, 0, 0, 0, 0, 0, 0],\n",
      "                  [0, 0, 0, 0, 0, 0, 0, 0, 0, 0],\n",
      "                  [0, 0, 0, 0, 0, 0, 0, 0, 0, 0],\n",
      "                  [0, 0, 0, 0, 0, 0, 0, 0, 0, 0],\n",
      "                  [0, 0, 0, 0, 0, 0, 17, 0, 0, 0],\n",
      "                  [0, 0, 0, 25, 0, 28, 75, 0, 0, 0],\n",
      "                  [100, 41, 3, 53, 10, 60, 12, 3, 55, 49],\n",
      "                  [33, 0, 0, 56, 0, 44, 0, 0, 0, 55],\n",
      "                  [0, 44, 36, 32, 26, 38, 0, 0, 0, 34],\n",
      "                  [100, 100, 100, 100, 100, 100, 100, 100, 100, 100],\n",
      "                  [100, 100, 100, 100, 100, 100, 100, 100, 100, 100],\n",
      "                  [0, 0, 0, 0, 0, 0, 0, 0, 0, 0]]},\n",
      " 3: {'correct': [[51, 100, 100, 0, 100, 17, 0, 0, 100, 100],\n",
      "                 [49, 100, 100, 0, 100, 12, 0, 0, 100, 100],\n",
      "                 [48, 100, 0, 0, 100, 13, 0, 0, 100, 100],\n",
      "                 [44, 100, 0, 0, 100, 10, 0, 0, 100, 100],\n",
      "                 [38, 0, 0, 0, 100, 10, 0, 0, 0, 54],\n",
      "                 [24, 0, 0, 0, 100, 10, 0, 0, 0, 54],\n",
      "                 [0, 0, 0, 0, 70, 0, 0, 0, 0, 49],\n",
      "                 [0, 0, 0, 0, 29, 0, 0, 21, 0, 0],\n",
      "                 [0, 0, 0, 0, 18, 0, 0, 0, 0, 0],\n",
      "                 [0, 0, 0, 0, 0, 0, 0, 0, 0, 0],\n",
      "                 [0, 0, 0, 0, 0, 0, 0, 0, 0, 0],\n",
      "                 [0, 0, 0, 0, 0, 0, 0, 0, 0, 0]],\n",
      "     'steering': [[0, 0, 0, 0, 0, 0, 0, 0, 0, 0],\n",
      "                  [0, 0, 0, 0, 0, 0, 0, 0, 0, 0],\n",
      "                  [0, 0, 0, 0, 0, 0, 0, 0, 0, 0],\n",
      "                  [0, 0, 0, 0, 0, 0, 0, 0, 0, 0],\n",
      "                  [0, 0, 0, 0, 0, 0, 17, 0, 0, 0],\n",
      "                  [0, 0, 0, 18, 0, 30, 36, 0, 0, 0],\n",
      "                  [100, 62, 100, 62, 12, 72, 67, 8, 59, 7],\n",
      "                  [58, 0, 100, 67, 0, 58, 50, 0, 0, 48],\n",
      "                  [46, 0, 52, 46, 17, 43, 46, 4, 0, 24],\n",
      "                  [100, 100, 100, 100, 100, 100, 100, 100, 100, 100],\n",
      "                  [100, 100, 100, 100, 100, 100, 100, 100, 100, 100],\n",
      "                  [100, 100, 100, 100, 100, 100, 100, 100, 100, 100]]},\n",
      " 4: {'correct': [[50, 100, 100, 0, 100, 12, 0, 0, 100, 100],\n",
      "                 [45, 100, 100, 0, 100, 20, 0, 0, 100, 100],\n",
      "                 [51, 100, 100, 0, 100, 14, 0, 0, 100, 100],\n",
      "                 [38, 100, 0, 0, 100, 16, 0, 0, 100, 60],\n",
      "                 [26, 0, 0, 0, 100, 10, 0, 0, 0, 50],\n",
      "                 [32, 0, 0, 0, 100, 4, 0, 0, 0, 42],\n",
      "                 [0, 0, 0, 0, 56, 0, 0, 0, 0, 0],\n",
      "                 [0, 0, 0, 0, 49, 0, 0, 0, 0, 0],\n",
      "                 [0, 0, 0, 0, 0, 0, 0, 0, 0, 0],\n",
      "                 [0, 0, 0, 0, 0, 0, 0, 0, 0, 0],\n",
      "                 [0, 0, 0, 0, 0, 0, 0, 0, 0, 0],\n",
      "                 [0, 0, 0, 0, 0, 0, 0, 0, 0, 0]],\n",
      "     'steering': [[0, 0, 0, 0, 0, 0, 0, 0, 0, 0],\n",
      "                  [0, 0, 0, 0, 0, 0, 0, 0, 0, 0],\n",
      "                  [0, 0, 0, 0, 0, 0, 0, 0, 0, 0],\n",
      "                  [0, 0, 0, 0, 0, 0, 0, 0, 0, 0],\n",
      "                  [0, 0, 0, 0, 0, 0, 16, 0, 0, 0],\n",
      "                  [0, 0, 0, 20, 0, 27, 31, 0, 0, 0],\n",
      "                  [100, 33, 100, 44, 44, 74, 0, 20, 49, 0],\n",
      "                  [24, 0, 67, 34, 0, 0, 0, 0, 0, 0],\n",
      "                  [21, 0, 36, 23, 0, 10, 0, 0, 0, 0],\n",
      "                  [100, 100, 100, 100, 100, 100, 100, 100, 100, 100],\n",
      "                  [0, 0, 0, 0, 0, 0, 52, 0, 0, 0],\n",
      "                  [0, 0, 0, 0, 0, 0, 0, 0, 0, 0]]},\n",
      " 9: {'correct': [[53, 100, 100, 0, 100, 11, 0, 0, 100, 100],\n",
      "                 [46, 100, 100, 0, 100, 14, 0, 0, 100, 100],\n",
      "                 [46, 100, 100, 0, 100, 10, 0, 0, 100, 100],\n",
      "                 [56, 100, 100, 0, 100, 10, 0, 0, 100, 100],\n",
      "                 [48, 100, 100, 0, 100, 13, 0, 0, 100, 100],\n",
      "                 [54, 0, 0, 0, 100, 11, 0, 0, 100, 100],\n",
      "                 [43, 0, 0, 0, 100, 0, 0, 0, 0, 100],\n",
      "                 [0, 0, 0, 0, 50, 0, 0, 0, 0, 100],\n",
      "                 [0, 0, 0, 0, 0, 0, 0, 0, 0, 0],\n",
      "                 [0, 0, 0, 0, 0, 0, 0, 0, 0, 0],\n",
      "                 [0, 0, 0, 0, 0, 0, 0, 0, 0, 0],\n",
      "                 [0, 0, 0, 0, 0, 0, 0, 0, 0, 0]],\n",
      "     'steering': [[0, 0, 0, 0, 0, 0, 0, 0, 0, 0],\n",
      "                  [0, 0, 0, 0, 0, 0, 0, 0, 0, 0],\n",
      "                  [0, 0, 0, 0, 0, 0, 0, 0, 0, 0],\n",
      "                  [0, 0, 0, 0, 0, 0, 0, 0, 0, 0],\n",
      "                  [0, 0, 0, 0, 0, 0, 0, 0, 0, 0],\n",
      "                  [0, 0, 0, 0, 0, 0, 0, 0, 0, 0],\n",
      "                  [0, 0, 0, 30, 0, 66, 50, 0, 0, 0],\n",
      "                  [73, 31, 100, 81, 0, 100, 88, 26, 56, 0],\n",
      "                  [57, 70, 100, 63, 63, 100, 73, 45, 62, 16],\n",
      "                  [72, 86, 100, 14, 38, 66, 50, 39, 20, 97],\n",
      "                  [100, 100, 100, 100, 100, 100, 100, 100, 100, 100],\n",
      "                  [0, 0, 0, 0, 0, 0, 0, 0, 0, 0]]},\n",
      " 10: {'correct': [[45, 100, 100, 0, 100, 9, 0, 0, 100, 100],\n",
      "                  [44, 100, 100, 0, 100, 12, 0, 0, 100, 100],\n",
      "                  [47, 100, 100, 0, 100, 11, 0, 0, 100, 100],\n",
      "                  [43, 100, 100, 0, 100, 16, 0, 0, 100, 100],\n",
      "                  [49, 100, 100, 0, 100, 10, 0, 0, 100, 100],\n",
      "                  [47, 100, 0, 0, 100, 13, 0, 0, 100, 100],\n",
      "                  [56, 0, 0, 0, 100, 0, 0, 0, 100, 100],\n",
      "                  [43, 0, 0, 0, 100, 0, 0, 0, 0, 100],\n",
      "                  [0, 0, 0, 0, 100, 0, 0, 0, 0, 0],\n",
      "                  [0, 0, 0, 0, 0, 0, 0, 0, 0, 0],\n",
      "                  [0, 0, 0, 0, 0, 0, 0, 0, 0, 0],\n",
      "                  [0, 0, 0, 0, 0, 0, 0, 0, 0, 0]],\n",
      "      'steering': [[0, 0, 0, 0, 0, 0, 0, 0, 0, 0],\n",
      "                   [0, 0, 0, 0, 0, 0, 0, 0, 0, 0],\n",
      "                   [0, 0, 0, 0, 0, 0, 0, 0, 0, 0],\n",
      "                   [0, 0, 0, 0, 0, 0, 0, 0, 0, 0],\n",
      "                   [0, 0, 0, 0, 0, 0, 0, 0, 0, 0],\n",
      "                   [0, 0, 0, 0, 0, 0, 0, 0, 0, 0],\n",
      "                   [0, 0, 0, 7, 0, 34, 7, 0, 0, 0],\n",
      "                   [0, 0, 100, 63, 0, 100, 42, 0, 0, 0],\n",
      "                   [0, 0, 100, 37, 0, 100, 0, 0, 0, 0],\n",
      "                   [5, 48, 44, 68, 63, 66, 100, 62, 8, 3],\n",
      "                   [100, 100, 100, 100, 100, 100, 100, 100, 100, 100],\n",
      "                   [100, 100, 100, 100, 100, 100, 100, 100, 100, 100]]},\n",
      " 'coeffs': [1, 2, 5, 10, 20, 50, 100, 200, 500, 1000, 5000]}\n"
     ]
    }
   ],
   "source": [
    "pprint(data)"
   ]
  },
  {
   "cell_type": "markdown",
   "metadata": {},
   "source": [
    "# Switch to Gemma 2"
   ]
  },
  {
   "cell_type": "code",
   "execution_count": 25,
   "metadata": {},
   "outputs": [],
   "source": [
    "# gemma_2_2b = HookedTransformer.from_pretrained(\n",
    "#     \"gemma-2-2b\",\n",
    "#     device=DEVICE,\n",
    "# )\n",
    "\n",
    "# pprint(gemma_2_2b.cfg)"
   ]
  },
  {
   "cell_type": "markdown",
   "metadata": {},
   "source": [
    "## Get Gemma 2 SAEs"
   ]
  },
  {
   "cell_type": "code",
   "execution_count": 26,
   "metadata": {},
   "outputs": [],
   "source": [
    "# width = 16\n",
    "\n",
    "# saes = []\n",
    "# for i in trange(gemma_2_2b.cfg.n_layers):\n",
    "#     print(f\"Downloading canonical SAE for layer {i} and width {width}k\")\n",
    "#     saes.append(\n",
    "#         SAE.from_pretrained(\n",
    "#             release=\"gemma-scope-2b-pt-res-canonical\",\n",
    "#             sae_id=f\"layer_{i}/width_{width}k/canonical\",\n",
    "#             device=DEVICE,\n",
    "#         )[0]\n",
    "#     )\n",
    "\n",
    "# pprint(saes[0].cfg)"
   ]
  },
  {
   "cell_type": "code",
   "execution_count": 27,
   "metadata": {},
   "outputs": [],
   "source": [
    "# for sae in tqdm(saes):\n",
    "#     fpath = pathlib.Path(\n",
    "#         f\"./gemma-scope-2b-pt-res-canonical/layer_{sae.cfg.hook_layer}__width_{str(sae.cfg.d_sae)[:-3]}k\"\n",
    "#     )\n",
    "#     fpath.mkdir(parents=True, exist_ok=True)\n",
    "#     sae.save_model(fpath)"
   ]
  },
  {
   "cell_type": "markdown",
   "metadata": {},
   "source": [
    "## Find all features whose explanations contain keywords"
   ]
  },
  {
   "cell_type": "code",
   "execution_count": 28,
   "metadata": {},
   "outputs": [],
   "source": [
    "# EXPLANATIONS_GEMMA_FPATH = \"gemma-scope-2b-pt-res-canonical-w16k_explanations.json\"\n",
    "\n",
    "# try:\n",
    "#     with open(EXPLANATIONS_GEMMA_FPATH, \"r\") as f:\n",
    "#         explanations = json.load(f)\n",
    "# except FileNotFoundError:\n",
    "#     url = \"https://www.neuronpedia.org/api/explanation/export\"\n",
    "\n",
    "#     explanations = []\n",
    "\n",
    "#     for i in trange(len(saes)):\n",
    "#         sae = saes[i]\n",
    "#         model, sae_id = sae.cfg.neuronpedia_id.split(\"/\")\n",
    "\n",
    "#         querystring = {\"modelId\": model, \"saeId\": sae_id}\n",
    "\n",
    "#         headers = {\"X-Api-Key\": os.getenv(\"NEURONPEDIA_TOKEN\")}\n",
    "\n",
    "#         response = requests.get(url, headers=headers, params=querystring)\n",
    "\n",
    "#         explanations += response.json()\n",
    "\n",
    "#     with open(EXPLANATIONS_GEMMA_FPATH, \"w\") as f:\n",
    "#         json.dump(explanations, f, indent=2)"
   ]
  },
  {
   "cell_type": "code",
   "execution_count": 29,
   "metadata": {},
   "outputs": [],
   "source": [
    "# KEYWORDS = [\"POTTER\"]\n",
    "\n",
    "# explanations_filtered = [[] for i in range(len(saes))]\n",
    "# explanation_count = 0\n",
    "\n",
    "# for explanation in explanations:\n",
    "#     if any(keyword in explanation[\"description\"].upper() for keyword in KEYWORDS):\n",
    "#         layer = int(explanation[\"layer\"].split(\"-\")[0])\n",
    "#         explanations_filtered[layer].append(explanation)\n",
    "#         explanation_count += 1\n",
    "\n",
    "# for i in range(len(saes)):\n",
    "#     print(f\"Number of relevant features in layer {i}: {len(explanations_filtered[i])}\")\n",
    "\n",
    "# print(f\"Total relevant features: {explanation_count}\")\n"
   ]
  },
  {
   "cell_type": "code",
   "execution_count": 30,
   "metadata": {},
   "outputs": [],
   "source": [
    "# sv_prompt = \"Albus Dumbledore\"\n",
    "# sv_logits, cache = gemma_2_2b.run_with_cache(sv_prompt, prepend_bos=True)\n",
    "# tokens = gemma_2_2b.to_tokens(sv_prompt)\n",
    "# str_tokens = gemma_2_2b.to_str_tokens(tokens)\n",
    "# print(f\"Tokens: {tokens}\")\n",
    "# print(f\"Token strings: {str_tokens}\")\n",
    "\n",
    "# k = 6\n",
    "# act_threshold_relative = 0.005\n",
    "\n",
    "# saes_out = []\n",
    "# sv_feature_acts_vals_sorted_all_layers = []\n",
    "# sv_feature_acts_idx_sorted_all_layers = []\n",
    "\n",
    "# for i, sae in enumerate(saes):\n",
    "#     explanations_filtered_idx = t.tensor(\n",
    "#         [int(explanation[\"index\"]) for explanation in explanations_filtered[i]],\n",
    "#         device=DEVICE,\n",
    "#     )\n",
    "#     if explanations_filtered_idx.numel() == 0:\n",
    "#         continue\n",
    "\n",
    "#     sv_feature_acts = sae.encode(cache[sae.cfg.hook_name])\n",
    "#     saes_out.append(sae.decode(sv_feature_acts))\n",
    "\n",
    "#     act_max = sv_feature_acts.max()\n",
    "#     act_threshold = act_threshold_relative * act_max\n",
    "\n",
    "#     sv_feature_acts_filtered = sv_feature_acts[:, :, explanations_filtered_idx]\n",
    "\n",
    "#     if (\n",
    "#         sv_feature_acts_filtered.sum() * sv_feature_acts_filtered.numel()\n",
    "#         < act_threshold\n",
    "#     ):\n",
    "#         continue\n",
    "\n",
    "#     sv_feature_acts_vals_sorted, sv_feature_acts_idx_sorted = (\n",
    "#         sv_feature_acts_filtered.sort(descending=True, dim=-1)\n",
    "#     )\n",
    "\n",
    "#     print(f\"\\nSorted activations for layer {i}\")\n",
    "#     print(f\"\\tMax activation for layer {i}: {act_max}\")\n",
    "#     for token_idx, str_token in enumerate(str_tokens):\n",
    "#         vals_for_token = sv_feature_acts_vals_sorted[0, token_idx]\n",
    "#         idx_for_token = explanations_filtered_idx[sv_feature_acts_idx_sorted][\n",
    "#             0, token_idx\n",
    "#         ]\n",
    "#         mask = vals_for_token >= act_threshold\n",
    "#         if not mask.any():\n",
    "#             continue\n",
    "#         print(f\"\\tToken {token_idx}: '{str_token}'\")\n",
    "#         print(f\"\\t\\tRelevant feature activations: {vals_for_token[mask].tolist()}\")\n",
    "#         print(f\"\\t\\tRelevant feature indices: {idx_for_token[mask].tolist()}\")\n",
    "\n",
    "# # from sae_lens.analysis.neuronpedia_integration import get_neuronpedia_quick_list\n",
    "\n",
    "# # get_neuronpedia_quick_list(\n",
    "# #     sae=sae, features=sv_feature_acts_idx[:, :, :].flatten().tolist()\n",
    "# # )"
   ]
  },
  {
   "cell_type": "code",
   "execution_count": 31,
   "metadata": {},
   "outputs": [],
   "source": [
    "# STEERING_LAYER = 8\n",
    "# steering_vector = saes[STEERING_LAYER].W_dec[3012]\n",
    "\n",
    "# example_prompt = \"My favourite protagonist in any fantasy novel series is named\"\n",
    "# coeff = 300\n",
    "# sampling_kwargs = dict(temperature=1.0, top_p=0.1, freq_penalty=1.0)\n",
    "\n",
    "# model = gemma_2_2b\n",
    "\n",
    "# sae_out = saes_out[STEERING_LAYER]"
   ]
  },
  {
   "cell_type": "code",
   "execution_count": 32,
   "metadata": {},
   "outputs": [],
   "source": [
    "# def steering_hook(resid_pre, hook):\n",
    "#     if resid_pre.shape[1] == 1:\n",
    "#         return\n",
    "\n",
    "#     position = sae_out.shape[1]\n",
    "#     if steering_on:\n",
    "#         # using our steering vector and applying the coefficient\n",
    "#         resid_pre[:, : position - 1, :] += coeff * steering_vector\n",
    "\n",
    "\n",
    "# def hooked_generate(prompt_batch, fwd_hooks=[], seed=None, **kwargs):\n",
    "#     if seed is not None:\n",
    "#         t.manual_seed(seed)\n",
    "\n",
    "#     with model.hooks(fwd_hooks=fwd_hooks):\n",
    "#         tokenized = model.to_tokens(prompt_batch)\n",
    "#         result = model.generate(\n",
    "#             stop_at_eos=False,  # avoids a bug on MPS\n",
    "#             input=tokenized,\n",
    "#             max_new_tokens=50,\n",
    "#             do_sample=True,\n",
    "#             **kwargs,\n",
    "#         )\n",
    "#     return result\n"
   ]
  },
  {
   "cell_type": "code",
   "execution_count": 33,
   "metadata": {},
   "outputs": [],
   "source": [
    "# def run_generate(example_prompt):\n",
    "#     model.reset_hooks()\n",
    "#     editing_hooks = [(f\"blocks.{STEERING_LAYER}.hook_resid_post\", steering_hook)]\n",
    "#     res = hooked_generate(\n",
    "#         [example_prompt] * 3, editing_hooks, seed=None, **sampling_kwargs\n",
    "#     )\n",
    "\n",
    "#     # Print results, removing the ugly beginning of sequence token\n",
    "#     res_str = model.to_string(res[:, 1:])\n",
    "#     print((\"\\n\" + \"-\" * 80 + \"\\n\").join(res_str))"
   ]
  },
  {
   "cell_type": "code",
   "execution_count": 34,
   "metadata": {},
   "outputs": [],
   "source": [
    "# steering_on = True\n",
    "# run_generate(example_prompt)"
   ]
  },
  {
   "cell_type": "code",
   "execution_count": 35,
   "metadata": {},
   "outputs": [],
   "source": [
    "# steering_on = False\n",
    "# run_generate(example_prompt)"
   ]
  }
 ],
 "metadata": {
  "kernelspec": {
   "display_name": ".venv",
   "language": "python",
   "name": "python3"
  },
  "language_info": {
   "codemirror_mode": {
    "name": "ipython",
    "version": 3
   },
   "file_extension": ".py",
   "mimetype": "text/x-python",
   "name": "python",
   "nbconvert_exporter": "python",
   "pygments_lexer": "ipython3",
   "version": "3.11.4"
  }
 },
 "nbformat": 4,
 "nbformat_minor": 2
}
